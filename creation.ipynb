{
 "cells": [
  {
   "cell_type": "code",
   "execution_count": 1,
   "id": "25debab5",
   "metadata": {
    "execution": {
     "iopub.execute_input": "2024-02-26T19:43:05.987332Z",
     "iopub.status.busy": "2024-02-26T19:43:05.986963Z",
     "iopub.status.idle": "2024-02-26T19:43:25.566463Z",
     "shell.execute_reply": "2024-02-26T19:43:25.565209Z"
    },
    "id": "DdfVVJE3To7_",
    "outputId": "b91e863d-b49c-438b-e897-4751db6634e9",
    "papermill": {
     "duration": 19.589817,
     "end_time": "2024-02-26T19:43:25.569046",
     "exception": false,
     "start_time": "2024-02-26T19:43:05.979229",
     "status": "completed"
    },
    "tags": []
   },
   "outputs": [
    {
     "name": "stdout",
     "output_type": "stream",
     "text": [
      "Collecting gdown\r\n"
     ]
    },
    {
     "name": "stdout",
     "output_type": "stream",
     "text": [
      "  Downloading gdown-5.1.0-py3-none-any.whl.metadata (5.7 kB)\r\n",
      "Requirement already satisfied: beautifulsoup4 in /opt/conda/lib/python3.10/site-packages (from gdown) (4.12.2)\r\n",
      "Requirement already satisfied: filelock in /opt/conda/lib/python3.10/site-packages (from gdown) (3.13.1)\r\n",
      "Requirement already satisfied: requests[socks] in /opt/conda/lib/python3.10/site-packages (from gdown) (2.31.0)\r\n",
      "Requirement already satisfied: tqdm in /opt/conda/lib/python3.10/site-packages (from gdown) (4.66.1)\r\n",
      "Requirement already satisfied: soupsieve>1.2 in /opt/conda/lib/python3.10/site-packages (from beautifulsoup4->gdown) (2.5)\r\n"
     ]
    },
    {
     "name": "stdout",
     "output_type": "stream",
     "text": [
      "Requirement already satisfied: charset-normalizer<4,>=2 in /opt/conda/lib/python3.10/site-packages (from requests[socks]->gdown) (3.3.2)\r\n",
      "Requirement already satisfied: idna<4,>=2.5 in /opt/conda/lib/python3.10/site-packages (from requests[socks]->gdown) (3.6)\r\n",
      "Requirement already satisfied: urllib3<3,>=1.21.1 in /opt/conda/lib/python3.10/site-packages (from requests[socks]->gdown) (1.26.18)\r\n",
      "Requirement already satisfied: certifi>=2017.4.17 in /opt/conda/lib/python3.10/site-packages (from requests[socks]->gdown) (2023.11.17)\r\n",
      "Requirement already satisfied: PySocks!=1.5.7,>=1.5.6 in /opt/conda/lib/python3.10/site-packages (from requests[socks]->gdown) (1.7.1)\r\n"
     ]
    },
    {
     "name": "stdout",
     "output_type": "stream",
     "text": [
      "Downloading gdown-5.1.0-py3-none-any.whl (17 kB)\r\n"
     ]
    },
    {
     "name": "stdout",
     "output_type": "stream",
     "text": [
      "Installing collected packages: gdown\r\n"
     ]
    },
    {
     "name": "stdout",
     "output_type": "stream",
     "text": [
      "Successfully installed gdown-5.1.0\r\n"
     ]
    },
    {
     "name": "stdout",
     "output_type": "stream",
     "text": [
      "/opt/conda/lib/python3.10/site-packages/gdown/__main__.py:132: FutureWarning: Option `--id` was deprecated in version 4.3.1 and will be removed in 5.0. You don't need to pass it anymore to use a file ID.\r\n",
      "  warnings.warn(\r\n"
     ]
    },
    {
     "name": "stdout",
     "output_type": "stream",
     "text": [
      "Downloading...\r\n",
      "From (original): https://drive.google.com/uc?id=1xnK3B6K6KekDI55vwJ0vnc2IGoDga9cj\r\n",
      "From (redirected): https://drive.google.com/uc?id=1xnK3B6K6KekDI55vwJ0vnc2IGoDga9cj&confirm=t&uuid=3aa88da6-61d8-44d9-a279-abb4e50fcadd\r\n",
      "To: /kaggle/working/images.zip\r\n",
      "\r",
      "  0%|                                                | 0.00/492M [00:00<?, ?B/s]"
     ]
    },
    {
     "name": "stdout",
     "output_type": "stream",
     "text": [
      "\r",
      "  4%|█▍                                      | 17.3M/492M [00:00<00:02, 165MB/s]"
     ]
    },
    {
     "name": "stdout",
     "output_type": "stream",
     "text": [
      "\r",
      "  8%|███▏                                    | 39.3M/492M [00:00<00:02, 196MB/s]"
     ]
    },
    {
     "name": "stdout",
     "output_type": "stream",
     "text": [
      "\r",
      " 12%|████▊                                   | 59.8M/492M [00:00<00:02, 199MB/s]"
     ]
    },
    {
     "name": "stdout",
     "output_type": "stream",
     "text": [
      "\r",
      " 17%|██████▋                                 | 81.8M/492M [00:00<00:01, 206MB/s]"
     ]
    },
    {
     "name": "stdout",
     "output_type": "stream",
     "text": [
      "\r",
      " 22%|█████████                                | 109M/492M [00:00<00:01, 228MB/s]"
     ]
    },
    {
     "name": "stdout",
     "output_type": "stream",
     "text": [
      "\r",
      " 27%|██████████▉                              | 132M/492M [00:00<00:01, 226MB/s]"
     ]
    },
    {
     "name": "stdout",
     "output_type": "stream",
     "text": [
      "\r",
      " 31%|████████████▉                            | 155M/492M [00:00<00:01, 208MB/s]"
     ]
    },
    {
     "name": "stdout",
     "output_type": "stream",
     "text": [
      "\r",
      " 38%|███████████████▍                         | 185M/492M [00:00<00:01, 236MB/s]"
     ]
    },
    {
     "name": "stdout",
     "output_type": "stream",
     "text": [
      "\r",
      " 45%|██████████████████▎                      | 219M/492M [00:00<00:01, 266MB/s]"
     ]
    },
    {
     "name": "stdout",
     "output_type": "stream",
     "text": [
      "\r",
      " 51%|████████████████████▊                    | 250M/492M [00:01<00:00, 277MB/s]"
     ]
    },
    {
     "name": "stdout",
     "output_type": "stream",
     "text": [
      "\r",
      " 57%|███████████████████████▏                 | 278M/492M [00:01<00:00, 266MB/s]"
     ]
    },
    {
     "name": "stdout",
     "output_type": "stream",
     "text": [
      "\r",
      " 63%|██████████████████████████               | 312M/492M [00:01<00:00, 287MB/s]"
     ]
    },
    {
     "name": "stdout",
     "output_type": "stream",
     "text": [
      "\r",
      " 69%|████████████████████████████▍            | 341M/492M [00:01<00:01, 117MB/s]"
     ]
    },
    {
     "name": "stdout",
     "output_type": "stream",
     "text": [
      "\r",
      " 75%|██████████████████████████████          | 370M/492M [00:02<00:01, 89.5MB/s]"
     ]
    },
    {
     "name": "stdout",
     "output_type": "stream",
     "text": [
      "\r",
      " 82%|█████████████████████████████████▍       | 401M/492M [00:02<00:00, 116MB/s]"
     ]
    },
    {
     "name": "stdout",
     "output_type": "stream",
     "text": [
      "\r",
      " 86%|██████████████████████████████████▍     | 423M/492M [00:02<00:00, 83.9MB/s]"
     ]
    },
    {
     "name": "stdout",
     "output_type": "stream",
     "text": [
      "\r",
      " 89%|███████████████████████████████████▋    | 439M/492M [00:03<00:00, 66.1MB/s]"
     ]
    },
    {
     "name": "stdout",
     "output_type": "stream",
     "text": [
      "\r",
      " 95%|██████████████████████████████████████  | 467M/492M [00:03<00:00, 89.0MB/s]"
     ]
    },
    {
     "name": "stdout",
     "output_type": "stream",
     "text": [
      "\r",
      " 99%|███████████████████████████████████████▍| 484M/492M [00:03<00:00, 67.4MB/s]"
     ]
    },
    {
     "name": "stdout",
     "output_type": "stream",
     "text": [
      "\r",
      "100%|█████████████████████████████████████████| 492M/492M [00:03<00:00, 123MB/s]\r\n"
     ]
    }
   ],
   "source": [
    "!pip install gdown\n",
    "!gdown --id 1xnK3B6K6KekDI55vwJ0vnc2IGoDga9cj"
   ]
  },
  {
   "cell_type": "code",
   "execution_count": 2,
   "id": "41522445",
   "metadata": {
    "execution": {
     "iopub.execute_input": "2024-02-26T19:43:25.588071Z",
     "iopub.status.busy": "2024-02-26T19:43:25.587735Z",
     "iopub.status.idle": "2024-02-26T19:43:34.358670Z",
     "shell.execute_reply": "2024-02-26T19:43:34.357401Z"
    },
    "id": "JoROyZXwT7Yf",
    "papermill": {
     "duration": 8.78325,
     "end_time": "2024-02-26T19:43:34.361508",
     "exception": false,
     "start_time": "2024-02-26T19:43:25.578258",
     "status": "completed"
    },
    "tags": []
   },
   "outputs": [],
   "source": [
    "!mkdir /kaggle/temp/\n",
    "!mkdir /kaggle/temp/images/\n",
    "!mkdir Major_project\n",
    "!unzip -o images.zip -d /kaggle/temp/images/ >/dev/null"
   ]
  },
  {
   "cell_type": "code",
   "execution_count": 3,
   "id": "669cca2c",
   "metadata": {
    "execution": {
     "iopub.execute_input": "2024-02-26T19:43:34.383637Z",
     "iopub.status.busy": "2024-02-26T19:43:34.383268Z",
     "iopub.status.idle": "2024-02-26T19:43:35.437710Z",
     "shell.execute_reply": "2024-02-26T19:43:35.436660Z"
    },
    "papermill": {
     "duration": 1.066221,
     "end_time": "2024-02-26T19:43:35.439993",
     "exception": false,
     "start_time": "2024-02-26T19:43:34.373772",
     "status": "completed"
    },
    "tags": []
   },
   "outputs": [],
   "source": [
    "!rm /kaggle/working/images.zip"
   ]
  },
  {
   "cell_type": "code",
   "execution_count": 4,
   "id": "4e97a5b6",
   "metadata": {
    "execution": {
     "iopub.execute_input": "2024-02-26T19:43:35.472041Z",
     "iopub.status.busy": "2024-02-26T19:43:35.471688Z",
     "iopub.status.idle": "2024-02-26T19:43:52.151761Z",
     "shell.execute_reply": "2024-02-26T19:43:52.150834Z"
    },
    "id": "wR-iTu2CVBoj",
    "outputId": "37a90abe-d301-4c53-d625-81be328db96f",
    "papermill": {
     "duration": 16.692956,
     "end_time": "2024-02-26T19:43:52.153992",
     "exception": false,
     "start_time": "2024-02-26T19:43:35.461036",
     "status": "completed"
    },
    "tags": []
   },
   "outputs": [
    {
     "name": "stdout",
     "output_type": "stream",
     "text": [
      "Collecting git+https://github.com/facebookresearch/segment-anything.git\r\n",
      "  Cloning https://github.com/facebookresearch/segment-anything.git to /tmp/pip-req-build-z5l19drl\r\n",
      "  Running command git clone --filter=blob:none --quiet https://github.com/facebookresearch/segment-anything.git /tmp/pip-req-build-z5l19drl\r\n"
     ]
    },
    {
     "name": "stdout",
     "output_type": "stream",
     "text": [
      "  Resolved https://github.com/facebookresearch/segment-anything.git to commit 6fdee8f2727f4506cfbbe553e23b895e27956588\r\n"
     ]
    },
    {
     "name": "stdout",
     "output_type": "stream",
     "text": [
      "  Preparing metadata (setup.py) ... \u001b[?25ldone\r\n"
     ]
    },
    {
     "name": "stdout",
     "output_type": "stream",
     "text": [
      "\u001b[?25h"
     ]
    }
   ],
   "source": [
    "!pip install git+https://github.com/facebookresearch/segment-anything.git"
   ]
  },
  {
   "cell_type": "code",
   "execution_count": 5,
   "id": "6f888d8f",
   "metadata": {
    "execution": {
     "iopub.execute_input": "2024-02-26T19:43:52.173467Z",
     "iopub.status.busy": "2024-02-26T19:43:52.173102Z",
     "iopub.status.idle": "2024-02-26T19:44:03.495361Z",
     "shell.execute_reply": "2024-02-26T19:44:03.494193Z"
    },
    "id": "Jb8CvyLDw0rE",
    "outputId": "b550c778-9ecd-41a1-fd19-bd3a0664f0df",
    "papermill": {
     "duration": 11.336,
     "end_time": "2024-02-26T19:44:03.498913",
     "exception": false,
     "start_time": "2024-02-26T19:43:52.162913",
     "status": "completed"
    },
    "tags": []
   },
   "outputs": [
    {
     "name": "stdout",
     "output_type": "stream",
     "text": [
      "--2024-02-26 19:43:53--  https://dl.fbaipublicfiles.com/segment_anything/sam_vit_h_4b8939.pth\r\n",
      "Resolving dl.fbaipublicfiles.com (dl.fbaipublicfiles.com)... 13.227.219.59, 13.227.219.10, 13.227.219.33, ...\r\n",
      "Connecting to dl.fbaipublicfiles.com (dl.fbaipublicfiles.com)|13.227.219.59|:443... "
     ]
    },
    {
     "name": "stdout",
     "output_type": "stream",
     "text": [
      "connected.\r\n",
      "HTTP request sent, awaiting response... 200 OK\r\n",
      "Length: 2564550879 (2.4G) [binary/octet-stream]\r\n",
      "Saving to: 'sam_vit_h_4b8939.pth'\r\n",
      "\r\n",
      "\r",
      "sam_vit_h_4b8939.pt   0%[                    ]       0  --.-KB/s               "
     ]
    },
    {
     "name": "stdout",
     "output_type": "stream",
     "text": [
      "\r",
      "sam_vit_h_4b8939.pt   1%[                    ]  32.23M   161MB/s               "
     ]
    },
    {
     "name": "stdout",
     "output_type": "stream",
     "text": [
      "\r",
      "sam_vit_h_4b8939.pt   3%[                    ]  82.32M   206MB/s               "
     ]
    },
    {
     "name": "stdout",
     "output_type": "stream",
     "text": [
      "\r",
      "sam_vit_h_4b8939.pt   5%[>                   ] 132.15M   220MB/s               "
     ]
    },
    {
     "name": "stdout",
     "output_type": "stream",
     "text": [
      "\r",
      "sam_vit_h_4b8939.pt   7%[>                   ] 183.10M   229MB/s               "
     ]
    },
    {
     "name": "stdout",
     "output_type": "stream",
     "text": [
      "\r",
      "sam_vit_h_4b8939.pt   9%[>                   ] 221.40M   221MB/s               "
     ]
    },
    {
     "name": "stdout",
     "output_type": "stream",
     "text": [
      "\r",
      "sam_vit_h_4b8939.pt  10%[=>                  ] 262.26M   218MB/s               "
     ]
    },
    {
     "name": "stdout",
     "output_type": "stream",
     "text": [
      "\r",
      "sam_vit_h_4b8939.pt  12%[=>                  ] 312.77M   223MB/s               "
     ]
    },
    {
     "name": "stdout",
     "output_type": "stream",
     "text": [
      "\r",
      "sam_vit_h_4b8939.pt  14%[=>                  ] 365.18M   228MB/s               "
     ]
    },
    {
     "name": "stdout",
     "output_type": "stream",
     "text": [
      "\r",
      "sam_vit_h_4b8939.pt  16%[==>                 ] 411.45M   229MB/s               "
     ]
    },
    {
     "name": "stdout",
     "output_type": "stream",
     "text": [
      "\r",
      "sam_vit_h_4b8939.pt  18%[==>                 ] 463.43M   232MB/s               "
     ]
    },
    {
     "name": "stdout",
     "output_type": "stream",
     "text": [
      "\r",
      "sam_vit_h_4b8939.pt  20%[===>                ] 505.36M   230MB/s               "
     ]
    },
    {
     "name": "stdout",
     "output_type": "stream",
     "text": [
      "\r",
      "sam_vit_h_4b8939.pt  22%[===>                ] 553.29M   230MB/s               "
     ]
    },
    {
     "name": "stdout",
     "output_type": "stream",
     "text": [
      "\r",
      "sam_vit_h_4b8939.pt  24%[===>                ] 593.83M   228MB/s               "
     ]
    },
    {
     "name": "stdout",
     "output_type": "stream",
     "text": [
      "\r",
      "sam_vit_h_4b8939.pt  26%[====>               ] 647.07M   231MB/s               "
     ]
    },
    {
     "name": "stdout",
     "output_type": "stream",
     "text": [
      "\r",
      "sam_vit_h_4b8939.pt  28%[====>               ] 696.71M   232MB/s    eta 8s     "
     ]
    },
    {
     "name": "stdout",
     "output_type": "stream",
     "text": [
      "\r",
      "sam_vit_h_4b8939.pt  30%[=====>              ] 749.41M   239MB/s    eta 8s     "
     ]
    },
    {
     "name": "stdout",
     "output_type": "stream",
     "text": [
      "\r",
      "sam_vit_h_4b8939.pt  32%[=====>              ] 792.55M   237MB/s    eta 8s     "
     ]
    },
    {
     "name": "stdout",
     "output_type": "stream",
     "text": [
      "\r",
      "sam_vit_h_4b8939.pt  34%[=====>              ] 840.16M   237MB/s    eta 8s     "
     ]
    },
    {
     "name": "stdout",
     "output_type": "stream",
     "text": [
      "\r",
      "sam_vit_h_4b8939.pt  36%[======>             ] 894.71M   238MB/s    eta 8s     "
     ]
    },
    {
     "name": "stdout",
     "output_type": "stream",
     "text": [
      "\r",
      "sam_vit_h_4b8939.pt  38%[======>             ] 949.90M   241MB/s    eta 6s     "
     ]
    },
    {
     "name": "stdout",
     "output_type": "stream",
     "text": [
      "\r",
      "sam_vit_h_4b8939.pt  40%[=======>            ] 993.04M   242MB/s    eta 6s     "
     ]
    },
    {
     "name": "stdout",
     "output_type": "stream",
     "text": [
      "\r",
      "sam_vit_h_4b8939.pt  42%[=======>            ]   1.01G   242MB/s    eta 6s     "
     ]
    },
    {
     "name": "stdout",
     "output_type": "stream",
     "text": [
      "\r",
      "sam_vit_h_4b8939.pt  44%[=======>            ]   1.06G   242MB/s    eta 6s     "
     ]
    },
    {
     "name": "stdout",
     "output_type": "stream",
     "text": [
      "\r",
      "sam_vit_h_4b8939.pt  46%[========>           ]   1.12G   243MB/s    eta 6s     "
     ]
    },
    {
     "name": "stdout",
     "output_type": "stream",
     "text": [
      "\r",
      "sam_vit_h_4b8939.pt  48%[========>           ]   1.17G   243MB/s    eta 5s     "
     ]
    },
    {
     "name": "stdout",
     "output_type": "stream",
     "text": [
      "\r",
      "sam_vit_h_4b8939.pt  51%[=========>          ]   1.22G   248MB/s    eta 5s     "
     ]
    },
    {
     "name": "stdout",
     "output_type": "stream",
     "text": [
      "\r",
      "sam_vit_h_4b8939.pt  53%[=========>          ]   1.27G   249MB/s    eta 5s     "
     ]
    },
    {
     "name": "stdout",
     "output_type": "stream",
     "text": [
      "\r",
      "sam_vit_h_4b8939.pt  55%[==========>         ]   1.32G   251MB/s    eta 5s     "
     ]
    },
    {
     "name": "stdout",
     "output_type": "stream",
     "text": [
      "\r",
      "sam_vit_h_4b8939.pt  57%[==========>         ]   1.38G   254MB/s    eta 5s     "
     ]
    },
    {
     "name": "stdout",
     "output_type": "stream",
     "text": [
      "\r",
      "sam_vit_h_4b8939.pt  59%[==========>         ]   1.43G   255MB/s    eta 4s     "
     ]
    },
    {
     "name": "stdout",
     "output_type": "stream",
     "text": [
      "\r",
      "sam_vit_h_4b8939.pt  61%[===========>        ]   1.47G   253MB/s    eta 4s     "
     ]
    },
    {
     "name": "stdout",
     "output_type": "stream",
     "text": [
      "\r",
      "sam_vit_h_4b8939.pt  63%[===========>        ]   1.52G   252MB/s    eta 4s     "
     ]
    },
    {
     "name": "stdout",
     "output_type": "stream",
     "text": [
      "\r",
      "sam_vit_h_4b8939.pt  65%[============>       ]   1.56G   253MB/s    eta 4s     "
     ]
    },
    {
     "name": "stdout",
     "output_type": "stream",
     "text": [
      "\r",
      "sam_vit_h_4b8939.pt  67%[============>       ]   1.61G   252MB/s    eta 4s     "
     ]
    },
    {
     "name": "stdout",
     "output_type": "stream",
     "text": [
      "\r",
      "sam_vit_h_4b8939.pt  69%[============>       ]   1.66G   251MB/s    eta 3s     "
     ]
    },
    {
     "name": "stdout",
     "output_type": "stream",
     "text": [
      "\r",
      "sam_vit_h_4b8939.pt  71%[=============>      ]   1.71G   249MB/s    eta 3s     "
     ]
    },
    {
     "name": "stdout",
     "output_type": "stream",
     "text": [
      "\r",
      "sam_vit_h_4b8939.pt  73%[=============>      ]   1.75G   252MB/s    eta 3s     "
     ]
    },
    {
     "name": "stdout",
     "output_type": "stream",
     "text": [
      "\r",
      "sam_vit_h_4b8939.pt  75%[==============>     ]   1.79G   249MB/s    eta 3s     "
     ]
    },
    {
     "name": "stdout",
     "output_type": "stream",
     "text": [
      "\r",
      "sam_vit_h_4b8939.pt  76%[==============>     ]   1.83G   245MB/s    eta 3s     "
     ]
    },
    {
     "name": "stdout",
     "output_type": "stream",
     "text": [
      "\r",
      "sam_vit_h_4b8939.pt  78%[==============>     ]   1.88G   244MB/s    eta 2s     "
     ]
    },
    {
     "name": "stdout",
     "output_type": "stream",
     "text": [
      "\r",
      "sam_vit_h_4b8939.pt  80%[===============>    ]   1.92G   239MB/s    eta 2s     "
     ]
    },
    {
     "name": "stdout",
     "output_type": "stream",
     "text": [
      "\r",
      "sam_vit_h_4b8939.pt  82%[===============>    ]   1.96G   237MB/s    eta 2s     "
     ]
    },
    {
     "name": "stdout",
     "output_type": "stream",
     "text": [
      "\r",
      "sam_vit_h_4b8939.pt  83%[===============>    ]   2.00G   231MB/s    eta 2s     "
     ]
    },
    {
     "name": "stdout",
     "output_type": "stream",
     "text": [
      "\r",
      "sam_vit_h_4b8939.pt  85%[================>   ]   2.05G   230MB/s    eta 2s     "
     ]
    },
    {
     "name": "stdout",
     "output_type": "stream",
     "text": [
      "\r",
      "sam_vit_h_4b8939.pt  87%[================>   ]   2.10G   230MB/s    eta 1s     "
     ]
    },
    {
     "name": "stdout",
     "output_type": "stream",
     "text": [
      "\r",
      "sam_vit_h_4b8939.pt  89%[================>   ]   2.14G   227MB/s    eta 1s     "
     ]
    },
    {
     "name": "stdout",
     "output_type": "stream",
     "text": [
      "\r",
      "sam_vit_h_4b8939.pt  91%[=================>  ]   2.19G   229MB/s    eta 1s     "
     ]
    },
    {
     "name": "stdout",
     "output_type": "stream",
     "text": [
      "\r",
      "sam_vit_h_4b8939.pt  93%[=================>  ]   2.23G   228MB/s    eta 1s     "
     ]
    },
    {
     "name": "stdout",
     "output_type": "stream",
     "text": [
      "\r",
      "sam_vit_h_4b8939.pt  95%[==================> ]   2.28G   226MB/s    eta 1s     "
     ]
    },
    {
     "name": "stdout",
     "output_type": "stream",
     "text": [
      "\r",
      "sam_vit_h_4b8939.pt  97%[==================> ]   2.32G   228MB/s    eta 0s     "
     ]
    },
    {
     "name": "stdout",
     "output_type": "stream",
     "text": [
      "\r",
      "sam_vit_h_4b8939.pt  99%[==================> ]   2.37G   226MB/s    eta 0s     "
     ]
    },
    {
     "name": "stdout",
     "output_type": "stream",
     "text": [
      "\r",
      "sam_vit_h_4b8939.pt 100%[===================>]   2.39G   227MB/s    in 10s     \r\n",
      "\r\n",
      "2024-02-26 19:44:03 (238 MB/s) - 'sam_vit_h_4b8939.pth' saved [2564550879/2564550879]\r\n",
      "\r\n"
     ]
    }
   ],
   "source": [
    "!wget https://dl.fbaipublicfiles.com/segment_anything/sam_vit_h_4b8939.pth"
   ]
  },
  {
   "cell_type": "code",
   "execution_count": 6,
   "id": "d15bd176",
   "metadata": {
    "execution": {
     "iopub.execute_input": "2024-02-26T19:44:03.603995Z",
     "iopub.status.busy": "2024-02-26T19:44:03.602738Z",
     "iopub.status.idle": "2024-02-26T19:44:07.539850Z",
     "shell.execute_reply": "2024-02-26T19:44:07.538594Z"
    },
    "papermill": {
     "duration": 4.020324,
     "end_time": "2024-02-26T19:44:07.542425",
     "exception": false,
     "start_time": "2024-02-26T19:44:03.522101",
     "status": "completed"
    },
    "tags": []
   },
   "outputs": [],
   "source": [
    "!mv ./sam_vit_h_4b8939.pth /kaggle/temp/"
   ]
  },
  {
   "cell_type": "code",
   "execution_count": 7,
   "id": "2a5fc904",
   "metadata": {
    "execution": {
     "iopub.execute_input": "2024-02-26T19:44:07.571555Z",
     "iopub.status.busy": "2024-02-26T19:44:07.571223Z",
     "iopub.status.idle": "2024-02-26T19:44:14.841167Z",
     "shell.execute_reply": "2024-02-26T19:44:14.840133Z"
    },
    "id": "rA7wVtHZxGUB",
    "papermill": {
     "duration": 7.287295,
     "end_time": "2024-02-26T19:44:14.843510",
     "exception": false,
     "start_time": "2024-02-26T19:44:07.556215",
     "status": "completed"
    },
    "tags": []
   },
   "outputs": [],
   "source": [
    "import os\n",
    "import cv2\n",
    "from PIL import Image\n",
    "import numpy as np\n",
    "import matplotlib.pyplot as plt\n",
    "import torch\n",
    "from segment_anything import sam_model_registry\n",
    "from segment_anything import SamAutomaticMaskGenerator\n",
    "from segment_anything import SamPredictor\n",
    "\n",
    "# https://github.com/facebookresearch/segment-anything?tab=readme-ov-file#model-checkpoints\n",
    "# CONSTANTS\n",
    "MODEL_TYPE = 'vit_h'\n",
    "CHECKPOINT = '/kaggle/temp/sam_vit_h_4b8939.pth' #'sam_vit_b_01ec64.pth'# or 'sam_modidied_script' # or 'sam_vit_b_01ec64.pth'\n",
    "FILE_PATH=\"/kaggle/temp/images/\"\n",
    "Save_Path=\"./Major_project/\"\n",
    "EXPONENT= 0.85"
   ]
  },
  {
   "cell_type": "code",
   "execution_count": 8,
   "id": "0c773e35",
   "metadata": {
    "execution": {
     "iopub.execute_input": "2024-02-26T19:44:14.872008Z",
     "iopub.status.busy": "2024-02-26T19:44:14.871589Z",
     "iopub.status.idle": "2024-02-26T19:44:14.922024Z",
     "shell.execute_reply": "2024-02-26T19:44:14.921097Z"
    },
    "id": "3YS3_XCCyOS2",
    "outputId": "42b5f604-f876-4b4d-daa2-46a4515d0d52",
    "papermill": {
     "duration": 0.066932,
     "end_time": "2024-02-26T19:44:14.924075",
     "exception": false,
     "start_time": "2024-02-26T19:44:14.857143",
     "status": "completed"
    },
    "tags": []
   },
   "outputs": [
    {
     "name": "stdout",
     "output_type": "stream",
     "text": [
      "Using device: cuda\n"
     ]
    }
   ],
   "source": [
    "device = torch.device('cuda' if torch.cuda.is_available() else 'cpu')\n",
    "print('Using device:', device)"
   ]
  },
  {
   "cell_type": "code",
   "execution_count": 9,
   "id": "b4bf3737",
   "metadata": {
    "execution": {
     "iopub.execute_input": "2024-02-26T19:44:14.952074Z",
     "iopub.status.busy": "2024-02-26T19:44:14.951769Z",
     "iopub.status.idle": "2024-02-26T19:44:26.384346Z",
     "shell.execute_reply": "2024-02-26T19:44:26.383438Z"
    },
    "id": "xfCMHX9kyQjV",
    "papermill": {
     "duration": 11.449377,
     "end_time": "2024-02-26T19:44:26.386717",
     "exception": false,
     "start_time": "2024-02-26T19:44:14.937340",
     "status": "completed"
    },
    "tags": []
   },
   "outputs": [],
   "source": [
    "from segment_anything import SamPredictor, sam_model_registry\n",
    "sam_model = sam_model_registry[MODEL_TYPE](checkpoint=CHECKPOINT)\n",
    "sam_model.to(device)\n",
    "mask_generator = SamAutomaticMaskGenerator(\n",
    "    model=sam_model,\n",
    "    points_per_side=44,\n",
    "    pred_iou_thresh=0.86,\n",
    "    stability_score_thresh=0.92,\n",
    "    crop_n_layers=1,\n",
    "    crop_n_points_downscale_factor=2,\n",
    "    min_mask_region_area=100,  # Requires open-cv to run post-processing\n",
    ")\n",
    "def helper_maskmerge_invert(masks):\n",
    "    mask=masks[0][\"segmentation\"]\n",
    "    for i in range(1,len(masks)):\n",
    "        mask = mask | np.array(masks[i][\"segmentation\"])\n",
    "    return np.bitwise_not(mask)\n",
    "\n",
    "def helper_apply_exponential_operator(image,mask):\n",
    "    # Read the image\n",
    "    mask=np.stack((mask,) * 3, axis=-1)\n",
    "    # Apply the exponential operator\n",
    "    result_img = np.where(mask, np.power(image,EXPONENT), image)\n",
    "    # Scale back to 8-bit range (0-255)\n",
    "    result_img = np.clip(result_img, 0, 255).astype(np.uint8)\n",
    "    return result_img\n",
    "\n",
    "def pipline(image_path,mask_generator):\n",
    "    image = cv2.imread(FILE_PATH+image_path)\n",
    "    image = cv2.cvtColor(image, cv2.COLOR_BGR2RGB)\n",
    "    print(\"generating mask\")\n",
    "    mask=helper_maskmerge_invert(mask_generator.generate(image))\n",
    "    result_image =helper_apply_exponential_operator(image,mask)\n",
    "    # result_image=cv2.cvtColor(np.float32(result_image), cv2.COLOR_RGB2GRAY)\n",
    "    status=cv2.imwrite(Save_Path+image_path,result_image)\n",
    "    print(f'{status}->{image_path}')"
   ]
  },
  {
   "cell_type": "code",
   "execution_count": 10,
   "id": "700ccd02",
   "metadata": {
    "execution": {
     "iopub.execute_input": "2024-02-26T19:44:26.420582Z",
     "iopub.status.busy": "2024-02-26T19:44:26.420230Z",
     "iopub.status.idle": "2024-02-26T19:44:26.589299Z",
     "shell.execute_reply": "2024-02-26T19:44:26.588424Z"
    },
    "papermill": {
     "duration": 0.190123,
     "end_time": "2024-02-26T19:44:26.591834",
     "exception": false,
     "start_time": "2024-02-26T19:44:26.401711",
     "status": "completed"
    },
    "tags": []
   },
   "outputs": [],
   "source": [
    "files_d=[\n",
    "\"20171113-095647-1.jpg\",\n",
    "\"20171109-090149-1.jpg\",\n",
    "\"20171121-073828-1.jpg\",\n",
    "\"20171205-145104-2.jpg\",\n",
    "\"20171217-184642-2.jpg\",\n",
    "\"20171113-093718-3.jpg\",\n",
    "\"20171205-144824-2.jpg\",\n",
    "\"20171205-143356-2.jpg\",\n",
    "\"20171218-120357-2.jpg\",\n",
    "\"20171205-142930-2.jpg\",\n",
    "\"20171218-110443-2.jpg\",\n",
    "\"20171219-105131-2.jpg\",\n",
    "\"20171218-111652-2.jpg\",\n",
    "\"20171219-095415-3.jpg\",\n",
    "\"20171217-103327-2.jpg\",\n",
    "\"20171113-103939-0.jpg\",\n",
    "\"20171113-112032-0.jpg\",\n",
    "\"20171212-094021-1.jpg\",\n",
    "\"20171218-112823-3.jpg\",\n",
    "\"20171113-162351-0.jpg\",\n",
    "\"20171113-092047-1.jpg\",\n",
    "\"20171219-104455-3.jpg\",\n",
    "\"20171205-124141-2.jpg\",\n",
    "\"20171102-121702-2.jpg\",\n",
    "\"20171219-104859-2.jpg\",\n",
    "\"20171205-123619-2.jpg\",\n",
    "\"20171113-093500-1.jpg\",\n",
    "\"20171219-093202-3.jpg\",\n",
    "\"20171218-104033-3.jpg\",\n",
    "\"20171109-094446-3.jpg\",\n",
    "\"20171203-170028-3.jpg\",\n",
    "\"20171218-121300-3.jpg\",\n",
    "\"20171113-145923-1.jpg\",\n",
    "\"20171113-151026-3.jpg\",\n",
    "\"20171113-143603-2.jpg\",\n",
    "\"20171218-114857-2.jpg\",\n",
    "\"20171121-075342-1.jpg\",\n",
    "\"20171113-134454-3.jpg\",\n",
    "\"20171113-133940-3.jpg\",\n",
    "\"20171113-134709-1.jpg\",\n",
    "\"20171121-072031-1.jpg\",\n",
    "\"20171121-090224-3.jpg\",\n",
    "\"20171212-093606-3.jpg\",\n",
    "\"20171121-085745-1.jpg\",\n",
    "\"20171113-134032-1.jpg\",\n",
    "\"20171113-151728-1.jpg\",\n",
    "\"20171219-095012-3.jpg\",\n",
    "\"20171203-170641-3.jpg\",\n",
    "\"20171102-122410-1.jpg\",\n",
    "\"20171203-170310-3.jpg\",\n",
    "\"20171121-075509-1.jpg\",\n",
    "\"20171205-144246-2.jpg\",\n",
    "\"20171102-122633-3.jpg\",\n",
    "\"20171218-103802-2.jpg\",\n",
    "\"20171203-165059-3.jpg\",\n",
    "\"20171109-074050-1.jpg\",\n",
    "\"20171205-123747-2.jpg\",\n",
    "\"20171219-105521-2.jpg\",\n",
    "\"20171108-125657-3.jpg\",\n",
    "\"20171113-100556-3.jpg\",\n",
    "\"20171121-091109-1.jpg\",\n",
    "\"20171109-071541-3.jpg\",\n",
    "\"20171218-112810-3.jpg\",\n",
    "\"20171121-075036-1.jpg\",\n",
    "\"20171113-091915-1.jpg\",\n",
    "\"20171218-110731-2.jpg\",\n",
    "\"20171203-165704-3.jpg\",\n",
    "\"20171219-111704-3.jpg\",\n",
    "\"20171113-144252-3.jpg\",\n",
    "\"20171113-091651-1.jpg\",\n",
    "\"20171219-105547-2.jpg\",\n",
    "\"20171218-105222-3.jpg\",\n",
    "\"20171219-095343-2.jpg\",\n",
    "\"20171203-174141-3.jpg\",\n",
    "\"20171205-123653-2.jpg\",\n",
    "\"20171219-094242-2.jpg\",\n",
    "\"20171219-094353-3.jpg\",\n",
    "\"20171113-091623-3.jpg\",\n",
    "\"20171113-143827-3.jpg\",\n",
    "\"20171113-145108-3.jpg\",\n",
    "\"20171218-104826-3.jpg\",\n",
    "\"20171212-100115-1.jpg\",\n",
    "\"20171205-144536-2.jpg\",\n",
    "\"20171102-123002-2.jpg\",\n",
    "\"20171109-073641-3.jpg\",\n",
    "\"20171205-124404-2.jpg\",\n",
    "\"20171219-102324-2.jpg\",\n",
    "\"20171212-100452-3.jpg\",\n",
    "\"20171217-183714-2.jpg\",\n",
    "\"20171218-121218-3.jpg\",\n",
    "\"20171113-101211-1.jpg\",\n",
    "\"20171205-143421-2.jpg\",\n",
    "\"20171113-124300-3.jpg\",\n",
    "\"20171203-173955-3.jpg\",\n",
    "\"20171205-124014-2.jpg\",\n",
    "\"20171109-073403-1.jpg\",\n",
    "\"20171219-105223-3.jpg\",\n",
    "\"20171218-105733-3.jpg\",\n",
    "\"20171102-121746-1.jpg\",\n",
    "\"20171113-143153-2.jpg\",\n",
    "\"20171218-111345-2.jpg\",\n",
    "\"20171109-195110-1.jpg\",\n",
    "\"20171219-095602-3.jpg\",\n",
    "\"20171113-091743-1.jpg\",\n",
    "\"20171113-141507-2.jpg\",\n",
    "\"20171218-122156-2.jpg\",\n",
    "\"20171109-074813-3.jpg\",\n",
    "\"20171219-093202-2.jpg\",\n",
    "\"20171219-103130-2.jpg\",\n",
    "\"20171113-132938-3.jpg\",\n",
    "\"20171205-141517-2.jpg\",\n",
    "\"20171212-095632-3.jpg\",\n",
    "\"20171113-124033-1.jpg\",\n",
    "\"20171113-132048-2.jpg\",\n",
    "\"20171212-095002-3.jpg\",\n",
    "\"20171218-110814-2.jpg\",\n",
    "\"20171218-114933-3.jpg\",\n",
    "\"20171212-105025-3.jpg\",\n",
    "\"20171113-120631-1.jpg\",\n",
    "\"20171212-092953-3.jpg\",\n",
    "\"20171109-093229-2.jpg\",\n",
    "\"20171212-104904-3.jpg\",\n",
    "\"20171212-095216-3.jpg\",\n",
    "\"20171218-121137-2.jpg\",\n",
    "\"20171109-095312-3.jpg\",\n",
    "\"20171217-185041-2.jpg\",\n",
    "\"20171212-103305-3.jpg\",\n",
    "\"20171113-145322-0.jpg\",\n",
    "\"20171113-130523-2.jpg\",\n",
    "\"20171205-145149-2.jpg\",\n",
    "\"20171121-082411-2.jpg\",\n",
    "\"20171218-104736-3.jpg\",\n",
    "\"20171109-093645-3.jpg\",\n",
    "\"20171113-093226-1.jpg\",\n",
    "\"20171109-095224-3.jpg\",\n",
    "\"20171212-102858-3.jpg\",\n",
    "\"20171109-092611-2.jpg\",\n",
    "\"20171109-072655-1.jpg\",\n",
    "\"20171109-074018-1.jpg\",\n",
    "\"20171203-171929-3.jpg\",\n",
    "\"20171122-100643-1.jpg\",\n",
    "\"20171113-102155-3.jpg\",\n",
    "\"20171219-095936-3.jpg\",\n",
    "\"20171109-073321-3.jpg\",\n",
    "\"20171113-102401-1.jpg\",\n",
    "\"20171113-095501-3.jpg\",\n",
    "\"20171212-100503-1.jpg\",\n",
    "\"20171218-120300-2.jpg\",\n",
    "\"20171113-134928-3.jpg\",\n",
    "\"20171109-193741-1.jpg\",\n",
    "\"20171205-145037-2.jpg\",\n",
    "\"20171109-093449-2.jpg\",\n",
    "\"20171218-115326-3.jpg\",\n",
    "\"20171121-082132-1.jpg\",\n",
    "\"20171203-174638-3.jpg\",\n",
    "\"20171219-110035-3.jpg\",\n",
    "\"20171219-095916-2.jpg\",\n",
    "\"20171205-134734-2.jpg\",\n",
    "\"20171121-090623-3.jpg\",\n",
    "\"20171218-110512-3.jpg\",\n",
    "\"20171121-081349-2.jpg\",\n",
    "\"20171113-095456-1.jpg\",\n",
    "\"20171109-091124-2.jpg\",\n",
    "\"20171219-094823-3.jpg\",\n",
    "\"20171109-092033-2.jpg\",\n",
    "\"20171109-090224-1.jpg\",\n",
    "\"20171219-094640-2.jpg\",\n",
    "\"20171218-115229-3.jpg\",\n",
    "\"20171122-103945-1.jpg\",\n",
    "\"20171102-123156-1.jpg\",\n",
    "\"20171109-093942-3.jpg\",\n",
    "\"20171219-101903-2.jpg\",\n",
    "\"20171212-093958-1.jpg\",\n",
    "\"20171109-074748-1.jpg\",\n",
    "\"20171218-104320-2.jpg\",\n",
    "\"20171109-074847-1.jpg\",\n",
    "\"20171109-093824-3.jpg\",\n",
    "\"20171203-173903-3.jpg\",\n",
    "\"20171121-075533-1.jpg\",\n",
    "\"20171109-071831-3.jpg\",\n",
    "\"20171113-092631-1.jpg\",\n",
    "\"20171217-183729-2.jpg\",\n",
    "\"20171113-123137-0.jpg\",\n",
    "\"20171113-093900-3.jpg\",\n",
    "\"20171212-100041-3.jpg\",\n",
    "\"20171113-120954-1.jpg\",\n",
    "\"20171121-084016-1.jpg\",\n",
    "\"20171113-133827-3.jpg\",\n",
    "\"20171113-142219-2.jpg\",\n",
    "\"20171109-073724-1.jpg\",\n",
    "\"20171113-152939-0.jpg\",\n",
    "\"20171219-093358-2.jpg\",\n",
    "\"20171218-120748-3.jpg\",\n",
    "\"20171212-102409-3.jpg\",\n",
    "\"20171121-083845-1.jpg\",\n",
    "\"20171113-141533-2.jpg\",\n",
    "\"20171102-121732-1.jpg\",\n",
    "\"20171205-144102-2.jpg\",\n",
    "\"20171212-093821-1.jpg\",\n",
    "\"20171212-092936-3.jpg\",\n",
    "\"20171113-102111-1.jpg\",\n",
    "\"20171113-133848-1.jpg\",\n",
    "\"20171109-093608-1.jpg\",\n",
    "\"20171113-143535-2.jpg\",\n",
    "\"20171212-103745-3.jpg\",\n",
    "\"20171218-105320-3.jpg\",\n",
    "\"20171205-141533-2.jpg\",\n",
    "\"20171212-104916-3.jpg\",\n",
    "\"20171205-144028-2.jpg\",\n",
    "\"20171113-133259-3.jpg\",\n",
    "\"20171121-071112-1.jpg\",\n",
    "\"20171109-091205-2.jpg\",\n",
    "\"20171219-105245-2.jpg\",\n",
    "\"20171205-141330-2.jpg\",\n",
    "\"20171102-122639-2.jpg\",\n",
    "\"20171203-172120-3.jpg\",\n",
    "\"20171203-172809-3.jpg\",\n",
    "\"20171218-112623-3.jpg\",\n",
    "\"20171218-110447-3.jpg\",\n",
    "\"20171121-090501-3.jpg\",\n",
    "\"20171219-094456-3.jpg\",\n",
    "\"20171217-184424-2.jpg\",\n",
    "\"20171218-121944-3.jpg\",\n",
    "\"20171121-090211-3.jpg\",\n",
    "\"20171121-081816-2.jpg\",\n",
    "\"20171218-115229-2.jpg\",\n",
    "\"20171113-142823-0.jpg\",\n",
    "\"20171218-111318-2.jpg\",\n",
    "\"20171102-123036-3.jpg\",\n",
    "\"20171203-173105-3.jpg\",\n",
    "\"20171212-105742-3.jpg\",\n",
    "\"20171109-094215-2.jpg\",\n",
    "\"20171218-120628-2.jpg\",\n",
    "\"20171205-144519-2.jpg\",\n",
    "\"20171121-085233-1.jpg\",\n",
    "\"20171113-132754-3.jpg\",\n",
    "\"20171113-142713-2.jpg\",\n",
    "\"20171113-093009-1.jpg\",\n",
    "\"20171121-084809-1.jpg\",\n",
    "\"20171212-105600-3.jpg\",\n",
    "\"20171219-101116-2.jpg\",\n",
    "\"20171203-170042-3.jpg\",\n",
    "\"20171113-120501-1.jpg\",\n",
    "\"20171122-100706-1.jpg\",\n",
    "\"20171205-123605-2.jpg\",\n",
    "\"20171109-085535-2.jpg\",\n",
    "\"20171217-183635-2.jpg\",\n",
    "\"20171102-123303-2.jpg\",\n",
    "\"20171212-094655-3.jpg\",\n",
    "\"20171218-121231-3.jpg\",\n",
    "\"20171109-073258-3.jpg\",\n",
    "\"20171109-090925-1.jpg\",\n",
    "\"20171102-122100-1.jpg\",\n",
    "\"20171218-111337-3.jpg\",\n",
    "\"20171122-100838-1.jpg\",\n",
    "\"20171113-144918-1.jpg\",\n",
    "\"20171122-103612-1.jpg\",\n",
    "\"20171109-090028-1.jpg\",\n",
    "\"20171205-124105-2.jpg\",\n",
    "\"20171109-193914-1.jpg\",\n",
    "\"20171113-134744-1.jpg\",\n",
    "\"20171219-100402-2.jpg\",\n",
    "\"20171121-082752-2.jpg\",\n",
    "\"20171212-103306-3.jpg\",\n",
    "\"20171212-093146-3.jpg\",\n",
    "\"20171113-141340-2.jpg\",\n",
    "\"20171219-102113-3.jpg\",\n",
    "\"20171121-082826-2.jpg\",\n",
    "\"20171203-164701-3.jpg\",\n",
    "\"20171212-102031-3.jpg\",\n",
    "\"20171121-073501-1.jpg\",\n",
    "\"20171113-120245-1.jpg\",\n",
    "\"20171109-092513-2.jpg\",\n",
    "\"20171205-133618-2.jpg\",\n",
    "\"20171122-100206-1.jpg\",\n",
    "\"20171109-093038-1.jpg\",\n",
    "\"20171203-164458-3.jpg\",\n",
    "\"20171113-094444-3.jpg\",\n",
    "\"20171113-143123-3.jpg\",\n",
    "\"20171113-154857-0.jpg\",\n",
    "\"20171219-095359-3.jpg\",\n",
    "\"20171219-092736-2.jpg\",\n",
    "\"20171121-090451-3.jpg\",\n",
    "\"20171212-101811-3.jpg\",\n",
    "\"20171113-120357-1.jpg\",\n",
    "\"20171205-123548-2.jpg\",\n",
    "\"20171122-103722-1.jpg\",\n",
    "\"20171218-103414-2.jpg\",\n",
    "\"20171102-123253-1.jpg\",\n",
    "\"20171113-144239-3.jpg\",\n",
    "\"20171219-095902-2.jpg\",\n",
    "\"20171218-120143-2.jpg\",\n",
    "\"20171218-121041-2.jpg\",\n",
    "\"20171121-072911-1.jpg\",\n",
    "\"20171205-123947-2.jpg\",\n",
    "\"20171113-060557-1.jpg\",\n",
    "\"20171217-183825-2.jpg\",\n",
    "\"20171121-083607-1.jpg\",\n",
    "\"20171113-150035-1.jpg\",\n",
    "\"20171102-123005-1.jpg\",\n",
    "\"20171113-112836-0.jpg\",\n",
    "\"20171219-110013-3.jpg\",\n",
    "\"20171218-104157-3.jpg\",\n",
    "\"20171212-104939-3.jpg\",\n",
    "\"20171212-102223-3.jpg\",\n",
    "\"20171218-115947-3.jpg\",\n",
    "\"20171109-092525-2.jpg\",\n",
    "\"20171122-102820-1.jpg\",\n",
    "\"20171212-103045-3.jpg\",\n",
    "\"20171121-090145-3.jpg\",\n",
    "\"20171113-123042-3.jpg\",\n",
    "\"20171109-090726-3.jpg\",\n",
    "\"20171113-143642-2.jpg\",\n",
    "\"20171201-115825-1.jpg\",\n",
    "\"20171218-120753-2.jpg\",\n",
    "\"20171113-143857-2.jpg\",\n",
    "\"20171122-101221-1.jpg\",\n",
    "\"20171113-144335-1.jpg\",\n",
    "\"20171113-094525-3.jpg\",\n",
    "\"20171113-093414-1.jpg\",\n",
    "\"20171218-111238-2.jpg\",\n",
    "\"20171113-133441-1.jpg\",\n",
    "\"20171113-115052-0.jpg\",\n",
    "\"20171212-101503-3.jpg\",\n",
    "\"20171205-124016-2.jpg\",\n",
    "\"20171121-072546-1.jpg\",\n",
    "\"20171218-111201-3.jpg\",\n",
    "\"20171205-134137-2.jpg\",\n",
    "\"20171205-143059-2.jpg\",\n",
    "\"20171121-101146-1.jpg\",\n",
    "\"20171205-144029-2.jpg\",\n",
    "\"20171219-094700-3.jpg\",\n",
    "\"20171212-103609-3.jpg\",\n",
    "\"20171113-131618-2.jpg\",\n",
    "\"20171109-073516-3.jpg\",\n",
    "\"20171212-100026-3.jpg\",\n",
    "\"20171212-092920-3.jpg\",\n",
    "\"20171212-095519-3.jpg\",\n",
    "\"20171102-123413-2.jpg\",\n",
    "\"20171212-094053-3.jpg\",\n",
    "\"20171203-172410-3.jpg\",\n",
    "\"20171109-091812-1.jpg\",\n",
    "\"20171113-155924-0.jpg\",\n",
    "\"20171201-120840-1.jpg\",\n",
    "\"20171113-142730-3.jpg\",\n",
    "\"20171212-100247-3.jpg\",\n",
    "\"20171113-142857-3.jpg\",\n",
    "\"20171121-073754-1.jpg\",\n",
    "\"20171205-141347-2.jpg\",\n",
    "\"20171212-094815-1.jpg\",\n",
    "\"20171102-123125-1.jpg\",\n",
    "\"20171218-111057-2.jpg\",\n",
    "\"20171212-100831-1.jpg\",\n",
    "\"20171205-124724-2.jpg\",\n",
    "\"20171205-141306-2.jpg\",\n",
    "\"20171218-110920-3.jpg\",\n",
    "\"20171109-194002-1.jpg\",\n",
    "\"20171218-120712-2.jpg\",\n",
    "\"20171113-145011-3.jpg\",\n",
    "\"20171113-131503-1.jpg\",\n",
    "\"20171201-120921-1.jpg\",\n",
    "\"20171113-133044-3.jpg\",\n",
    "\"20171219-102558-2.jpg\",\n",
    "\"20171109-095352-3.jpg\",\n",
    "\"20171203-172354-3.jpg\",\n",
    "\"20171218-111152-2.jpg\",\n",
    "\"20171203-172637-3.jpg\",\n",
    "\"20171205-144809-2.jpg\",\n",
    "\"20171205-123651-2.jpg\",\n",
    "\"20171212-104215-3.jpg\",\n",
    "\"20171113-143404-2.jpg\",\n",
    "\"20171113-115229-3.jpg\",\n",
    "\"20171113-144523-3.jpg\",\n",
    "\"20171121-091005-1.jpg\",\n",
    "\"20171113-102023-1.jpg\",\n",
    "\"20171109-093217-1.jpg\",\n",
    "\"20171109-092711-1.jpg\",\n",
    "\"20171113-061216-1.jpg\",\n",
    "\"20171113-140119-2.jpg\",\n",
    "\"20171102-122109-2.jpg\",\n",
    "\"20171217-184132-2.jpg\",\n",
    "\"20171205-124606-2.jpg\",\n",
    "\"20171109-175951-2.jpg\",\n",
    "\"20171212-095709-3.jpg\",\n",
    "\"20171205-144436-2.jpg\",\n",
    "\"20171218-110357-2.jpg\",\n",
    "\"20171122-103738-1.jpg\",\n",
    "\"20171109-092120-1.jpg\",\n",
    "\"20171219-093925-3.jpg\",\n",
    "\"20171219-103111-3.jpg\",\n",
    "\"20171218-120706-3.jpg\",\n",
    "\"20171113-132416-3.jpg\",\n",
    "\"20171113-132147-0.jpg\",\n",
    "\"20171102-123448-2.jpg\",\n",
    "\"20171212-100247-1.jpg\",\n",
    "\"20171109-092239-2.jpg\",\n",
    "\"20171219-105920-2.jpg\",\n",
    "\"20171109-085703-2.jpg\",\n",
    "\"20171203-172438-3.jpg\",\n",
    "\"20171205-123706-2.jpg\",\n",
    "\"20171109-084741-3.jpg\",\n",
    "\"20171205-143458-2.jpg\",\n",
    "\"20171113-144009-2.jpg\",\n",
    "\"20171109-072221-3.jpg\",\n",
    "\"20171218-115155-3.jpg\",\n",
    "\"20171113-115932-1.jpg\",\n",
    "\"20171217-184441-2.jpg\",\n",
    "\"20171219-094002-2.jpg\",\n",
    "\"20171218-105411-3.jpg\",\n",
    "\"20171121-071821-1.jpg\",\n",
    "\"20171113-095542-3.jpg\",\n",
    "\"20171121-084046-1.jpg\",\n",
    "\"20171218-111151-3.jpg\",\n",
    "\"20171113-124152-3.jpg\",\n",
    "\"20171113-103414-0.jpg\",\n",
    "\"20171102-123338-2.jpg\",\n",
    "\"20171121-090015-1.jpg\",\n",
    "\"20171219-105001-3.jpg\",\n",
    "\"20171113-154421-0.jpg\",\n",
    "\"20171212-093006-3.jpg\",\n",
    "\"20171109-070737-3.jpg\",\n",
    "\"20171218-104122-3.jpg\",\n",
    "\"20171218-110742-2.jpg\",\n",
    "\"20171113-150055-1.jpg\",\n",
    "\"20171113-141253-2.jpg\",\n",
    "\"20171203-170522-3.jpg\",\n",
    "\"20171205-133902-2.jpg\",\n",
    "\"20171121-085219-1.jpg\",\n",
    "\"20171113-122631-0.jpg\",\n",
    "\"20171113-092918-1.jpg\",\n",
    "\"20171109-073211-1.jpg\",\n",
    "\"20171219-094201-2.jpg\",\n",
    "\"20171212-103044-3.jpg\",\n",
    "\"20171218-120837-3.jpg\",\n",
    "\"20171205-134529-2.jpg\",\n",
    "\"20171113-061145-1.jpg\",\n",
    "\"20171113-093244-3.jpg\",\n",
    "\"20171218-111140-3.jpg\",\n",
    "\"20171121-084526-1.jpg\",\n",
    "\"20171212-105828-3.jpg\",\n",
    "\"20171121-090407-3.jpg\",\n",
    "\"20171212-094952-1.jpg\",\n",
    "\"20171121-073120-1.jpg\",\n",
    "\"20171122-100437-1.jpg\",\n",
    "\"20171219-094440-3.jpg\",\n",
    "\"20171113-102008-1.jpg\",\n",
    "\"20171205-143444-2.jpg\",\n",
    "\"20171109-090929-2.jpg\",\n",
    "\"20171109-090231-3.jpg\",\n",
    "\"20171109-194112-1.jpg\",\n",
    "\"20171121-073624-1.jpg\",\n",
    "\"20171109-090714-1.jpg\",\n",
    "\"20171113-091722-1.jpg\",\n",
    "\"20171113-091705-3.jpg\",\n",
    "\"20171109-091843-2.jpg\",\n",
    "\"20171218-104150-2.jpg\",\n",
    "\"20171219-101538-3.jpg\",\n",
    "\"20171203-165357-3.jpg\",\n",
    "\"20171212-095334-1.jpg\",\n",
    "\"20171109-073739-1.jpg\",\n",
    "\"20171212-094806-1.jpg\",\n",
    "\"20171113-131803-1.jpg\",\n",
    "\"20171205-144132-2.jpg\",\n",
    "\"20171219-111640-3.jpg\",\n",
    "\"20171121-083203-1.jpg\",\n",
    "\"20171203-172137-3.jpg\",\n",
    "\"20171219-095213-3.jpg\",\n",
    "\"20171219-100758-2.jpg\",\n",
    "\"20171218-121647-2.jpg\",\n",
    "\"20171113-092303-3.jpg\",\n",
    "\"20171109-194758-1.jpg\",\n",
    "\"20171219-095245-2.jpg\",\n",
    "\"20171113-131321-2.jpg\",\n",
    "\"20171113-134727-1.jpg\",\n",
    "\"20171113-123045-0.jpg\",\n",
    "\"20171205-133754-2.jpg\",\n",
    "\"20171219-094325-2.jpg\",\n",
    "\"20171121-091252-1.jpg\",\n",
    "\"20171219-101339-3.jpg\",\n",
    "\"20171219-094648-3.jpg\",\n",
    "\"20171109-074209-3.jpg\",\n",
    "\"20171109-094401-3.jpg\",\n",
    "\"20171218-103500-2.jpg\",\n",
    "\"20171219-110250-3.jpg\",\n",
    "\"20171203-172543-3.jpg\",\n",
    "\"20171218-111047-3.jpg\",\n",
    "\"20171212-093438-3.jpg\",\n",
    "\"20171212-102601-3.jpg\",\n",
    "\"20171218-120319-3.jpg\",\n",
    "\"20171205-144601-2.jpg\",\n",
    "\"20171219-101153-3.jpg\",\n",
    "\"20171113-145512-1.jpg\",\n",
    "\"20171109-074418-1.jpg\",\n",
    "\"20171205-123820-2.jpg\",\n",
    "\"20171109-090053-1.jpg\",\n",
    "\"20171218-110926-2.jpg\",\n",
    "\"20171205-143923-2.jpg\",\n",
    "\"20171113-133727-1.jpg\",\n",
    "\"20171113-093432-1.jpg\",\n",
    "\"20171218-105811-3.jpg\",\n",
    "\"20171113-134801-1.jpg\",\n",
    "\"20171121-084619-1.jpg\",\n",
    "\"20171113-095439-1.jpg\",\n",
    "\"20171113-163420-0.jpg\",\n",
    "\"20171109-085729-2.jpg\",\n",
    "\"20171113-145105-1.jpg\",\n",
    "\"20171219-093256-2.jpg\",\n",
    "\"20171218-103624-2.jpg\",\n",
    "\"20171218-110553-3.jpg\",\n",
    "\"20171109-092443-2.jpg\",\n",
    "\"20171113-115211-3.jpg\",\n",
    "\"20171205-123822-2.jpg\",\n",
    "\"20171113-123847-1.jpg\",\n",
    "\"20171218-115948-3.jpg\",\n",
    "\"20171122-103412-1.jpg\",\n",
    "\"20171212-094746-3.jpg\",\n",
    "\"20171109-073438-1.jpg\",\n",
    "\"20171219-094927-2.jpg\",\n",
    "\"20171102-123606-2.jpg\",\n",
    "\"20171205-134905-2.jpg\",\n",
    "\"20171219-093410-3.jpg\",\n",
    "\"20171113-151731-1.jpg\",\n",
    "\"20171212-094548-1.jpg\",\n",
    "\"20171113-134655-3.jpg\",\n",
    "\"20171212-100020-1.jpg\",\n",
    "\"20171109-074955-1.jpg\",\n",
    "\"20171122-102106-1.jpg\",\n",
    "\"20171218-103654-2.jpg\",\n",
    "\"20171113-123243-1.jpg\",\n",
    "\"20171219-095551-3.jpg\",\n",
    "\"20171102-122911-2.jpg\",\n",
    "\"20171219-092757-2.jpg\",\n",
    "\"20171218-111251-3.jpg\",\n",
    "\"20171109-093502-2.jpg\",\n",
    "\"20171113-121204-1.jpg\",\n",
    "\"20171218-122149-3.jpg\",\n",
    "\"20171218-121152-3.jpg\",\n",
    "\"20171121-072014-1.jpg\",\n",
    "\"20171113-123919-1.jpg\",\n",
    "\"20171121-073424-1.jpg\",\n",
    "\"20171102-122334-3.jpg\",\n",
    "\"20171219-111652-3.jpg\",\n",
    "\"20171113-145122-3.jpg\",\n",
    "\"20171113-133153-1.jpg\",\n",
    "\"20171205-134118-2.jpg\",\n",
    "\"20171113-101614-0.jpg\",\n",
    "\"20171212-094343-1.jpg\",\n",
    "\"20171113-093255-1.jpg\",\n",
    "\"20171121-084217-2.jpg\",\n",
    "\"20171218-111251-2.jpg\",\n",
    "\"20171212-093640-3.jpg\",\n",
    "\"20171205-133700-2.jpg\",\n",
    "\"20171201-120036-1.jpg\",\n",
    "\"20171113-131457-2.jpg\",\n",
    "\"20171219-095426-2.jpg\",\n",
    "\"20171218-103140-2.jpg\",\n",
    "\"20171113-092317-1.jpg\",\n",
    "\"20171121-074807-1.jpg\",\n",
    "\"20171217-183451-2.jpg\",\n",
    "\"20171109-072039-1.jpg\",\n",
    "\"20171113-144652-3.jpg\",\n",
    "\"20171121-090439-3.jpg\",\n",
    "\"20171201-124003-3.jpg\",\n",
    "\"20171219-102203-3.jpg\",\n",
    "\"20171109-084701-3.jpg\",\n",
    "\"20171212-102441-3.jpg\",\n",
    "\"20171121-082440-2.jpg\",\n",
    "\"20171109-090247-1.jpg\",\n",
    "\"20171113-123546-3.jpg\",\n",
    "\"20171121-074933-1.jpg\",\n",
    "\"20171113-150022-3.jpg\",\n",
    "\"20171205-141445-2.jpg\",\n",
    "\"20171113-123604-1.jpg\",\n",
    "\"20171218-113013-3.jpg\",\n",
    "\"20171218-120102-3.jpg\",\n",
    "\"20171113-123916-3.jpg\",\n",
    "\"20171102-122300-2.jpg\",\n",
    "\"20171217-184724-2.jpg\",\n",
    "\"20171212-095118-1.jpg\",\n",
    "\"20171109-093317-2.jpg\",\n",
    "\"20171217-184402-2.jpg\",\n",
    "\"20171109-071105-3.jpg\",\n",
    "\"20171212-101511-3.jpg\",\n",
    "\"20171218-122047-2.jpg\",\n",
    "\"20171109-071030-3.jpg\",\n",
    "\"20171109-072328-1.jpg\",\n",
    "\"20171113-092633-3.jpg\",\n",
    "\"20171113-143207-2.jpg\",\n",
    "\"20171122-102108-1.jpg\",\n",
    "\"20171113-142412-2.jpg\",\n",
    "\"20171113-131846-2.jpg\",\n",
    "\"20171217-103623-2.jpg\",\n",
    "\"20171218-120855-2.jpg\",\n",
    "\"20171113-142508-2.jpg\",\n",
    "\"20171113-144513-1.jpg\",\n",
    "\"20171113-120549-1.jpg\",\n",
    "\"20171109-073228-3.jpg\",\n",
    "\"20171122-100238-1.jpg\",\n",
    "\"20171102-122851-3.jpg\",\n",
    "\"20171113-060924-1.jpg\",\n",
    "\"20171113-165831-0.jpg\",\n",
    "\"20171109-085043-3.jpg\",\n",
    "\"20171122-100023-1.jpg\",\n",
    "\"20171203-165732-3.jpg\",\n",
    "\"20171121-090841-1.jpg\",\n",
    "\"20171113-120119-1.jpg\",\n",
    "\"20171212-100235-1.jpg\",\n",
    "\"20171113-141451-2.jpg\",\n",
    "\"20171218-105602-3.jpg\",\n",
    "\"20171212-100437-3.jpg\",\n",
    "\"20171218-110342-2.jpg\",\n",
    "\"20171218-110718-2.jpg\",\n",
    "\"20171113-123630-1.jpg\",\n",
    "\"20171205-124230-2.jpg\",\n",
    "\"20171109-091324-1.jpg\",\n",
    "\"20171121-084446-1.jpg\",\n",
    "\"20171113-164124-0.jpg\",\n",
    "\"20171113-145717-3.jpg\",\n",
    "\"20171109-091828-2.jpg\",\n",
    "\"20171109-072806-3.jpg\",\n",
    "\"20171121-091305-1.jpg\",\n",
    "\"20171121-071258-1.jpg\",\n",
    "\"20171201-120426-1.jpg\",\n",
    "\"20171205-134842-2.jpg\",\n",
    "\"20171219-105947-2.jpg\",\n",
    "\"20171109-091743-3.jpg\",\n",
    "\"20171121-083349-1.jpg\",\n",
    "\"20171205-123836-2.jpg\",\n",
    "\"20171122-100436-1.jpg\",\n",
    "\"20171109-091341-2.jpg\",\n",
    "\"20171113-130955-2.jpg\",\n",
    "\"20171203-173412-3.jpg\",\n",
    "\"20171218-111729-2.jpg\",\n",
    "\"20171109-175921-2.jpg\",\n",
    "\"20171219-100707-2.jpg\",\n",
    "\"20171122-102506-1.jpg\",\n",
    "\"20171218-103202-2.jpg\",\n",
    "\"20171212-094942-1.jpg\",\n",
    "\"20171212-095727-1.jpg\",\n",
    "\"20171113-093744-3.jpg\",\n",
    "\"20171212-103905-3.jpg\",\n",
    "\"20171109-072450-1.jpg\",\n",
    "\"20171113-144653-1.jpg\",\n",
    "\"20171102-122318-1.jpg\",\n",
    "\"20171205-133730-2.jpg\",\n",
    "\"20171219-094535-3.jpg\",\n",
    "\"20171219-105632-2.jpg\",\n",
    "\"20171109-092137-2.jpg\",\n",
    "\"20171102-123211-2.jpg\",\n",
    "\"20171218-110810-3.jpg\",\n",
    "\"20171113-143943-2.jpg\",\n",
    "\"20171218-104012-2.jpg\",\n",
    "\"20171219-092854-2.jpg\",\n",
    "\"20171218-121154-2.jpg\",\n",
    "\"20171121-101147-1.jpg\",\n",
    "\"20171212-101605-3.jpg\",\n",
    "\"20171113-102646-1.jpg\",\n",
    "\"20171203-173915-3.jpg\",\n",
    "\"20171205-143227-2.jpg\",\n",
    "\"20171219-101341-2.jpg\",\n",
    "\"20171113-133354-1.jpg\",\n",
    "\"20171121-071912-1.jpg\",\n",
    "\"20171218-115215-2.jpg\",\n",
    "\"20171113-120758-1.jpg\",\n",
    "\"20171113-134952-3.jpg\",\n",
    "\"20171212-105057-3.jpg\",\n",
    "\"20171121-074015-1.jpg\",\n",
    "\"20171113-132507-1.jpg\",\n",
    "\"20171113-133758-3.jpg\",\n",
    "\"20171212-094009-1.jpg\",\n",
    "\"20171218-111935-3.jpg\",\n",
    "\"20171219-110028-2.jpg\",\n",
    "\"20171212-094434-1.jpg\",\n",
    "\"20171121-074235-1.jpg\",\n",
    "\"20171113-131054-1.jpg\",\n",
    "\"20171219-105711-2.jpg\",\n",
    "\"20171113-132852-1.jpg\",\n",
    "\"20171201-123949-3.jpg\",\n",
    "\"20171212-102310-3.jpg\",\n",
    "\"20171102-122458-1.jpg\",\n",
    "\"20171109-085101-2.jpg\",\n",
    "\"20171113-121340-1.jpg\",\n",
    "\"20171219-105955-3.jpg\",\n",
    "\"20171109-194100-1.jpg\",\n",
    "\"20171121-072413-1.jpg\",\n",
    "\"20171203-173455-3.jpg\",\n",
    "\"20171217-184035-2.jpg\",\n",
    "\"20171109-085929-1.jpg\",\n",
    "\"20171122-104210-1.jpg\",\n",
    "\"20171109-093041-2.jpg\",\n",
    "\"20171113-132332-1.jpg\",\n",
    "\"20171218-103327-3.jpg\",\n",
    "\"20171102-123220-3.jpg\",\n",
    "\"20171212-093639-1.jpg\",\n",
    "\"20171109-093520-2.jpg\",\n",
    "\"20171113-144817-0.jpg\",\n",
    "\"20171205-124856-2.jpg\",\n",
    "\"20171109-195028-1.jpg\",\n",
    "\"20171113-141633-2.jpg\",\n",
    "\"20171121-084655-1.jpg\",\n",
    "\"20171219-105822-3.jpg\",\n",
    "\"20171212-095831-1.jpg\",\n",
    "\"20171205-134151-2.jpg\",\n",
    "\"20171122-100346-1.jpg\",\n",
    "\"20171201-123729-3.jpg\",\n",
    "\"20171122-102134-1.jpg\",\n",
    "\"20171217-184732-2.jpg\",\n",
    "\"20171218-115948-2.jpg\",\n",
    "\"20171109-071835-1.jpg\",\n",
    "\"20171113-140103-1.jpg\",\n",
    "\"20171113-120551-1.jpg\",\n",
    "\"20171113-114138-0.jpg\",\n",
    "\"20171113-142649-2.jpg\",\n",
    "\"20171113-141212-2.jpg\",\n",
    "\"20171203-173509-3.jpg\",\n",
    "\"20171109-095101-3.jpg\",\n",
    "\"20171219-092756-2.jpg\",\n",
    "\"20171109-091521-2.jpg\",\n",
    "\"20171219-093258-2.jpg\",\n",
    "\"20171113-093619-3.jpg\",\n",
    "\"20171113-132733-3.jpg\",\n",
    "\"20171122-100347-1.jpg\",\n",
    "\"20171203-173154-3.jpg\",\n",
    "\"20171219-104900-2.jpg\",\n",
    "\"20171218-103217-3.jpg\",\n",
    "\"20171219-100344-2.jpg\",\n",
    "\"20171212-104626-3.jpg\",\n",
    "\"20171218-121011-2.jpg\",\n",
    "\"20171203-174602-3.jpg\",\n",
    "\"20171212-103156-3.jpg\",\n",
    "\"20171219-100607-2.jpg\",\n",
    "\"20171113-120601-3.jpg\",\n",
    "\"20171109-090704-3.jpg\",\n",
    "\"20171113-145308-3.jpg\",\n",
    "\"20171102-121802-2.jpg\",\n",
    "\"20171219-094023-3.jpg\",\n",
    "\"20171113-144722-1.jpg\",\n",
    "\"20171219-094840-2.jpg\",\n",
    "\"20171109-091008-1.jpg\",\n",
    "\"20171205-134456-2.jpg\",\n",
    "\"20171219-094623-2.jpg\",\n",
    "\"20171113-124335-1.jpg\",\n",
    "\"20171113-133110-1.jpg\",\n",
    "\"20171113-142238-2.jpg\",\n",
    "\"20171212-101643-3.jpg\",\n",
    "\"20171218-110038-3.jpg\",\n",
    "\"20171219-104448-2.jpg\",\n",
    "\"20171102-123049-2.jpg\",\n",
    "\"20171205-141003-2.jpg\",\n",
    "\"20171218-105258-2.jpg\",\n",
    "\"20171217-184528-2.jpg\",\n",
    "\"20171113-095351-3.jpg\",\n",
    "\"20171218-122036-2.jpg\",\n",
    "\"20171212-094611-3.jpg\",\n",
    "\"20171109-090052-3.jpg\",\n",
    "\"20171218-120822-2.jpg\",\n",
    "\"20171113-140028-1.jpg\",\n",
    "\"20171212-093539-1.jpg\",\n",
    "\"20171113-123317-1.jpg\",\n",
    "\"20171218-115031-2.jpg\",\n",
    "\"20171109-091628-2.jpg\",\n",
    "\"20171212-094853-1.jpg\",\n",
    "\"20171113-150328-1.jpg\",\n",
    "\"20171212-100359-1.jpg\",\n",
    "\"20171217-100920-2.jpg\",\n",
    "\"20171218-105136-3.jpg\",\n",
    "\"20171113-115913-1.jpg\",\n",
    "\"20171212-093915-1.jpg\",\n",
    "\"20171218-110449-3.jpg\",\n",
    "\"20171122-102230-1.jpg\",\n",
    "\"20171122-101153-1.jpg\",\n",
    "\"20171113-124439-1.jpg\",\n",
    "\"20171212-095750-3.jpg\",\n",
    "\"20171218-111648-3.jpg\",\n",
    "\"20171113-101344-3.jpg\",\n",
    "\"20171218-115150-2.jpg\",\n",
    "\"20171219-094406-3.jpg\",\n",
    "\"20171218-111435-2.jpg\",\n",
    "\"20171113-060629-1.jpg\",\n",
    "\"20171219-095342-2.jpg\",\n",
    "\"20171113-101128-0.jpg\",\n",
    "\"20171212-093940-3.jpg\",\n",
    "\"20171113-120304-1.jpg\",\n",
    "\"20171113-150526-1.jpg\",\n",
    "\"20171113-132813-1.jpg\",\n",
    "\"20171212-095234-3.jpg\",\n",
    "\"20171212-094300-3.jpg\",\n",
    "\"20171203-173258-3.jpg\",\n",
    "\"20171113-151854-1.jpg\",\n",
    "\"20171113-135311-1.jpg\",\n",
    "\"20171212-104822-3.jpg\",\n",
    "\"20171109-070859-1.jpg\",\n",
    "\"20171218-121824-3.jpg\",\n",
    "\"20171109-074650-1.jpg\",\n",
    "\"20171121-072941-1.jpg\",\n",
    "\"20171113-131413-0.jpg\",\n",
    "\"20171219-094754-2.jpg\",\n",
    "\"20171121-090807-3.jpg\",\n",
    "\"20171113-143335-3.jpg\",\n",
    "\"20171113-115453-1.jpg\",\n",
    "\"20171113-144802-3.jpg\",\n",
    "\"20171212-100832-1.jpg\",\n",
    "\"20171218-105516-3.jpg\",\n",
    "\"20171203-164835-3.jpg\",\n",
    "\"20171113-142116-2.jpg\",\n",
    "\"20171212-093855-1.jpg\",\n",
    "\"20171113-131014-2.jpg\",\n",
    "\"20171218-121906-2.jpg\",\n",
    "\"20171212-104153-3.jpg\",\n",
    "\"20171218-105835-3.jpg\",\n",
    "\"20171102-122608-3.jpg\",\n",
    "\"20171113-101111-1.jpg\",\n",
    "\"20171205-144549-2.jpg\",\n",
    "\"20171205-134006-2.jpg\",\n",
    "\"20171121-083431-1.jpg\",\n",
    "\"20171121-085809-1.jpg\",\n",
    "\"20171218-110346-3.jpg\",\n",
    "\"20171113-111125-0.jpg\",\n",
    "\"20171218-112909-3.jpg\",\n",
    "\"20171113-132125-1.jpg\",\n",
    "\"20171218-104344-3.jpg\",\n",
    "\"20171212-102047-3.jpg\",\n",
    "\"20171212-094144-1.jpg\",\n",
    "\"20171109-093256-2.jpg\",\n",
    "\"20171113-134326-3.jpg\",\n",
    "\"20171122-101114-1.jpg\",\n",
    "\"20171113-144457-1.jpg\",\n",
    "\"20171203-173141-3.jpg\",\n",
    "\"20171219-095133-2.jpg\",\n",
    "\"20171218-122001-2.jpg\",\n",
    "\"20171219-093241-3.jpg\",\n",
    "\"20171219-100147-3.jpg\",\n",
    "\"20171121-084444-1.jpg\",\n",
    "\"20171218-115327-3.jpg\",\n",
    "\"20171212-094427-3.jpg\",\n",
    "\"20171212-100342-1.jpg\",\n",
    "\"20171212-100546-1.jpg\",\n",
    "\"20171109-073214-3.jpg\",\n",
    "\"20171219-110425-3.jpg\",\n",
    "\"20171212-095739-1.jpg\",\n",
    "\"20171218-121706-3.jpg\",\n",
    "\"20171219-094937-2.jpg\",\n",
    "\"20171203-172701-3.jpg\",\n",
    "\"20171113-151334-3.jpg\",\n",
    "\"20171109-085448-2.jpg\",\n",
    "\"20171121-083417-1.jpg\",\n",
    "\"20171212-110000-3.jpg\",\n",
    "\"20171121-090837-3.jpg\",\n",
    "\"20171113-132408-1.jpg\",\n",
    "\"20171201-115746-1.jpg\",\n",
    "\"20171218-120819-3.jpg\",\n",
    "\"20171113-131857-3.jpg\",\n",
    "\"20171212-093856-3.jpg\",\n",
    "\"20171113-145705-3.jpg\",\n",
    "\"20171121-071925-1.jpg\",\n",
    "\"20171113-123402-3.jpg\",\n",
    "\"20171113-135453-3.jpg\",\n",
    "\"20171205-144059-2.jpg\",\n",
    "\"20171113-140014-1.jpg\",\n",
    "\"20171121-085507-1.jpg\",\n",
    "\"20171113-130610-2.jpg\",\n",
    "\"20171113-175713-0.jpg\",\n",
    "\"20171212-103457-3.jpg\",\n",
    "\"20171109-194239-1.jpg\",\n",
    "\"20171113-144706-1.jpg\",\n",
    "\"20171212-105756-3.jpg\",\n",
    "\"20171218-122133-3.jpg\",\n",
    "\"20171219-100901-3.jpg\",\n",
    "\"20171109-085426-2.jpg\",\n",
    "\"20171113-123524-3.jpg\",\n",
    "\"20171113-121025-1.jpg\",\n",
    "\"20171218-110855-3.jpg\",\n",
    "\"20171205-123621-2.jpg\",\n",
    "\"20171218-105222-2.jpg\",\n",
    "\"20171217-103638-2.jpg\",\n",
    "\"20171205-141044-2.jpg\",\n",
    "\"20171113-131234-1.jpg\",\n",
    "\"20171109-070837-3.jpg\",\n",
    "\"20171218-121136-3.jpg\",\n",
    "\"20171219-095558-2.jpg\",\n",
    "\"20171203-174330-3.jpg\",\n",
    "\"20171121-090029-1.jpg\",\n",
    "\"20171109-091235-3.jpg\",\n",
    "\"20171212-095618-3.jpg\",\n",
    "\"20171218-111742-3.jpg\",\n",
    "\"20171203-174215-3.jpg\",\n",
    "\"20171218-104645-3.jpg\",\n",
    "\"20171212-102645-3.jpg\",\n",
    "\"20171205-144118-2.jpg\",\n",
    "\"20171109-073645-1.jpg\",\n",
    "\"20171218-120814-2.jpg\",\n",
    "\"20171113-132058-1.jpg\",\n",
    "\"20171218-112710-3.jpg\",\n",
    "\"20171212-102001-3.jpg\",\n",
    "\"20171102-121735-2.jpg\",\n",
    "\"20171219-094637-3.jpg\",\n",
    "\"20171212-104533-3.jpg\",\n",
    "\"20171109-091913-2.jpg\",\n",
    "\"20171109-180010-2.jpg\",\n",
    "\"20171212-094300-1.jpg\",\n",
    "\"20171218-120734-2.jpg\",\n",
    "\"20171203-174106-3.jpg\",\n",
    "\"20171205-123841-2.jpg\",\n",
    "\"20171113-102033-3.jpg\",\n",
    "\"20171205-141242-2.jpg\",\n",
    "\"20171109-074757-3.jpg\",\n",
    "\"20171218-111125-3.jpg\",\n",
    "\"20171109-074145-1.jpg\",\n",
    "\"20171218-120003-3.jpg\",\n",
    "\"20171109-093025-1.jpg\",\n",
    "\"20171212-094411-3.jpg\",\n",
    "\"20171218-114829-3.jpg\",\n",
    "\"20171212-110050-3.jpg\",\n",
    "\"20171113-134030-3.jpg\",\n",
    "\"20171218-121510-3.jpg\",\n",
    "\"20171218-103643-2.jpg\",\n",
    "\"20171218-111825-2.jpg\",\n",
    "\"20171219-094128-3.jpg\",\n",
    "\"20171218-114913-3.jpg\",\n",
    "\"20171218-115041-2.jpg\",\n",
    "\"20171108-124156-3.jpg\",\n",
    "\"20171201-120024-1.jpg\",\n",
    "\"20171121-072757-1.jpg\",\n",
    "\"20171113-143224-3.jpg\",\n",
    "\"20171218-110743-3.jpg\",\n",
    "\"20171205-133603-2.jpg\",\n",
    "\"20171218-121532-2.jpg\",\n",
    "\"20171122-103312-1.jpg\",\n",
    "\"20171109-092855-1.jpg\",\n",
    "\"20171113-100359-3.jpg\",\n",
    "\"20171121-081427-2.jpg\",\n",
    "\"20171219-095453-2.jpg\",\n",
    "\"20171113-145207-1.jpg\",\n",
    "\"20171203-165809-3.jpg\",\n",
    "\"20171122-102213-1.jpg\",\n",
    "\"20171113-132039-3.jpg\",\n",
    "\"20171218-110916-2.jpg\",\n",
    "\"20171109-085430-3.jpg\",\n",
    "\"20171203-172528-3.jpg\",\n",
    "\"20171205-124008-2.jpg\",\n",
    "\"20171113-123150-1.jpg\",\n",
    "\"20171219-105255-2.jpg\",\n",
    "\"20171109-085408-2.jpg\",\n",
    "\"20171113-153600-0.jpg\",\n",
    "\"20171121-082338-1.jpg\",\n",
    "\"20171212-094910-3.jpg\",\n",
    "\"20171122-095514-1.jpg\",\n",
    "\"20171219-104736-2.jpg\",\n",
    "\"20171113-140733-2.jpg\",\n",
    "\"20171205-134359-2.jpg\",\n",
    "\"20171109-194843-1.jpg\",\n",
    "\"20171109-090323-1.jpg\",\n",
    "\"20171217-183524-2.jpg\",\n",
    "\"20171109-090623-3.jpg\",\n",
    "\"20171113-131008-1.jpg\",\n",
    "\"20171109-090609-3.jpg\",\n",
    "\"20171109-093731-3.jpg\",\n",
    "\"20171109-090359-1.jpg\",\n",
    "\"20171218-105943-3.jpg\",\n",
    "\"20171203-164319-3.jpg\",\n",
    "\"20171109-095002-2.jpg\",\n",
    "\"20171113-140631-2.jpg\",\n",
    "\"20171212-095319-1.jpg\",\n",
    "\"20171113-120921-1.jpg\",\n",
    "\"20171212-105717-3.jpg\",\n",
    "\"20171109-074906-3.jpg\",\n",
    "\"20171212-094227-1.jpg\",\n",
    "\"20171122-103247-1.jpg\",\n",
    "\"20171121-101101-1.jpg\",\n",
    "\"20171113-132043-0.jpg\",\n",
    "\"20171201-120654-1.jpg\",\n",
    "\"20171113-145418-1.jpg\",\n",
    "\"20171218-122016-3.jpg\",\n",
    "\"20171212-101904-3.jpg\",\n",
    "\"20171212-094211-1.jpg\",\n",
    "\"20171203-082203-3.jpg\",\n",
    "\"20171113-101034-1.jpg\",\n",
    "\"20171205-144743-2.jpg\",\n",
    "\"20171113-145022-1.jpg\",\n",
    "\"20171109-092149-1.jpg\",\n",
    "\"20171212-095107-1.jpg\",\n",
    "\"20171205-133631-2.jpg\",\n",
    "\"20171109-074721-1.jpg\",\n",
    "\"20171109-194714-1.jpg\",\n",
    "\"20171113-142008-2.jpg\",\n",
    "\"20171109-091242-2.jpg\",\n",
    "\"20171205-140852-2.jpg\",\n",
    "\"20171109-073756-1.jpg\",\n",
    "\"20171218-121712-2.jpg\",\n",
    "\"20171212-095853-3.jpg\",\n",
    "\"20171219-094511-2.jpg\",\n",
    "\"20171109-074128-1.jpg\",\n",
    "\"20171212-094500-3.jpg\",\n",
    "\"20171212-104850-3.jpg\",\n",
    "\"20171218-112910-3.jpg\",\n",
    "\"20171108-123917-3.jpg\",\n",
    "\"20171212-094554-3.jpg\",\n",
    "\"20171218-114714-2.jpg\",\n",
    "\"20171219-095528-3.jpg\",\n",
    "\"20171109-073310-1.jpg\",\n",
    "\"20171113-122412-1.jpg\",\n",
    "\"20171219-093321-2.jpg\",\n",
    "\"20171203-170858-3.jpg\",\n",
    "\"20171219-105511-3.jpg\",\n",
    "\"20171113-143259-0.jpg\",\n",
    "\"20171113-143650-0.jpg\",\n",
    "\"20171203-172202-3.jpg\",\n",
    "\"20171121-083544-1.jpg\",\n",
    "\"20171113-130826-2.jpg\",\n",
    "\"20171113-131037-1.jpg\",\n",
    "\"20171205-124347-2.jpg\",\n",
    "\"20171203-165142-3.jpg\",\n",
    "\"20171219-105034-2.jpg\",\n",
    "\"20171219-094807-3.jpg\",\n",
    "\"20171109-092005-1.jpg\",\n",
    "\"20171205-140835-2.jpg\",\n",
    "\"20171203-165159-3.jpg\",\n",
    "\"20171203-165758-3.jpg\",\n",
    "\"20171113-124442-3.jpg\",\n",
    "\"20171109-094157-2.jpg\",\n",
    "\"20171113-134926-1.jpg\",\n",
    "\"20171109-072053-1.jpg\",\n",
    "\"20171212-095017-1.jpg\",\n",
    "\"20171212-095249-1.jpg\",\n",
    "\"20171219-092644-3.jpg\",\n",
    "\"20171108-125451-3.jpg\",\n",
    "\"20171203-173246-3.jpg\",\n",
    "\"20171113-131658-0.jpg\",\n",
    "\"20171121-075522-1.jpg\",\n",
    "\"20171113-145131-1.jpg\",\n",
    "\"20171203-172748-3.jpg\",\n",
    "\"20171113-124224-1.jpg\",\n",
    "\"20171219-094230-2.jpg\",\n",
    "\"20171218-121803-3.jpg\",\n",
    "\"20171203-165503-3.jpg\",\n",
    "\"20171212-104801-3.jpg\",\n",
    "\"20171205-142928-2.jpg\",\n",
    "\"20171113-124836-0.jpg\",\n",
    "\"20171113-135346-3.jpg\",\n",
    "\"20171219-100101-3.jpg\",\n",
    "\"20171219-102713-3.jpg\",\n",
    "\"20171121-090746-1.jpg\",\n",
    "\"20171113-140138-1.jpg\",\n",
    "\"20171218-110139-3.jpg\",\n",
    "\"20171109-194700-1.jpg\",\n",
    "\"20171113-092650-1.jpg\",\n",
    "\"20171219-093430-2.jpg\",\n",
    "\"20171219-110043-2.jpg\",\n",
    "\"20171218-104905-3.jpg\",\n",
    "\"20171218-121746-3.jpg\",\n",
    "\"20171218-113429-3.jpg\",\n",
    "\"20171113-060840-1.jpg\",\n",
    "\"20171218-115100-2.jpg\",\n",
    "\"20171203-164604-3.jpg\",\n",
    "\"20171113-102057-1.jpg\",\n",
    "\"20171113-120206-1.jpg\",\n",
    "\"20171121-091203-3.jpg\",\n",
    "\"20171203-165545-3.jpg\",\n",
    "\"20171113-144745-1.jpg\",\n",
    "\"20171121-073257-1.jpg\",\n",
    "\"20171113-162140-0.jpg\",\n",
    "\"20171109-092020-2.jpg\",\n",
    "\"20171218-120341-2.jpg\",\n",
    "\"20171113-092514-3.jpg\",\n",
    "\"20171219-101412-3.jpg\",\n",
    "\"20171113-121536-1.jpg\",\n",
    "\"20171218-111445-3.jpg\",\n",
    "\"20171109-093745-1.jpg\",\n",
    "\"20171218-115256-2.jpg\",\n",
    "\"20171113-144747-0.jpg\",\n",
    "\"20171212-095920-1.jpg\",\n",
    "\"20171121-072630-1.jpg\",\n",
    "\"20171218-121856-3.jpg\",\n",
    "\"20171113-135158-3.jpg\",\n",
    "\"20171212-100234-3.jpg\",\n",
    "\"20171203-170534-3.jpg\",\n",
    "\"20171212-095057-1.jpg\",\n",
    "\"20171218-114742-2.jpg\",\n",
    "\"20171113-150713-1.jpg\",\n",
    "\"20171113-125026-0.jpg\",\n",
    "\"20171212-094841-3.jpg\",\n",
    "\"20171219-101900-3.jpg\",\n",
    "\"20171113-141059-2.jpg\",\n",
    "\"20171113-111328-0.jpg\",\n",
    "\"20171113-133808-1.jpg\",\n",
    "\"20171219-101528-2.jpg\",\n",
    "\"20171212-100008-1.jpg\",\n",
    "\"20171102-122709-2.jpg\",\n",
    "\"20171218-104637-2.jpg\",\n",
    "\"20171109-092833-1.jpg\",\n",
    "\"20171121-090649-3.jpg\",\n",
    "\"20171212-093714-3.jpg\",\n",
    "\"20171201-115856-1.jpg\",\n",
    "\"20171121-073829-1.jpg\",\n",
    "\"20171109-094052-3.jpg\",\n",
    "\"20171113-123943-3.jpg\",\n",
    "\"20171212-095324-3.jpg\",\n",
    "\"20171217-103317-2.jpg\",\n",
    "\"20171109-085523-2.jpg\",\n",
    "\"20171219-095321-2.jpg\",\n",
    "\"20171219-095223-2.jpg\",\n",
    "\"20171121-091441-1.jpg\",\n",
    "\"20171212-105943-3.jpg\",\n",
    "\"20171219-100443-2.jpg\",\n",
    "\"20171121-073846-1.jpg\",\n",
    "\"20171212-100517-1.jpg\",\n",
    "\"20171218-120204-2.jpg\",\n",
    "\"20171113-145156-3.jpg\",\n",
    "\"20171212-102803-3.jpg\",\n",
    "\"20171205-124539-2.jpg\",\n",
    "\"20171218-121432-2.jpg\",\n",
    "\"20171218-111555-2.jpg\",\n",
    "\"20171113-131134-1.jpg\",\n",
    "\"20171201-123831-3.jpg\",\n",
    "\"20171217-103510-2.jpg\",\n",
    "\"20171113-123809-3.jpg\",\n",
    "\"20171219-101129-2.jpg\",\n",
    "\"20171212-093440-3.jpg\",\n",
    "\"20171212-100418-3.jpg\",\n",
    "\"20171218-120252-2.jpg\",\n",
    "\"20171113-120638-3.jpg\",\n",
    "\"20171218-115107-3.jpg\",\n",
    "\"20171109-091647-1.jpg\",\n",
    "\"20171212-093349-3.jpg\",\n",
    "\"20171113-120426-1.jpg\",\n",
    "\"20171205-124423-2.jpg\",\n",
    "\"20171219-103220-3.jpg\",\n",
    "\"20171121-091226-3.jpg\",\n",
    "\"20171113-135245-1.jpg\",\n",
    "\"20171109-074508-3.jpg\",\n",
    "\"20171219-105508-2.jpg\",\n",
    "\"20171113-143501-2.jpg\",\n",
    "\"20171212-094227-3.jpg\",\n",
    "\"20171212-095425-3.jpg\",\n",
    "\"20171109-072002-1.jpg\",\n",
    "\"20171212-093616-1.jpg\",\n",
    "\"20171121-081945-2.jpg\",\n",
    "\"20171218-121303-2.jpg\",\n",
    "\"20171219-100049-2.jpg\",\n",
    "\"20171121-181157-2.jpg\",\n",
    "\"20171109-072743-1.jpg\",\n",
    "\"20171212-094409-1.jpg\",\n",
    "\"20171219-110233-3.jpg\",\n",
    "\"20171102-122027-1.jpg\",\n",
    "\"20171205-143514-2.jpg\",\n",
    "\"20171212-095130-1.jpg\",\n",
    "\"20171121-084450-2.jpg\",\n",
    "\"20171205-144706-2.jpg\",\n",
    "\"20171218-121655-2.jpg\",\n",
    "\"20171121-072316-1.jpg\",\n",
    "\"20171109-085202-3.jpg\",\n",
    "\"20171113-145737-3.jpg\",\n",
    "\"20171122-095851-1.jpg\",\n",
    "\"20171219-094345-2.jpg\",\n",
    "\"20171219-094930-3.jpg\",\n",
    "\"20171212-101809-3.jpg\",\n",
    "\"20171113-123534-3.jpg\",\n",
    "\"20171219-101449-2.jpg\",\n",
    "\"20171218-114855-3.jpg\",\n",
    "\"20171212-094444-3.jpg\",\n",
    "\"20171219-102519-2.jpg\",\n",
    "\"20171113-175334-0.jpg\",\n",
    "\"20171219-095055-2.jpg\",\n",
    "\"20171205-144857-2.jpg\",\n",
    "\"20171218-112512-3.jpg\",\n",
    "\"20171219-095514-2.jpg\",\n",
    "\"20171212-095622-1.jpg\",\n",
    "\"20171113-101952-3.jpg\",\n",
    "\"20171212-103826-3.jpg\",\n",
    "\"20171212-095153-1.jpg\",\n",
    "\"20171102-123413-1.jpg\",\n",
    "\"20171121-073533-1.jpg\",\n",
    "\"20171109-070659-3.jpg\",\n",
    "\"20171203-170325-3.jpg\",\n",
    "\"20171113-112228-0.jpg\",\n",
    "\"20171219-092846-3.jpg\",\n",
    "\"20171205-144929-2.jpg\",\n",
    "\"20171219-094017-3.jpg\",\n",
    "\"20171113-144920-3.jpg\",\n",
    "\"20171212-100753-3.jpg\",\n",
    "\"20171109-091717-1.jpg\",\n",
    "\"20171212-093523-1.jpg\",\n",
    "\"20171113-115634-1.jpg\",\n",
    "\"20171109-091826-1.jpg\",\n",
    "\"20171212-103216-3.jpg\",\n",
    "\"20171218-105319-3.jpg\",\n",
    "\"20171205-142836-2.jpg\",\n",
    "\"20171113-100841-1.jpg\",\n",
    "\"20171212-093052-3.jpg\",\n",
    "\"20171218-110416-2.jpg\",\n",
    "\"20171218-121202-2.jpg\",\n",
    "\"20171219-100025-2.jpg\",\n",
    "\"20171121-073705-1.jpg\",\n",
    "\"20171121-082006-2.jpg\",\n",
    "\"20171203-170055-3.jpg\",\n",
    "\"20171109-092856-2.jpg\",\n",
    "\"20171205-124625-2.jpg\",\n",
    "\"20171113-133628-1.jpg\",\n",
    "\"20171218-112007-3.jpg\",\n",
    "\"20171102-122719-2.jpg\",\n",
    "\"20171113-134726-3.jpg\",\n",
    "\"20171212-100154-3.jpg\",\n",
    "\"20171203-165302-3.jpg\",\n",
    "\"20171121-082112-1.jpg\",\n",
    "\"20171113-095154-1.jpg\",\n",
    "\"20171113-095713-1.jpg\",\n",
    "\"20171108-130728-3.jpg\",\n",
    "\"20171109-093200-3.jpg\",\n",
    "\"20171113-121512-2.jpg\",\n",
    "\"20171212-102805-3.jpg\",\n",
    "\"20171205-124050-2.jpg\",\n",
    "\"20171113-123504-1.jpg\",\n",
    "\"20171219-093659-2.jpg\",\n",
    "\"20171109-072431-3.jpg\",\n",
    "\"20171121-071754-1.jpg\",\n",
    "\"20171109-091730-2.jpg\",\n",
    "\"20171113-092801-1.jpg\",\n",
    "\"20171122-101811-1.jpg\",\n",
    "\"20171205-142911-2.jpg\",\n",
    "\"20171201-115646-1.jpg\",\n",
    "\"20171212-094001-3.jpg\",\n",
    "\"20171113-102054-3.jpg\",\n",
    "\"20171121-101113-1.jpg\",\n",
    "\"20171113-145329-3.jpg\",\n",
    "\"20171212-095827-3.jpg\",\n",
    "\"20171217-103346-2.jpg\",\n",
    "\"20171218-104803-2.jpg\",\n",
    "\"20171218-102859-2.jpg\",\n",
    "\"20171113-135334-3.jpg\",\n",
    "\"20171121-083608-2.jpg\",\n",
    "\"20171113-101657-3.jpg\",\n",
    "\"20171212-104505-3.jpg\",\n",
    "\"20171212-094824-1.jpg\",\n",
    "\"20171109-072202-1.jpg\",\n",
    "\"20171102-122536-1.jpg\",\n",
    "\"20171219-101509-2.jpg\",\n",
    "\"20171113-144803-1.jpg\",\n",
    "\"20171218-112537-3.jpg\",\n",
    "\"20171203-170354-3.jpg\",\n",
    "\"20171113-133026-3.jpg\",\n",
    "\"20171219-104723-2.jpg\",\n",
    "\"20171219-093535-2.jpg\",\n",
    "\"20171218-104117-2.jpg\",\n",
    "\"20171212-103416-3.jpg\",\n",
    "\"20171113-091531-3.jpg\",\n",
    "\"20171219-092731-3.jpg\",\n",
    "\"20171212-100412-1.jpg\",\n",
    "\"20171113-150257-3.jpg\",\n",
    "\"20171122-100749-1.jpg\",\n",
    "\"20171109-091300-1.jpg\",\n",
    "\"20171218-111334-2.jpg\",\n",
    "\"20171218-110251-3.jpg\",\n",
    "\"20171113-141411-2.jpg\",\n",
    "\"20171212-095841-3.jpg\",\n",
    "\"20171218-120226-2.jpg\",\n",
    "\"20171219-104916-2.jpg\",\n",
    "\"20171113-130902-2.jpg\",\n",
    "\"20171212-100342-3.jpg\",\n",
    "\"20171205-124039-2.jpg\",\n",
    "\"20171219-093801-3.jpg\",\n",
    "\"20171113-132154-3.jpg\",\n",
    "\"20171109-073455-1.jpg\",\n",
    "\"20171219-094325-3.jpg\",\n",
    "\"20171113-092056-3.jpg\",\n",
    "\"20171203-164736-3.jpg\",\n",
    "\"20171219-092809-2.jpg\",\n",
    "\"20171201-120803-1.jpg\",\n",
    "\"20171205-124658-2.jpg\",\n",
    "\"20171218-104341-2.jpg\",\n",
    "\"20171113-103448-0.jpg\",\n",
    "\"20171121-071855-1.jpg\",\n",
    "\"20171219-100828-2.jpg\",\n",
    "\"20171113-101706-1.jpg\",\n",
    "\"20171219-101508-2.jpg\",\n",
    "\"20171219-095615-3.jpg\",\n",
    "\"20171109-072154-3.jpg\",\n",
    "\"20171212-093547-3.jpg\",\n",
    "\"20171109-072536-1.jpg\",\n",
    "\"20171109-085336-3.jpg\",\n",
    "\"20171109-072658-3.jpg\",\n",
    "\"20171109-071248-3.jpg\",\n",
    "\"20171113-105433-0.jpg\",\n",
    "\"20171219-095437-3.jpg\",\n",
    "\"20171113-134906-1.jpg\",\n",
    "\"20171203-165247-3.jpg\",\n",
    "\"20171109-071224-3.jpg\",\n",
    "\"20171212-095503-1.jpg\",\n",
    "\"20171219-104556-3.jpg\",\n",
    "\"20171121-082850-2.jpg\",\n",
    "\"20171109-193720-1.jpg\",\n",
    "\"20171121-083337-1.jpg\",\n",
    "\"20171218-110942-3.jpg\",\n",
    "\"20171205-143028-2.jpg\",\n",
    "\"20171113-092826-3.jpg\",\n",
    "\"20171203-172058-3.jpg\",\n",
    "\"20171113-133536-1.jpg\",\n",
    "\"20171218-121857-3.jpg\",\n",
    "\"20171218-120223-3.jpg\",\n",
    "\"20171203-164902-3.jpg\",\n",
    "\"20171212-104741-3.jpg\",\n",
    "\"20171113-134408-1.jpg\",\n",
    "\"20171109-075027-3.jpg\",\n",
    "\"20171113-151323-3.jpg\",\n",
    "\"20171122-100508-1.jpg\",\n",
    "\"20171218-115247-2.jpg\",\n",
    "\"20171218-103241-3.jpg\",\n",
    "\"20171113-092852-3.jpg\",\n",
    "\"20171113-144143-2.jpg\",\n",
    "\"20171109-073102-3.jpg\",\n",
    "\"20171113-093033-1.jpg\",\n",
    "\"20171121-071156-1.jpg\",\n",
    "\"20171203-164754-3.jpg\",\n",
    "\"20171203-170939-3.jpg\",\n",
    "\"20171109-075129-3.jpg\",\n",
    "\"20171217-183522-2.jpg\",\n",
    "\"20171113-132859-3.jpg\",\n",
    "\"20171122-101044-1.jpg\",\n",
    "\"20171113-143334-0.jpg\",\n",
    "\"20171113-143204-3.jpg\",\n",
    "\"20171219-104702-2.jpg\",\n",
    "\"20171113-141224-2.jpg\",\n",
    "\"20171218-104211-2.jpg\",\n",
    "\"20171113-142438-2.jpg\",\n",
    "\"20171113-123346-1.jpg\",\n",
    "\"20171219-102454-2.jpg\",\n",
    "\"20171113-092027-3.jpg\",\n",
    "\"20171212-105548-3.jpg\",\n",
    "\"20171212-100236-3.jpg\",\n",
    "\"20171212-102147-3.jpg\",\n",
    "\"20171121-075015-1.jpg\",\n",
    "\"20171205-123952-2.jpg\",\n",
    "\"20171102-122707-1.jpg\",\n",
    "\"20171109-085309-3.jpg\",\n",
    "\"20171203-172452-3.jpg\",\n",
    "\"20171109-071146-1.jpg\",\n",
    "\"20171121-091058-1.jpg\",\n",
    "\"20171113-155342-0.jpg\",\n",
    "\"20171113-091334-3.jpg\",\n",
    "\"20171205-124252-2.jpg\",\n",
    "\"20171122-101513-1.jpg\",\n",
    "\"20171109-091615-1.jpg\",\n",
    "\"20171113-113859-0.jpg\",\n",
    "\"20171109-093528-3.jpg\",\n",
    "\"20171113-101642-3.jpg\",\n",
    "\"20171113-141240-2.jpg\",\n",
    "\"20171113-151653-1.jpg\",\n",
    "\"20171121-073340-1.jpg\",\n",
    "\"20171212-102523-3.jpg\",\n",
    "\"20171102-122732-2.jpg\",\n",
    "\"20171109-085248-2.jpg\",\n",
    "\"20171121-071143-1.jpg\",\n",
    "\"20171203-165519-3.jpg\",\n",
    "\"20171113-134556-3.jpg\",\n",
    "\"20171203-174853-3.jpg\",\n",
    "\"20171113-092435-1.jpg\",\n",
    "\"20171113-131821-3.jpg\",\n",
    "\"20171203-173829-3.jpg\",\n",
    "\"20171205-133817-2.jpg\",\n",
    "\"20171113-141326-2.jpg\",\n",
    "\"20171109-070321-1.jpg\",\n",
    "\"20171109-074249-3.jpg\",\n",
    "\"20171109-094338-3.jpg\",\n",
    "\"20171203-174225-3.jpg\",\n",
    "\"20171219-105713-3.jpg\",\n",
    "\"20171219-095119-3.jpg\",\n",
    "\"20171203-174248-3.jpg\",\n",
    "\"20171121-082732-2.jpg\",\n",
    "\"20171219-105401-2.jpg\",\n",
    "\"20171212-100604-1.jpg\",\n",
    "\"20171212-102102-3.jpg\",\n",
    "\"20171109-091037-2.jpg\",\n",
    "\"20171109-084834-3.jpg\",\n",
    "\"20171219-094042-2.jpg\",\n",
    "\"20171109-072611-1.jpg\",\n",
    "\"20171217-184116-2.jpg\",\n",
    "\"20171218-103606-2.jpg\",\n",
    "\"20171212-100257-1.jpg\",\n",
    "\"20171219-092952-3.jpg\",\n",
    "\"20171113-133859-3.jpg\",\n",
    "\"20171122-095852-1.jpg\",\n",
    "\"20171219-093043-3.jpg\",\n",
    "\"20171121-083628-1.jpg\",\n",
    "\"20171212-095651-3.jpg\",\n",
    "\"20171109-091506-3.jpg\",\n",
    "\"20171113-131730-1.jpg\",\n",
    "\"20171109-092406-1.jpg\",\n",
    "\"20171212-095344-3.jpg\",\n",
    "\"20171109-095556-2.jpg\",\n",
    "\"20171113-141700-2.jpg\",\n",
    "\"20171218-121357-3.jpg\",\n",
    "\"20171102-122803-3.jpg\",\n",
    "\"20171212-094623-3.jpg\",\n",
    "\"20171218-105544-3.jpg\",\n",
    "\"20171121-073650-1.jpg\",\n",
    "\"20171113-124245-1.jpg\",\n",
    "\"20171122-100204-1.jpg\",\n",
    "\"20171219-093001-2.jpg\",\n",
    "\"20171109-091257-3.jpg\",\n",
    "\"20171113-120222-1.jpg\",\n",
    "\"20171102-122723-1.jpg\",\n",
    "\"20171212-093022-3.jpg\",\n",
    "\"20171219-095730-2.jpg\",\n",
    "\"20171218-111506-2.jpg\",\n",
    "\"20171218-105147-2.jpg\",\n",
    "\"20171219-101912-3.jpg\",\n",
    "\"20171109-085837-2.jpg\",\n",
    "\"20171113-132837-1.jpg\",\n",
    "\"20171218-114841-2.jpg\",\n",
    "\"20171102-121720-2.jpg\",\n",
    "\"20171113-145759-3.jpg\",\n",
    "\"20171113-094949-1.jpg\",\n",
    "\"20171212-100159-1.jpg\",\n",
    "\"20171113-142940-3.jpg\",\n",
    "\"20171113-121149-3.jpg\",\n",
    "\"20171203-170230-3.jpg\",\n",
    "\"20171219-092837-2.jpg\",\n",
    "\"20171109-090439-2.jpg\",\n",
    "\"20171109-091920-3.jpg\",\n",
    "\"20171217-184352-2.jpg\",\n",
    "\"20171203-170450-3.jpg\",\n",
    "\"20171219-100026-2.jpg\",\n",
    "\"20171121-091025-3.jpg\",\n",
    "\"20171113-144443-3.jpg\",\n",
    "\"20171121-082150-2.jpg\",\n",
    "\"20171113-135112-3.jpg\",\n",
    "\"20171219-105620-3.jpg\",\n",
    "\"20171219-094611-3.jpg\",\n",
    "\"20171122-103505-1.jpg\",\n",
    "\"20171217-183434-2.jpg\",\n",
    "\"20171203-173221-3.jpg\",\n",
    "\"20171212-100627-1.jpg\",\n",
    "\"20171109-090345-1.jpg\",\n",
    "\"20171218-122237-3.jpg\",\n",
    "\"20171109-092910-2.jpg\",\n",
    "\"20171218-111201-2.jpg\",\n",
    "\"20171109-093852-3.jpg\",\n",
    "\"20171113-095617-1.jpg\",\n",
    "\"20171218-122216-3.jpg\",\n",
    "\"20171113-151829-1.jpg\",\n",
    "\"20171218-110228-3.jpg\",\n",
    "\"20171113-144441-2.jpg\",\n",
    "\"20171122-101627-1.jpg\",\n",
    "\"20171219-100842-2.jpg\",\n",
    "\"20171109-071315-1.jpg\",\n",
    "\"20171218-112240-3.jpg\",\n",
    "\"20171212-101707-3.jpg\",\n",
    "\"20171109-072340-3.jpg\",\n",
    "\"20171113-121432-2.jpg\",\n",
    "\"20171102-122249-3.jpg\",\n",
    "\"20171212-094611-1.jpg\",\n",
    "\"20171218-104002-3.jpg\",\n",
    "\"20171205-145117-2.jpg\",\n",
    "\"20171218-103954-2.jpg\",\n",
    "\"20171217-100745-2.jpg\",\n",
    "\"20171113-092712-3.jpg\",\n",
    "\"20171109-093630-1.jpg\",\n",
    "\"20171219-110403-2.jpg\",\n",
    "\"20171218-115135-3.jpg\",\n",
    "\"20171121-084723-1.jpg\",\n",
    "\"20171218-122218-3.jpg\",\n",
    "\"20171218-105311-2.jpg\",\n",
    "\"20171205-143013-2.jpg\",\n",
    "\"20171113-113911-0.jpg\",\n",
    "\"20171122-101340-1.jpg\",\n",
    "\"20171102-121717-1.jpg\",\n",
    "\"20171113-134108-3.jpg\",\n",
    "\"20171113-123052-0.jpg\",\n",
    "\"20171218-122019-3.jpg\",\n",
    "\"20171203-171022-3.jpg\",\n",
    "\"20171203-170822-3.jpg\",\n",
    "\"20171113-145332-1.jpg\",\n",
    "\"20171109-085908-2.jpg\",\n",
    "\"20171218-115627-3.jpg\",\n",
    "\"20171121-091325-3.jpg\",\n",
    "\"20171212-094139-3.jpg\",\n",
    "\"20171203-170434-3.jpg\",\n",
    "\"20171212-102928-3.jpg\",\n",
    "\"20171113-094218-3.jpg\",\n",
    "\"20171122-103752-1.jpg\",\n",
    "\"20171108-125406-3.jpg\",\n",
    "\"20171109-090520-3.jpg\",\n",
    "\"20171219-101256-2.jpg\",\n",
    "\"20171109-095540-3.jpg\",\n",
    "\"20171121-181023-2.jpg\",\n",
    "\"20171113-135658-1.jpg\",\n",
    "\"20171212-093840-1.jpg\",\n",
    "\"20171212-100816-1.jpg\",\n",
    "\"20171113-140251-1.jpg\",\n",
    "\"20171102-121852-1.jpg\",\n",
    "\"20171113-144212-3.jpg\",\n",
    "\"20171212-100306-1.jpg\",\n",
    "\"20171121-084910-1.jpg\",\n",
    "\"20171205-123507-2.jpg\",\n",
    "\"20171212-095400-3.jpg\",\n",
    "\"20171218-121443-2.jpg\",\n",
    "\"20171109-091219-3.jpg\",\n",
    "\"20171218-105531-3.jpg\",\n",
    "\"20171203-172907-3.jpg\",\n",
    "\"20171109-090748-2.jpg\",\n",
    "\"20171109-092315-3.jpg\",\n",
    "\"20171113-134639-1.jpg\",\n",
    "\"20171113-141647-2.jpg\",\n",
    "\"20171109-095710-3.jpg\",\n",
    "\"20171219-092659-3.jpg\",\n",
    "\"20171218-110320-2.jpg\",\n",
    "\"20171109-194423-1.jpg\",\n",
    "\"20171113-134831-3.jpg\",\n",
    "\"20171218-115742-3.jpg\",\n",
    "\"20171218-102911-2.jpg\",\n",
    "\"20171218-115740-3.jpg\",\n",
    "\"20171113-144114-0.jpg\",\n",
    "\"20171217-103545-2.jpg\",\n",
    "\"20171212-093654-1.jpg\",\n",
    "\"20171113-144405-1.jpg\",\n",
    "\"20171205-124137-2.jpg\",\n",
    "\"20171113-150402-1.jpg\",\n",
    "\"20171121-072610-1.jpg\",\n",
    "\"20171113-093538-3.jpg\",\n",
    "\"20171203-165115-3.jpg\",\n",
    "\"20171113-101506-1.jpg\",\n",
    "\"20171121-082033-2.jpg\",\n",
    "\"20171113-120024-1.jpg\",\n",
    "\"20171109-092615-1.jpg\",\n",
    "\"20171205-123819-2.jpg\",\n",
    "\"20171113-121324-3.jpg\",\n",
    "\"20171212-100128-1.jpg\",\n",
    "\"20171113-154731-0.jpg\",\n",
    "\"20171219-100221-2.jpg\",\n",
    "\"20171218-110701-2.jpg\",\n",
    "\"20171113-095350-1.jpg\",\n",
    "\"20171212-104214-3.jpg\",\n",
    "\"20171102-123238-1.jpg\",\n",
    "\"20171109-195038-1.jpg\",\n",
    "\"20171122-100606-1.jpg\",\n",
    "\"20171217-183832-2.jpg\",\n",
    "\"20171113-123752-1.jpg\",\n",
    "\"20171102-123242-2.jpg\",\n",
    "\"20171219-095353-2.jpg\",\n",
    "\"20171219-105739-3.jpg\",\n",
    "\"20171218-121630-3.jpg\",\n",
    "\"20171203-164956-3.jpg\",\n",
    "\"20171109-092035-1.jpg\",\n",
    "\"20171212-105238-3.jpg\",\n",
    "\"20171219-093032-2.jpg\",\n",
    "\"20171109-094316-3.jpg\",\n",
    "\"20171113-123343-3.jpg\",\n",
    "\"20171217-100824-2.jpg\",\n",
    "\"20171219-095150-2.jpg\",\n",
    "\"20171113-150545-1.jpg\",\n",
    "\"20171212-100614-3.jpg\",\n",
    "\"20171219-100301-3.jpg\",\n",
    "\"20171113-095737-1.jpg\",\n",
    "\"20171121-073600-1.jpg\",\n",
    "\"20171205-145004-2.jpg\",\n",
    "\"20171109-070638-1.jpg\",\n",
    "\"20171212-102312-3.jpg\",\n",
    "\"20171219-102215-3.jpg\",\n",
    "\"20171109-072219-1.jpg\",\n",
    "\"20171121-071942-1.jpg\",\n",
    "\"20171121-081516-2.jpg\",\n",
    "\"20171102-123300-3.jpg\",\n",
    "\"20171203-172217-3.jpg\",\n",
    "\"20171109-194934-1.jpg\",\n",
    "\"20171217-183625-2.jpg\",\n",
    "\"20171113-101236-3.jpg\",\n",
    "\"20171109-095615-2.jpg\",\n",
    "\"20171121-084059-1.jpg\",\n",
    "\"20171219-100149-2.jpg\",\n",
    "\"20171109-093614-2.jpg\",\n",
    "\"20171218-114755-2.jpg\",\n",
    "\"20171219-095742-2.jpg\",\n",
    "\"20171219-103207-3.jpg\",\n",
    "\"20171212-093333-3.jpg\",\n",
    "\"20171219-105909-3.jpg\",\n",
    "\"20171121-082047-1.jpg\",\n",
    "\"20171109-090420-1.jpg\",\n",
    "\"20171121-085538-1.jpg\",\n",
    "\"20171113-131751-3.jpg\",\n",
    "\"20171218-114652-3.jpg\",\n",
    "\"20171113-143328-2.jpg\",\n",
    "\"20171113-124246-3.jpg\",\n",
    "\"20171113-143135-2.jpg\",\n",
    "\"20171109-194044-1.jpg\",\n",
    "\"20171109-085929-2.jpg\",\n",
    "\"20171113-101919-1.jpg\",\n",
    "\"20171218-121226-2.jpg\",\n",
    "\"20171217-184054-2.jpg\",\n",
    "\"20171205-124157-2.jpg\",\n",
    "\"20171108-124937-3.jpg\",\n",
    "\"20171201-115911-1.jpg\",\n",
    "\"20171121-084334-1.jpg\",\n",
    "\"20171203-174204-3.jpg\",\n",
    "\"20171113-115508-1.jpg\",\n",
    "\"20171219-104323-3.jpg\",\n",
    "\"20171121-072105-1.jpg\",\n",
    "\"20171218-120636-2.jpg\",\n",
    "\"20171205-141224-2.jpg\",\n",
    "\"20171205-144647-2.jpg\",\n",
    "\"20171109-085122-3.jpg\",\n",
    "\"20171121-091151-3.jpg\",\n",
    "\"20171113-151931-1.jpg\",\n",
    "\"20171121-090912-1.jpg\",\n",
    "\"20171109-092455-2.jpg\",\n",
    "\"20171205-123712-2.jpg\",\n",
    "\"20171212-100754-1.jpg\",\n",
    "\"20171203-164415-3.jpg\",\n",
    "\"20171109-092707-2.jpg\",\n",
    "\"20171217-184108-2.jpg\",\n",
    "\"20171109-071508-3.jpg\",\n",
    "\"20171219-095936-2.jpg\",\n",
    "\"20171219-110229-2.jpg\",\n",
    "\"20171217-183851-2.jpg\",\n",
    "\"20171218-105224-3.jpg\",\n",
    "\"20171121-090418-3.jpg\",\n",
    "\"20171109-090628-2.jpg\",\n",
    "\"20171113-120832-1.jpg\",\n",
    "\"20171212-095907-3.jpg\",\n",
    "\"20171113-151310-1.jpg\",\n",
    "\"20171218-120446-2.jpg\",\n",
    "\"20171212-100302-3.jpg\",\n",
    "\"20171109-092733-1.jpg\",\n",
    "\"20171113-133727-3.jpg\",\n",
    "\"20171113-152630-0.jpg\",\n",
    "\"20171218-105335-3.jpg\",\n",
    "\"20171113-133603-1.jpg\",\n",
    "\"20171203-174410-3.jpg\",\n",
    "\"20171113-144859-3.jpg\",\n",
    "\"20171113-095216-3.jpg\",\n",
    "\"20171109-071422-3.jpg\",\n",
    "\"20171113-144604-3.jpg\",\n",
    "\"20171113-135507-3.jpg\",\n",
    "\"20171219-093737-2.jpg\",\n",
    "\"20171218-120048-3.jpg\",\n",
    "\"20171218-105456-3.jpg\",\n",
    "\"20171212-094724-1.jpg\",\n",
    "\"20171219-102311-2.jpg\",\n",
    "\"20171113-142912-3.jpg\",\n",
    "\"20171218-112942-3.jpg\",\n",
    "\"20171218-104431-2.jpg\",\n",
    "\"20171109-090301-3.jpg\",\n",
    "\"20171109-092818-1.jpg\",\n",
    "\"20171109-071352-1.jpg\",\n",
    "\"20171113-132050-3.jpg\",\n",
    "\"20171218-121707-3.jpg\",\n",
    "\"20171109-085346-2.jpg\",\n",
    "\"20171113-145843-1.jpg\",\n",
    "\"20171218-121056-3.jpg\",\n",
    "\"20171212-095308-1.jpg\",\n",
    "\"20171205-124640-2.jpg\",\n",
    "\"20171212-104248-3.jpg\",\n",
    "\"20171113-100431-3.jpg\",\n",
    "\"20171218-112328-3.jpg\",\n",
    "\"20171218-105318-3.jpg\",\n",
    "\"20171212-103115-3.jpg\",\n",
    "\"20171121-090514-3.jpg\",\n",
    "\"20171109-084412-3.jpg\",\n",
    "\"20171109-194404-1.jpg\",\n",
    "\"20171121-073353-1.jpg\",\n",
    "\"20171109-090406-2.jpg\",\n",
    "\"20171219-093103-3.jpg\",\n",
    "\"20171218-113319-3.jpg\",\n",
    "\"20171218-111631-2.jpg\",\n",
    "\"20171212-103529-3.jpg\",\n",
    "\"20171218-110452-2.jpg\",\n",
    "\"20171212-093603-1.jpg\",\n",
    "\"20171109-094134-3.jpg\",\n",
    "\"20171102-121933-3.jpg\",\n",
    "\"20171205-124928-2.jpg\",\n",
    "\"20171218-115020-2.jpg\",\n",
    "\"20171212-094510-1.jpg\",\n",
    "\"20171219-093306-3.jpg\",\n",
    "\"20171121-082214-2.jpg\",\n",
    "\"20171109-092817-2.jpg\",\n",
    "\"20171203-170504-3.jpg\",\n",
    "\"20171109-092048-1.jpg\",\n",
    "\"20171219-101115-3.jpg\",\n",
    "\"20171113-102321-1.jpg\",\n",
    "\"20171113-141720-2.jpg\",\n",
    "\"20171203-164647-3.jpg\",\n",
    "\"20171113-123737-1.jpg\",\n",
    "\"20171109-090125-3.jpg\",\n",
    "\"20171121-075143-1.jpg\",\n",
    "\"20171109-085554-2.jpg\",\n",
    "\"20171203-173117-3.jpg\",\n",
    "\"20171109-070917-1.jpg\",\n",
    "\"20171203-174908-3.jpg\",\n",
    "\"20171113-131918-2.jpg\",\n",
    "\"20171212-094107-3.jpg\",\n",
    "\"20171122-103613-1.jpg\",\n",
    "\"20171102-122305-3.jpg\",\n",
    "\"20171212-095801-3.jpg\",\n",
    "\"20171109-075049-3.jpg\",\n",
    "\"20171217-185029-2.jpg\",\n",
    "\"20171113-131307-1.jpg\",\n",
    "\"20171113-151053-0.jpg\",\n",
    "\"20171203-165438-3.jpg\",\n",
    "\"20171219-093944-3.jpg\",\n",
    "\"20171217-183502-2.jpg\",\n",
    "\"20171203-170339-3.jpg\",\n",
    "\"20171218-104247-3.jpg\",\n",
    "\"20171121-084955-1.jpg\",\n",
    "\"20171203-165450-3.jpg\",\n",
    "\"20171102-122320-3.jpg\",\n",
    "\"20171113-132010-1.jpg\",\n",
    "\"20171212-102955-3.jpg\",\n",
    "\"20171218-111452-2.jpg\",\n",
    "\"20171218-122235-2.jpg\",\n",
    "\"20171219-093120-3.jpg\",\n",
    "\"20171113-141752-2.jpg\",\n",
    "\"20171113-061016-1.jpg\",\n",
    "\"20171121-090531-3.jpg\",\n",
    "\"20171205-143012-2.jpg\",\n",
    "\"20171212-095946-1.jpg\",\n",
    "\"20171121-083556-1.jpg\",\n",
    "\"20171113-115254-1.jpg\",\n",
    "\"20171219-095037-2.jpg\",\n",
    "\"20171203-082801-3.jpg\",\n",
    "\"20171217-103537-2.jpg\",\n",
    "\"20171212-095632-1.jpg\",\n",
    "\"20171113-142536-2.jpg\",\n",
    "\"20171203-174521-3.jpg\",\n",
    "\"20171113-150301-1.jpg\",\n",
    "\"20171212-105011-3.jpg\",\n",
    "\"20171121-085911-1.jpg\",\n",
    "\"20171102-123144-3.jpg\",\n",
    "\"20171219-100626-3.jpg\",\n",
    "\"20171113-130751-2.jpg\",\n",
    "\"20171218-105746-3.jpg\",\n",
    "\"20171108-125923-3.jpg\",\n",
    "\"20171113-133809-3.jpg\",\n",
    "\"20171121-075511-1.jpg\",\n",
    "\"20171217-183611-2.jpg\",\n",
    "\"20171205-123855-2.jpg\",\n",
    "\"20171219-110445-2.jpg\",\n",
    "\"20171113-133646-3.jpg\",\n",
    "\"20171218-121318-2.jpg\",\n",
    "\"20171218-105401-3.jpg\",\n",
    "\"20171113-144620-1.jpg\",\n",
    "\"20171113-101521-1.jpg\",\n",
    "\"20171113-105124-0.jpg\",\n",
    "\"20171219-100023-3.jpg\",\n",
    "\"20171219-095051-3.jpg\",\n",
    "\"20171218-111216-2.jpg\",\n",
    "\"20171113-115337-3.jpg\",\n",
    "\"20171122-101719-1.jpg\",\n",
    "\"20171109-071508-1.jpg\",\n",
    "\"20171109-072638-1.jpg\",\n",
    "\"20171218-111744-3.jpg\",\n",
    "\"20171102-123451-3.jpg\",\n",
    "\"20171109-073626-1.jpg\",\n",
    "\"20171113-094013-3.jpg\",\n",
    "\"20171113-135432-0.jpg\",\n",
    "\"20171113-121021-2.jpg\",\n",
    "\"20171219-095843-2.jpg\",\n",
    "\"20171113-131609-1.jpg\",\n",
    "\"20171218-104447-3.jpg\",\n",
    "\"20171121-072742-1.jpg\",\n",
    "\"20171109-092225-1.jpg\",\n",
    "\"20171218-104722-3.jpg\",\n",
    "\"20171205-123640-2.jpg\",\n",
    "\"20171219-095036-2.jpg\",\n",
    "\"20171219-104501-2.jpg\",\n",
    "\"20171218-104106-3.jpg\",\n",
    "\"20171122-104222-1.jpg\",\n",
    "\"20171121-083939-1.jpg\",\n",
    "\"20171113-123106-1.jpg\",\n",
    "\"20171109-073713-1.jpg\",\n",
    "\"20171203-165928-3.jpg\",\n",
    "\"20171109-072244-1.jpg\",\n",
    "\"20171113-143440-3.jpg\",\n",
    "\"20171203-173738-3.jpg\",\n",
    "\"20171218-113300-3.jpg\",\n",
    "\"20171203-165835-3.jpg\",\n",
    "\"20171219-092706-2.jpg\",\n",
    "\"20171109-090741-3.jpg\",\n",
    "\"20171212-100740-3.jpg\",\n",
    "\"20171113-123718-3.jpg\",\n",
    "\"20171203-170616-3.jpg\",\n",
    "\"20171201-120249-1.jpg\",\n",
    "\"20171218-115246-3.jpg\",\n",
    "\"20171212-100328-1.jpg\",\n",
    "\"20171212-100211-1.jpg\",\n",
    "\"20171219-101358-2.jpg\",\n",
    "\"20171205-134436-2.jpg\",\n",
    "\"20171109-085612-2.jpg\",\n",
    "\"20171121-091223-1.jpg\",\n",
    "\"20171122-103118-1.jpg\",\n",
    "\"20171121-101215-1.jpg\",\n",
    "\"20171113-123510-3.jpg\",\n",
    "\"20171113-092943-1.jpg\",\n",
    "\"20171113-141831-2.jpg\",\n",
    "\"20171102-122854-1.jpg\",\n",
    "\"20171113-120014-3.jpg\",\n",
    "\"20171218-121056-2.jpg\",\n",
    "\"20171113-101414-1.jpg\",\n",
    "\"20171218-111326-3.jpg\",\n",
    "\"20171212-095826-3.jpg\",\n",
    "\"20171113-131510-2.jpg\",\n",
    "\"20171113-120003-1.jpg\",\n",
    "\"20171219-094200-3.jpg\",\n",
    "\"20171113-122213-0.jpg\",\n",
    "\"20171217-183811-2.jpg\",\n",
    "\"20171218-111223-3.jpg\",\n",
    "\"20171219-094510-2.jpg\",\n",
    "\"20171109-074441-1.jpg\",\n",
    "\"20171205-134624-2.jpg\",\n",
    "\"20171203-172227-3.jpg\",\n",
    "\"20171109-093142-2.jpg\",\n",
    "\"20171109-091016-2.jpg\",\n",
    "\"20171121-181134-2.jpg\",\n",
    "\"20171219-102731-3.jpg\",\n",
    "\"20171218-111415-2.jpg\",\n",
    "\"20171212-105614-3.jpg\",\n",
    "\"20171212-094810-3.jpg\",\n",
    "\"20171203-164337-3.jpg\",\n",
    "\"20171219-094941-3.jpg\",\n",
    "\"20171212-095958-1.jpg\",\n",
    "\"20171113-061405-1.jpg\",\n",
    "\"20171113-142813-3.jpg\",\n",
    "\"20171212-102000-3.jpg\",\n",
    "\"20171113-150448-3.jpg\",\n",
    "\"20171218-114650-3.jpg\",\n",
    "\"20171219-095131-2.jpg\",\n",
    "\"20171212-102244-3.jpg\",\n",
    "\"20171109-085510-2.jpg\",\n",
    "\"20171109-072120-3.jpg\",\n",
    "\"20171113-101323-0.jpg\",\n",
    "\"20171212-105549-3.jpg\",\n",
    "\"20171218-121847-2.jpg\",\n",
    "\"20171219-095039-3.jpg\",\n",
    "\"20171121-074310-1.jpg\",\n",
    "\"20171122-104124-1.jpg\",\n",
    "\"20171113-121817-1.jpg\",\n",
    "\"20171113-092152-1.jpg\",\n",
    "\"20171205-142945-2.jpg\",\n",
    "\"20171109-091025-3.jpg\",\n",
    "\"20171113-131411-1.jpg\",\n",
    "\"20171121-085944-1.jpg\",\n",
    "\"20171212-093708-1.jpg\",\n",
    "\"20171113-132706-3.jpg\",\n",
    "\"20171109-090659-2.jpg\",\n",
    "\"20171109-091859-1.jpg\",\n",
    "\"20171113-093016-3.jpg\",\n",
    "\"20171113-115402-3.jpg\",\n",
    "\"20171219-093752-2.jpg\",\n",
    "\"20171217-184519-2.jpg\",\n",
    "\"20171205-143306-2.jpg\",\n",
    "\"20171113-143248-2.jpg\",\n",
    "\"20171218-121417-2.jpg\",\n",
    "\"20171109-071740-1.jpg\",\n",
    "\"20171122-103345-1.jpg\",\n",
    "\"20171212-101815-3.jpg\",\n",
    "\"20171121-073753-1.jpg\",\n",
    "\"20171218-104710-2.jpg\",\n",
    "\"20171109-195013-1.jpg\",\n",
    "\"20171219-101027-3.jpg\",\n",
    "\"20171121-081723-2.jpg\",\n",
    "\"20171113-061031-1.jpg\",\n",
    "\"20171113-150347-1.jpg\",\n",
    "\"20171205-123533-2.jpg\",\n",
    "\"20171205-141149-2.jpg\",\n",
    "\"20171113-131530-1.jpg\",\n",
    "\"20171122-103153-1.jpg\",\n",
    "\"20171219-093218-2.jpg\",\n",
    "\"20171108-125635-3.jpg\",\n",
    "\"20171205-141130-2.jpg\",\n",
    "\"20171121-090026-2.jpg\",\n",
    "\"20171122-100626-1.jpg\",\n",
    "\"20171212-095749-1.jpg\",\n",
    "\"20171113-122134-0.jpg\",\n",
    "\"20171212-104318-3.jpg\",\n",
    "\"20171212-104309-3.jpg\",\n",
    "\"20171113-134330-1.jpg\",\n",
    "\"20171113-143038-3.jpg\",\n",
    "\"20171219-103136-3.jpg\",\n",
    "\"20171121-091114-3.jpg\",\n",
    "\"20171121-085524-1.jpg\",\n",
    "\"20171212-105639-3.jpg\",\n",
    "\"20171219-101736-2.jpg\",\n",
    "\"20171218-104023-2.jpg\",\n",
    "\"20171218-104040-2.jpg\",\n",
    "\"20171201-120010-1.jpg\",\n",
    "\"20171113-060715-1.jpg\",\n",
    "\"20171122-100943-1.jpg\",\n",
    "\"20171113-141151-2.jpg\",\n",
    "\"20171217-184749-2.jpg\",\n",
    "\"20171201-115805-1.jpg\",\n",
    "\"20171121-084258-2.jpg\",\n",
    "\"20171113-135150-0.jpg\",\n",
    "\"20171102-122750-1.jpg\",\n",
    "\"20171212-110114-3.jpg\",\n",
    "\"20171113-092117-3.jpg\",\n",
    "\"20171203-164605-3.jpg\",\n",
    "\"20171212-095412-3.jpg\",\n",
    "\"20171113-133331-3.jpg\",\n",
    "\"20171218-121358-3.jpg\",\n",
    "\"20171121-073547-1.jpg\",\n",
    "\"20171113-132747-1.jpg\",\n",
    "\"20171218-110250-2.jpg\",\n",
    "\"20171212-104013-3.jpg\",\n",
    "\"20171121-082247-2.jpg\",\n",
    "\"20171109-070740-1.jpg\",\n",
    "\"20171109-093438-2.jpg\",\n",
    "\"20171113-140237-2.jpg\",\n",
    "\"20171219-104654-2.jpg\",\n",
    "\"20171113-092005-3.jpg\",\n",
    "\"20171203-164511-3.jpg\",\n",
    "\"20171203-174056-3.jpg\",\n",
    "\"20171113-140528-2.jpg\",\n",
    "\"20171218-103326-3.jpg\",\n",
    "\"20171109-070827-1.jpg\",\n",
    "\"20171102-123107-2.jpg\",\n",
    "\"20171203-170431-3.jpg\",\n",
    "\"20171113-173648-0.jpg\",\n",
    "\"20171203-173711-3.jpg\",\n",
    "\"20171219-095804-2.jpg\",\n",
    "\"20171219-100454-2.jpg\",\n",
    "\"20171205-133606-2.jpg\",\n",
    "\"20171113-102414-0.jpg\",\n",
    "\"20171219-105312-3.jpg\",\n",
    "\"20171113-164837-0.jpg\",\n",
    "\"20171102-121948-2.jpg\",\n",
    "\"20171109-094234-3.jpg\",\n",
    "\"20171212-094702-1.jpg\",\n",
    "\"20171203-170148-3.jpg\",\n",
    "\"20171212-094838-1.jpg\",\n",
    "\"20171203-172822-3.jpg\",\n",
    "\"20171217-184608-2.jpg\",\n",
    "\"20171113-133055-1.jpg\",\n",
    "\"20171109-091542-3.jpg\",\n",
    "\"20171113-132921-3.jpg\",\n",
    "\"20171218-103259-3.jpg\",\n",
    "\"20171219-094732-2.jpg\",\n",
    "\"20171109-093551-2.jpg\",\n",
    "\"20171102-121834-3.jpg\",\n",
    "\"20171113-094506-3.jpg\",\n",
    "\"20171122-100051-1.jpg\",\n",
    "\"20171109-095205-2.jpg\",\n",
    "\"20171109-091445-1.jpg\",\n",
    "\"20171113-163214-0.jpg\",\n",
    "\"20171121-084234-2.jpg\",\n",
    "\"20171212-105638-3.jpg\",\n",
    "\"20171218-120238-3.jpg\",\n",
    "\"20171218-110628-2.jpg\",\n",
    "\"20171109-095123-3.jpg\",\n",
    "\"20171113-132254-1.jpg\",\n",
    "\"20171109-092844-2.jpg\",\n",
    "\"20171113-115426-3.jpg\",\n",
    "\"20171219-102803-3.jpg\",\n",
    "\"20171218-120209-3.jpg\",\n",
    "\"20171113-145319-3.jpg\",\n",
    "\"20171212-095021-3.jpg\",\n",
    "\"20171108-125348-3.jpg\",\n",
    "\"20171113-132950-1.jpg\",\n",
    "\"20171113-134157-3.jpg\",\n",
    "\"20171113-151747-1.jpg\",\n",
    "\"20171113-061441-1.jpg\",\n",
    "\"20171109-093759-1.jpg\",\n",
    "\"20171113-151947-1.jpg\",\n",
    "\"20171212-105254-3.jpg\",\n",
    "\"20171219-111719-3.jpg\",\n",
    "\"20171218-110809-3.jpg\",\n",
    "\"20171219-105822-2.jpg\",\n",
    "\"20171109-091938-1.jpg\",\n",
    "\"20171113-120908-2.jpg\",\n",
    "\"20171109-092732-2.jpg\",\n",
    "\"20171218-103929-3.jpg\",\n",
    "\"20171113-133644-1.jpg\",\n",
    "\"20171121-072857-1.jpg\",\n",
    "\"20171113-144704-3.jpg\",\n",
    "\"20171113-101351-1.jpg\",\n",
    "\"20171212-094122-3.jpg\",\n",
    "\"20171121-090855-3.jpg\",\n",
    "\"20171102-123523-1.jpg\",\n",
    "\"20171113-151346-3.jpg\",\n",
    "\"20171219-092939-3.jpg\",\n",
    "\"20171109-073850-1.jpg\",\n",
    "\"20171203-170215-3.jpg\",\n",
    "\"20171113-152348-0.jpg\",\n",
    "\"20171113-091649-3.jpg\",\n",
    "\"20171218-112712-3.jpg\",\n",
    "\"20171121-075131-1.jpg\",\n",
    "\"20171113-145003-1.jpg\",\n",
    "\"20171113-121009-2.jpg\",\n",
    "\"20171113-093918-3.jpg\",\n",
    "\"20171203-165636-3.jpg\",\n",
    "\"20171113-134450-0.jpg\",\n",
    "\"20171219-102748-3.jpg\",\n",
    "\"20171218-112121-3.jpg\",\n",
    "\"20171205-134922-2.jpg\",\n",
    "\"20171113-133211-1.jpg\",\n",
    "\"20171219-093048-2.jpg\",\n",
    "\"20171113-162247-0.jpg\",\n",
    "\"20171113-060523-1.jpg\",\n",
    "\"20171219-093534-2.jpg\",\n",
    "\"20171212-094042-1.jpg\",\n",
    "\"20171218-103315-2.jpg\",\n",
    "\"20171109-093513-1.jpg\",\n",
    "\"20171219-100558-2.jpg\",\n",
    "\"20171219-095636-2.jpg\",\n",
    "\"20171212-093905-1.jpg\",\n",
    "\"20171113-111748-0.jpg\",\n",
    "\"20171121-081448-2.jpg\",\n",
    "\"20171203-165600-3.jpg\",\n",
    "\"20171219-105935-2.jpg\",\n",
    "\"20171102-123636-2.jpg\",\n",
    "\"20171212-103226-3.jpg\",\n",
    "\"20171218-104302-3.jpg\",\n",
    "\"20171203-172649-3.jpg\",\n",
    "\"20171212-094423-1.jpg\",\n",
    "\"20171109-092540-1.jpg\",\n",
    "\"20171219-104932-3.jpg\",\n",
    "\"20171218-120916-3.jpg\",\n",
    "\"20171218-114956-2.jpg\",\n",
    "\"20171113-101436-1.jpg\",\n",
    "\"20171212-095738-3.jpg\",\n",
    "\"20171102-123406-3.jpg\",\n",
    "\"20171113-151802-1.jpg\",\n",
    "\"20171219-105531-3.jpg\",\n",
    "\"20171113-135316-3.jpg\",\n",
    "\"20171122-101138-1.jpg\",\n",
    "\"20171121-091215-3.jpg\",\n",
    "\"20171109-090801-2.jpg\",\n",
    "\"20171218-104412-3.jpg\",\n",
    "\"20171109-071623-1.jpg\",\n",
    "\"20171212-095226-1.jpg\",\n",
    "\"20171113-143315-2.jpg\",\n",
    "\"20171113-100514-3.jpg\",\n",
    "\"20171108-125806-3.jpg\",\n",
    "\"20171109-074823-1.jpg\",\n",
    "\"20171102-123222-1.jpg\",\n",
    "\"20171109-091149-1.jpg\",\n",
    "\"20171113-101927-0.jpg\",\n",
    "\"20171219-104718-2.jpg\",\n",
    "\"20171203-173340-3.jpg\",\n",
    "\"20171113-150156-1.jpg\",\n",
    "\"20171113-102043-1.jpg\",\n",
    "\"20171217-184806-2.jpg\",\n",
    "\"20171121-072215-1.jpg\",\n",
    "\"20171218-102923-2.jpg\",\n",
    "\"20171109-071437-1.jpg\",\n",
    "\"20171109-090324-3.jpg\",\n",
    "\"20171109-073423-1.jpg\",\n",
    "\"20171218-111830-3.jpg\",\n",
    "\"20171109-093436-1.jpg\",\n",
    "\"20171205-123635-2.jpg\",\n",
    "\"20171121-081850-2.jpg\",\n",
    "\"20171205-140908-2.jpg\",\n",
    "\"20171113-135243-1.jpg\",\n",
    "\"20171113-151813-1.jpg\",\n",
    "\"20171219-102314-2.jpg\",\n",
    "\"20171113-115949-1.jpg\",\n",
    "\"20171212-102739-3.jpg\",\n",
    "\"20171218-110051-3.jpg\",\n",
    "\"20171218-112749-3.jpg\",\n",
    "\"20171212-100721-1.jpg\",\n",
    "\"20171212-094741-1.jpg\",\n",
    "\"20171109-194638-1.jpg\",\n",
    "\"20171102-122425-1.jpg\",\n",
    "\"20171205-134059-2.jpg\",\n",
    "\"20171212-102536-3.jpg\",\n",
    "\"20171109-084852-3.jpg\",\n",
    "\"20171212-095519-1.jpg\",\n",
    "\"20171109-090822-1.jpg\",\n",
    "\"20171113-131024-1.jpg\",\n",
    "\"20171219-095011-2.jpg\",\n",
    "\"20171109-074528-3.jpg\",\n",
    "\"20171113-123332-0.jpg\",\n",
    "\"20171102-122142-3.jpg\",\n",
    "\"20171113-124140-0.jpg\",\n",
    "\"20171201-115935-1.jpg\",\n",
    "\"20171218-121619-2.jpg\",\n",
    "\"20171109-090139-1.jpg\",\n",
    "\"20171219-104644-3.jpg\",\n",
    "\"20171205-124035-2.jpg\",\n",
    "\"20171113-123448-1.jpg\",\n",
    "\"20171212-103853-3.jpg\",\n",
    "\"20171113-124540-3.jpg\",\n",
    "\"20171218-112959-3.jpg\",\n",
    "\"20171219-110157-2.jpg\",\n",
    "\"20171113-135712-1.jpg\",\n",
    "\"20171113-061052-1.jpg\",\n",
    "\"20171108-124659-3.jpg\",\n",
    "\"20171113-143903-3.jpg\",\n",
    "\"20171113-150036-3.jpg\",\n",
    "\"20171219-110016-2.jpg\",\n",
    "\"20171109-084821-3.jpg\",\n",
    "\"20171109-090842-1.jpg\",\n",
    "\"20171113-133349-3.jpg\",\n",
    "\"20171218-115310-2.jpg\",\n",
    "\"20171109-071525-3.jpg\",\n",
    "\"20171113-144428-2.jpg\",\n",
    "\"20171212-094357-1.jpg\",\n",
    "\"20171109-090145-3.jpg\",\n",
    "\"20171121-090842-1.jpg\",\n",
    "\"20171109-072715-1.jpg\",\n",
    "\"20171113-132431-3.jpg\",\n",
    "\"20171121-081532-2.jpg\",\n",
    "\"20171113-133148-3.jpg\",\n",
    "\"20171121-072543-1.jpg\",\n",
    "\"20171113-123607-3.jpg\",\n",
    "\"20171205-133742-2.jpg\",\n",
    "\"20171219-093341-3.jpg\",\n",
    "\"20171212-093911-3.jpg\",\n",
    "\"20171113-101904-1.jpg\",\n",
    "\"20171109-093053-3.jpg\",\n",
    "\"20171217-184150-2.jpg\",\n",
    "\"20171109-194200-1.jpg\",\n",
    "\"20171109-074327-1.jpg\",\n",
    "\"20171218-103405-3.jpg\",\n",
    "\"20171217-184248-2.jpg\",\n",
    "\"20171113-092207-1.jpg\",\n",
    "\"20171219-102923-3.jpg\",\n",
    "\"20171218-111715-2.jpg\",\n",
    "\"20171113-115907-3.jpg\",\n",
    "\"20171113-133946-1.jpg\",\n",
    "\"20171113-124136-3.jpg\",\n",
    "\"20171122-104102-1.jpg\",\n",
    "\"20171217-184313-2.jpg\",\n",
    "\"20171217-184341-2.jpg\",\n",
    "\"20171113-102609-1.jpg\",\n",
    "\"20171113-123522-1.jpg\",\n",
    "\"20171121-074740-1.jpg\",\n",
    "\"20171219-105644-2.jpg\",\n",
    "\"20171212-095003-1.jpg\",\n",
    "\"20171205-133949-2.jpg\",\n",
    "\"20171205-124213-2.jpg\",\n",
    "\"20171219-102046-2.jpg\",\n",
    "\"20171109-194339-1.jpg\",\n",
    "\"20171113-120320-1.jpg\",\n",
    "\"20171109-090219-3.jpg\",\n",
    "\"20171102-122743-3.jpg\",\n",
    "\"20171113-142844-3.jpg\",\n",
    "\"20171113-132015-3.jpg\",\n",
    "\"20171203-165027-3.jpg\",\n",
    "\"20171212-105341-3.jpg\",\n",
    "\"20171113-135239-0.jpg\",\n",
    "\"20171109-072401-1.jpg\",\n",
    "\"20171109-193756-1.jpg\",\n",
    "\"20171212-094748-3.jpg\",\n",
    "\"20171109-071127-1.jpg\",\n",
    "\"20171212-104627-3.jpg\",\n",
    "\"20171113-123457-3.jpg\",\n",
    "\"20171109-070949-3.jpg\",\n",
    "\"20171203-170559-3.jpg\",\n",
    "\"20171121-073155-1.jpg\",\n",
    "\"20171113-134630-3.jpg\",\n",
    "\"20171109-072843-3.jpg\",\n",
    "\"20171121-073258-1.jpg\",\n",
    "\"20171219-100557-2.jpg\",\n",
    "\"20171218-113633-3.jpg\",\n",
    "\"20171203-174203-3.jpg\",\n",
    "\"20171219-102443-2.jpg\",\n",
    "\"20171212-101630-3.jpg\",\n",
    "\"20171218-115741-3.jpg\",\n",
    "\"20171218-121708-3.jpg\",\n",
    "\"20171205-145132-2.jpg\",\n",
    "\"20171109-090659-1.jpg\",\n",
    "\"20171219-101831-3.jpg\",\n",
    "\"20171203-174808-3.jpg\",\n",
    "\"20171217-183841-2.jpg\",\n",
    "\"20171109-072905-3.jpg\",\n",
    "\"20171218-110557-2.jpg\",\n",
    "\"20171109-095025-2.jpg\",\n",
    "\"20171218-122016-2.jpg\",\n",
    "\"20171212-103805-3.jpg\",\n",
    "\"20171121-090235-3.jpg\",\n",
    "\"20171218-104510-3.jpg\",\n",
    "\"20171212-105009-3.jpg\",\n",
    "\"20171219-102135-3.jpg\",\n",
    "\"20171212-094538-3.jpg\",\n",
    "\"20171113-123746-3.jpg\",\n",
    "\"20171109-074838-3.jpg\",\n",
    "\"20171113-145453-1.jpg\",\n",
    "\"20171218-112135-3.jpg\",\n",
    "\"20171113-105444-0.jpg\",\n",
    "\"20171218-121044-3.jpg\",\n",
    "\"20171212-093408-3.jpg\",\n",
    "\"20171109-194258-1.jpg\",\n",
    "\"20171203-170753-3.jpg\",\n",
    "\"20171217-183805-2.jpg\",\n",
    "\"20171113-133040-0.jpg\",\n",
    "\"20171113-163111-0.jpg\",\n",
    "\"20171205-143340-2.jpg\",\n",
    "\"20171219-101616-2.jpg\",\n",
    "\"20171218-110513-2.jpg\",\n",
    "\"20171212-102204-3.jpg\",\n",
    "\"20171121-091207-1.jpg\",\n",
    "\"20171113-121757-0.jpg\",\n",
    "\"20171219-095652-3.jpg\",\n",
    "\"20171218-104928-2.jpg\",\n",
    "\"20171113-140645-2.jpg\",\n",
    "\"20171113-145604-3.jpg\",\n",
    "\"20171219-100606-2.jpg\",\n",
    "\"20171113-121456-1.jpg\",\n",
    "\"20171218-110607-3.jpg\",\n",
    "\"20171109-073544-3.jpg\",\n",
    "\"20171122-095537-1.jpg\",\n",
    "\"20171109-074809-1.jpg\",\n",
    "\"20171109-095615-3.jpg\",\n",
    "\"20171217-103616-2.jpg\",\n",
    "\"20171212-100104-1.jpg\",\n",
    "\"20171212-095947-3.jpg\",\n",
    "\"20171113-115125-1.jpg\",\n",
    "\"20171201-120339-1.jpg\",\n",
    "\"20171113-131606-2.jpg\",\n",
    "\"20171212-105905-3.jpg\",\n",
    "\"20171113-131345-1.jpg\",\n",
    "\"20171113-150735-3.jpg\",\n",
    "\"20171121-073121-1.jpg\",\n",
    "\"20171109-074113-3.jpg\",\n",
    "\"20171109-093143-1.jpg\",\n",
    "\"20171203-164941-3.jpg\",\n",
    "\"20171113-150110-1.jpg\",\n",
    "\"20171203-172940-3.jpg\",\n",
    "\"20171212-093932-1.jpg\",\n",
    "\"20171218-111727-3.jpg\",\n",
    "\"20171122-101845-1.jpg\",\n",
    "\"20171212-094839-3.jpg\",\n",
    "\"20171109-072130-1.jpg\",\n",
    "\"20171121-090705-3.jpg\",\n",
    "\"20171121-082501-2.jpg\",\n",
    "\"20171217-103432-2.jpg\",\n",
    "\"20171121-083319-1.jpg\",\n",
    "\"20171212-105035-3.jpg\",\n",
    "\"20171121-084031-1.jpg\",\n",
    "\"20171219-095132-2.jpg\",\n",
    "\"20171219-094851-2.jpg\",\n",
    "\"20171109-071800-3.jpg\",\n",
    "\"20171109-072025-1.jpg\",\n",
    "\"20171113-150716-3.jpg\",\n",
    "\"20171113-145836-3.jpg\",\n",
    "\"20171109-092940-1.jpg\",\n",
    "\"20171212-094211-3.jpg\",\n",
    "\"20171113-112316-0.jpg\",\n",
    "\"20171217-183506-2.jpg\",\n",
    "\"20171113-131746-2.jpg\",\n",
    "\"20171113-135139-3.jpg\",\n",
    "\"20171218-120733-3.jpg\",\n",
    "\"20171218-115704-3.jpg\",\n",
    "\"20171203-173011-3.jpg\",\n",
    "\"20171113-120539-2.jpg\",\n",
    "\"20171113-132556-1.jpg\",\n",
    "\"20171218-121003-3.jpg\",\n",
    "\"20171113-142521-2.jpg\",\n",
    "\"20171121-083050-2.jpg\",\n",
    "\"20171203-173210-3.jpg\",\n",
    "\"20171218-121328-3.jpg\",\n",
    "\"20171121-085247-1.jpg\",\n",
    "\"20171218-105544-2.jpg\",\n",
    "\"20171113-061251-1.jpg\",\n",
    "\"20171212-094054-1.jpg\",\n",
    "\"20171219-092908-2.jpg\",\n",
    "\"20171113-061420-1.jpg\",\n",
    "\"20171113-132138-1.jpg\",\n",
    "\"20171113-135516-0.jpg\",\n",
    "\"20171108-130147-3.jpg\",\n",
    "\"20171121-075130-1.jpg\",\n",
    "\"20171113-111716-0.jpg\",\n",
    "\"20171109-095202-3.jpg\",\n",
    "\"20171219-092722-2.jpg\",\n",
    "\"20171212-095538-3.jpg\",\n",
    "\"20171113-144900-1.jpg\",\n",
    "\"20171113-150751-3.jpg\",\n",
    "\"20171121-090906-3.jpg\",\n",
    "\"20171219-101321-3.jpg\",\n",
    "\"20171113-095022-1.jpg\",\n",
    "\"20171109-092340-2.jpg\",\n",
    "\"20171113-123619-3.jpg\",\n",
    "\"20171113-124527-3.jpg\",\n",
    "\"20171203-174128-3.jpg\",\n",
    "\"20171212-095346-1.jpg\",\n",
    "\"20171218-120037-2.jpg\",\n",
    "\"20171113-144959-3.jpg\",\n",
    "\"20171109-071611-3.jpg\",\n",
    "\"20171219-100442-2.jpg\",\n",
    "\"20171113-132333-3.jpg\",\n",
    "\"20171113-143231-2.jpg\",\n",
    "\"20171109-092050-2.jpg\",\n",
    "\"20171218-121336-2.jpg\",\n",
    "\"20171109-093128-1.jpg\",\n",
    "\"20171121-083457-2.jpg\",\n",
    "\"20171109-093105-1.jpg\",\n",
    "\"20171218-115134-3.jpg\",\n",
    "\"20171113-102257-1.jpg\",\n",
    "\"20171218-122058-3.jpg\",\n",
    "\"20171205-123723-2.jpg\",\n",
    "\"20171217-183949-2.jpg\",\n",
    "\"20171109-095650-2.jpg\",\n",
    "\"20171203-172239-3.jpg\",\n",
    "\"20171109-093232-1.jpg\",\n",
    "\"20171201-120901-1.jpg\",\n",
    "\"20171113-143050-3.jpg\",\n",
    "\"20171113-133241-3.jpg\",\n",
    "\"20171203-174444-3.jpg\",\n",
    "\"20171217-103630-2.jpg\",\n",
    "\"20171109-085643-2.jpg\",\n",
    "\"20171113-131833-3.jpg\",\n",
    "\"20171109-091412-2.jpg\",\n",
    "\"20171121-083251-1.jpg\",\n",
    "\"20171102-123122-2.jpg\",\n",
    "\"20171113-100323-3.jpg\",\n",
    "\"20171113-132349-1.jpg\",\n",
    "\"20171109-071156-3.jpg\",\n",
    "\"20171113-092956-3.jpg\",\n",
    "\"20171218-110434-3.jpg\",\n",
    "\"20171219-095622-2.jpg\",\n",
    "\"20171121-074216-1.jpg\",\n",
    "\"20171109-091520-3.jpg\",\n",
    "\"20171121-090927-3.jpg\",\n",
    "\"20171218-114815-2.jpg\",\n",
    "\"20171113-122340-1.jpg\",\n",
    "\"20171203-082036-3.jpg\",\n",
    "\"20171218-112553-3.jpg\",\n",
    "\"20171212-094932-1.jpg\",\n",
    "\"20171113-102132-1.jpg\",\n",
    "\"20171109-095805-3.jpg\",\n",
    "\"20171113-173515-0.jpg\",\n",
    "\"20171203-165415-3.jpg\",\n",
    "\"20171212-093214-3.jpg\",\n",
    "\"20171218-115339-2.jpg\",\n",
    "\"20171219-093807-2.jpg\",\n",
    "\"20171113-120355-1.jpg\",\n",
    "\"20171109-071938-3.jpg\",\n",
    "\"20171218-115821-3.jpg\",\n",
    "\"20171113-133153-0.jpg\",\n",
    "\"20171109-090601-2.jpg\",\n",
    "\"20171109-071722-1.jpg\",\n",
    "\"20171122-104241-1.jpg\",\n",
    "\"20171212-102510-3.jpg\",\n",
    "\"20171109-074022-3.jpg\",\n",
    "\"20171217-184452-2.jpg\",\n",
    "\"20171122-101626-1.jpg\",\n",
    "\"20171109-090506-2.jpg\",\n",
    "\"20171121-072834-1.jpg\",\n",
    "\"20171122-095907-1.jpg\",\n",
    "\"20171218-110555-3.jpg\",\n",
    "\"20171205-142853-2.jpg\",\n",
    "\"20171121-085220-1.jpg\",\n",
    "\"20171212-104232-3.jpg\",\n",
    "\"20171212-093303-3.jpg\",\n",
    "\"20171218-105153-3.jpg\",\n",
    "\"20171113-104328-0.jpg\",\n",
    "\"20171219-095232-3.jpg\",\n",
    "\"20171121-082808-2.jpg\",\n",
    "\"20171212-093512-3.jpg\",\n",
    "\"20171109-074543-1.jpg\",\n",
    "\"20171113-120526-2.jpg\",\n",
    "\"20171203-165130-3.jpg\",\n",
    "\"20171121-081759-2.jpg\",\n",
    "\"20171205-141115-2.jpg\",\n",
    "\"20171113-143258-3.jpg\",\n",
    "\"20171219-092715-3.jpg\",\n",
    "\"20171113-150659-1.jpg\",\n",
    "\"20171121-073140-1.jpg\",\n",
    "\"20171113-171158-0.jpg\",\n",
    "\"20171113-133312-1.jpg\",\n",
    "\"20171109-092404-2.jpg\",\n",
    "\"20171113-134314-1.jpg\",\n",
    "\"20171203-165418-3.jpg\",\n",
    "\"20171113-092250-1.jpg\",\n",
    "\"20171203-170848-3.jpg\",\n",
    "\"20171113-133248-1.jpg\",\n",
    "\"20171121-081609-2.jpg\",\n",
    "\"20171212-104332-3.jpg\",\n",
    "\"20171219-101052-2.jpg\",\n",
    "\"20171113-094758-3.jpg\",\n",
    "\"20171219-100242-3.jpg\",\n",
    "\"20171219-093257-2.jpg\",\n",
    "\"20171218-115240-2.jpg\",\n",
    "\"20171212-094756-1.jpg\",\n",
    "\"20171218-121043-3.jpg\",\n",
    "\"20171113-144021-3.jpg\",\n",
    "\"20171109-071411-1.jpg\",\n",
    "\"20171121-082127-2.jpg\",\n",
    "\"20171205-134600-2.jpg\",\n",
    "\"20171201-115840-1.jpg\",\n",
    "\"20171113-141437-2.jpg\",\n",
    "\"20171109-091623-3.jpg\",\n",
    "\"20171113-150349-3.jpg\",\n",
    "\"20171113-130049-2.jpg\",\n",
    "\"20171121-091256-3.jpg\",\n",
    "\"20171113-151910-1.jpg\",\n",
    "\"20171113-145257-3.jpg\",\n",
    "\"20171113-153033-0.jpg\",\n",
    "\"20171218-105958-3.jpg\",\n",
    "\"20171218-113049-3.jpg\",\n",
    "\"20171109-074620-3.jpg\",\n",
    "\"20171113-165113-0.jpg\",\n",
    "\"20171219-102206-2.jpg\",\n",
    "\"20171218-110014-3.jpg\",\n",
    "\"20171203-174235-3.jpg\",\n",
    "\"20171218-110656-3.jpg\",\n",
    "\"20171218-104904-3.jpg\",\n",
    "\"20171121-074626-1.jpg\",\n",
    "\"20171113-133039-1.jpg\",\n",
    "\"20171113-095050-1.jpg\",\n",
    "\"20171113-134644-3.jpg\",\n",
    "\"20171109-090726-2.jpg\",\n",
    "\"20171219-092905-3.jpg\",\n",
    "\"20171212-102455-3.jpg\",\n",
    "\"20171113-115320-3.jpg\",\n",
    "\"20171113-111444-0.jpg\",\n",
    "\"20171113-105049-0.jpg\",\n",
    "\"20171121-091127-3.jpg\",\n",
    "\"20171203-165847-3.jpg\",\n",
    "\"20171203-172726-3.jpg\",\n",
    "\"20171122-101924-1.jpg\",\n",
    "\"20171102-123554-3.jpg\",\n",
    "\"20171113-124236-3.jpg\",\n",
    "\"20171205-134654-2.jpg\",\n",
    "\"20171113-144439-1.jpg\",\n",
    "\"20171218-120722-2.jpg\",\n",
    "\"20171219-105010-2.jpg\",\n",
    "\"20171219-102103-2.jpg\",\n",
    "\"20171113-161131-0.jpg\",\n",
    "\"20171205-144731-2.jpg\",\n",
    "\"20171203-170805-3.jpg\",\n",
    "\"20171109-074032-1.jpg\",\n",
    "\"20171113-122227-3.jpg\",\n",
    "\"20171121-074016-1.jpg\",\n",
    "\"20171218-120427-2.jpg\",\n",
    "\"20171109-095253-3.jpg\",\n",
    "\"20171121-091140-3.jpg\",\n",
    "\"20171203-164356-3.jpg\",\n",
    "\"20171109-072419-1.jpg\",\n",
    "\"20171109-092105-1.jpg\",\n",
    "\"20171102-122445-3.jpg\",\n",
    "\"20171102-122830-2.jpg\",\n",
    "\"20171212-094323-1.jpg\",\n",
    "\"20171205-141548-2.jpg\",\n",
    "\"20171203-174841-3.jpg\",\n",
    "\"20171219-105403-2.jpg\",\n",
    "\"20171205-134707-2.jpg\",\n",
    "\"20171113-142459-0.jpg\",\n",
    "\"20171203-172110-3.jpg\",\n",
    "\"20171109-093036-3.jpg\",\n",
    "\"20171109-092023-1.jpg\",\n",
    "\"20171203-165821-3.jpg\",\n",
    "\"20171203-174656-3.jpg\",\n",
    "\"20171113-123016-3.jpg\",\n",
    "\"20171203-165621-3.jpg\",\n",
    "\"20171113-143846-2.jpg\",\n",
    "\"20171113-132342-3.jpg\",\n",
    "\"20171218-121356-2.jpg\",\n",
    "\"20171218-120505-3.jpg\",\n",
    "\"20171113-143030-2.jpg\",\n",
    "\"20171113-132152-1.jpg\",\n",
    "\"20171113-133710-1.jpg\",\n",
    "\"20171212-094718-3.jpg\",\n",
    "\"20171219-094706-2.jpg\",\n",
    "\"20171113-101836-0.jpg\",\n",
    "\"20171113-133217-3.jpg\",\n",
    "\"20171203-082049-3.jpg\",\n",
    "\"20171113-144311-2.jpg\",\n",
    "\"20171113-144236-2.jpg\",\n",
    "\"20171219-101744-3.jpg\",\n",
    "\"20171122-102100-1.jpg\",\n",
    "\"20171109-092200-1.jpg\",\n",
    "\"20171113-131746-1.jpg\",\n",
    "\"20171219-095309-3.jpg\",\n",
    "\"20171109-092312-1.jpg\",\n",
    "\"20171113-094324-3.jpg\",\n",
    "\"20171219-100650-3.jpg\",\n",
    "\"20171121-090429-3.jpg\",\n",
    "\"20171113-115844-1.jpg\",\n",
    "\"20171212-102719-3.jpg\",\n",
    "\"20171122-103825-1.jpg\",\n",
    "\"20171113-141955-2.jpg\",\n",
    "\"20171212-095147-3.jpg\",\n",
    "\"20171113-092415-1.jpg\",\n",
    "\"20171212-095248-3.jpg\",\n",
    "\"20171217-103334-2.jpg\",\n",
    "\"20171108-130543-3.jpg\",\n",
    "\"20171109-093214-2.jpg\",\n",
    "\"20171113-121756-1.jpg\",\n",
    "\"20171122-103638-1.jpg\",\n",
    "\"20171113-132956-0.jpg\",\n",
    "\"20171113-092616-3.jpg\",\n",
    "\"20171113-115832-3.jpg\",\n",
    "\"20171122-102359-1.jpg\",\n",
    "\"20171113-134957-1.jpg\",\n",
    "\"20171121-091048-3.jpg\",\n",
    "\"20171212-093721-1.jpg\",\n",
    "\"20171212-094134-1.jpg\",\n",
    "\"20171217-184238-2.jpg\",\n",
    "\"20171218-111605-2.jpg\",\n",
    "\"20171121-090820-3.jpg\",\n",
    "\"20171113-173955-0.jpg\",\n",
    "\"20171205-134332-2.jpg\",\n",
    "\"20171219-100000-2.jpg\",\n",
    "\"20171212-093317-3.jpg\",\n",
    "\"20171218-113507-3.jpg\",\n",
    "\"20171219-094530-2.jpg\",\n",
    "\"20171113-113541-0.jpg\",\n",
    "\"20171109-091517-1.jpg\",\n",
    "\"20171109-072924-3.jpg\",\n",
    "\"20171121-090924-1.jpg\",\n",
    "\"20171203-172608-3.jpg\",\n",
    "\"20171108-130459-3.jpg\",\n",
    "\"20171219-100707-3.jpg\",\n",
    "\"20171212-094459-1.jpg\",\n",
    "\"20171113-165713-0.jpg\",\n",
    "\"20171113-132223-3.jpg\",\n",
    "\"20171219-094001-3.jpg\",\n",
    "\"20171219-095838-3.jpg\",\n",
    "\"20171212-094244-3.jpg\",\n",
    "\"20171121-082641-2.jpg\",\n",
    "\"20171113-121703-1.jpg\",\n",
    "\"20171113-142323-0.jpg\",\n",
    "\"20171205-134240-2.jpg\",\n",
    "\"20171218-102836-2.jpg\",\n",
    "\"20171218-103225-2.jpg\",\n",
    "\"20171205-141421-2.jpg\",\n",
    "\"20171218-111424-2.jpg\",\n",
    "\"20171113-134811-3.jpg\",\n",
    "\"20171113-141918-2.jpg\",\n",
    "\"20171121-091635-1.jpg\",\n",
    "\"20171212-101813-3.jpg\",\n",
    "\"20171205-123733-2.jpg\",\n",
    "\"20171113-153310-0.jpg\",\n",
    "\"20171219-101935-3.jpg\",\n",
    "\"20171109-072524-1.jpg\",\n",
    "\"20171218-121940-2.jpg\",\n",
    "\"20171102-121818-3.jpg\",\n",
    "\"20171219-105605-3.jpg\",\n",
    "\"20171109-072825-3.jpg\",\n",
    "\"20171109-091313-3.jpg\",\n",
    "\"20171113-172027-0.jpg\",\n",
    "\"20171205-141022-2.jpg\",\n",
    "\"20171122-102107-1.jpg\",\n",
    "\"20171218-120106-2.jpg\",\n",
    "\"20171219-100150-2.jpg\",\n",
    "\"20171113-145611-1.jpg\",\n",
    "\"20171212-105533-3.jpg\",\n",
    "\"20171217-185011-2.jpg\",\n",
    "\"20171113-133014-3.jpg\",\n",
    "\"20171109-095536-2.jpg\",\n",
    "\"20171113-143830-2.jpg\",\n",
    "\"20171122-102520-1.jpg\",\n",
    "\"20171212-104026-3.jpg\",\n",
    "\"20171219-103101-2.jpg\",\n",
    "\"20171218-111355-2.jpg\",\n",
    "\"20171121-091631-1.jpg\",\n",
    "\"20171203-172811-3.jpg\",\n",
    "\"20171203-170135-3.jpg\",\n",
    "\"20171113-095510-1.jpg\",\n",
    "\"20171109-091131-3.jpg\",\n",
    "\"20171113-150538-3.jpg\",\n",
    "\"20171113-101809-1.jpg\",\n",
    "\"20171109-093658-1.jpg\",\n",
    "\"20171218-111008-3.jpg\",\n",
    "\"20171109-085627-2.jpg\",\n",
    "\"20171218-122147-2.jpg\",\n",
    "\"20171113-132119-3.jpg\",\n",
    "\"20171219-092749-3.jpg\",\n",
    "\"20171113-123859-3.jpg\",\n",
    "\"20171122-104018-1.jpg\",\n",
    "\"20171113-131554-1.jpg\",\n",
    "\"20171113-112832-0.jpg\",\n",
    "\"20171113-101125-1.jpg\",\n",
    "\"20171218-115503-3.jpg\",\n",
    "\"20171102-122956-3.jpg\",\n",
    "\"20171203-174510-3.jpg\",\n",
    "\"20171102-122623-1.jpg\",\n",
    "\"20171109-095422-2.jpg\",\n",
    "\"20171121-073004-1.jpg\",\n",
    "\"20171113-120510-3.jpg\",\n",
    "\"20171113-145700-1.jpg\",\n",
    "\"20171217-100549-2.jpg\",\n",
    "\"20171205-133845-2.jpg\",\n",
    "\"20171109-084949-3.jpg\",\n",
    "\"20171113-124517-1.jpg\",\n",
    "\"20171212-095934-3.jpg\",\n",
    "\"20171218-104443-2.jpg\",\n",
    "\"20171122-102148-1.jpg\",\n",
    "\"20171113-124416-1.jpg\",\n",
    "\"20171218-105735-2.jpg\",\n",
    "\"20171113-115910-0.jpg\",\n",
    "\"20171121-090938-1.jpg\",\n",
    "\"20171102-121749-2.jpg\",\n",
    "\"20171113-102235-1.jpg\",\n",
    "\"20171122-102833-1.jpg\",\n",
    "\"20171218-110857-3.jpg\",\n",
    "\"20171109-194734-1.jpg\",\n",
    "\"20171113-142802-3.jpg\",\n",
    "\"20171113-151253-3.jpg\",\n",
    "\"20171219-094400-2.jpg\",\n",
    "\"20171113-130918-1.jpg\",\n",
    "\"20171113-131937-3.jpg\",\n",
    "\"20171113-115816-0.jpg\",\n",
    "\"20171203-174313-3.jpg\",\n",
    "\"20171121-083217-1.jpg\",\n",
    "\"20171218-105931-3.jpg\",\n",
    "\"20171218-103016-2.jpg\",\n",
    "\"20171217-183823-2.jpg\",\n",
    "\"20171219-100345-2.jpg\",\n",
    "\"20171219-094215-2.jpg\",\n",
    "\"20171109-075107-3.jpg\",\n",
    "\"20171113-120654-2.jpg\",\n",
    "\"20171109-093524-1.jpg\",\n",
    "\"20171203-164524-3.jpg\",\n",
    "\"20171109-072302-3.jpg\",\n",
    "\"20171113-100821-1.jpg\",\n",
    "\"20171218-111306-3.jpg\",\n",
    "\"20171102-122443-1.jpg\",\n",
    "\"20171218-111019-2.jpg\",\n",
    "\"20171113-115920-3.jpg\",\n",
    "\"20171113-120655-1.jpg\",\n",
    "\"20171113-122649-3.jpg\",\n",
    "\"20171121-074959-1.jpg\",\n",
    "\"20171203-174301-3.jpg\",\n",
    "\"20171205-124153-2.jpg\",\n",
    "\"20171212-095045-1.jpg\",\n",
    "\"20171219-095338-3.jpg\",\n",
    "\"20171218-104227-2.jpg\",\n",
    "\"20171102-122541-2.jpg\",\n",
    "\"20171113-122417-3.jpg\",\n",
    "\"20171113-135412-3.jpg\",\n",
    "\"20171102-123136-2.jpg\",\n",
    "\"20171109-071551-1.jpg\",\n",
    "\"20171109-090242-2.jpg\",\n",
    "\"20171113-121433-1.jpg\",\n",
    "\"20171113-144333-3.jpg\",\n",
    "\"20171219-094811-2.jpg\",\n",
    "\"20171218-121121-3.jpg\",\n",
    "\"20171113-150406-3.jpg\",\n",
    "\"20171113-060628-1.jpg\",\n",
    "\"20171218-110039-3.jpg\",\n",
    "\"20171109-073257-1.jpg\",\n",
    "\"20171113-102541-1.jpg\",\n",
    "\"20171121-071808-1.jpg\",\n",
    "\"20171205-144841-2.jpg\",\n",
    "\"20171121-084543-1.jpg\",\n",
    "\"20171113-142841-2.jpg\",\n",
    "\"20171218-111124-3.jpg\",\n",
    "\"20171109-092757-1.jpg\",\n",
    "\"20171217-183601-2.jpg\",\n",
    "\"20171219-094720-2.jpg\",\n",
    "\"20171109-070713-3.jpg\",\n",
    "\"20171109-090236-1.jpg\",\n",
    "\"20171109-073450-3.jpg\",\n",
    "\"20171113-145845-3.jpg\",\n",
    "\"20171218-120648-3.jpg\",\n",
    "\"20171219-101702-2.jpg\",\n",
    "\"20171113-115954-3.jpg\",\n",
    "\"20171212-093838-3.jpg\",\n",
    "\"20171121-082317-1.jpg\",\n",
    "\"20171219-105848-2.jpg\",\n",
    "\"20171203-170242-3.jpg\",\n",
    "\"20171205-124103-2.jpg\",\n",
    "\"20171113-134042-3.jpg\",\n",
    "\"20171113-150145-3.jpg\",\n",
    "\"20171109-074344-3.jpg\",\n",
    "\"20171113-145842-1.jpg\",\n",
    "\"20171113-175118-0.jpg\",\n",
    "\"20171218-103204-3.jpg\",\n",
    "\"20171102-121759-3.jpg\",\n",
    "\"20171121-090047-1.jpg\",\n",
    "\"20171219-105132-2.jpg\",\n",
    "\"20171113-121137-1.jpg\",\n",
    "\"20171212-095308-3.jpg\",\n",
    "\"20171109-090738-2.jpg\",\n",
    "\"20171113-115315-1.jpg\",\n",
    "\"20171203-170737-3.jpg\",\n",
    "\"20171102-122946-2.jpg\",\n",
    "\"20171113-101853-3.jpg\",\n",
    "\"20171212-093108-3.jpg\",\n",
    "\"20171113-140455-2.jpg\",\n",
    "\"20171203-082219-3.jpg\",\n",
    "\"20171201-115923-1.jpg\",\n",
    "\"20171113-132144-3.jpg\",\n",
    "\"20171113-140134-2.jpg\",\n",
    "\"20171218-103550-2.jpg\",\n",
    "\"20171113-121731-1.jpg\",\n",
    "\"20171122-103028-1.jpg\",\n",
    "\"20171218-121917-2.jpg\",\n",
    "\"20171212-095958-3.jpg\",\n",
    "\"20171219-100818-2.jpg\",\n",
    "\"20171219-095638-3.jpg\",\n",
    "\"20171113-141009-2.jpg\",\n",
    "\"20171212-100725-3.jpg\",\n",
    "\"20171218-110511-3.jpg\",\n",
    "\"20171113-145552-3.jpg\",\n",
    "\"20171113-133317-3.jpg\",\n",
    "\"20171219-093106-2.jpg\",\n",
    "\"20171218-120217-2.jpg\",\n",
    "\"20171113-133118-3.jpg\",\n",
    "\"20171219-101216-2.jpg\",\n",
    "\"20171113-124317-3.jpg\",\n",
    "\"20171113-123900-1.jpg\",\n",
    "\"20171113-094843-1.jpg\",\n",
    "\"20171212-104643-3.jpg\",\n",
    "\"20171121-074426-1.jpg\",\n",
    "\"20171218-120115-3.jpg\",\n",
    "\"20171121-090957-3.jpg\",\n",
    "\"20171113-061331-1.jpg\",\n",
    "\"20171218-120517-2.jpg\",\n",
    "\"20171113-131815-2.jpg\",\n",
    "\"20171121-074703-1.jpg\",\n",
    "\"20171113-124517-3.jpg\",\n",
    "\"20171109-072742-3.jpg\",\n",
    "\"20171109-090749-1.jpg\",\n",
    "\"20171113-140252-1.jpg\",\n",
    "\"20171113-171535-0.jpg\",\n",
    "\"20171109-194604-1.jpg\",\n",
    "\"20171113-061120-1.jpg\",\n",
    "\"20171218-110851-2.jpg\",\n",
    "\"20171203-173549-3.jpg\",\n",
    "\"20171212-100032-1.jpg\",\n",
    "\"20171113-060913-1.jpg\",\n",
    "\"20171109-091322-2.jpg\",\n",
    "\"20171212-105308-3.jpg\",\n",
    "\"20171205-141101-2.jpg\",\n",
    "\"20171113-123427-3.jpg\",\n",
    "\"20171203-174736-3.jpg\",\n",
    "\"20171203-173359-3.jpg\",\n",
    "\"20171113-093349-3.jpg\",\n",
    "\"20171113-140954-2.jpg\",\n",
    "\"20171218-112736-3.jpg\",\n",
    "\"20171219-110355-3.jpg\",\n",
    "\"20171218-112327-3.jpg\",\n",
    "\"20171113-123806-1.jpg\",\n",
    "\"20171218-110417-3.jpg\",\n",
    "\"20171212-100422-1.jpg\",\n",
    "\"20171102-122811-1.jpg\",\n",
    "\"20171113-143958-2.jpg\",\n",
    "\"20171203-165213-3.jpg\",\n",
    "\"20171102-123501-2.jpg\",\n",
    "\"20171218-110528-3.jpg\",\n",
    "\"20171109-095442-3.jpg\",\n",
    "\"20171218-121138-3.jpg\",\n",
    "\"20171218-103342-2.jpg\",\n",
    "\"20171113-112552-0.jpg\",\n",
    "\"20171113-144318-3.jpg\",\n",
    "\"20171218-110544-2.jpg\",\n",
    "\"20171109-093725-1.jpg\",\n",
    "\"20171212-095358-1.jpg\",\n",
    "\"20171113-094355-3.jpg\",\n",
    "\"20171212-102246-3.jpg\",\n",
    "\"20171109-093300-1.jpg\",\n",
    "\"20171109-071907-1.jpg\",\n",
    "\"20171109-071206-1.jpg\",\n",
    "\"20171218-103854-2.jpg\",\n",
    "\"20171218-122135-2.jpg\",\n",
    "\"20171113-131631-1.jpg\",\n",
    "\"20171102-122525-2.jpg\",\n",
    "\"20171113-132033-1.jpg\",\n",
    "\"20171121-091041-1.jpg\",\n",
    "\"20171219-092824-3.jpg\",\n",
    "\"20171218-121237-2.jpg\",\n",
    "\"20171122-103056-1.jpg\",\n",
    "\"20171109-091543-1.jpg\",\n",
    "\"20171219-093002-2.jpg\",\n",
    "\"20171113-142600-2.jpg\",\n",
    "\"20171219-094840-3.jpg\",\n",
    "\"20171218-105200-2.jpg\",\n",
    "\"20171102-123304-1.jpg\",\n",
    "\"20171113-134252-1.jpg\",\n",
    "\"20171219-093904-2.jpg\",\n",
    "\"20171113-091817-3.jpg\",\n",
    "\"20171218-121113-2.jpg\",\n",
    "\"20171218-105607-2.jpg\",\n",
    "\"20171109-073524-1.jpg\",\n",
    "\"20171203-173928-3.jpg\",\n",
    "\"20171113-095701-1.jpg\",\n",
    "\"20171109-090301-2.jpg\",\n",
    "\"20171113-134353-1.jpg\",\n",
    "\"20171109-074255-1.jpg\",\n",
    "\"20171212-092815-1.jpg\",\n",
    "\"20171217-184328-2.jpg\",\n",
    "\"20171113-120812-3.jpg\",\n",
    "\"20171218-120009-2.jpg\",\n",
    "\"20171203-082105-3.jpg\",\n",
    "\"20171219-101159-2.jpg\",\n",
    "\"20171109-090939-3.jpg\",\n",
    "\"20171212-095706-1.jpg\",\n",
    "\"20171219-094000-2.jpg\",\n",
    "\"20171205-134513-2.jpg\",\n",
    "\"20171217-184215-2.jpg\",\n",
    "\"20171122-104304-1.jpg\",\n",
    "\"20171109-095504-2.jpg\",\n",
    "\"20171113-144457-3.jpg\",\n",
    "\"20171218-115146-3.jpg\",\n",
    "\"20171102-122824-3.jpg\",\n",
    "\"20171218-111618-3.jpg\",\n",
    "\"20171113-142527-2.jpg\",\n",
    "\"20171212-093813-3.jpg\",\n",
    "\"20171205-145051-2.jpg\",\n",
    "\"20171113-135359-3.jpg\",\n",
    "\"20171121-085143-1.jpg\",\n",
    "\"20171212-093458-3.jpg\",\n",
    "\"20171219-095246-2.jpg\",\n",
    "\"20171109-072625-1.jpg\",\n",
    "\"20171218-122026-2.jpg\",\n",
    "\"20171212-093626-3.jpg\",\n",
    "\"20171113-131518-1.jpg\",\n",
    "\"20171218-110958-2.jpg\",\n",
    "\"20171109-092800-2.jpg\",\n",
    "\"20171109-092301-2.jpg\",\n",
    "\"20171113-122240-3.jpg\",\n",
    "\"20171113-133637-3.jpg\",\n",
    "\"20171113-131948-3.jpg\",\n",
    "\"20171205-141004-2.jpg\",\n",
    "\"20171109-091719-3.jpg\",\n",
    "\"20171121-090324-3.jpg\",\n",
    "\"20171113-132548-3.jpg\",\n",
    "\"20171219-094654-2.jpg\",\n",
    "\"20171109-074353-1.jpg\",\n",
    "\"20171113-095009-1.jpg\",\n",
    "\"20171102-122804-2.jpg\",\n",
    "\"20171203-164847-3.jpg\",\n",
    "\"20171109-093204-2.jpg\",\n",
    "\"20171113-123728-3.jpg\",\n",
    "\"20171212-100123-3.jpg\",\n",
    "\"20171121-073259-1.jpg\",\n",
    "\"20171102-122825-1.jpg\",\n",
    "\"20171122-103703-1.jpg\",\n",
    "\"20171212-104446-3.jpg\",\n",
    "\"20171109-194817-1.jpg\",\n",
    "\"20171219-102256-3.jpg\",\n",
    "\"20171113-133752-1.jpg\",\n",
    "\"20171102-122622-2.jpg\",\n",
    "\"20171113-120204-2.jpg\",\n",
    "\"20171218-103115-3.jpg\",\n",
    "\"20171219-094029-2.jpg\",\n",
    "\"20171212-094447-1.jpg\",\n",
    "\"20171113-142059-2.jpg\",\n",
    "\"20171113-115831-1.jpg\",\n",
    "\"20171212-101928-3.jpg\",\n",
    "\"20171113-120122-3.jpg\",\n",
    "\"20171219-093440-3.jpg\",\n",
    "\"20171113-100926-1.jpg\",\n",
    "\"20171109-071918-3.jpg\",\n",
    "\"20171113-132929-1.jpg\",\n",
    "\"20171219-110311-3.jpg\",\n",
    "\"20171121-090353-3.jpg\",\n",
    "\"20171218-113518-3.jpg\",\n",
    "\"20171218-110305-2.jpg\",\n",
    "\"20171219-103033-3.jpg\",\n",
    "\"20171218-103705-2.jpg\",\n",
    "\"20171113-112942-0.jpg\",\n",
    "\"20171212-103923-3.jpg\",\n",
    "\"20171113-113542-0.jpg\",\n",
    "\"20171219-095525-2.jpg\",\n",
    "\"20171113-093822-3.jpg\",\n",
    "\"20171113-124114-1.jpg\",\n",
    "\"20171109-091409-3.jpg\",\n",
    "\"20171109-073837-1.jpg\",\n",
    "\"20171113-145243-3.jpg\",\n",
    "\"20171219-110447-2.jpg\",\n",
    "\"20171203-165944-3.jpg\",\n",
    "\"20171102-121948-1.jpg\",\n",
    "\"20171217-183750-2.jpg\",\n",
    "\"20171102-122914-3.jpg\",\n",
    "\"20171113-134526-3.jpg\",\n",
    "\"20171218-120806-3.jpg\",\n",
    "\"20171102-123549-2.jpg\",\n",
    "\"20171218-121457-3.jpg\",\n",
    "\"20171219-110453-3.jpg\",\n",
    "\"20171121-075510-1.jpg\",\n",
    "\"20171113-135754-1.jpg\",\n",
    "\"20171121-084827-1.jpg\",\n",
    "\"20171219-095001-2.jpg\",\n",
    "\"20171219-095328-3.jpg\",\n",
    "\"20171121-090747-1.jpg\",\n",
    "\"20171217-184005-2.jpg\",\n",
    "\"20171205-123739-2.jpg\",\n",
    "\"20171218-104233-3.jpg\",\n",
    "\"20171109-074227-3.jpg\",\n",
    "\"20171217-184033-2.jpg\",\n",
    "\"20171219-100954-3.jpg\",\n",
    "\"20171219-102609-3.jpg\",\n",
    "\"20171203-173816-3.jpg\",\n",
    "\"20171109-090408-3.jpg\",\n",
    "\"20171218-103214-2.jpg\",\n",
    "\"20171205-144945-2.jpg\",\n",
    "\"20171113-115609-1.jpg\",\n",
    "\"20171201-120413-1.jpg\",\n",
    "\"20171219-095213-2.jpg\",\n",
    "\"20171218-120144-2.jpg\",\n",
    "\"20171113-095752-1.jpg\",\n",
    "\"20171121-073316-1.jpg\",\n",
    "\"20171113-092423-3.jpg\",\n",
    "\"20171113-091929-3.jpg\",\n",
    "\"20171113-134550-1.jpg\",\n",
    "\"20171109-092335-1.jpg\",\n",
    "\"20171121-084509-2.jpg\",\n",
    "\"20171218-112608-3.jpg\",\n",
    "\"20171122-104333-1.jpg\",\n",
    "\"20171218-112359-3.jpg\",\n",
    "\"20171219-100734-3.jpg\",\n",
    "\"20171109-071849-1.jpg\",\n",
    "\"20171219-095947-2.jpg\",\n",
    "\"20171212-094532-1.jpg\",\n",
    "\"20171113-142659-3.jpg\",\n",
    "\"20171205-144300-2.jpg\",\n",
    "\"20171219-095621-2.jpg\",\n",
    "\"20171218-121243-3.jpg\",\n",
    "\"20171109-093351-2.jpg\",\n",
    "\"20171212-094711-1.jpg\",\n",
    "\"20171121-074642-1.jpg\",\n",
    "\"20171212-094029-3.jpg\"\n",
    "]"
   ]
  },
  {
   "cell_type": "code",
   "execution_count": 11,
   "id": "a754174b",
   "metadata": {
    "execution": {
     "iopub.execute_input": "2024-02-26T19:44:26.621921Z",
     "iopub.status.busy": "2024-02-26T19:44:26.621118Z"
    },
    "id": "wjgJIp7dyTW-",
    "outputId": "496bfe34-cf6e-4eec-a561-a99c3bee5eb0",
    "papermill": {
     "duration": null,
     "end_time": null,
     "exception": false,
     "start_time": "2024-02-26T19:44:26.606322",
     "status": "running"
    },
    "tags": []
   },
   "outputs": [
    {
     "name": "stdout",
     "output_type": "stream",
     "text": [
      "generating mask\n"
     ]
    },
    {
     "name": "stdout",
     "output_type": "stream",
     "text": [
      "True->20171102-121702-2.jpg\n",
      "generating mask\n"
     ]
    },
    {
     "name": "stdout",
     "output_type": "stream",
     "text": [
      "True->20171102-121717-1.jpg\n",
      "generating mask\n"
     ]
    },
    {
     "name": "stdout",
     "output_type": "stream",
     "text": [
      "True->20171102-121720-2.jpg\n",
      "generating mask\n"
     ]
    },
    {
     "name": "stdout",
     "output_type": "stream",
     "text": [
      "True->20171102-121732-1.jpg\n",
      "generating mask\n"
     ]
    },
    {
     "name": "stdout",
     "output_type": "stream",
     "text": [
      "True->20171102-121735-2.jpg\n",
      "generating mask\n"
     ]
    },
    {
     "name": "stdout",
     "output_type": "stream",
     "text": [
      "True->20171102-121746-1.jpg\n",
      "generating mask\n"
     ]
    },
    {
     "name": "stdout",
     "output_type": "stream",
     "text": [
      "True->20171102-121749-2.jpg\n",
      "generating mask\n"
     ]
    },
    {
     "name": "stdout",
     "output_type": "stream",
     "text": [
      "True->20171102-121759-3.jpg\n",
      "generating mask\n"
     ]
    },
    {
     "name": "stdout",
     "output_type": "stream",
     "text": [
      "True->20171102-121802-2.jpg\n",
      "generating mask\n"
     ]
    },
    {
     "name": "stdout",
     "output_type": "stream",
     "text": [
      "True->20171102-121818-3.jpg\n",
      "generating mask\n"
     ]
    },
    {
     "name": "stdout",
     "output_type": "stream",
     "text": [
      "True->20171102-121834-3.jpg\n",
      "generating mask\n"
     ]
    },
    {
     "name": "stdout",
     "output_type": "stream",
     "text": [
      "True->20171102-121852-1.jpg\n",
      "generating mask\n"
     ]
    },
    {
     "name": "stdout",
     "output_type": "stream",
     "text": [
      "True->20171102-121933-3.jpg\n",
      "generating mask\n"
     ]
    },
    {
     "name": "stdout",
     "output_type": "stream",
     "text": [
      "True->20171102-121948-1.jpg\n",
      "generating mask\n"
     ]
    },
    {
     "name": "stdout",
     "output_type": "stream",
     "text": [
      "True->20171102-121948-2.jpg\n",
      "generating mask\n"
     ]
    },
    {
     "name": "stdout",
     "output_type": "stream",
     "text": [
      "True->20171102-122027-1.jpg\n",
      "generating mask\n"
     ]
    },
    {
     "name": "stdout",
     "output_type": "stream",
     "text": [
      "True->20171102-122100-1.jpg\n",
      "generating mask\n"
     ]
    },
    {
     "name": "stdout",
     "output_type": "stream",
     "text": [
      "True->20171102-122109-2.jpg\n",
      "generating mask\n"
     ]
    },
    {
     "name": "stdout",
     "output_type": "stream",
     "text": [
      "True->20171102-122142-3.jpg\n",
      "generating mask\n"
     ]
    },
    {
     "name": "stdout",
     "output_type": "stream",
     "text": [
      "True->20171102-122249-3.jpg\n",
      "generating mask\n"
     ]
    },
    {
     "name": "stdout",
     "output_type": "stream",
     "text": [
      "True->20171102-122300-2.jpg\n",
      "generating mask\n"
     ]
    },
    {
     "name": "stdout",
     "output_type": "stream",
     "text": [
      "True->20171102-122305-3.jpg\n",
      "generating mask\n"
     ]
    },
    {
     "name": "stdout",
     "output_type": "stream",
     "text": [
      "True->20171102-122318-1.jpg\n",
      "generating mask\n"
     ]
    },
    {
     "name": "stdout",
     "output_type": "stream",
     "text": [
      "True->20171102-122320-3.jpg\n",
      "generating mask\n"
     ]
    },
    {
     "name": "stdout",
     "output_type": "stream",
     "text": [
      "True->20171102-122334-3.jpg\n",
      "generating mask\n"
     ]
    },
    {
     "name": "stdout",
     "output_type": "stream",
     "text": [
      "True->20171102-122410-1.jpg\n",
      "generating mask\n"
     ]
    },
    {
     "name": "stdout",
     "output_type": "stream",
     "text": [
      "True->20171102-122425-1.jpg\n",
      "generating mask\n"
     ]
    },
    {
     "name": "stdout",
     "output_type": "stream",
     "text": [
      "True->20171102-122443-1.jpg\n",
      "generating mask\n"
     ]
    },
    {
     "name": "stdout",
     "output_type": "stream",
     "text": [
      "True->20171102-122445-3.jpg\n",
      "generating mask\n"
     ]
    },
    {
     "name": "stdout",
     "output_type": "stream",
     "text": [
      "True->20171102-122458-1.jpg\n",
      "generating mask\n"
     ]
    },
    {
     "name": "stdout",
     "output_type": "stream",
     "text": [
      "True->20171102-122525-2.jpg\n",
      "generating mask\n"
     ]
    },
    {
     "name": "stdout",
     "output_type": "stream",
     "text": [
      "True->20171102-122536-1.jpg\n",
      "generating mask\n"
     ]
    },
    {
     "name": "stdout",
     "output_type": "stream",
     "text": [
      "True->20171102-122541-2.jpg\n",
      "generating mask\n"
     ]
    },
    {
     "name": "stdout",
     "output_type": "stream",
     "text": [
      "True->20171102-122608-3.jpg\n",
      "generating mask\n"
     ]
    },
    {
     "name": "stdout",
     "output_type": "stream",
     "text": [
      "True->20171102-122622-2.jpg\n",
      "generating mask\n"
     ]
    },
    {
     "name": "stdout",
     "output_type": "stream",
     "text": [
      "True->20171102-122623-1.jpg\n",
      "generating mask\n"
     ]
    },
    {
     "name": "stdout",
     "output_type": "stream",
     "text": [
      "True->20171102-122633-3.jpg\n",
      "generating mask\n"
     ]
    },
    {
     "name": "stdout",
     "output_type": "stream",
     "text": [
      "True->20171102-122639-2.jpg\n",
      "generating mask\n"
     ]
    },
    {
     "name": "stdout",
     "output_type": "stream",
     "text": [
      "True->20171102-122707-1.jpg\n",
      "generating mask\n"
     ]
    },
    {
     "name": "stdout",
     "output_type": "stream",
     "text": [
      "True->20171102-122709-2.jpg\n",
      "generating mask\n"
     ]
    },
    {
     "name": "stdout",
     "output_type": "stream",
     "text": [
      "True->20171102-122719-2.jpg\n",
      "generating mask\n"
     ]
    },
    {
     "name": "stdout",
     "output_type": "stream",
     "text": [
      "True->20171102-122723-1.jpg\n",
      "generating mask\n"
     ]
    },
    {
     "name": "stdout",
     "output_type": "stream",
     "text": [
      "True->20171102-122732-2.jpg\n",
      "generating mask\n"
     ]
    },
    {
     "name": "stdout",
     "output_type": "stream",
     "text": [
      "True->20171102-122743-3.jpg\n",
      "generating mask\n"
     ]
    },
    {
     "name": "stdout",
     "output_type": "stream",
     "text": [
      "True->20171102-122750-1.jpg\n",
      "generating mask\n"
     ]
    },
    {
     "name": "stdout",
     "output_type": "stream",
     "text": [
      "True->20171102-122803-3.jpg\n",
      "generating mask\n"
     ]
    },
    {
     "name": "stdout",
     "output_type": "stream",
     "text": [
      "True->20171102-122804-2.jpg\n",
      "generating mask\n"
     ]
    },
    {
     "name": "stdout",
     "output_type": "stream",
     "text": [
      "True->20171102-122811-1.jpg\n",
      "generating mask\n"
     ]
    },
    {
     "name": "stdout",
     "output_type": "stream",
     "text": [
      "True->20171102-122824-3.jpg\n",
      "generating mask\n"
     ]
    },
    {
     "name": "stdout",
     "output_type": "stream",
     "text": [
      "True->20171102-122825-1.jpg\n",
      "generating mask\n"
     ]
    },
    {
     "name": "stdout",
     "output_type": "stream",
     "text": [
      "True->20171102-122830-2.jpg\n",
      "generating mask\n"
     ]
    },
    {
     "name": "stdout",
     "output_type": "stream",
     "text": [
      "True->20171102-122851-3.jpg\n",
      "generating mask\n"
     ]
    },
    {
     "name": "stdout",
     "output_type": "stream",
     "text": [
      "True->20171102-122854-1.jpg\n",
      "generating mask\n"
     ]
    },
    {
     "name": "stdout",
     "output_type": "stream",
     "text": [
      "True->20171102-122911-2.jpg\n",
      "generating mask\n"
     ]
    },
    {
     "name": "stdout",
     "output_type": "stream",
     "text": [
      "True->20171102-122914-3.jpg\n",
      "generating mask\n"
     ]
    },
    {
     "name": "stdout",
     "output_type": "stream",
     "text": [
      "True->20171102-122946-2.jpg\n",
      "generating mask\n"
     ]
    },
    {
     "name": "stdout",
     "output_type": "stream",
     "text": [
      "True->20171102-122956-3.jpg\n",
      "generating mask\n"
     ]
    },
    {
     "name": "stdout",
     "output_type": "stream",
     "text": [
      "True->20171102-123002-2.jpg\n",
      "generating mask\n"
     ]
    },
    {
     "name": "stdout",
     "output_type": "stream",
     "text": [
      "True->20171102-123005-1.jpg\n",
      "generating mask\n"
     ]
    },
    {
     "name": "stdout",
     "output_type": "stream",
     "text": [
      "True->20171102-123036-3.jpg\n",
      "generating mask\n"
     ]
    },
    {
     "name": "stdout",
     "output_type": "stream",
     "text": [
      "True->20171102-123049-2.jpg\n",
      "generating mask\n"
     ]
    },
    {
     "name": "stdout",
     "output_type": "stream",
     "text": [
      "True->20171102-123107-2.jpg\n",
      "generating mask\n"
     ]
    },
    {
     "name": "stdout",
     "output_type": "stream",
     "text": [
      "True->20171102-123122-2.jpg\n",
      "generating mask\n"
     ]
    },
    {
     "name": "stdout",
     "output_type": "stream",
     "text": [
      "True->20171102-123125-1.jpg\n",
      "generating mask\n"
     ]
    },
    {
     "name": "stdout",
     "output_type": "stream",
     "text": [
      "True->20171102-123136-2.jpg\n",
      "generating mask\n"
     ]
    },
    {
     "name": "stdout",
     "output_type": "stream",
     "text": [
      "True->20171102-123144-3.jpg\n",
      "generating mask\n"
     ]
    },
    {
     "name": "stdout",
     "output_type": "stream",
     "text": [
      "True->20171102-123156-1.jpg\n",
      "generating mask\n"
     ]
    },
    {
     "name": "stdout",
     "output_type": "stream",
     "text": [
      "True->20171102-123211-2.jpg\n",
      "generating mask\n"
     ]
    },
    {
     "name": "stdout",
     "output_type": "stream",
     "text": [
      "True->20171102-123220-3.jpg\n",
      "generating mask\n"
     ]
    },
    {
     "name": "stdout",
     "output_type": "stream",
     "text": [
      "True->20171102-123222-1.jpg\n",
      "generating mask\n"
     ]
    },
    {
     "name": "stdout",
     "output_type": "stream",
     "text": [
      "True->20171102-123238-1.jpg\n",
      "generating mask\n"
     ]
    },
    {
     "name": "stdout",
     "output_type": "stream",
     "text": [
      "True->20171102-123242-2.jpg\n",
      "generating mask\n"
     ]
    },
    {
     "name": "stdout",
     "output_type": "stream",
     "text": [
      "True->20171102-123253-1.jpg\n",
      "generating mask\n"
     ]
    },
    {
     "name": "stdout",
     "output_type": "stream",
     "text": [
      "True->20171102-123300-3.jpg\n",
      "generating mask\n"
     ]
    },
    {
     "name": "stdout",
     "output_type": "stream",
     "text": [
      "True->20171102-123303-2.jpg\n",
      "generating mask\n"
     ]
    },
    {
     "name": "stdout",
     "output_type": "stream",
     "text": [
      "True->20171102-123304-1.jpg\n",
      "generating mask\n"
     ]
    },
    {
     "name": "stdout",
     "output_type": "stream",
     "text": [
      "True->20171102-123338-2.jpg\n",
      "generating mask\n"
     ]
    },
    {
     "name": "stdout",
     "output_type": "stream",
     "text": [
      "True->20171102-123406-3.jpg\n",
      "generating mask\n"
     ]
    },
    {
     "name": "stdout",
     "output_type": "stream",
     "text": [
      "True->20171102-123413-1.jpg\n",
      "generating mask\n"
     ]
    },
    {
     "name": "stdout",
     "output_type": "stream",
     "text": [
      "True->20171102-123413-2.jpg\n",
      "generating mask\n"
     ]
    },
    {
     "name": "stdout",
     "output_type": "stream",
     "text": [
      "True->20171102-123448-2.jpg\n",
      "generating mask\n"
     ]
    },
    {
     "name": "stdout",
     "output_type": "stream",
     "text": [
      "True->20171102-123451-3.jpg\n",
      "generating mask\n"
     ]
    },
    {
     "name": "stdout",
     "output_type": "stream",
     "text": [
      "True->20171102-123501-2.jpg\n",
      "generating mask\n"
     ]
    },
    {
     "name": "stdout",
     "output_type": "stream",
     "text": [
      "True->20171102-123523-1.jpg\n",
      "generating mask\n"
     ]
    },
    {
     "name": "stdout",
     "output_type": "stream",
     "text": [
      "True->20171102-123549-2.jpg\n",
      "generating mask\n"
     ]
    },
    {
     "name": "stdout",
     "output_type": "stream",
     "text": [
      "True->20171102-123554-3.jpg\n",
      "generating mask\n"
     ]
    },
    {
     "name": "stdout",
     "output_type": "stream",
     "text": [
      "True->20171102-123606-2.jpg\n",
      "generating mask\n"
     ]
    },
    {
     "name": "stdout",
     "output_type": "stream",
     "text": [
      "True->20171102-123636-2.jpg\n",
      "generating mask\n"
     ]
    },
    {
     "name": "stdout",
     "output_type": "stream",
     "text": [
      "True->20171108-123917-3.jpg\n",
      "generating mask\n"
     ]
    },
    {
     "name": "stdout",
     "output_type": "stream",
     "text": [
      "True->20171108-124156-3.jpg\n",
      "generating mask\n"
     ]
    },
    {
     "name": "stdout",
     "output_type": "stream",
     "text": [
      "True->20171108-124659-3.jpg\n",
      "generating mask\n"
     ]
    },
    {
     "name": "stdout",
     "output_type": "stream",
     "text": [
      "True->20171108-124937-3.jpg\n",
      "generating mask\n"
     ]
    },
    {
     "name": "stdout",
     "output_type": "stream",
     "text": [
      "True->20171108-125348-3.jpg\n",
      "generating mask\n"
     ]
    },
    {
     "name": "stdout",
     "output_type": "stream",
     "text": [
      "True->20171108-125406-3.jpg\n",
      "generating mask\n"
     ]
    },
    {
     "name": "stdout",
     "output_type": "stream",
     "text": [
      "True->20171108-125451-3.jpg\n",
      "generating mask\n"
     ]
    },
    {
     "name": "stdout",
     "output_type": "stream",
     "text": [
      "True->20171108-125635-3.jpg\n",
      "generating mask\n"
     ]
    },
    {
     "name": "stdout",
     "output_type": "stream",
     "text": [
      "True->20171108-125657-3.jpg\n",
      "generating mask\n"
     ]
    },
    {
     "name": "stdout",
     "output_type": "stream",
     "text": [
      "True->20171108-125806-3.jpg\n",
      "generating mask\n"
     ]
    },
    {
     "name": "stdout",
     "output_type": "stream",
     "text": [
      "True->20171108-125923-3.jpg\n",
      "generating mask\n"
     ]
    },
    {
     "name": "stdout",
     "output_type": "stream",
     "text": [
      "True->20171108-130147-3.jpg\n",
      "generating mask\n"
     ]
    },
    {
     "name": "stdout",
     "output_type": "stream",
     "text": [
      "True->20171108-130459-3.jpg\n",
      "generating mask\n"
     ]
    },
    {
     "name": "stdout",
     "output_type": "stream",
     "text": [
      "True->20171108-130543-3.jpg\n",
      "generating mask\n"
     ]
    },
    {
     "name": "stdout",
     "output_type": "stream",
     "text": [
      "True->20171108-130728-3.jpg\n",
      "generating mask\n"
     ]
    },
    {
     "name": "stdout",
     "output_type": "stream",
     "text": [
      "True->20171109-070321-1.jpg\n",
      "generating mask\n"
     ]
    },
    {
     "name": "stdout",
     "output_type": "stream",
     "text": [
      "True->20171109-070638-1.jpg\n",
      "generating mask\n"
     ]
    },
    {
     "name": "stdout",
     "output_type": "stream",
     "text": [
      "True->20171109-070659-3.jpg\n",
      "generating mask\n"
     ]
    },
    {
     "name": "stdout",
     "output_type": "stream",
     "text": [
      "True->20171109-070713-3.jpg\n",
      "generating mask\n"
     ]
    },
    {
     "name": "stdout",
     "output_type": "stream",
     "text": [
      "True->20171109-070737-3.jpg\n",
      "generating mask\n"
     ]
    },
    {
     "name": "stdout",
     "output_type": "stream",
     "text": [
      "True->20171109-070740-1.jpg\n",
      "generating mask\n"
     ]
    },
    {
     "name": "stdout",
     "output_type": "stream",
     "text": [
      "True->20171109-070827-1.jpg\n",
      "generating mask\n"
     ]
    },
    {
     "name": "stdout",
     "output_type": "stream",
     "text": [
      "True->20171109-070837-3.jpg\n",
      "generating mask\n"
     ]
    },
    {
     "name": "stdout",
     "output_type": "stream",
     "text": [
      "True->20171109-070859-1.jpg\n",
      "generating mask\n"
     ]
    },
    {
     "name": "stdout",
     "output_type": "stream",
     "text": [
      "True->20171109-070917-1.jpg\n",
      "generating mask\n"
     ]
    },
    {
     "name": "stdout",
     "output_type": "stream",
     "text": [
      "True->20171109-070949-3.jpg\n",
      "generating mask\n"
     ]
    },
    {
     "name": "stdout",
     "output_type": "stream",
     "text": [
      "True->20171109-071030-3.jpg\n",
      "generating mask\n"
     ]
    },
    {
     "name": "stdout",
     "output_type": "stream",
     "text": [
      "True->20171109-071105-3.jpg\n",
      "generating mask\n"
     ]
    },
    {
     "name": "stdout",
     "output_type": "stream",
     "text": [
      "True->20171109-071127-1.jpg\n",
      "generating mask\n"
     ]
    },
    {
     "name": "stdout",
     "output_type": "stream",
     "text": [
      "True->20171109-071146-1.jpg\n",
      "generating mask\n"
     ]
    },
    {
     "name": "stdout",
     "output_type": "stream",
     "text": [
      "True->20171109-071156-3.jpg\n",
      "generating mask\n"
     ]
    },
    {
     "name": "stdout",
     "output_type": "stream",
     "text": [
      "True->20171109-071206-1.jpg\n",
      "generating mask\n"
     ]
    },
    {
     "name": "stdout",
     "output_type": "stream",
     "text": [
      "True->20171109-071224-3.jpg\n",
      "generating mask\n"
     ]
    },
    {
     "name": "stdout",
     "output_type": "stream",
     "text": [
      "True->20171109-071248-3.jpg\n",
      "generating mask\n"
     ]
    },
    {
     "name": "stdout",
     "output_type": "stream",
     "text": [
      "True->20171109-071315-1.jpg\n",
      "generating mask\n"
     ]
    },
    {
     "name": "stdout",
     "output_type": "stream",
     "text": [
      "True->20171109-071352-1.jpg\n",
      "generating mask\n"
     ]
    },
    {
     "name": "stdout",
     "output_type": "stream",
     "text": [
      "True->20171109-071411-1.jpg\n",
      "generating mask\n"
     ]
    },
    {
     "name": "stdout",
     "output_type": "stream",
     "text": [
      "True->20171109-071422-3.jpg\n",
      "generating mask\n"
     ]
    },
    {
     "name": "stdout",
     "output_type": "stream",
     "text": [
      "True->20171109-071437-1.jpg\n",
      "generating mask\n"
     ]
    },
    {
     "name": "stdout",
     "output_type": "stream",
     "text": [
      "True->20171109-071508-1.jpg\n",
      "generating mask\n"
     ]
    },
    {
     "name": "stdout",
     "output_type": "stream",
     "text": [
      "True->20171109-071508-3.jpg\n",
      "generating mask\n"
     ]
    },
    {
     "name": "stdout",
     "output_type": "stream",
     "text": [
      "True->20171109-071525-3.jpg\n",
      "generating mask\n"
     ]
    },
    {
     "name": "stdout",
     "output_type": "stream",
     "text": [
      "True->20171109-071541-3.jpg\n",
      "generating mask\n"
     ]
    },
    {
     "name": "stdout",
     "output_type": "stream",
     "text": [
      "True->20171109-071551-1.jpg\n",
      "generating mask\n"
     ]
    },
    {
     "name": "stdout",
     "output_type": "stream",
     "text": [
      "True->20171109-071611-3.jpg\n",
      "generating mask\n"
     ]
    },
    {
     "name": "stdout",
     "output_type": "stream",
     "text": [
      "True->20171109-071623-1.jpg\n",
      "generating mask\n"
     ]
    },
    {
     "name": "stdout",
     "output_type": "stream",
     "text": [
      "True->20171109-071722-1.jpg\n",
      "generating mask\n"
     ]
    },
    {
     "name": "stdout",
     "output_type": "stream",
     "text": [
      "True->20171109-071740-1.jpg\n",
      "generating mask\n"
     ]
    },
    {
     "name": "stdout",
     "output_type": "stream",
     "text": [
      "True->20171109-071800-3.jpg\n",
      "generating mask\n"
     ]
    },
    {
     "name": "stdout",
     "output_type": "stream",
     "text": [
      "True->20171109-071831-3.jpg\n",
      "generating mask\n"
     ]
    },
    {
     "name": "stdout",
     "output_type": "stream",
     "text": [
      "True->20171109-071835-1.jpg\n",
      "generating mask\n"
     ]
    },
    {
     "name": "stdout",
     "output_type": "stream",
     "text": [
      "True->20171109-071849-1.jpg\n",
      "generating mask\n"
     ]
    },
    {
     "name": "stdout",
     "output_type": "stream",
     "text": [
      "True->20171109-071907-1.jpg\n",
      "generating mask\n"
     ]
    },
    {
     "name": "stdout",
     "output_type": "stream",
     "text": [
      "True->20171109-071918-3.jpg\n",
      "generating mask\n"
     ]
    },
    {
     "name": "stdout",
     "output_type": "stream",
     "text": [
      "True->20171109-071938-3.jpg\n",
      "generating mask\n"
     ]
    },
    {
     "name": "stdout",
     "output_type": "stream",
     "text": [
      "True->20171109-072002-1.jpg\n",
      "generating mask\n"
     ]
    },
    {
     "name": "stdout",
     "output_type": "stream",
     "text": [
      "True->20171109-072025-1.jpg\n",
      "generating mask\n"
     ]
    },
    {
     "name": "stdout",
     "output_type": "stream",
     "text": [
      "True->20171109-072039-1.jpg\n",
      "generating mask\n"
     ]
    },
    {
     "name": "stdout",
     "output_type": "stream",
     "text": [
      "True->20171109-072053-1.jpg\n",
      "generating mask\n"
     ]
    },
    {
     "name": "stdout",
     "output_type": "stream",
     "text": [
      "True->20171109-072120-3.jpg\n",
      "generating mask\n"
     ]
    },
    {
     "name": "stdout",
     "output_type": "stream",
     "text": [
      "True->20171109-072130-1.jpg\n",
      "generating mask\n"
     ]
    },
    {
     "name": "stdout",
     "output_type": "stream",
     "text": [
      "True->20171109-072154-3.jpg\n",
      "generating mask\n"
     ]
    },
    {
     "name": "stdout",
     "output_type": "stream",
     "text": [
      "True->20171109-072202-1.jpg\n",
      "generating mask\n"
     ]
    },
    {
     "name": "stdout",
     "output_type": "stream",
     "text": [
      "True->20171109-072219-1.jpg\n",
      "generating mask\n"
     ]
    },
    {
     "name": "stdout",
     "output_type": "stream",
     "text": [
      "True->20171109-072221-3.jpg\n",
      "generating mask\n"
     ]
    },
    {
     "name": "stdout",
     "output_type": "stream",
     "text": [
      "True->20171109-072244-1.jpg\n",
      "generating mask\n"
     ]
    },
    {
     "name": "stdout",
     "output_type": "stream",
     "text": [
      "True->20171109-072302-3.jpg\n",
      "generating mask\n"
     ]
    },
    {
     "name": "stdout",
     "output_type": "stream",
     "text": [
      "True->20171109-072328-1.jpg\n",
      "generating mask\n"
     ]
    },
    {
     "name": "stdout",
     "output_type": "stream",
     "text": [
      "True->20171109-072340-3.jpg\n",
      "generating mask\n"
     ]
    },
    {
     "name": "stdout",
     "output_type": "stream",
     "text": [
      "True->20171109-072401-1.jpg\n",
      "generating mask\n"
     ]
    },
    {
     "name": "stdout",
     "output_type": "stream",
     "text": [
      "True->20171109-072419-1.jpg\n",
      "generating mask\n"
     ]
    },
    {
     "name": "stdout",
     "output_type": "stream",
     "text": [
      "True->20171109-072431-3.jpg\n",
      "generating mask\n"
     ]
    },
    {
     "name": "stdout",
     "output_type": "stream",
     "text": [
      "True->20171109-072450-1.jpg\n",
      "generating mask\n"
     ]
    },
    {
     "name": "stdout",
     "output_type": "stream",
     "text": [
      "True->20171109-072524-1.jpg\n",
      "generating mask\n"
     ]
    },
    {
     "name": "stdout",
     "output_type": "stream",
     "text": [
      "True->20171109-072536-1.jpg\n",
      "generating mask\n"
     ]
    },
    {
     "name": "stdout",
     "output_type": "stream",
     "text": [
      "True->20171109-072611-1.jpg\n",
      "generating mask\n"
     ]
    },
    {
     "name": "stdout",
     "output_type": "stream",
     "text": [
      "True->20171109-072625-1.jpg\n",
      "generating mask\n"
     ]
    },
    {
     "name": "stdout",
     "output_type": "stream",
     "text": [
      "True->20171109-072638-1.jpg\n",
      "generating mask\n"
     ]
    },
    {
     "name": "stdout",
     "output_type": "stream",
     "text": [
      "True->20171109-072655-1.jpg\n",
      "generating mask\n"
     ]
    },
    {
     "name": "stdout",
     "output_type": "stream",
     "text": [
      "True->20171109-072658-3.jpg\n",
      "generating mask\n"
     ]
    },
    {
     "name": "stdout",
     "output_type": "stream",
     "text": [
      "True->20171109-072715-1.jpg\n",
      "generating mask\n"
     ]
    },
    {
     "name": "stdout",
     "output_type": "stream",
     "text": [
      "True->20171109-072742-3.jpg\n",
      "generating mask\n"
     ]
    },
    {
     "name": "stdout",
     "output_type": "stream",
     "text": [
      "True->20171109-072743-1.jpg\n",
      "generating mask\n"
     ]
    },
    {
     "name": "stdout",
     "output_type": "stream",
     "text": [
      "True->20171109-072806-3.jpg\n",
      "generating mask\n"
     ]
    },
    {
     "name": "stdout",
     "output_type": "stream",
     "text": [
      "True->20171109-072825-3.jpg\n",
      "generating mask\n"
     ]
    },
    {
     "name": "stdout",
     "output_type": "stream",
     "text": [
      "True->20171109-072843-3.jpg\n",
      "generating mask\n"
     ]
    },
    {
     "name": "stdout",
     "output_type": "stream",
     "text": [
      "True->20171109-072905-3.jpg\n",
      "generating mask\n"
     ]
    },
    {
     "name": "stdout",
     "output_type": "stream",
     "text": [
      "True->20171109-072924-3.jpg\n",
      "generating mask\n"
     ]
    },
    {
     "name": "stdout",
     "output_type": "stream",
     "text": [
      "True->20171109-073102-3.jpg\n",
      "generating mask\n"
     ]
    },
    {
     "name": "stdout",
     "output_type": "stream",
     "text": [
      "True->20171109-073211-1.jpg\n",
      "generating mask\n"
     ]
    },
    {
     "name": "stdout",
     "output_type": "stream",
     "text": [
      "True->20171109-073214-3.jpg\n",
      "generating mask\n"
     ]
    },
    {
     "name": "stdout",
     "output_type": "stream",
     "text": [
      "True->20171109-073228-3.jpg\n",
      "generating mask\n"
     ]
    },
    {
     "name": "stdout",
     "output_type": "stream",
     "text": [
      "True->20171109-073257-1.jpg\n",
      "generating mask\n"
     ]
    },
    {
     "name": "stdout",
     "output_type": "stream",
     "text": [
      "True->20171109-073258-3.jpg\n",
      "generating mask\n"
     ]
    },
    {
     "name": "stdout",
     "output_type": "stream",
     "text": [
      "True->20171109-073310-1.jpg\n",
      "generating mask\n"
     ]
    },
    {
     "name": "stdout",
     "output_type": "stream",
     "text": [
      "True->20171109-073321-3.jpg\n",
      "generating mask\n"
     ]
    },
    {
     "name": "stdout",
     "output_type": "stream",
     "text": [
      "True->20171109-073403-1.jpg\n",
      "generating mask\n"
     ]
    },
    {
     "name": "stdout",
     "output_type": "stream",
     "text": [
      "True->20171109-073423-1.jpg\n",
      "generating mask\n"
     ]
    },
    {
     "name": "stdout",
     "output_type": "stream",
     "text": [
      "True->20171109-073438-1.jpg\n",
      "generating mask\n"
     ]
    },
    {
     "name": "stdout",
     "output_type": "stream",
     "text": [
      "True->20171109-073450-3.jpg\n",
      "generating mask\n"
     ]
    },
    {
     "name": "stdout",
     "output_type": "stream",
     "text": [
      "True->20171109-073455-1.jpg\n",
      "generating mask\n"
     ]
    },
    {
     "name": "stdout",
     "output_type": "stream",
     "text": [
      "True->20171109-073516-3.jpg\n",
      "generating mask\n"
     ]
    },
    {
     "name": "stdout",
     "output_type": "stream",
     "text": [
      "True->20171109-073524-1.jpg\n",
      "generating mask\n"
     ]
    },
    {
     "name": "stdout",
     "output_type": "stream",
     "text": [
      "True->20171109-073544-3.jpg\n",
      "generating mask\n"
     ]
    },
    {
     "name": "stdout",
     "output_type": "stream",
     "text": [
      "True->20171109-073626-1.jpg\n",
      "generating mask\n"
     ]
    },
    {
     "name": "stdout",
     "output_type": "stream",
     "text": [
      "True->20171109-073641-3.jpg\n",
      "generating mask\n"
     ]
    },
    {
     "name": "stdout",
     "output_type": "stream",
     "text": [
      "True->20171109-073645-1.jpg\n",
      "generating mask\n"
     ]
    },
    {
     "name": "stdout",
     "output_type": "stream",
     "text": [
      "True->20171109-073713-1.jpg\n",
      "generating mask\n"
     ]
    },
    {
     "name": "stdout",
     "output_type": "stream",
     "text": [
      "True->20171109-073724-1.jpg\n",
      "generating mask\n"
     ]
    },
    {
     "name": "stdout",
     "output_type": "stream",
     "text": [
      "True->20171109-073739-1.jpg\n",
      "generating mask\n"
     ]
    },
    {
     "name": "stdout",
     "output_type": "stream",
     "text": [
      "True->20171109-073756-1.jpg\n",
      "generating mask\n"
     ]
    },
    {
     "name": "stdout",
     "output_type": "stream",
     "text": [
      "True->20171109-073837-1.jpg\n",
      "generating mask\n"
     ]
    },
    {
     "name": "stdout",
     "output_type": "stream",
     "text": [
      "True->20171109-073850-1.jpg\n",
      "generating mask\n"
     ]
    },
    {
     "name": "stdout",
     "output_type": "stream",
     "text": [
      "True->20171109-074018-1.jpg\n",
      "generating mask\n"
     ]
    },
    {
     "name": "stdout",
     "output_type": "stream",
     "text": [
      "True->20171109-074022-3.jpg\n",
      "generating mask\n"
     ]
    },
    {
     "name": "stdout",
     "output_type": "stream",
     "text": [
      "True->20171109-074032-1.jpg\n",
      "generating mask\n"
     ]
    },
    {
     "name": "stdout",
     "output_type": "stream",
     "text": [
      "True->20171109-074050-1.jpg\n",
      "generating mask\n"
     ]
    },
    {
     "name": "stdout",
     "output_type": "stream",
     "text": [
      "True->20171109-074113-3.jpg\n",
      "generating mask\n"
     ]
    },
    {
     "name": "stdout",
     "output_type": "stream",
     "text": [
      "True->20171109-074128-1.jpg\n",
      "generating mask\n"
     ]
    },
    {
     "name": "stdout",
     "output_type": "stream",
     "text": [
      "True->20171109-074145-1.jpg\n",
      "generating mask\n"
     ]
    },
    {
     "name": "stdout",
     "output_type": "stream",
     "text": [
      "True->20171109-074209-3.jpg\n",
      "generating mask\n"
     ]
    },
    {
     "name": "stdout",
     "output_type": "stream",
     "text": [
      "True->20171109-074227-3.jpg\n",
      "generating mask\n"
     ]
    },
    {
     "name": "stdout",
     "output_type": "stream",
     "text": [
      "True->20171109-074249-3.jpg\n",
      "generating mask\n"
     ]
    },
    {
     "name": "stdout",
     "output_type": "stream",
     "text": [
      "True->20171109-074255-1.jpg\n",
      "generating mask\n"
     ]
    },
    {
     "name": "stdout",
     "output_type": "stream",
     "text": [
      "True->20171109-074327-1.jpg\n",
      "generating mask\n"
     ]
    },
    {
     "name": "stdout",
     "output_type": "stream",
     "text": [
      "True->20171109-074344-3.jpg\n",
      "generating mask\n"
     ]
    },
    {
     "name": "stdout",
     "output_type": "stream",
     "text": [
      "True->20171109-074353-1.jpg\n",
      "generating mask\n"
     ]
    },
    {
     "name": "stdout",
     "output_type": "stream",
     "text": [
      "True->20171109-074418-1.jpg\n",
      "generating mask\n"
     ]
    },
    {
     "name": "stdout",
     "output_type": "stream",
     "text": [
      "True->20171109-074441-1.jpg\n",
      "generating mask\n"
     ]
    },
    {
     "name": "stdout",
     "output_type": "stream",
     "text": [
      "True->20171109-074508-3.jpg\n",
      "generating mask\n"
     ]
    },
    {
     "name": "stdout",
     "output_type": "stream",
     "text": [
      "True->20171109-074528-3.jpg\n",
      "generating mask\n"
     ]
    },
    {
     "name": "stdout",
     "output_type": "stream",
     "text": [
      "True->20171109-074543-1.jpg\n",
      "generating mask\n"
     ]
    },
    {
     "name": "stdout",
     "output_type": "stream",
     "text": [
      "True->20171109-074620-3.jpg\n",
      "generating mask\n"
     ]
    },
    {
     "name": "stdout",
     "output_type": "stream",
     "text": [
      "True->20171109-074650-1.jpg\n",
      "generating mask\n"
     ]
    },
    {
     "name": "stdout",
     "output_type": "stream",
     "text": [
      "True->20171109-074721-1.jpg\n",
      "generating mask\n"
     ]
    },
    {
     "name": "stdout",
     "output_type": "stream",
     "text": [
      "True->20171109-074748-1.jpg\n",
      "generating mask\n"
     ]
    },
    {
     "name": "stdout",
     "output_type": "stream",
     "text": [
      "True->20171109-074757-3.jpg\n",
      "generating mask\n"
     ]
    },
    {
     "name": "stdout",
     "output_type": "stream",
     "text": [
      "True->20171109-074809-1.jpg\n",
      "generating mask\n"
     ]
    },
    {
     "name": "stdout",
     "output_type": "stream",
     "text": [
      "True->20171109-074813-3.jpg\n",
      "generating mask\n"
     ]
    },
    {
     "name": "stdout",
     "output_type": "stream",
     "text": [
      "True->20171109-074823-1.jpg\n",
      "generating mask\n"
     ]
    },
    {
     "name": "stdout",
     "output_type": "stream",
     "text": [
      "True->20171109-074838-3.jpg\n",
      "generating mask\n"
     ]
    },
    {
     "name": "stdout",
     "output_type": "stream",
     "text": [
      "True->20171109-074847-1.jpg\n",
      "generating mask\n"
     ]
    },
    {
     "name": "stdout",
     "output_type": "stream",
     "text": [
      "True->20171109-074906-3.jpg\n",
      "generating mask\n"
     ]
    },
    {
     "name": "stdout",
     "output_type": "stream",
     "text": [
      "True->20171109-074955-1.jpg\n",
      "generating mask\n"
     ]
    },
    {
     "name": "stdout",
     "output_type": "stream",
     "text": [
      "True->20171109-075027-3.jpg\n",
      "generating mask\n"
     ]
    },
    {
     "name": "stdout",
     "output_type": "stream",
     "text": [
      "True->20171109-075049-3.jpg\n",
      "generating mask\n"
     ]
    },
    {
     "name": "stdout",
     "output_type": "stream",
     "text": [
      "True->20171109-075107-3.jpg\n",
      "generating mask\n"
     ]
    },
    {
     "name": "stdout",
     "output_type": "stream",
     "text": [
      "True->20171109-075129-3.jpg\n",
      "generating mask\n"
     ]
    },
    {
     "name": "stdout",
     "output_type": "stream",
     "text": [
      "True->20171109-084412-3.jpg\n",
      "generating mask\n"
     ]
    },
    {
     "name": "stdout",
     "output_type": "stream",
     "text": [
      "True->20171109-084701-3.jpg\n",
      "generating mask\n"
     ]
    },
    {
     "name": "stdout",
     "output_type": "stream",
     "text": [
      "True->20171109-084741-3.jpg\n",
      "generating mask\n"
     ]
    },
    {
     "name": "stdout",
     "output_type": "stream",
     "text": [
      "True->20171109-084821-3.jpg\n",
      "generating mask\n"
     ]
    },
    {
     "name": "stdout",
     "output_type": "stream",
     "text": [
      "True->20171109-084834-3.jpg\n",
      "generating mask\n"
     ]
    },
    {
     "name": "stdout",
     "output_type": "stream",
     "text": [
      "True->20171109-084852-3.jpg\n",
      "generating mask\n"
     ]
    },
    {
     "name": "stdout",
     "output_type": "stream",
     "text": [
      "True->20171109-084949-3.jpg\n",
      "generating mask\n"
     ]
    },
    {
     "name": "stdout",
     "output_type": "stream",
     "text": [
      "True->20171109-085043-3.jpg\n",
      "generating mask\n"
     ]
    },
    {
     "name": "stdout",
     "output_type": "stream",
     "text": [
      "True->20171109-085101-2.jpg\n",
      "generating mask\n"
     ]
    },
    {
     "name": "stdout",
     "output_type": "stream",
     "text": [
      "True->20171109-085122-3.jpg\n",
      "generating mask\n"
     ]
    },
    {
     "name": "stdout",
     "output_type": "stream",
     "text": [
      "True->20171109-085202-3.jpg\n",
      "generating mask\n"
     ]
    },
    {
     "name": "stdout",
     "output_type": "stream",
     "text": [
      "True->20171109-085248-2.jpg\n",
      "generating mask\n"
     ]
    },
    {
     "name": "stdout",
     "output_type": "stream",
     "text": [
      "True->20171109-085309-3.jpg\n",
      "generating mask\n"
     ]
    },
    {
     "name": "stdout",
     "output_type": "stream",
     "text": [
      "True->20171109-085336-3.jpg\n",
      "generating mask\n"
     ]
    },
    {
     "name": "stdout",
     "output_type": "stream",
     "text": [
      "True->20171109-085346-2.jpg\n",
      "generating mask\n"
     ]
    },
    {
     "name": "stdout",
     "output_type": "stream",
     "text": [
      "True->20171109-085408-2.jpg\n",
      "generating mask\n"
     ]
    },
    {
     "name": "stdout",
     "output_type": "stream",
     "text": [
      "True->20171109-085426-2.jpg\n",
      "generating mask\n"
     ]
    },
    {
     "name": "stdout",
     "output_type": "stream",
     "text": [
      "True->20171109-085430-3.jpg\n",
      "generating mask\n"
     ]
    },
    {
     "name": "stdout",
     "output_type": "stream",
     "text": [
      "True->20171109-085448-2.jpg\n",
      "generating mask\n"
     ]
    },
    {
     "name": "stdout",
     "output_type": "stream",
     "text": [
      "True->20171109-085510-2.jpg\n",
      "generating mask\n"
     ]
    },
    {
     "name": "stdout",
     "output_type": "stream",
     "text": [
      "True->20171109-085523-2.jpg\n",
      "generating mask\n"
     ]
    },
    {
     "name": "stdout",
     "output_type": "stream",
     "text": [
      "True->20171109-085535-2.jpg\n",
      "generating mask\n"
     ]
    },
    {
     "name": "stdout",
     "output_type": "stream",
     "text": [
      "True->20171109-085554-2.jpg\n",
      "generating mask\n"
     ]
    },
    {
     "name": "stdout",
     "output_type": "stream",
     "text": [
      "True->20171109-085612-2.jpg\n",
      "generating mask\n"
     ]
    },
    {
     "name": "stdout",
     "output_type": "stream",
     "text": [
      "True->20171109-085627-2.jpg\n",
      "generating mask\n"
     ]
    },
    {
     "name": "stdout",
     "output_type": "stream",
     "text": [
      "True->20171109-085643-2.jpg\n",
      "generating mask\n"
     ]
    },
    {
     "name": "stdout",
     "output_type": "stream",
     "text": [
      "True->20171109-085703-2.jpg\n",
      "generating mask\n"
     ]
    },
    {
     "name": "stdout",
     "output_type": "stream",
     "text": [
      "True->20171109-085729-2.jpg\n",
      "generating mask\n"
     ]
    },
    {
     "name": "stdout",
     "output_type": "stream",
     "text": [
      "True->20171109-085837-2.jpg\n",
      "generating mask\n"
     ]
    },
    {
     "name": "stdout",
     "output_type": "stream",
     "text": [
      "True->20171109-085908-2.jpg\n",
      "generating mask\n"
     ]
    },
    {
     "name": "stdout",
     "output_type": "stream",
     "text": [
      "True->20171109-085929-1.jpg\n",
      "generating mask\n"
     ]
    },
    {
     "name": "stdout",
     "output_type": "stream",
     "text": [
      "True->20171109-085929-2.jpg\n",
      "generating mask\n"
     ]
    },
    {
     "name": "stdout",
     "output_type": "stream",
     "text": [
      "True->20171109-090028-1.jpg\n",
      "generating mask\n"
     ]
    },
    {
     "name": "stdout",
     "output_type": "stream",
     "text": [
      "True->20171109-090052-3.jpg\n",
      "generating mask\n"
     ]
    },
    {
     "name": "stdout",
     "output_type": "stream",
     "text": [
      "True->20171109-090053-1.jpg\n",
      "generating mask\n"
     ]
    },
    {
     "name": "stdout",
     "output_type": "stream",
     "text": [
      "True->20171109-090125-3.jpg\n",
      "generating mask\n"
     ]
    },
    {
     "name": "stdout",
     "output_type": "stream",
     "text": [
      "True->20171109-090139-1.jpg\n",
      "generating mask\n"
     ]
    },
    {
     "name": "stdout",
     "output_type": "stream",
     "text": [
      "True->20171109-090145-3.jpg\n",
      "generating mask\n"
     ]
    },
    {
     "name": "stdout",
     "output_type": "stream",
     "text": [
      "True->20171109-090149-1.jpg\n",
      "generating mask\n"
     ]
    },
    {
     "name": "stdout",
     "output_type": "stream",
     "text": [
      "True->20171109-090219-3.jpg\n",
      "generating mask\n"
     ]
    },
    {
     "name": "stdout",
     "output_type": "stream",
     "text": [
      "True->20171109-090224-1.jpg\n",
      "generating mask\n"
     ]
    },
    {
     "name": "stdout",
     "output_type": "stream",
     "text": [
      "True->20171109-090231-3.jpg\n",
      "generating mask\n"
     ]
    },
    {
     "name": "stdout",
     "output_type": "stream",
     "text": [
      "True->20171109-090236-1.jpg\n",
      "generating mask\n"
     ]
    },
    {
     "name": "stdout",
     "output_type": "stream",
     "text": [
      "True->20171109-090242-2.jpg\n",
      "generating mask\n"
     ]
    },
    {
     "name": "stdout",
     "output_type": "stream",
     "text": [
      "True->20171109-090247-1.jpg\n",
      "generating mask\n"
     ]
    },
    {
     "name": "stdout",
     "output_type": "stream",
     "text": [
      "True->20171109-090301-2.jpg\n",
      "generating mask\n"
     ]
    },
    {
     "name": "stdout",
     "output_type": "stream",
     "text": [
      "True->20171109-090301-3.jpg\n",
      "generating mask\n"
     ]
    },
    {
     "name": "stdout",
     "output_type": "stream",
     "text": [
      "True->20171109-090323-1.jpg\n",
      "generating mask\n"
     ]
    },
    {
     "name": "stdout",
     "output_type": "stream",
     "text": [
      "True->20171109-090324-3.jpg\n",
      "generating mask\n"
     ]
    },
    {
     "name": "stdout",
     "output_type": "stream",
     "text": [
      "True->20171109-090345-1.jpg\n",
      "generating mask\n"
     ]
    },
    {
     "name": "stdout",
     "output_type": "stream",
     "text": [
      "True->20171109-090359-1.jpg\n",
      "generating mask\n"
     ]
    },
    {
     "name": "stdout",
     "output_type": "stream",
     "text": [
      "True->20171109-090406-2.jpg\n",
      "generating mask\n"
     ]
    },
    {
     "name": "stdout",
     "output_type": "stream",
     "text": [
      "True->20171109-090408-3.jpg\n",
      "generating mask\n"
     ]
    },
    {
     "name": "stdout",
     "output_type": "stream",
     "text": [
      "True->20171109-090420-1.jpg\n",
      "generating mask\n"
     ]
    },
    {
     "name": "stdout",
     "output_type": "stream",
     "text": [
      "True->20171109-090439-2.jpg\n",
      "generating mask\n"
     ]
    },
    {
     "name": "stdout",
     "output_type": "stream",
     "text": [
      "True->20171109-090506-2.jpg\n",
      "generating mask\n"
     ]
    },
    {
     "name": "stdout",
     "output_type": "stream",
     "text": [
      "True->20171109-090520-3.jpg\n",
      "generating mask\n"
     ]
    },
    {
     "name": "stdout",
     "output_type": "stream",
     "text": [
      "True->20171109-090601-2.jpg\n",
      "generating mask\n"
     ]
    },
    {
     "name": "stdout",
     "output_type": "stream",
     "text": [
      "True->20171109-090609-3.jpg\n",
      "generating mask\n"
     ]
    },
    {
     "name": "stdout",
     "output_type": "stream",
     "text": [
      "True->20171109-090623-3.jpg\n",
      "generating mask\n"
     ]
    },
    {
     "name": "stdout",
     "output_type": "stream",
     "text": [
      "True->20171109-090628-2.jpg\n",
      "generating mask\n"
     ]
    },
    {
     "name": "stdout",
     "output_type": "stream",
     "text": [
      "True->20171109-090659-1.jpg\n",
      "generating mask\n"
     ]
    },
    {
     "name": "stdout",
     "output_type": "stream",
     "text": [
      "True->20171109-090659-2.jpg\n",
      "generating mask\n"
     ]
    },
    {
     "name": "stdout",
     "output_type": "stream",
     "text": [
      "True->20171109-090704-3.jpg\n",
      "generating mask\n"
     ]
    },
    {
     "name": "stdout",
     "output_type": "stream",
     "text": [
      "True->20171109-090714-1.jpg\n",
      "generating mask\n"
     ]
    },
    {
     "name": "stdout",
     "output_type": "stream",
     "text": [
      "True->20171109-090726-2.jpg\n",
      "generating mask\n"
     ]
    },
    {
     "name": "stdout",
     "output_type": "stream",
     "text": [
      "True->20171109-090726-3.jpg\n",
      "generating mask\n"
     ]
    },
    {
     "name": "stdout",
     "output_type": "stream",
     "text": [
      "True->20171109-090738-2.jpg\n",
      "generating mask\n"
     ]
    },
    {
     "name": "stdout",
     "output_type": "stream",
     "text": [
      "True->20171109-090741-3.jpg\n",
      "generating mask\n"
     ]
    },
    {
     "name": "stdout",
     "output_type": "stream",
     "text": [
      "True->20171109-090748-2.jpg\n",
      "generating mask\n"
     ]
    },
    {
     "name": "stdout",
     "output_type": "stream",
     "text": [
      "True->20171109-090749-1.jpg\n",
      "generating mask\n"
     ]
    },
    {
     "name": "stdout",
     "output_type": "stream",
     "text": [
      "True->20171109-090801-2.jpg\n",
      "generating mask\n"
     ]
    },
    {
     "name": "stdout",
     "output_type": "stream",
     "text": [
      "True->20171109-090822-1.jpg\n",
      "generating mask\n"
     ]
    },
    {
     "name": "stdout",
     "output_type": "stream",
     "text": [
      "True->20171109-090842-1.jpg\n",
      "generating mask\n"
     ]
    },
    {
     "name": "stdout",
     "output_type": "stream",
     "text": [
      "True->20171109-090925-1.jpg\n",
      "generating mask\n"
     ]
    },
    {
     "name": "stdout",
     "output_type": "stream",
     "text": [
      "True->20171109-090929-2.jpg\n",
      "generating mask\n"
     ]
    },
    {
     "name": "stdout",
     "output_type": "stream",
     "text": [
      "True->20171109-090939-3.jpg\n",
      "generating mask\n"
     ]
    },
    {
     "name": "stdout",
     "output_type": "stream",
     "text": [
      "True->20171109-091008-1.jpg\n",
      "generating mask\n"
     ]
    },
    {
     "name": "stdout",
     "output_type": "stream",
     "text": [
      "True->20171109-091016-2.jpg\n",
      "generating mask\n"
     ]
    },
    {
     "name": "stdout",
     "output_type": "stream",
     "text": [
      "True->20171109-091025-3.jpg\n",
      "generating mask\n"
     ]
    },
    {
     "name": "stdout",
     "output_type": "stream",
     "text": [
      "True->20171109-091037-2.jpg\n",
      "generating mask\n"
     ]
    },
    {
     "name": "stdout",
     "output_type": "stream",
     "text": [
      "True->20171109-091124-2.jpg\n",
      "generating mask\n"
     ]
    },
    {
     "name": "stdout",
     "output_type": "stream",
     "text": [
      "True->20171109-091131-3.jpg\n",
      "generating mask\n"
     ]
    },
    {
     "name": "stdout",
     "output_type": "stream",
     "text": [
      "True->20171109-091149-1.jpg\n",
      "generating mask\n"
     ]
    },
    {
     "name": "stdout",
     "output_type": "stream",
     "text": [
      "True->20171109-091205-2.jpg\n",
      "generating mask\n"
     ]
    },
    {
     "name": "stdout",
     "output_type": "stream",
     "text": [
      "True->20171109-091219-3.jpg\n",
      "generating mask\n"
     ]
    },
    {
     "name": "stdout",
     "output_type": "stream",
     "text": [
      "True->20171109-091235-3.jpg\n",
      "generating mask\n"
     ]
    },
    {
     "name": "stdout",
     "output_type": "stream",
     "text": [
      "True->20171109-091242-2.jpg\n",
      "generating mask\n"
     ]
    },
    {
     "name": "stdout",
     "output_type": "stream",
     "text": [
      "True->20171109-091257-3.jpg\n",
      "generating mask\n"
     ]
    },
    {
     "name": "stdout",
     "output_type": "stream",
     "text": [
      "True->20171109-091300-1.jpg\n",
      "generating mask\n"
     ]
    },
    {
     "name": "stdout",
     "output_type": "stream",
     "text": [
      "True->20171109-091313-3.jpg\n",
      "generating mask\n"
     ]
    },
    {
     "name": "stdout",
     "output_type": "stream",
     "text": [
      "True->20171109-091322-2.jpg\n",
      "generating mask\n"
     ]
    },
    {
     "name": "stdout",
     "output_type": "stream",
     "text": [
      "True->20171109-091324-1.jpg\n",
      "generating mask\n"
     ]
    },
    {
     "name": "stdout",
     "output_type": "stream",
     "text": [
      "True->20171109-091341-2.jpg\n",
      "generating mask\n"
     ]
    },
    {
     "name": "stdout",
     "output_type": "stream",
     "text": [
      "True->20171109-091409-3.jpg\n",
      "generating mask\n"
     ]
    },
    {
     "name": "stdout",
     "output_type": "stream",
     "text": [
      "True->20171109-091412-2.jpg\n",
      "generating mask\n"
     ]
    },
    {
     "name": "stdout",
     "output_type": "stream",
     "text": [
      "True->20171109-091445-1.jpg\n",
      "generating mask\n"
     ]
    },
    {
     "name": "stdout",
     "output_type": "stream",
     "text": [
      "True->20171109-091506-3.jpg\n",
      "generating mask\n"
     ]
    },
    {
     "name": "stdout",
     "output_type": "stream",
     "text": [
      "True->20171109-091517-1.jpg\n",
      "generating mask\n"
     ]
    },
    {
     "name": "stdout",
     "output_type": "stream",
     "text": [
      "True->20171109-091520-3.jpg\n",
      "generating mask\n"
     ]
    },
    {
     "name": "stdout",
     "output_type": "stream",
     "text": [
      "True->20171109-091521-2.jpg\n",
      "generating mask\n"
     ]
    },
    {
     "name": "stdout",
     "output_type": "stream",
     "text": [
      "True->20171109-091542-3.jpg\n",
      "generating mask\n"
     ]
    },
    {
     "name": "stdout",
     "output_type": "stream",
     "text": [
      "True->20171109-091543-1.jpg\n",
      "generating mask\n"
     ]
    },
    {
     "name": "stdout",
     "output_type": "stream",
     "text": [
      "True->20171109-091615-1.jpg\n",
      "generating mask\n"
     ]
    },
    {
     "name": "stdout",
     "output_type": "stream",
     "text": [
      "True->20171109-091623-3.jpg\n",
      "generating mask\n"
     ]
    },
    {
     "name": "stdout",
     "output_type": "stream",
     "text": [
      "True->20171109-091628-2.jpg\n",
      "generating mask\n"
     ]
    },
    {
     "name": "stdout",
     "output_type": "stream",
     "text": [
      "True->20171109-091647-1.jpg\n",
      "generating mask\n"
     ]
    },
    {
     "name": "stdout",
     "output_type": "stream",
     "text": [
      "True->20171109-091717-1.jpg\n",
      "generating mask\n"
     ]
    },
    {
     "name": "stdout",
     "output_type": "stream",
     "text": [
      "True->20171109-091719-3.jpg\n",
      "generating mask\n"
     ]
    },
    {
     "name": "stdout",
     "output_type": "stream",
     "text": [
      "True->20171109-091730-2.jpg\n",
      "generating mask\n"
     ]
    },
    {
     "name": "stdout",
     "output_type": "stream",
     "text": [
      "True->20171109-091743-3.jpg\n",
      "generating mask\n"
     ]
    },
    {
     "name": "stdout",
     "output_type": "stream",
     "text": [
      "True->20171109-091812-1.jpg\n",
      "generating mask\n"
     ]
    },
    {
     "name": "stdout",
     "output_type": "stream",
     "text": [
      "True->20171109-091826-1.jpg\n",
      "generating mask\n"
     ]
    },
    {
     "name": "stdout",
     "output_type": "stream",
     "text": [
      "True->20171109-091828-2.jpg\n",
      "generating mask\n"
     ]
    },
    {
     "name": "stdout",
     "output_type": "stream",
     "text": [
      "True->20171109-091843-2.jpg\n",
      "generating mask\n"
     ]
    },
    {
     "name": "stdout",
     "output_type": "stream",
     "text": [
      "True->20171109-091859-1.jpg\n",
      "generating mask\n"
     ]
    },
    {
     "name": "stdout",
     "output_type": "stream",
     "text": [
      "True->20171109-091913-2.jpg\n",
      "generating mask\n"
     ]
    },
    {
     "name": "stdout",
     "output_type": "stream",
     "text": [
      "True->20171109-091920-3.jpg\n",
      "generating mask\n"
     ]
    },
    {
     "name": "stdout",
     "output_type": "stream",
     "text": [
      "True->20171109-091938-1.jpg\n",
      "generating mask\n"
     ]
    },
    {
     "name": "stdout",
     "output_type": "stream",
     "text": [
      "True->20171109-092005-1.jpg\n",
      "generating mask\n"
     ]
    },
    {
     "name": "stdout",
     "output_type": "stream",
     "text": [
      "True->20171109-092020-2.jpg\n",
      "generating mask\n"
     ]
    },
    {
     "name": "stdout",
     "output_type": "stream",
     "text": [
      "True->20171109-092023-1.jpg\n",
      "generating mask\n"
     ]
    },
    {
     "name": "stdout",
     "output_type": "stream",
     "text": [
      "True->20171109-092033-2.jpg\n",
      "generating mask\n"
     ]
    },
    {
     "name": "stdout",
     "output_type": "stream",
     "text": [
      "True->20171109-092035-1.jpg\n",
      "generating mask\n"
     ]
    },
    {
     "name": "stdout",
     "output_type": "stream",
     "text": [
      "True->20171109-092048-1.jpg\n",
      "generating mask\n"
     ]
    },
    {
     "name": "stdout",
     "output_type": "stream",
     "text": [
      "True->20171109-092050-2.jpg\n",
      "generating mask\n"
     ]
    },
    {
     "name": "stdout",
     "output_type": "stream",
     "text": [
      "True->20171109-092105-1.jpg\n",
      "generating mask\n"
     ]
    },
    {
     "name": "stdout",
     "output_type": "stream",
     "text": [
      "True->20171109-092120-1.jpg\n",
      "generating mask\n"
     ]
    },
    {
     "name": "stdout",
     "output_type": "stream",
     "text": [
      "True->20171109-092137-2.jpg\n",
      "generating mask\n"
     ]
    },
    {
     "name": "stdout",
     "output_type": "stream",
     "text": [
      "True->20171109-092149-1.jpg\n",
      "generating mask\n"
     ]
    },
    {
     "name": "stdout",
     "output_type": "stream",
     "text": [
      "True->20171109-092200-1.jpg\n",
      "generating mask\n"
     ]
    },
    {
     "name": "stdout",
     "output_type": "stream",
     "text": [
      "True->20171109-092225-1.jpg\n",
      "generating mask\n"
     ]
    },
    {
     "name": "stdout",
     "output_type": "stream",
     "text": [
      "True->20171109-092239-2.jpg\n",
      "generating mask\n"
     ]
    },
    {
     "name": "stdout",
     "output_type": "stream",
     "text": [
      "True->20171109-092301-2.jpg\n",
      "generating mask\n"
     ]
    },
    {
     "name": "stdout",
     "output_type": "stream",
     "text": [
      "True->20171109-092312-1.jpg\n",
      "generating mask\n"
     ]
    },
    {
     "name": "stdout",
     "output_type": "stream",
     "text": [
      "True->20171109-092315-3.jpg\n",
      "generating mask\n"
     ]
    },
    {
     "name": "stdout",
     "output_type": "stream",
     "text": [
      "True->20171109-092335-1.jpg\n",
      "generating mask\n"
     ]
    },
    {
     "name": "stdout",
     "output_type": "stream",
     "text": [
      "True->20171109-092340-2.jpg\n",
      "generating mask\n"
     ]
    },
    {
     "name": "stdout",
     "output_type": "stream",
     "text": [
      "True->20171109-092404-2.jpg\n",
      "generating mask\n"
     ]
    },
    {
     "name": "stdout",
     "output_type": "stream",
     "text": [
      "True->20171109-092406-1.jpg\n",
      "generating mask\n"
     ]
    },
    {
     "name": "stdout",
     "output_type": "stream",
     "text": [
      "True->20171109-092443-2.jpg\n",
      "generating mask\n"
     ]
    },
    {
     "name": "stdout",
     "output_type": "stream",
     "text": [
      "True->20171109-092455-2.jpg\n",
      "generating mask\n"
     ]
    },
    {
     "name": "stdout",
     "output_type": "stream",
     "text": [
      "True->20171109-092513-2.jpg\n",
      "generating mask\n"
     ]
    },
    {
     "name": "stdout",
     "output_type": "stream",
     "text": [
      "True->20171109-092525-2.jpg\n",
      "generating mask\n"
     ]
    },
    {
     "name": "stdout",
     "output_type": "stream",
     "text": [
      "True->20171109-092540-1.jpg\n",
      "generating mask\n"
     ]
    },
    {
     "name": "stdout",
     "output_type": "stream",
     "text": [
      "True->20171109-092611-2.jpg\n",
      "generating mask\n"
     ]
    },
    {
     "name": "stdout",
     "output_type": "stream",
     "text": [
      "True->20171109-092615-1.jpg\n",
      "generating mask\n"
     ]
    },
    {
     "name": "stdout",
     "output_type": "stream",
     "text": [
      "True->20171109-092707-2.jpg\n",
      "generating mask\n"
     ]
    },
    {
     "name": "stdout",
     "output_type": "stream",
     "text": [
      "True->20171109-092711-1.jpg\n",
      "generating mask\n"
     ]
    },
    {
     "name": "stdout",
     "output_type": "stream",
     "text": [
      "True->20171109-092732-2.jpg\n",
      "generating mask\n"
     ]
    },
    {
     "name": "stdout",
     "output_type": "stream",
     "text": [
      "True->20171109-092733-1.jpg\n",
      "generating mask\n"
     ]
    },
    {
     "name": "stdout",
     "output_type": "stream",
     "text": [
      "True->20171109-092757-1.jpg\n",
      "generating mask\n"
     ]
    },
    {
     "name": "stdout",
     "output_type": "stream",
     "text": [
      "True->20171109-092800-2.jpg\n",
      "generating mask\n"
     ]
    },
    {
     "name": "stdout",
     "output_type": "stream",
     "text": [
      "True->20171109-092817-2.jpg\n",
      "generating mask\n"
     ]
    },
    {
     "name": "stdout",
     "output_type": "stream",
     "text": [
      "True->20171109-092818-1.jpg\n",
      "generating mask\n"
     ]
    },
    {
     "name": "stdout",
     "output_type": "stream",
     "text": [
      "True->20171109-092833-1.jpg\n",
      "generating mask\n"
     ]
    },
    {
     "name": "stdout",
     "output_type": "stream",
     "text": [
      "True->20171109-092844-2.jpg\n",
      "generating mask\n"
     ]
    },
    {
     "name": "stdout",
     "output_type": "stream",
     "text": [
      "True->20171109-092855-1.jpg\n",
      "generating mask\n"
     ]
    },
    {
     "name": "stdout",
     "output_type": "stream",
     "text": [
      "True->20171109-092856-2.jpg\n",
      "generating mask\n"
     ]
    },
    {
     "name": "stdout",
     "output_type": "stream",
     "text": [
      "True->20171109-092910-2.jpg\n",
      "generating mask\n"
     ]
    },
    {
     "name": "stdout",
     "output_type": "stream",
     "text": [
      "True->20171109-092940-1.jpg\n",
      "generating mask\n"
     ]
    },
    {
     "name": "stdout",
     "output_type": "stream",
     "text": [
      "True->20171109-093025-1.jpg\n",
      "generating mask\n"
     ]
    },
    {
     "name": "stdout",
     "output_type": "stream",
     "text": [
      "True->20171109-093036-3.jpg\n",
      "generating mask\n"
     ]
    },
    {
     "name": "stdout",
     "output_type": "stream",
     "text": [
      "True->20171109-093038-1.jpg\n",
      "generating mask\n"
     ]
    },
    {
     "name": "stdout",
     "output_type": "stream",
     "text": [
      "True->20171109-093041-2.jpg\n",
      "generating mask\n"
     ]
    },
    {
     "name": "stdout",
     "output_type": "stream",
     "text": [
      "True->20171109-093053-3.jpg\n",
      "generating mask\n"
     ]
    },
    {
     "name": "stdout",
     "output_type": "stream",
     "text": [
      "True->20171109-093105-1.jpg\n",
      "generating mask\n"
     ]
    },
    {
     "name": "stdout",
     "output_type": "stream",
     "text": [
      "True->20171109-093128-1.jpg\n",
      "generating mask\n"
     ]
    },
    {
     "name": "stdout",
     "output_type": "stream",
     "text": [
      "True->20171109-093142-2.jpg\n",
      "generating mask\n"
     ]
    },
    {
     "name": "stdout",
     "output_type": "stream",
     "text": [
      "True->20171109-093143-1.jpg\n",
      "generating mask\n"
     ]
    },
    {
     "name": "stdout",
     "output_type": "stream",
     "text": [
      "True->20171109-093200-3.jpg\n",
      "generating mask\n"
     ]
    },
    {
     "name": "stdout",
     "output_type": "stream",
     "text": [
      "True->20171109-093204-2.jpg\n",
      "generating mask\n"
     ]
    },
    {
     "name": "stdout",
     "output_type": "stream",
     "text": [
      "True->20171109-093214-2.jpg\n",
      "generating mask\n"
     ]
    },
    {
     "name": "stdout",
     "output_type": "stream",
     "text": [
      "True->20171109-093217-1.jpg\n",
      "generating mask\n"
     ]
    },
    {
     "name": "stdout",
     "output_type": "stream",
     "text": [
      "True->20171109-093229-2.jpg\n",
      "generating mask\n"
     ]
    },
    {
     "name": "stdout",
     "output_type": "stream",
     "text": [
      "True->20171109-093232-1.jpg\n",
      "generating mask\n"
     ]
    },
    {
     "name": "stdout",
     "output_type": "stream",
     "text": [
      "True->20171109-093256-2.jpg\n",
      "generating mask\n"
     ]
    },
    {
     "name": "stdout",
     "output_type": "stream",
     "text": [
      "True->20171109-093300-1.jpg\n",
      "generating mask\n"
     ]
    },
    {
     "name": "stdout",
     "output_type": "stream",
     "text": [
      "True->20171109-093317-2.jpg\n",
      "generating mask\n"
     ]
    },
    {
     "name": "stdout",
     "output_type": "stream",
     "text": [
      "True->20171109-093351-2.jpg\n",
      "generating mask\n"
     ]
    },
    {
     "name": "stdout",
     "output_type": "stream",
     "text": [
      "True->20171109-093436-1.jpg\n",
      "generating mask\n"
     ]
    },
    {
     "name": "stdout",
     "output_type": "stream",
     "text": [
      "True->20171109-093438-2.jpg\n",
      "generating mask\n"
     ]
    },
    {
     "name": "stdout",
     "output_type": "stream",
     "text": [
      "True->20171109-093449-2.jpg\n",
      "generating mask\n"
     ]
    },
    {
     "name": "stdout",
     "output_type": "stream",
     "text": [
      "True->20171109-093502-2.jpg\n",
      "generating mask\n"
     ]
    },
    {
     "name": "stdout",
     "output_type": "stream",
     "text": [
      "True->20171109-093513-1.jpg\n",
      "generating mask\n"
     ]
    },
    {
     "name": "stdout",
     "output_type": "stream",
     "text": [
      "True->20171109-093520-2.jpg\n",
      "generating mask\n"
     ]
    },
    {
     "name": "stdout",
     "output_type": "stream",
     "text": [
      "True->20171109-093524-1.jpg\n",
      "generating mask\n"
     ]
    },
    {
     "name": "stdout",
     "output_type": "stream",
     "text": [
      "True->20171109-093528-3.jpg\n",
      "generating mask\n"
     ]
    },
    {
     "name": "stdout",
     "output_type": "stream",
     "text": [
      "True->20171109-093551-2.jpg\n",
      "generating mask\n"
     ]
    },
    {
     "name": "stdout",
     "output_type": "stream",
     "text": [
      "True->20171109-093608-1.jpg\n",
      "generating mask\n"
     ]
    },
    {
     "name": "stdout",
     "output_type": "stream",
     "text": [
      "True->20171109-093614-2.jpg\n",
      "generating mask\n"
     ]
    },
    {
     "name": "stdout",
     "output_type": "stream",
     "text": [
      "True->20171109-093630-1.jpg\n",
      "generating mask\n"
     ]
    },
    {
     "name": "stdout",
     "output_type": "stream",
     "text": [
      "True->20171109-093645-3.jpg\n",
      "generating mask\n"
     ]
    },
    {
     "name": "stdout",
     "output_type": "stream",
     "text": [
      "True->20171109-093658-1.jpg\n",
      "generating mask\n"
     ]
    },
    {
     "name": "stdout",
     "output_type": "stream",
     "text": [
      "True->20171109-093725-1.jpg\n",
      "generating mask\n"
     ]
    },
    {
     "name": "stdout",
     "output_type": "stream",
     "text": [
      "True->20171109-093731-3.jpg\n",
      "generating mask\n"
     ]
    },
    {
     "name": "stdout",
     "output_type": "stream",
     "text": [
      "True->20171109-093745-1.jpg\n",
      "generating mask\n"
     ]
    },
    {
     "name": "stdout",
     "output_type": "stream",
     "text": [
      "True->20171109-093759-1.jpg\n",
      "generating mask\n"
     ]
    },
    {
     "name": "stdout",
     "output_type": "stream",
     "text": [
      "True->20171109-093824-3.jpg\n",
      "generating mask\n"
     ]
    },
    {
     "name": "stdout",
     "output_type": "stream",
     "text": [
      "True->20171109-093852-3.jpg\n",
      "generating mask\n"
     ]
    },
    {
     "name": "stdout",
     "output_type": "stream",
     "text": [
      "True->20171109-093942-3.jpg\n",
      "generating mask\n"
     ]
    },
    {
     "name": "stdout",
     "output_type": "stream",
     "text": [
      "True->20171109-094052-3.jpg\n",
      "generating mask\n"
     ]
    },
    {
     "name": "stdout",
     "output_type": "stream",
     "text": [
      "True->20171109-094134-3.jpg\n",
      "generating mask\n"
     ]
    },
    {
     "name": "stdout",
     "output_type": "stream",
     "text": [
      "True->20171109-094157-2.jpg\n",
      "generating mask\n"
     ]
    },
    {
     "name": "stdout",
     "output_type": "stream",
     "text": [
      "True->20171109-094215-2.jpg\n",
      "generating mask\n"
     ]
    },
    {
     "name": "stdout",
     "output_type": "stream",
     "text": [
      "True->20171109-094234-3.jpg\n",
      "generating mask\n"
     ]
    },
    {
     "name": "stdout",
     "output_type": "stream",
     "text": [
      "True->20171109-094316-3.jpg\n",
      "generating mask\n"
     ]
    },
    {
     "name": "stdout",
     "output_type": "stream",
     "text": [
      "True->20171109-094338-3.jpg\n",
      "generating mask\n"
     ]
    },
    {
     "name": "stdout",
     "output_type": "stream",
     "text": [
      "True->20171109-094401-3.jpg\n",
      "generating mask\n"
     ]
    },
    {
     "name": "stdout",
     "output_type": "stream",
     "text": [
      "True->20171109-094446-3.jpg\n",
      "generating mask\n"
     ]
    },
    {
     "name": "stdout",
     "output_type": "stream",
     "text": [
      "True->20171109-095002-2.jpg\n",
      "generating mask\n"
     ]
    },
    {
     "name": "stdout",
     "output_type": "stream",
     "text": [
      "True->20171109-095025-2.jpg\n",
      "generating mask\n"
     ]
    },
    {
     "name": "stdout",
     "output_type": "stream",
     "text": [
      "True->20171109-095101-3.jpg\n",
      "generating mask\n"
     ]
    },
    {
     "name": "stdout",
     "output_type": "stream",
     "text": [
      "True->20171109-095123-3.jpg\n",
      "generating mask\n"
     ]
    },
    {
     "name": "stdout",
     "output_type": "stream",
     "text": [
      "True->20171109-095202-3.jpg\n",
      "generating mask\n"
     ]
    },
    {
     "name": "stdout",
     "output_type": "stream",
     "text": [
      "True->20171109-095205-2.jpg\n",
      "generating mask\n"
     ]
    },
    {
     "name": "stdout",
     "output_type": "stream",
     "text": [
      "True->20171109-095224-3.jpg\n",
      "generating mask\n"
     ]
    },
    {
     "name": "stdout",
     "output_type": "stream",
     "text": [
      "True->20171109-095253-3.jpg\n",
      "generating mask\n"
     ]
    },
    {
     "name": "stdout",
     "output_type": "stream",
     "text": [
      "True->20171109-095312-3.jpg\n",
      "generating mask\n"
     ]
    },
    {
     "name": "stdout",
     "output_type": "stream",
     "text": [
      "True->20171109-095352-3.jpg\n",
      "generating mask\n"
     ]
    },
    {
     "name": "stdout",
     "output_type": "stream",
     "text": [
      "True->20171109-095422-2.jpg\n",
      "generating mask\n"
     ]
    },
    {
     "name": "stdout",
     "output_type": "stream",
     "text": [
      "True->20171109-095442-3.jpg\n",
      "generating mask\n"
     ]
    },
    {
     "name": "stdout",
     "output_type": "stream",
     "text": [
      "True->20171109-095504-2.jpg\n",
      "generating mask\n"
     ]
    },
    {
     "name": "stdout",
     "output_type": "stream",
     "text": [
      "True->20171109-095536-2.jpg\n",
      "generating mask\n"
     ]
    },
    {
     "name": "stdout",
     "output_type": "stream",
     "text": [
      "True->20171109-095540-3.jpg\n",
      "generating mask\n"
     ]
    },
    {
     "name": "stdout",
     "output_type": "stream",
     "text": [
      "True->20171109-095556-2.jpg\n",
      "generating mask\n"
     ]
    },
    {
     "name": "stdout",
     "output_type": "stream",
     "text": [
      "True->20171109-095615-2.jpg\n",
      "generating mask\n"
     ]
    },
    {
     "name": "stdout",
     "output_type": "stream",
     "text": [
      "True->20171109-095615-3.jpg\n",
      "generating mask\n"
     ]
    },
    {
     "name": "stdout",
     "output_type": "stream",
     "text": [
      "True->20171109-095650-2.jpg\n",
      "generating mask\n"
     ]
    },
    {
     "name": "stdout",
     "output_type": "stream",
     "text": [
      "True->20171109-095710-3.jpg\n",
      "generating mask\n"
     ]
    },
    {
     "name": "stdout",
     "output_type": "stream",
     "text": [
      "True->20171109-095805-3.jpg\n",
      "generating mask\n"
     ]
    },
    {
     "name": "stdout",
     "output_type": "stream",
     "text": [
      "True->20171109-175921-2.jpg\n",
      "generating mask\n"
     ]
    },
    {
     "name": "stdout",
     "output_type": "stream",
     "text": [
      "True->20171109-175951-2.jpg\n",
      "generating mask\n"
     ]
    },
    {
     "name": "stdout",
     "output_type": "stream",
     "text": [
      "True->20171109-180010-2.jpg\n",
      "generating mask\n"
     ]
    },
    {
     "name": "stdout",
     "output_type": "stream",
     "text": [
      "True->20171109-193720-1.jpg\n",
      "generating mask\n"
     ]
    },
    {
     "name": "stdout",
     "output_type": "stream",
     "text": [
      "True->20171109-193741-1.jpg\n",
      "generating mask\n"
     ]
    },
    {
     "name": "stdout",
     "output_type": "stream",
     "text": [
      "True->20171109-193756-1.jpg\n",
      "generating mask\n"
     ]
    },
    {
     "name": "stdout",
     "output_type": "stream",
     "text": [
      "True->20171109-193914-1.jpg\n",
      "generating mask\n"
     ]
    },
    {
     "name": "stdout",
     "output_type": "stream",
     "text": [
      "True->20171109-194002-1.jpg\n",
      "generating mask\n"
     ]
    },
    {
     "name": "stdout",
     "output_type": "stream",
     "text": [
      "True->20171109-194044-1.jpg\n",
      "generating mask\n"
     ]
    },
    {
     "name": "stdout",
     "output_type": "stream",
     "text": [
      "True->20171109-194100-1.jpg\n",
      "generating mask\n"
     ]
    },
    {
     "name": "stdout",
     "output_type": "stream",
     "text": [
      "True->20171109-194112-1.jpg\n",
      "generating mask\n"
     ]
    },
    {
     "name": "stdout",
     "output_type": "stream",
     "text": [
      "True->20171109-194200-1.jpg\n",
      "generating mask\n"
     ]
    },
    {
     "name": "stdout",
     "output_type": "stream",
     "text": [
      "True->20171109-194239-1.jpg\n",
      "generating mask\n"
     ]
    },
    {
     "name": "stdout",
     "output_type": "stream",
     "text": [
      "True->20171109-194258-1.jpg\n",
      "generating mask\n"
     ]
    },
    {
     "name": "stdout",
     "output_type": "stream",
     "text": [
      "True->20171109-194339-1.jpg\n",
      "generating mask\n"
     ]
    },
    {
     "name": "stdout",
     "output_type": "stream",
     "text": [
      "True->20171109-194404-1.jpg\n",
      "generating mask\n"
     ]
    },
    {
     "name": "stdout",
     "output_type": "stream",
     "text": [
      "True->20171109-194423-1.jpg\n",
      "generating mask\n"
     ]
    },
    {
     "name": "stdout",
     "output_type": "stream",
     "text": [
      "True->20171109-194604-1.jpg\n",
      "generating mask\n"
     ]
    },
    {
     "name": "stdout",
     "output_type": "stream",
     "text": [
      "True->20171109-194638-1.jpg\n",
      "generating mask\n"
     ]
    },
    {
     "name": "stdout",
     "output_type": "stream",
     "text": [
      "True->20171109-194700-1.jpg\n",
      "generating mask\n"
     ]
    },
    {
     "name": "stdout",
     "output_type": "stream",
     "text": [
      "True->20171109-194714-1.jpg\n",
      "generating mask\n"
     ]
    },
    {
     "name": "stdout",
     "output_type": "stream",
     "text": [
      "True->20171109-194734-1.jpg\n",
      "generating mask\n"
     ]
    },
    {
     "name": "stdout",
     "output_type": "stream",
     "text": [
      "True->20171109-194758-1.jpg\n",
      "generating mask\n"
     ]
    },
    {
     "name": "stdout",
     "output_type": "stream",
     "text": [
      "True->20171109-194817-1.jpg\n",
      "generating mask\n"
     ]
    },
    {
     "name": "stdout",
     "output_type": "stream",
     "text": [
      "True->20171109-194843-1.jpg\n",
      "generating mask\n"
     ]
    },
    {
     "name": "stdout",
     "output_type": "stream",
     "text": [
      "True->20171109-194934-1.jpg\n",
      "generating mask\n"
     ]
    },
    {
     "name": "stdout",
     "output_type": "stream",
     "text": [
      "True->20171109-195013-1.jpg\n",
      "generating mask\n"
     ]
    },
    {
     "name": "stdout",
     "output_type": "stream",
     "text": [
      "True->20171109-195028-1.jpg\n",
      "generating mask\n"
     ]
    },
    {
     "name": "stdout",
     "output_type": "stream",
     "text": [
      "True->20171109-195038-1.jpg\n",
      "generating mask\n"
     ]
    },
    {
     "name": "stdout",
     "output_type": "stream",
     "text": [
      "True->20171109-195110-1.jpg\n",
      "generating mask\n"
     ]
    },
    {
     "name": "stdout",
     "output_type": "stream",
     "text": [
      "True->20171113-060523-1.jpg\n",
      "generating mask\n"
     ]
    },
    {
     "name": "stdout",
     "output_type": "stream",
     "text": [
      "True->20171113-060557-1.jpg\n",
      "generating mask\n"
     ]
    },
    {
     "name": "stdout",
     "output_type": "stream",
     "text": [
      "True->20171113-060628-1.jpg\n",
      "generating mask\n"
     ]
    },
    {
     "name": "stdout",
     "output_type": "stream",
     "text": [
      "True->20171113-060629-1.jpg\n",
      "generating mask\n"
     ]
    },
    {
     "name": "stdout",
     "output_type": "stream",
     "text": [
      "True->20171113-060715-1.jpg\n",
      "generating mask\n"
     ]
    },
    {
     "name": "stdout",
     "output_type": "stream",
     "text": [
      "True->20171113-060840-1.jpg\n",
      "generating mask\n"
     ]
    },
    {
     "name": "stdout",
     "output_type": "stream",
     "text": [
      "True->20171113-060913-1.jpg\n",
      "generating mask\n"
     ]
    },
    {
     "name": "stdout",
     "output_type": "stream",
     "text": [
      "True->20171113-060924-1.jpg\n",
      "generating mask\n"
     ]
    },
    {
     "name": "stdout",
     "output_type": "stream",
     "text": [
      "True->20171113-061016-1.jpg\n",
      "generating mask\n"
     ]
    },
    {
     "name": "stdout",
     "output_type": "stream",
     "text": [
      "True->20171113-061031-1.jpg\n",
      "generating mask\n"
     ]
    },
    {
     "name": "stdout",
     "output_type": "stream",
     "text": [
      "True->20171113-061052-1.jpg\n",
      "generating mask\n"
     ]
    },
    {
     "name": "stdout",
     "output_type": "stream",
     "text": [
      "True->20171113-061120-1.jpg\n",
      "generating mask\n"
     ]
    },
    {
     "name": "stdout",
     "output_type": "stream",
     "text": [
      "True->20171113-061145-1.jpg\n",
      "generating mask\n"
     ]
    },
    {
     "name": "stdout",
     "output_type": "stream",
     "text": [
      "True->20171113-061216-1.jpg\n",
      "generating mask\n"
     ]
    },
    {
     "name": "stdout",
     "output_type": "stream",
     "text": [
      "True->20171113-061251-1.jpg\n",
      "generating mask\n"
     ]
    },
    {
     "name": "stdout",
     "output_type": "stream",
     "text": [
      "True->20171113-061331-1.jpg\n",
      "generating mask\n"
     ]
    },
    {
     "name": "stdout",
     "output_type": "stream",
     "text": [
      "True->20171113-061405-1.jpg\n",
      "generating mask\n"
     ]
    },
    {
     "name": "stdout",
     "output_type": "stream",
     "text": [
      "True->20171113-061420-1.jpg\n",
      "generating mask\n"
     ]
    },
    {
     "name": "stdout",
     "output_type": "stream",
     "text": [
      "True->20171113-061441-1.jpg\n",
      "generating mask\n"
     ]
    },
    {
     "name": "stdout",
     "output_type": "stream",
     "text": [
      "True->20171113-091334-3.jpg\n",
      "generating mask\n"
     ]
    },
    {
     "name": "stdout",
     "output_type": "stream",
     "text": [
      "True->20171113-091531-3.jpg\n",
      "generating mask\n"
     ]
    },
    {
     "name": "stdout",
     "output_type": "stream",
     "text": [
      "True->20171113-091623-3.jpg\n",
      "generating mask\n"
     ]
    },
    {
     "name": "stdout",
     "output_type": "stream",
     "text": [
      "True->20171113-091649-3.jpg\n",
      "generating mask\n"
     ]
    },
    {
     "name": "stdout",
     "output_type": "stream",
     "text": [
      "True->20171113-091651-1.jpg\n",
      "generating mask\n"
     ]
    },
    {
     "name": "stdout",
     "output_type": "stream",
     "text": [
      "True->20171113-091705-3.jpg\n",
      "generating mask\n"
     ]
    },
    {
     "name": "stdout",
     "output_type": "stream",
     "text": [
      "True->20171113-091722-1.jpg\n",
      "generating mask\n"
     ]
    },
    {
     "name": "stdout",
     "output_type": "stream",
     "text": [
      "True->20171113-091743-1.jpg\n",
      "generating mask\n"
     ]
    },
    {
     "name": "stdout",
     "output_type": "stream",
     "text": [
      "True->20171113-091817-3.jpg\n",
      "generating mask\n"
     ]
    },
    {
     "name": "stdout",
     "output_type": "stream",
     "text": [
      "True->20171113-091915-1.jpg\n",
      "generating mask\n"
     ]
    },
    {
     "name": "stdout",
     "output_type": "stream",
     "text": [
      "True->20171113-091929-3.jpg\n",
      "generating mask\n"
     ]
    },
    {
     "name": "stdout",
     "output_type": "stream",
     "text": [
      "True->20171113-092005-3.jpg\n",
      "generating mask\n"
     ]
    },
    {
     "name": "stdout",
     "output_type": "stream",
     "text": [
      "True->20171113-092027-3.jpg\n",
      "generating mask\n"
     ]
    },
    {
     "name": "stdout",
     "output_type": "stream",
     "text": [
      "True->20171113-092047-1.jpg\n",
      "generating mask\n"
     ]
    },
    {
     "name": "stdout",
     "output_type": "stream",
     "text": [
      "True->20171113-092056-3.jpg\n",
      "generating mask\n"
     ]
    },
    {
     "name": "stdout",
     "output_type": "stream",
     "text": [
      "True->20171113-092117-3.jpg\n",
      "generating mask\n"
     ]
    },
    {
     "name": "stdout",
     "output_type": "stream",
     "text": [
      "True->20171113-092152-1.jpg\n",
      "generating mask\n"
     ]
    },
    {
     "name": "stdout",
     "output_type": "stream",
     "text": [
      "True->20171113-092207-1.jpg\n",
      "generating mask\n"
     ]
    },
    {
     "name": "stdout",
     "output_type": "stream",
     "text": [
      "True->20171113-092250-1.jpg\n",
      "generating mask\n"
     ]
    },
    {
     "name": "stdout",
     "output_type": "stream",
     "text": [
      "True->20171113-092303-3.jpg\n",
      "generating mask\n"
     ]
    },
    {
     "name": "stdout",
     "output_type": "stream",
     "text": [
      "True->20171113-092317-1.jpg\n",
      "generating mask\n"
     ]
    },
    {
     "name": "stdout",
     "output_type": "stream",
     "text": [
      "True->20171113-092415-1.jpg\n",
      "generating mask\n"
     ]
    },
    {
     "name": "stdout",
     "output_type": "stream",
     "text": [
      "True->20171113-092423-3.jpg\n",
      "generating mask\n"
     ]
    },
    {
     "name": "stdout",
     "output_type": "stream",
     "text": [
      "True->20171113-092435-1.jpg\n",
      "generating mask\n"
     ]
    },
    {
     "name": "stdout",
     "output_type": "stream",
     "text": [
      "True->20171113-092514-3.jpg\n",
      "generating mask\n"
     ]
    },
    {
     "name": "stdout",
     "output_type": "stream",
     "text": [
      "True->20171113-092616-3.jpg\n",
      "generating mask\n"
     ]
    },
    {
     "name": "stdout",
     "output_type": "stream",
     "text": [
      "True->20171113-092631-1.jpg\n",
      "generating mask\n"
     ]
    },
    {
     "name": "stdout",
     "output_type": "stream",
     "text": [
      "True->20171113-092633-3.jpg\n",
      "generating mask\n"
     ]
    },
    {
     "name": "stdout",
     "output_type": "stream",
     "text": [
      "True->20171113-092650-1.jpg\n",
      "generating mask\n"
     ]
    },
    {
     "name": "stdout",
     "output_type": "stream",
     "text": [
      "True->20171113-092712-3.jpg\n",
      "generating mask\n"
     ]
    },
    {
     "name": "stdout",
     "output_type": "stream",
     "text": [
      "True->20171113-092801-1.jpg\n",
      "generating mask\n"
     ]
    },
    {
     "name": "stdout",
     "output_type": "stream",
     "text": [
      "True->20171113-092826-3.jpg\n",
      "generating mask\n"
     ]
    },
    {
     "name": "stdout",
     "output_type": "stream",
     "text": [
      "True->20171113-092852-3.jpg\n",
      "generating mask\n"
     ]
    },
    {
     "name": "stdout",
     "output_type": "stream",
     "text": [
      "True->20171113-092918-1.jpg\n",
      "generating mask\n"
     ]
    },
    {
     "name": "stdout",
     "output_type": "stream",
     "text": [
      "True->20171113-092943-1.jpg\n",
      "generating mask\n"
     ]
    },
    {
     "name": "stdout",
     "output_type": "stream",
     "text": [
      "True->20171113-092956-3.jpg\n",
      "generating mask\n"
     ]
    },
    {
     "name": "stdout",
     "output_type": "stream",
     "text": [
      "True->20171113-093009-1.jpg\n",
      "generating mask\n"
     ]
    },
    {
     "name": "stdout",
     "output_type": "stream",
     "text": [
      "True->20171113-093016-3.jpg\n",
      "generating mask\n"
     ]
    },
    {
     "name": "stdout",
     "output_type": "stream",
     "text": [
      "True->20171113-093033-1.jpg\n",
      "generating mask\n"
     ]
    },
    {
     "name": "stdout",
     "output_type": "stream",
     "text": [
      "True->20171113-093226-1.jpg\n",
      "generating mask\n"
     ]
    },
    {
     "name": "stdout",
     "output_type": "stream",
     "text": [
      "True->20171113-093244-3.jpg\n",
      "generating mask\n"
     ]
    },
    {
     "name": "stdout",
     "output_type": "stream",
     "text": [
      "True->20171113-093255-1.jpg\n",
      "generating mask\n"
     ]
    },
    {
     "name": "stdout",
     "output_type": "stream",
     "text": [
      "True->20171113-093349-3.jpg\n",
      "generating mask\n"
     ]
    },
    {
     "name": "stdout",
     "output_type": "stream",
     "text": [
      "True->20171113-093414-1.jpg\n",
      "generating mask\n"
     ]
    },
    {
     "name": "stdout",
     "output_type": "stream",
     "text": [
      "True->20171113-093432-1.jpg\n",
      "generating mask\n"
     ]
    },
    {
     "name": "stdout",
     "output_type": "stream",
     "text": [
      "True->20171113-093500-1.jpg\n",
      "generating mask\n"
     ]
    },
    {
     "name": "stdout",
     "output_type": "stream",
     "text": [
      "True->20171113-093538-3.jpg\n",
      "generating mask\n"
     ]
    },
    {
     "name": "stdout",
     "output_type": "stream",
     "text": [
      "True->20171113-093619-3.jpg\n",
      "generating mask\n"
     ]
    },
    {
     "name": "stdout",
     "output_type": "stream",
     "text": [
      "True->20171113-093718-3.jpg\n",
      "generating mask\n"
     ]
    },
    {
     "name": "stdout",
     "output_type": "stream",
     "text": [
      "True->20171113-093744-3.jpg\n",
      "generating mask\n"
     ]
    },
    {
     "name": "stdout",
     "output_type": "stream",
     "text": [
      "True->20171113-093822-3.jpg\n",
      "generating mask\n"
     ]
    },
    {
     "name": "stdout",
     "output_type": "stream",
     "text": [
      "True->20171113-093900-3.jpg\n",
      "generating mask\n"
     ]
    },
    {
     "name": "stdout",
     "output_type": "stream",
     "text": [
      "True->20171113-093918-3.jpg\n",
      "generating mask\n"
     ]
    },
    {
     "name": "stdout",
     "output_type": "stream",
     "text": [
      "True->20171113-094013-3.jpg\n",
      "generating mask\n"
     ]
    },
    {
     "name": "stdout",
     "output_type": "stream",
     "text": [
      "True->20171113-094218-3.jpg\n",
      "generating mask\n"
     ]
    },
    {
     "name": "stdout",
     "output_type": "stream",
     "text": [
      "True->20171113-094324-3.jpg\n",
      "generating mask\n"
     ]
    },
    {
     "name": "stdout",
     "output_type": "stream",
     "text": [
      "True->20171113-094355-3.jpg\n",
      "generating mask\n"
     ]
    },
    {
     "name": "stdout",
     "output_type": "stream",
     "text": [
      "True->20171113-094444-3.jpg\n",
      "generating mask\n"
     ]
    },
    {
     "name": "stdout",
     "output_type": "stream",
     "text": [
      "True->20171113-094506-3.jpg\n",
      "generating mask\n"
     ]
    },
    {
     "name": "stdout",
     "output_type": "stream",
     "text": [
      "True->20171113-094525-3.jpg\n",
      "generating mask\n"
     ]
    },
    {
     "name": "stdout",
     "output_type": "stream",
     "text": [
      "True->20171113-094758-3.jpg\n",
      "generating mask\n"
     ]
    },
    {
     "name": "stdout",
     "output_type": "stream",
     "text": [
      "True->20171113-094843-1.jpg\n",
      "generating mask\n"
     ]
    },
    {
     "name": "stdout",
     "output_type": "stream",
     "text": [
      "True->20171113-094949-1.jpg\n",
      "generating mask\n"
     ]
    },
    {
     "name": "stdout",
     "output_type": "stream",
     "text": [
      "True->20171113-095009-1.jpg\n",
      "generating mask\n"
     ]
    },
    {
     "name": "stdout",
     "output_type": "stream",
     "text": [
      "True->20171113-095022-1.jpg\n",
      "generating mask\n"
     ]
    },
    {
     "name": "stdout",
     "output_type": "stream",
     "text": [
      "True->20171113-095050-1.jpg\n",
      "generating mask\n"
     ]
    },
    {
     "name": "stdout",
     "output_type": "stream",
     "text": [
      "True->20171113-095154-1.jpg\n",
      "generating mask\n"
     ]
    },
    {
     "name": "stdout",
     "output_type": "stream",
     "text": [
      "True->20171113-095216-3.jpg\n",
      "generating mask\n"
     ]
    },
    {
     "name": "stdout",
     "output_type": "stream",
     "text": [
      "True->20171113-095350-1.jpg\n",
      "generating mask\n"
     ]
    },
    {
     "name": "stdout",
     "output_type": "stream",
     "text": [
      "True->20171113-095351-3.jpg\n",
      "generating mask\n"
     ]
    },
    {
     "name": "stdout",
     "output_type": "stream",
     "text": [
      "True->20171113-095439-1.jpg\n",
      "generating mask\n"
     ]
    },
    {
     "name": "stdout",
     "output_type": "stream",
     "text": [
      "True->20171113-095456-1.jpg\n",
      "generating mask\n"
     ]
    },
    {
     "name": "stdout",
     "output_type": "stream",
     "text": [
      "True->20171113-095501-3.jpg\n",
      "generating mask\n"
     ]
    },
    {
     "name": "stdout",
     "output_type": "stream",
     "text": [
      "True->20171113-095510-1.jpg\n",
      "generating mask\n"
     ]
    },
    {
     "name": "stdout",
     "output_type": "stream",
     "text": [
      "True->20171113-095542-3.jpg\n",
      "generating mask\n"
     ]
    },
    {
     "name": "stdout",
     "output_type": "stream",
     "text": [
      "True->20171113-095617-1.jpg\n",
      "generating mask\n"
     ]
    },
    {
     "name": "stdout",
     "output_type": "stream",
     "text": [
      "True->20171113-095647-1.jpg\n",
      "generating mask\n"
     ]
    },
    {
     "name": "stdout",
     "output_type": "stream",
     "text": [
      "True->20171113-095701-1.jpg\n",
      "generating mask\n"
     ]
    },
    {
     "name": "stdout",
     "output_type": "stream",
     "text": [
      "True->20171113-095713-1.jpg\n",
      "generating mask\n"
     ]
    },
    {
     "name": "stdout",
     "output_type": "stream",
     "text": [
      "True->20171113-095737-1.jpg\n",
      "generating mask\n"
     ]
    },
    {
     "name": "stdout",
     "output_type": "stream",
     "text": [
      "True->20171113-095752-1.jpg\n",
      "generating mask\n"
     ]
    },
    {
     "name": "stdout",
     "output_type": "stream",
     "text": [
      "True->20171113-100323-3.jpg\n",
      "generating mask\n"
     ]
    },
    {
     "name": "stdout",
     "output_type": "stream",
     "text": [
      "True->20171113-100359-3.jpg\n",
      "generating mask\n"
     ]
    },
    {
     "name": "stdout",
     "output_type": "stream",
     "text": [
      "True->20171113-100431-3.jpg\n",
      "generating mask\n"
     ]
    },
    {
     "name": "stdout",
     "output_type": "stream",
     "text": [
      "True->20171113-100514-3.jpg\n",
      "generating mask\n"
     ]
    },
    {
     "name": "stdout",
     "output_type": "stream",
     "text": [
      "True->20171113-100556-3.jpg\n",
      "generating mask\n"
     ]
    },
    {
     "name": "stdout",
     "output_type": "stream",
     "text": [
      "True->20171113-100821-1.jpg\n",
      "generating mask\n"
     ]
    },
    {
     "name": "stdout",
     "output_type": "stream",
     "text": [
      "True->20171113-100841-1.jpg\n",
      "generating mask\n"
     ]
    },
    {
     "name": "stdout",
     "output_type": "stream",
     "text": [
      "True->20171113-100926-1.jpg\n",
      "generating mask\n"
     ]
    },
    {
     "name": "stdout",
     "output_type": "stream",
     "text": [
      "True->20171113-101034-1.jpg\n",
      "generating mask\n"
     ]
    },
    {
     "name": "stdout",
     "output_type": "stream",
     "text": [
      "True->20171113-101111-1.jpg\n",
      "generating mask\n"
     ]
    },
    {
     "name": "stdout",
     "output_type": "stream",
     "text": [
      "True->20171113-101125-1.jpg\n",
      "generating mask\n"
     ]
    },
    {
     "name": "stdout",
     "output_type": "stream",
     "text": [
      "True->20171113-101128-0.jpg\n",
      "generating mask\n"
     ]
    },
    {
     "name": "stdout",
     "output_type": "stream",
     "text": [
      "True->20171113-101211-1.jpg\n",
      "generating mask\n"
     ]
    },
    {
     "name": "stdout",
     "output_type": "stream",
     "text": [
      "True->20171113-101236-3.jpg\n",
      "generating mask\n"
     ]
    },
    {
     "name": "stdout",
     "output_type": "stream",
     "text": [
      "True->20171113-101323-0.jpg\n",
      "generating mask\n"
     ]
    },
    {
     "name": "stdout",
     "output_type": "stream",
     "text": [
      "True->20171113-101344-3.jpg\n",
      "generating mask\n"
     ]
    },
    {
     "name": "stdout",
     "output_type": "stream",
     "text": [
      "True->20171113-101351-1.jpg\n",
      "generating mask\n"
     ]
    },
    {
     "name": "stdout",
     "output_type": "stream",
     "text": [
      "True->20171113-101414-1.jpg\n",
      "generating mask\n"
     ]
    },
    {
     "name": "stdout",
     "output_type": "stream",
     "text": [
      "True->20171113-101436-1.jpg\n",
      "generating mask\n"
     ]
    },
    {
     "name": "stdout",
     "output_type": "stream",
     "text": [
      "True->20171113-101506-1.jpg\n",
      "generating mask\n"
     ]
    },
    {
     "name": "stdout",
     "output_type": "stream",
     "text": [
      "True->20171113-101521-1.jpg\n",
      "generating mask\n"
     ]
    },
    {
     "name": "stdout",
     "output_type": "stream",
     "text": [
      "True->20171113-101614-0.jpg\n",
      "generating mask\n"
     ]
    },
    {
     "name": "stdout",
     "output_type": "stream",
     "text": [
      "True->20171113-101642-3.jpg\n",
      "generating mask\n"
     ]
    },
    {
     "name": "stdout",
     "output_type": "stream",
     "text": [
      "True->20171113-101657-3.jpg\n",
      "generating mask\n"
     ]
    },
    {
     "name": "stdout",
     "output_type": "stream",
     "text": [
      "True->20171113-101706-1.jpg\n",
      "generating mask\n"
     ]
    },
    {
     "name": "stdout",
     "output_type": "stream",
     "text": [
      "True->20171113-101809-1.jpg\n",
      "generating mask\n"
     ]
    },
    {
     "name": "stdout",
     "output_type": "stream",
     "text": [
      "True->20171113-101836-0.jpg\n",
      "generating mask\n"
     ]
    },
    {
     "name": "stdout",
     "output_type": "stream",
     "text": [
      "True->20171113-101853-3.jpg\n",
      "generating mask\n"
     ]
    },
    {
     "name": "stdout",
     "output_type": "stream",
     "text": [
      "True->20171113-101904-1.jpg\n",
      "generating mask\n"
     ]
    },
    {
     "name": "stdout",
     "output_type": "stream",
     "text": [
      "True->20171113-101919-1.jpg\n",
      "generating mask\n"
     ]
    },
    {
     "name": "stdout",
     "output_type": "stream",
     "text": [
      "True->20171113-101927-0.jpg\n",
      "generating mask\n"
     ]
    },
    {
     "name": "stdout",
     "output_type": "stream",
     "text": [
      "True->20171113-101952-3.jpg\n",
      "generating mask\n"
     ]
    },
    {
     "name": "stdout",
     "output_type": "stream",
     "text": [
      "True->20171113-102008-1.jpg\n",
      "generating mask\n"
     ]
    },
    {
     "name": "stdout",
     "output_type": "stream",
     "text": [
      "True->20171113-102023-1.jpg\n",
      "generating mask\n"
     ]
    },
    {
     "name": "stdout",
     "output_type": "stream",
     "text": [
      "True->20171113-102033-3.jpg\n",
      "generating mask\n"
     ]
    },
    {
     "name": "stdout",
     "output_type": "stream",
     "text": [
      "True->20171113-102043-1.jpg\n",
      "generating mask\n"
     ]
    },
    {
     "name": "stdout",
     "output_type": "stream",
     "text": [
      "True->20171113-102054-3.jpg\n",
      "generating mask\n"
     ]
    },
    {
     "name": "stdout",
     "output_type": "stream",
     "text": [
      "True->20171113-102057-1.jpg\n",
      "generating mask\n"
     ]
    },
    {
     "name": "stdout",
     "output_type": "stream",
     "text": [
      "True->20171113-102111-1.jpg\n",
      "generating mask\n"
     ]
    },
    {
     "name": "stdout",
     "output_type": "stream",
     "text": [
      "True->20171113-102132-1.jpg\n",
      "generating mask\n"
     ]
    },
    {
     "name": "stdout",
     "output_type": "stream",
     "text": [
      "True->20171113-102155-3.jpg\n",
      "generating mask\n"
     ]
    },
    {
     "name": "stdout",
     "output_type": "stream",
     "text": [
      "True->20171113-102235-1.jpg\n",
      "generating mask\n"
     ]
    },
    {
     "name": "stdout",
     "output_type": "stream",
     "text": [
      "True->20171113-102257-1.jpg\n",
      "generating mask\n"
     ]
    },
    {
     "name": "stdout",
     "output_type": "stream",
     "text": [
      "True->20171113-102321-1.jpg\n",
      "generating mask\n"
     ]
    },
    {
     "name": "stdout",
     "output_type": "stream",
     "text": [
      "True->20171113-102401-1.jpg\n",
      "generating mask\n"
     ]
    },
    {
     "name": "stdout",
     "output_type": "stream",
     "text": [
      "True->20171113-102414-0.jpg\n",
      "generating mask\n"
     ]
    },
    {
     "name": "stdout",
     "output_type": "stream",
     "text": [
      "True->20171113-102541-1.jpg\n",
      "generating mask\n"
     ]
    },
    {
     "name": "stdout",
     "output_type": "stream",
     "text": [
      "True->20171113-102609-1.jpg\n",
      "generating mask\n"
     ]
    },
    {
     "name": "stdout",
     "output_type": "stream",
     "text": [
      "True->20171113-102646-1.jpg\n",
      "generating mask\n"
     ]
    },
    {
     "name": "stdout",
     "output_type": "stream",
     "text": [
      "True->20171113-103414-0.jpg\n",
      "generating mask\n"
     ]
    },
    {
     "name": "stdout",
     "output_type": "stream",
     "text": [
      "True->20171113-103448-0.jpg\n",
      "generating mask\n"
     ]
    },
    {
     "name": "stdout",
     "output_type": "stream",
     "text": [
      "True->20171113-103939-0.jpg\n",
      "generating mask\n"
     ]
    },
    {
     "name": "stdout",
     "output_type": "stream",
     "text": [
      "True->20171113-104328-0.jpg\n",
      "generating mask\n"
     ]
    },
    {
     "name": "stdout",
     "output_type": "stream",
     "text": [
      "True->20171113-105049-0.jpg\n",
      "generating mask\n"
     ]
    },
    {
     "name": "stdout",
     "output_type": "stream",
     "text": [
      "True->20171113-105124-0.jpg\n",
      "generating mask\n"
     ]
    },
    {
     "name": "stdout",
     "output_type": "stream",
     "text": [
      "True->20171113-105433-0.jpg\n",
      "generating mask\n"
     ]
    },
    {
     "name": "stdout",
     "output_type": "stream",
     "text": [
      "True->20171113-105444-0.jpg\n",
      "generating mask\n"
     ]
    },
    {
     "name": "stdout",
     "output_type": "stream",
     "text": [
      "True->20171113-111125-0.jpg\n",
      "generating mask\n"
     ]
    },
    {
     "name": "stdout",
     "output_type": "stream",
     "text": [
      "True->20171113-111328-0.jpg\n",
      "generating mask\n"
     ]
    },
    {
     "name": "stdout",
     "output_type": "stream",
     "text": [
      "True->20171113-111444-0.jpg\n",
      "generating mask\n"
     ]
    },
    {
     "name": "stdout",
     "output_type": "stream",
     "text": [
      "True->20171113-111716-0.jpg\n",
      "generating mask\n"
     ]
    },
    {
     "name": "stdout",
     "output_type": "stream",
     "text": [
      "True->20171113-111748-0.jpg\n",
      "generating mask\n"
     ]
    },
    {
     "name": "stdout",
     "output_type": "stream",
     "text": [
      "True->20171113-112032-0.jpg\n",
      "generating mask\n"
     ]
    },
    {
     "name": "stdout",
     "output_type": "stream",
     "text": [
      "True->20171113-112228-0.jpg\n",
      "generating mask\n"
     ]
    },
    {
     "name": "stdout",
     "output_type": "stream",
     "text": [
      "True->20171113-112316-0.jpg\n",
      "generating mask\n"
     ]
    },
    {
     "name": "stdout",
     "output_type": "stream",
     "text": [
      "True->20171113-112552-0.jpg\n",
      "generating mask\n"
     ]
    },
    {
     "name": "stdout",
     "output_type": "stream",
     "text": [
      "True->20171113-112832-0.jpg\n",
      "generating mask\n"
     ]
    },
    {
     "name": "stdout",
     "output_type": "stream",
     "text": [
      "True->20171113-112836-0.jpg\n",
      "generating mask\n"
     ]
    },
    {
     "name": "stdout",
     "output_type": "stream",
     "text": [
      "True->20171113-112942-0.jpg\n",
      "generating mask\n"
     ]
    },
    {
     "name": "stdout",
     "output_type": "stream",
     "text": [
      "True->20171113-113541-0.jpg\n",
      "generating mask\n"
     ]
    },
    {
     "name": "stdout",
     "output_type": "stream",
     "text": [
      "True->20171113-113542-0.jpg\n",
      "generating mask\n"
     ]
    },
    {
     "name": "stdout",
     "output_type": "stream",
     "text": [
      "True->20171113-113859-0.jpg\n",
      "generating mask\n"
     ]
    },
    {
     "name": "stdout",
     "output_type": "stream",
     "text": [
      "True->20171113-113911-0.jpg\n",
      "generating mask\n"
     ]
    },
    {
     "name": "stdout",
     "output_type": "stream",
     "text": [
      "True->20171113-114138-0.jpg\n",
      "generating mask\n"
     ]
    },
    {
     "name": "stdout",
     "output_type": "stream",
     "text": [
      "True->20171113-115052-0.jpg\n",
      "generating mask\n"
     ]
    },
    {
     "name": "stdout",
     "output_type": "stream",
     "text": [
      "True->20171113-115125-1.jpg\n",
      "generating mask\n"
     ]
    },
    {
     "name": "stdout",
     "output_type": "stream",
     "text": [
      "True->20171113-115211-3.jpg\n",
      "generating mask\n"
     ]
    },
    {
     "name": "stdout",
     "output_type": "stream",
     "text": [
      "True->20171113-115229-3.jpg\n",
      "generating mask\n"
     ]
    },
    {
     "name": "stdout",
     "output_type": "stream",
     "text": [
      "True->20171113-115254-1.jpg\n",
      "generating mask\n"
     ]
    },
    {
     "name": "stdout",
     "output_type": "stream",
     "text": [
      "True->20171113-115315-1.jpg\n",
      "generating mask\n"
     ]
    },
    {
     "name": "stdout",
     "output_type": "stream",
     "text": [
      "True->20171113-115320-3.jpg\n",
      "generating mask\n"
     ]
    },
    {
     "name": "stdout",
     "output_type": "stream",
     "text": [
      "True->20171113-115337-3.jpg\n",
      "generating mask\n"
     ]
    },
    {
     "name": "stdout",
     "output_type": "stream",
     "text": [
      "True->20171113-115402-3.jpg\n",
      "generating mask\n"
     ]
    },
    {
     "name": "stdout",
     "output_type": "stream",
     "text": [
      "True->20171113-115426-3.jpg\n",
      "generating mask\n"
     ]
    },
    {
     "name": "stdout",
     "output_type": "stream",
     "text": [
      "True->20171113-115453-1.jpg\n",
      "generating mask\n"
     ]
    },
    {
     "name": "stdout",
     "output_type": "stream",
     "text": [
      "True->20171113-115508-1.jpg\n",
      "generating mask\n"
     ]
    },
    {
     "name": "stdout",
     "output_type": "stream",
     "text": [
      "True->20171113-115609-1.jpg\n",
      "generating mask\n"
     ]
    },
    {
     "name": "stdout",
     "output_type": "stream",
     "text": [
      "True->20171113-115634-1.jpg\n",
      "generating mask\n"
     ]
    },
    {
     "name": "stdout",
     "output_type": "stream",
     "text": [
      "True->20171113-115816-0.jpg\n",
      "generating mask\n"
     ]
    },
    {
     "name": "stdout",
     "output_type": "stream",
     "text": [
      "True->20171113-115831-1.jpg\n",
      "generating mask\n"
     ]
    },
    {
     "name": "stdout",
     "output_type": "stream",
     "text": [
      "True->20171113-115832-3.jpg\n",
      "generating mask\n"
     ]
    },
    {
     "name": "stdout",
     "output_type": "stream",
     "text": [
      "True->20171113-115844-1.jpg\n",
      "generating mask\n"
     ]
    },
    {
     "name": "stdout",
     "output_type": "stream",
     "text": [
      "True->20171113-115907-3.jpg\n",
      "generating mask\n"
     ]
    },
    {
     "name": "stdout",
     "output_type": "stream",
     "text": [
      "True->20171113-115910-0.jpg\n",
      "generating mask\n"
     ]
    },
    {
     "name": "stdout",
     "output_type": "stream",
     "text": [
      "True->20171113-115913-1.jpg\n",
      "generating mask\n"
     ]
    },
    {
     "name": "stdout",
     "output_type": "stream",
     "text": [
      "True->20171113-115920-3.jpg\n",
      "generating mask\n"
     ]
    },
    {
     "name": "stdout",
     "output_type": "stream",
     "text": [
      "True->20171113-115932-1.jpg\n",
      "generating mask\n"
     ]
    },
    {
     "name": "stdout",
     "output_type": "stream",
     "text": [
      "True->20171113-115949-1.jpg\n",
      "generating mask\n"
     ]
    },
    {
     "name": "stdout",
     "output_type": "stream",
     "text": [
      "True->20171113-115954-3.jpg\n",
      "generating mask\n"
     ]
    },
    {
     "name": "stdout",
     "output_type": "stream",
     "text": [
      "True->20171113-120003-1.jpg\n",
      "generating mask\n"
     ]
    },
    {
     "name": "stdout",
     "output_type": "stream",
     "text": [
      "True->20171113-120014-3.jpg\n",
      "generating mask\n"
     ]
    },
    {
     "name": "stdout",
     "output_type": "stream",
     "text": [
      "True->20171113-120024-1.jpg\n",
      "generating mask\n"
     ]
    },
    {
     "name": "stdout",
     "output_type": "stream",
     "text": [
      "True->20171113-120119-1.jpg\n",
      "generating mask\n"
     ]
    },
    {
     "name": "stdout",
     "output_type": "stream",
     "text": [
      "True->20171113-120122-3.jpg\n",
      "generating mask\n"
     ]
    },
    {
     "name": "stdout",
     "output_type": "stream",
     "text": [
      "True->20171113-120204-2.jpg\n",
      "generating mask\n"
     ]
    },
    {
     "name": "stdout",
     "output_type": "stream",
     "text": [
      "True->20171113-120206-1.jpg\n",
      "generating mask\n"
     ]
    },
    {
     "name": "stdout",
     "output_type": "stream",
     "text": [
      "True->20171113-120222-1.jpg\n",
      "generating mask\n"
     ]
    },
    {
     "name": "stdout",
     "output_type": "stream",
     "text": [
      "True->20171113-120245-1.jpg\n",
      "generating mask\n"
     ]
    },
    {
     "name": "stdout",
     "output_type": "stream",
     "text": [
      "True->20171113-120304-1.jpg\n",
      "generating mask\n"
     ]
    },
    {
     "name": "stdout",
     "output_type": "stream",
     "text": [
      "True->20171113-120320-1.jpg\n",
      "generating mask\n"
     ]
    },
    {
     "name": "stdout",
     "output_type": "stream",
     "text": [
      "True->20171113-120355-1.jpg\n",
      "generating mask\n"
     ]
    },
    {
     "name": "stdout",
     "output_type": "stream",
     "text": [
      "True->20171113-120357-1.jpg\n",
      "generating mask\n"
     ]
    },
    {
     "name": "stdout",
     "output_type": "stream",
     "text": [
      "True->20171113-120426-1.jpg\n",
      "generating mask\n"
     ]
    },
    {
     "name": "stdout",
     "output_type": "stream",
     "text": [
      "True->20171113-120501-1.jpg\n",
      "generating mask\n"
     ]
    },
    {
     "name": "stdout",
     "output_type": "stream",
     "text": [
      "True->20171113-120510-3.jpg\n",
      "generating mask\n"
     ]
    },
    {
     "name": "stdout",
     "output_type": "stream",
     "text": [
      "True->20171113-120526-2.jpg\n",
      "generating mask\n"
     ]
    },
    {
     "name": "stdout",
     "output_type": "stream",
     "text": [
      "True->20171113-120539-2.jpg\n",
      "generating mask\n"
     ]
    },
    {
     "name": "stdout",
     "output_type": "stream",
     "text": [
      "True->20171113-120549-1.jpg\n",
      "generating mask\n"
     ]
    },
    {
     "name": "stdout",
     "output_type": "stream",
     "text": [
      "True->20171113-120551-1.jpg\n",
      "generating mask\n"
     ]
    },
    {
     "name": "stdout",
     "output_type": "stream",
     "text": [
      "True->20171113-120601-3.jpg\n",
      "generating mask\n"
     ]
    },
    {
     "name": "stdout",
     "output_type": "stream",
     "text": [
      "True->20171113-120631-1.jpg\n",
      "generating mask\n"
     ]
    },
    {
     "name": "stdout",
     "output_type": "stream",
     "text": [
      "True->20171113-120638-3.jpg\n",
      "generating mask\n"
     ]
    },
    {
     "name": "stdout",
     "output_type": "stream",
     "text": [
      "True->20171113-120654-2.jpg\n",
      "generating mask\n"
     ]
    },
    {
     "name": "stdout",
     "output_type": "stream",
     "text": [
      "True->20171113-120655-1.jpg\n",
      "generating mask\n"
     ]
    },
    {
     "name": "stdout",
     "output_type": "stream",
     "text": [
      "True->20171113-120758-1.jpg\n",
      "generating mask\n"
     ]
    },
    {
     "name": "stdout",
     "output_type": "stream",
     "text": [
      "True->20171113-120812-3.jpg\n",
      "generating mask\n"
     ]
    },
    {
     "name": "stdout",
     "output_type": "stream",
     "text": [
      "True->20171113-120832-1.jpg\n",
      "generating mask\n"
     ]
    },
    {
     "name": "stdout",
     "output_type": "stream",
     "text": [
      "True->20171113-120908-2.jpg\n",
      "generating mask\n"
     ]
    },
    {
     "name": "stdout",
     "output_type": "stream",
     "text": [
      "True->20171113-120921-1.jpg\n",
      "generating mask\n"
     ]
    },
    {
     "name": "stdout",
     "output_type": "stream",
     "text": [
      "True->20171113-120954-1.jpg\n",
      "generating mask\n"
     ]
    },
    {
     "name": "stdout",
     "output_type": "stream",
     "text": [
      "True->20171113-121009-2.jpg\n",
      "generating mask\n"
     ]
    },
    {
     "name": "stdout",
     "output_type": "stream",
     "text": [
      "True->20171113-121021-2.jpg\n",
      "generating mask\n"
     ]
    },
    {
     "name": "stdout",
     "output_type": "stream",
     "text": [
      "True->20171113-121025-1.jpg\n",
      "generating mask\n"
     ]
    },
    {
     "name": "stdout",
     "output_type": "stream",
     "text": [
      "True->20171113-121137-1.jpg\n",
      "generating mask\n"
     ]
    },
    {
     "name": "stdout",
     "output_type": "stream",
     "text": [
      "True->20171113-121149-3.jpg\n",
      "generating mask\n"
     ]
    },
    {
     "name": "stdout",
     "output_type": "stream",
     "text": [
      "True->20171113-121204-1.jpg\n",
      "generating mask\n"
     ]
    },
    {
     "name": "stdout",
     "output_type": "stream",
     "text": [
      "True->20171113-121324-3.jpg\n",
      "generating mask\n"
     ]
    },
    {
     "name": "stdout",
     "output_type": "stream",
     "text": [
      "True->20171113-121340-1.jpg\n",
      "generating mask\n"
     ]
    },
    {
     "name": "stdout",
     "output_type": "stream",
     "text": [
      "True->20171113-121432-2.jpg\n",
      "generating mask\n"
     ]
    },
    {
     "name": "stdout",
     "output_type": "stream",
     "text": [
      "True->20171113-121433-1.jpg\n",
      "generating mask\n"
     ]
    },
    {
     "name": "stdout",
     "output_type": "stream",
     "text": [
      "True->20171113-121456-1.jpg\n",
      "generating mask\n"
     ]
    },
    {
     "name": "stdout",
     "output_type": "stream",
     "text": [
      "True->20171113-121512-2.jpg\n",
      "generating mask\n"
     ]
    },
    {
     "name": "stdout",
     "output_type": "stream",
     "text": [
      "True->20171113-121536-1.jpg\n",
      "generating mask\n"
     ]
    },
    {
     "name": "stdout",
     "output_type": "stream",
     "text": [
      "True->20171113-121703-1.jpg\n",
      "generating mask\n"
     ]
    },
    {
     "name": "stdout",
     "output_type": "stream",
     "text": [
      "True->20171113-121731-1.jpg\n",
      "generating mask\n"
     ]
    },
    {
     "name": "stdout",
     "output_type": "stream",
     "text": [
      "True->20171113-121756-1.jpg\n",
      "generating mask\n"
     ]
    },
    {
     "name": "stdout",
     "output_type": "stream",
     "text": [
      "True->20171113-121757-0.jpg\n",
      "generating mask\n"
     ]
    },
    {
     "name": "stdout",
     "output_type": "stream",
     "text": [
      "True->20171113-121817-1.jpg\n",
      "generating mask\n"
     ]
    },
    {
     "name": "stdout",
     "output_type": "stream",
     "text": [
      "True->20171113-122134-0.jpg\n",
      "generating mask\n"
     ]
    },
    {
     "name": "stdout",
     "output_type": "stream",
     "text": [
      "True->20171113-122213-0.jpg\n",
      "generating mask\n"
     ]
    },
    {
     "name": "stdout",
     "output_type": "stream",
     "text": [
      "True->20171113-122227-3.jpg\n",
      "generating mask\n"
     ]
    },
    {
     "name": "stdout",
     "output_type": "stream",
     "text": [
      "True->20171113-122240-3.jpg\n",
      "generating mask\n"
     ]
    },
    {
     "name": "stdout",
     "output_type": "stream",
     "text": [
      "True->20171113-122340-1.jpg\n",
      "generating mask\n"
     ]
    },
    {
     "name": "stdout",
     "output_type": "stream",
     "text": [
      "True->20171113-122412-1.jpg\n",
      "generating mask\n"
     ]
    },
    {
     "name": "stdout",
     "output_type": "stream",
     "text": [
      "True->20171113-122417-3.jpg\n",
      "generating mask\n"
     ]
    },
    {
     "name": "stdout",
     "output_type": "stream",
     "text": [
      "True->20171113-122631-0.jpg\n",
      "generating mask\n"
     ]
    },
    {
     "name": "stdout",
     "output_type": "stream",
     "text": [
      "True->20171113-122649-3.jpg\n",
      "generating mask\n"
     ]
    },
    {
     "name": "stdout",
     "output_type": "stream",
     "text": [
      "True->20171113-123016-3.jpg\n",
      "generating mask\n"
     ]
    },
    {
     "name": "stdout",
     "output_type": "stream",
     "text": [
      "True->20171113-123042-3.jpg\n",
      "generating mask\n"
     ]
    },
    {
     "name": "stdout",
     "output_type": "stream",
     "text": [
      "True->20171113-123045-0.jpg\n",
      "generating mask\n"
     ]
    },
    {
     "name": "stdout",
     "output_type": "stream",
     "text": [
      "True->20171113-123052-0.jpg\n",
      "generating mask\n"
     ]
    },
    {
     "name": "stdout",
     "output_type": "stream",
     "text": [
      "True->20171113-123106-1.jpg\n",
      "generating mask\n"
     ]
    },
    {
     "name": "stdout",
     "output_type": "stream",
     "text": [
      "True->20171113-123137-0.jpg\n",
      "generating mask\n"
     ]
    },
    {
     "name": "stdout",
     "output_type": "stream",
     "text": [
      "True->20171113-123150-1.jpg\n",
      "generating mask\n"
     ]
    },
    {
     "name": "stdout",
     "output_type": "stream",
     "text": [
      "True->20171113-123243-1.jpg\n",
      "generating mask\n"
     ]
    },
    {
     "name": "stdout",
     "output_type": "stream",
     "text": [
      "True->20171113-123317-1.jpg\n",
      "generating mask\n"
     ]
    },
    {
     "name": "stdout",
     "output_type": "stream",
     "text": [
      "True->20171113-123332-0.jpg\n",
      "generating mask\n"
     ]
    },
    {
     "name": "stdout",
     "output_type": "stream",
     "text": [
      "True->20171113-123343-3.jpg\n",
      "generating mask\n"
     ]
    },
    {
     "name": "stdout",
     "output_type": "stream",
     "text": [
      "True->20171113-123346-1.jpg\n",
      "generating mask\n"
     ]
    },
    {
     "name": "stdout",
     "output_type": "stream",
     "text": [
      "True->20171113-123402-3.jpg\n",
      "generating mask\n"
     ]
    },
    {
     "name": "stdout",
     "output_type": "stream",
     "text": [
      "True->20171113-123427-3.jpg\n",
      "generating mask\n"
     ]
    },
    {
     "name": "stdout",
     "output_type": "stream",
     "text": [
      "True->20171113-123448-1.jpg\n",
      "generating mask\n"
     ]
    },
    {
     "name": "stdout",
     "output_type": "stream",
     "text": [
      "True->20171113-123457-3.jpg\n",
      "generating mask\n"
     ]
    },
    {
     "name": "stdout",
     "output_type": "stream",
     "text": [
      "True->20171113-123504-1.jpg\n",
      "generating mask\n"
     ]
    },
    {
     "name": "stdout",
     "output_type": "stream",
     "text": [
      "True->20171113-123510-3.jpg\n",
      "generating mask\n"
     ]
    },
    {
     "name": "stdout",
     "output_type": "stream",
     "text": [
      "True->20171113-123522-1.jpg\n",
      "generating mask\n"
     ]
    },
    {
     "name": "stdout",
     "output_type": "stream",
     "text": [
      "True->20171113-123524-3.jpg\n",
      "generating mask\n"
     ]
    },
    {
     "name": "stdout",
     "output_type": "stream",
     "text": [
      "True->20171113-123534-3.jpg\n",
      "generating mask\n"
     ]
    },
    {
     "name": "stdout",
     "output_type": "stream",
     "text": [
      "True->20171113-123546-3.jpg\n",
      "generating mask\n"
     ]
    },
    {
     "name": "stdout",
     "output_type": "stream",
     "text": [
      "True->20171113-123604-1.jpg\n",
      "generating mask\n"
     ]
    },
    {
     "name": "stdout",
     "output_type": "stream",
     "text": [
      "True->20171113-123607-3.jpg\n",
      "generating mask\n"
     ]
    },
    {
     "name": "stdout",
     "output_type": "stream",
     "text": [
      "True->20171113-123619-3.jpg\n",
      "generating mask\n"
     ]
    },
    {
     "name": "stdout",
     "output_type": "stream",
     "text": [
      "True->20171113-123630-1.jpg\n",
      "generating mask\n"
     ]
    },
    {
     "name": "stdout",
     "output_type": "stream",
     "text": [
      "True->20171113-123718-3.jpg\n",
      "generating mask\n"
     ]
    },
    {
     "name": "stdout",
     "output_type": "stream",
     "text": [
      "True->20171113-123728-3.jpg\n",
      "generating mask\n"
     ]
    },
    {
     "name": "stdout",
     "output_type": "stream",
     "text": [
      "True->20171113-123737-1.jpg\n",
      "generating mask\n"
     ]
    },
    {
     "name": "stdout",
     "output_type": "stream",
     "text": [
      "True->20171113-123746-3.jpg\n",
      "generating mask\n"
     ]
    },
    {
     "name": "stdout",
     "output_type": "stream",
     "text": [
      "True->20171113-123752-1.jpg\n",
      "generating mask\n"
     ]
    },
    {
     "name": "stdout",
     "output_type": "stream",
     "text": [
      "True->20171113-123806-1.jpg\n",
      "generating mask\n"
     ]
    },
    {
     "name": "stdout",
     "output_type": "stream",
     "text": [
      "True->20171113-123809-3.jpg\n",
      "generating mask\n"
     ]
    },
    {
     "name": "stdout",
     "output_type": "stream",
     "text": [
      "True->20171113-123847-1.jpg\n",
      "generating mask\n"
     ]
    },
    {
     "name": "stdout",
     "output_type": "stream",
     "text": [
      "True->20171113-123859-3.jpg\n",
      "generating mask\n"
     ]
    },
    {
     "name": "stdout",
     "output_type": "stream",
     "text": [
      "True->20171113-123900-1.jpg\n",
      "generating mask\n"
     ]
    },
    {
     "name": "stdout",
     "output_type": "stream",
     "text": [
      "True->20171113-123916-3.jpg\n",
      "generating mask\n"
     ]
    },
    {
     "name": "stdout",
     "output_type": "stream",
     "text": [
      "True->20171113-123919-1.jpg\n",
      "generating mask\n"
     ]
    },
    {
     "name": "stdout",
     "output_type": "stream",
     "text": [
      "True->20171113-123943-3.jpg\n",
      "generating mask\n"
     ]
    },
    {
     "name": "stdout",
     "output_type": "stream",
     "text": [
      "True->20171113-124033-1.jpg\n",
      "generating mask\n"
     ]
    },
    {
     "name": "stdout",
     "output_type": "stream",
     "text": [
      "True->20171113-124114-1.jpg\n",
      "generating mask\n"
     ]
    },
    {
     "name": "stdout",
     "output_type": "stream",
     "text": [
      "True->20171113-124136-3.jpg\n",
      "generating mask\n"
     ]
    },
    {
     "name": "stdout",
     "output_type": "stream",
     "text": [
      "True->20171113-124140-0.jpg\n",
      "generating mask\n"
     ]
    },
    {
     "name": "stdout",
     "output_type": "stream",
     "text": [
      "True->20171113-124152-3.jpg\n",
      "generating mask\n"
     ]
    },
    {
     "name": "stdout",
     "output_type": "stream",
     "text": [
      "True->20171113-124224-1.jpg\n",
      "generating mask\n"
     ]
    },
    {
     "name": "stdout",
     "output_type": "stream",
     "text": [
      "True->20171113-124236-3.jpg\n",
      "generating mask\n"
     ]
    },
    {
     "name": "stdout",
     "output_type": "stream",
     "text": [
      "True->20171113-124245-1.jpg\n",
      "generating mask\n"
     ]
    },
    {
     "name": "stdout",
     "output_type": "stream",
     "text": [
      "True->20171113-124246-3.jpg\n",
      "generating mask\n"
     ]
    },
    {
     "name": "stdout",
     "output_type": "stream",
     "text": [
      "True->20171113-124300-3.jpg\n",
      "generating mask\n"
     ]
    },
    {
     "name": "stdout",
     "output_type": "stream",
     "text": [
      "True->20171113-124317-3.jpg\n",
      "generating mask\n"
     ]
    },
    {
     "name": "stdout",
     "output_type": "stream",
     "text": [
      "True->20171113-124335-1.jpg\n",
      "generating mask\n"
     ]
    },
    {
     "name": "stdout",
     "output_type": "stream",
     "text": [
      "True->20171113-124416-1.jpg\n",
      "generating mask\n"
     ]
    },
    {
     "name": "stdout",
     "output_type": "stream",
     "text": [
      "True->20171113-124439-1.jpg\n",
      "generating mask\n"
     ]
    },
    {
     "name": "stdout",
     "output_type": "stream",
     "text": [
      "True->20171113-124442-3.jpg\n",
      "generating mask\n"
     ]
    },
    {
     "name": "stdout",
     "output_type": "stream",
     "text": [
      "True->20171113-124517-1.jpg\n",
      "generating mask\n"
     ]
    },
    {
     "name": "stdout",
     "output_type": "stream",
     "text": [
      "True->20171113-124517-3.jpg\n",
      "generating mask\n"
     ]
    },
    {
     "name": "stdout",
     "output_type": "stream",
     "text": [
      "True->20171113-124527-3.jpg\n",
      "generating mask\n"
     ]
    },
    {
     "name": "stdout",
     "output_type": "stream",
     "text": [
      "True->20171113-124540-3.jpg\n",
      "generating mask\n"
     ]
    },
    {
     "name": "stdout",
     "output_type": "stream",
     "text": [
      "True->20171113-124836-0.jpg\n",
      "generating mask\n"
     ]
    },
    {
     "name": "stdout",
     "output_type": "stream",
     "text": [
      "True->20171113-125026-0.jpg\n",
      "generating mask\n"
     ]
    },
    {
     "name": "stdout",
     "output_type": "stream",
     "text": [
      "True->20171113-130049-2.jpg\n",
      "generating mask\n"
     ]
    },
    {
     "name": "stdout",
     "output_type": "stream",
     "text": [
      "True->20171113-130523-2.jpg\n",
      "generating mask\n"
     ]
    },
    {
     "name": "stdout",
     "output_type": "stream",
     "text": [
      "True->20171113-130610-2.jpg\n",
      "generating mask\n"
     ]
    },
    {
     "name": "stdout",
     "output_type": "stream",
     "text": [
      "True->20171113-130751-2.jpg\n",
      "generating mask\n"
     ]
    },
    {
     "name": "stdout",
     "output_type": "stream",
     "text": [
      "True->20171113-130826-2.jpg\n",
      "generating mask\n"
     ]
    },
    {
     "name": "stdout",
     "output_type": "stream",
     "text": [
      "True->20171113-130902-2.jpg\n",
      "generating mask\n"
     ]
    },
    {
     "name": "stdout",
     "output_type": "stream",
     "text": [
      "True->20171113-130918-1.jpg\n",
      "generating mask\n"
     ]
    },
    {
     "name": "stdout",
     "output_type": "stream",
     "text": [
      "True->20171113-130955-2.jpg\n",
      "generating mask\n"
     ]
    },
    {
     "name": "stdout",
     "output_type": "stream",
     "text": [
      "True->20171113-131008-1.jpg\n",
      "generating mask\n"
     ]
    },
    {
     "name": "stdout",
     "output_type": "stream",
     "text": [
      "True->20171113-131014-2.jpg\n",
      "generating mask\n"
     ]
    },
    {
     "name": "stdout",
     "output_type": "stream",
     "text": [
      "True->20171113-131024-1.jpg\n",
      "generating mask\n"
     ]
    },
    {
     "name": "stdout",
     "output_type": "stream",
     "text": [
      "True->20171113-131037-1.jpg\n",
      "generating mask\n"
     ]
    },
    {
     "name": "stdout",
     "output_type": "stream",
     "text": [
      "True->20171113-131054-1.jpg\n",
      "generating mask\n"
     ]
    },
    {
     "name": "stdout",
     "output_type": "stream",
     "text": [
      "True->20171113-131134-1.jpg\n",
      "generating mask\n"
     ]
    },
    {
     "name": "stdout",
     "output_type": "stream",
     "text": [
      "True->20171113-131234-1.jpg\n",
      "generating mask\n"
     ]
    },
    {
     "name": "stdout",
     "output_type": "stream",
     "text": [
      "True->20171113-131307-1.jpg\n",
      "generating mask\n"
     ]
    },
    {
     "name": "stdout",
     "output_type": "stream",
     "text": [
      "True->20171113-131321-2.jpg\n",
      "generating mask\n"
     ]
    },
    {
     "name": "stdout",
     "output_type": "stream",
     "text": [
      "True->20171113-131345-1.jpg\n",
      "generating mask\n"
     ]
    },
    {
     "name": "stdout",
     "output_type": "stream",
     "text": [
      "True->20171113-131411-1.jpg\n",
      "generating mask\n"
     ]
    },
    {
     "name": "stdout",
     "output_type": "stream",
     "text": [
      "True->20171113-131413-0.jpg\n",
      "generating mask\n"
     ]
    },
    {
     "name": "stdout",
     "output_type": "stream",
     "text": [
      "True->20171113-131457-2.jpg\n",
      "generating mask\n"
     ]
    },
    {
     "name": "stdout",
     "output_type": "stream",
     "text": [
      "True->20171113-131503-1.jpg\n",
      "generating mask\n"
     ]
    },
    {
     "name": "stdout",
     "output_type": "stream",
     "text": [
      "True->20171113-131510-2.jpg\n",
      "generating mask\n"
     ]
    },
    {
     "name": "stdout",
     "output_type": "stream",
     "text": [
      "True->20171113-131518-1.jpg\n",
      "generating mask\n"
     ]
    },
    {
     "name": "stdout",
     "output_type": "stream",
     "text": [
      "True->20171113-131530-1.jpg\n",
      "generating mask\n"
     ]
    },
    {
     "name": "stdout",
     "output_type": "stream",
     "text": [
      "True->20171113-131554-1.jpg\n",
      "generating mask\n"
     ]
    },
    {
     "name": "stdout",
     "output_type": "stream",
     "text": [
      "True->20171113-131606-2.jpg\n",
      "generating mask\n"
     ]
    },
    {
     "name": "stdout",
     "output_type": "stream",
     "text": [
      "True->20171113-131609-1.jpg\n",
      "generating mask\n"
     ]
    },
    {
     "name": "stdout",
     "output_type": "stream",
     "text": [
      "True->20171113-131618-2.jpg\n",
      "generating mask\n"
     ]
    },
    {
     "name": "stdout",
     "output_type": "stream",
     "text": [
      "True->20171113-131631-1.jpg\n",
      "generating mask\n"
     ]
    },
    {
     "name": "stdout",
     "output_type": "stream",
     "text": [
      "True->20171113-131658-0.jpg\n",
      "generating mask\n"
     ]
    },
    {
     "name": "stdout",
     "output_type": "stream",
     "text": [
      "True->20171113-131730-1.jpg\n",
      "generating mask\n"
     ]
    },
    {
     "name": "stdout",
     "output_type": "stream",
     "text": [
      "True->20171113-131746-1.jpg\n",
      "generating mask\n"
     ]
    },
    {
     "name": "stdout",
     "output_type": "stream",
     "text": [
      "True->20171113-131746-2.jpg\n",
      "generating mask\n"
     ]
    },
    {
     "name": "stdout",
     "output_type": "stream",
     "text": [
      "True->20171113-131751-3.jpg\n",
      "generating mask\n"
     ]
    },
    {
     "name": "stdout",
     "output_type": "stream",
     "text": [
      "True->20171113-131803-1.jpg\n",
      "generating mask\n"
     ]
    },
    {
     "name": "stdout",
     "output_type": "stream",
     "text": [
      "True->20171113-131815-2.jpg\n",
      "generating mask\n"
     ]
    },
    {
     "name": "stdout",
     "output_type": "stream",
     "text": [
      "True->20171113-131821-3.jpg\n",
      "generating mask\n"
     ]
    },
    {
     "name": "stdout",
     "output_type": "stream",
     "text": [
      "True->20171113-131833-3.jpg\n",
      "generating mask\n"
     ]
    },
    {
     "name": "stdout",
     "output_type": "stream",
     "text": [
      "True->20171113-131846-2.jpg\n",
      "generating mask\n"
     ]
    },
    {
     "name": "stdout",
     "output_type": "stream",
     "text": [
      "True->20171113-131857-3.jpg\n",
      "generating mask\n"
     ]
    },
    {
     "name": "stdout",
     "output_type": "stream",
     "text": [
      "True->20171113-131918-2.jpg\n",
      "generating mask\n"
     ]
    },
    {
     "name": "stdout",
     "output_type": "stream",
     "text": [
      "True->20171113-131937-3.jpg\n",
      "generating mask\n"
     ]
    },
    {
     "name": "stdout",
     "output_type": "stream",
     "text": [
      "True->20171113-131948-3.jpg\n",
      "generating mask\n"
     ]
    },
    {
     "name": "stdout",
     "output_type": "stream",
     "text": [
      "True->20171113-132010-1.jpg\n",
      "generating mask\n"
     ]
    },
    {
     "name": "stdout",
     "output_type": "stream",
     "text": [
      "True->20171113-132015-3.jpg\n",
      "generating mask\n"
     ]
    },
    {
     "name": "stdout",
     "output_type": "stream",
     "text": [
      "True->20171113-132033-1.jpg\n",
      "generating mask\n"
     ]
    },
    {
     "name": "stdout",
     "output_type": "stream",
     "text": [
      "True->20171113-132039-3.jpg\n",
      "generating mask\n"
     ]
    },
    {
     "name": "stdout",
     "output_type": "stream",
     "text": [
      "True->20171113-132043-0.jpg\n",
      "generating mask\n"
     ]
    },
    {
     "name": "stdout",
     "output_type": "stream",
     "text": [
      "True->20171113-132048-2.jpg\n",
      "generating mask\n"
     ]
    },
    {
     "name": "stdout",
     "output_type": "stream",
     "text": [
      "True->20171113-132050-3.jpg\n",
      "generating mask\n"
     ]
    },
    {
     "name": "stdout",
     "output_type": "stream",
     "text": [
      "True->20171113-132058-1.jpg\n",
      "generating mask\n"
     ]
    },
    {
     "name": "stdout",
     "output_type": "stream",
     "text": [
      "True->20171113-132119-3.jpg\n",
      "generating mask\n"
     ]
    },
    {
     "name": "stdout",
     "output_type": "stream",
     "text": [
      "True->20171113-132125-1.jpg\n",
      "generating mask\n"
     ]
    },
    {
     "name": "stdout",
     "output_type": "stream",
     "text": [
      "True->20171113-132138-1.jpg\n",
      "generating mask\n"
     ]
    },
    {
     "name": "stdout",
     "output_type": "stream",
     "text": [
      "True->20171113-132144-3.jpg\n",
      "generating mask\n"
     ]
    },
    {
     "name": "stdout",
     "output_type": "stream",
     "text": [
      "True->20171113-132147-0.jpg\n",
      "generating mask\n"
     ]
    },
    {
     "name": "stdout",
     "output_type": "stream",
     "text": [
      "True->20171113-132152-1.jpg\n",
      "generating mask\n"
     ]
    },
    {
     "name": "stdout",
     "output_type": "stream",
     "text": [
      "True->20171113-132154-3.jpg\n",
      "generating mask\n"
     ]
    },
    {
     "name": "stdout",
     "output_type": "stream",
     "text": [
      "True->20171113-132223-3.jpg\n",
      "generating mask\n"
     ]
    },
    {
     "name": "stdout",
     "output_type": "stream",
     "text": [
      "True->20171113-132254-1.jpg\n",
      "generating mask\n"
     ]
    },
    {
     "name": "stdout",
     "output_type": "stream",
     "text": [
      "True->20171113-132332-1.jpg\n",
      "generating mask\n"
     ]
    },
    {
     "name": "stdout",
     "output_type": "stream",
     "text": [
      "True->20171113-132333-3.jpg\n",
      "generating mask\n"
     ]
    },
    {
     "name": "stdout",
     "output_type": "stream",
     "text": [
      "True->20171113-132342-3.jpg\n",
      "generating mask\n"
     ]
    },
    {
     "name": "stdout",
     "output_type": "stream",
     "text": [
      "True->20171113-132349-1.jpg\n",
      "generating mask\n"
     ]
    },
    {
     "name": "stdout",
     "output_type": "stream",
     "text": [
      "True->20171113-132408-1.jpg\n",
      "generating mask\n"
     ]
    },
    {
     "name": "stdout",
     "output_type": "stream",
     "text": [
      "True->20171113-132416-3.jpg\n",
      "generating mask\n"
     ]
    },
    {
     "name": "stdout",
     "output_type": "stream",
     "text": [
      "True->20171113-132431-3.jpg\n",
      "generating mask\n"
     ]
    },
    {
     "name": "stdout",
     "output_type": "stream",
     "text": [
      "True->20171113-132507-1.jpg\n",
      "generating mask\n"
     ]
    },
    {
     "name": "stdout",
     "output_type": "stream",
     "text": [
      "True->20171113-132548-3.jpg\n",
      "generating mask\n"
     ]
    },
    {
     "name": "stdout",
     "output_type": "stream",
     "text": [
      "True->20171113-132556-1.jpg\n",
      "generating mask\n"
     ]
    },
    {
     "name": "stdout",
     "output_type": "stream",
     "text": [
      "True->20171113-132706-3.jpg\n",
      "generating mask\n"
     ]
    },
    {
     "name": "stdout",
     "output_type": "stream",
     "text": [
      "True->20171113-132733-3.jpg\n",
      "generating mask\n"
     ]
    },
    {
     "name": "stdout",
     "output_type": "stream",
     "text": [
      "True->20171113-132747-1.jpg\n",
      "generating mask\n"
     ]
    },
    {
     "name": "stdout",
     "output_type": "stream",
     "text": [
      "True->20171113-132754-3.jpg\n",
      "generating mask\n"
     ]
    },
    {
     "name": "stdout",
     "output_type": "stream",
     "text": [
      "True->20171113-132813-1.jpg\n",
      "generating mask\n"
     ]
    },
    {
     "name": "stdout",
     "output_type": "stream",
     "text": [
      "True->20171113-132837-1.jpg\n",
      "generating mask\n"
     ]
    },
    {
     "name": "stdout",
     "output_type": "stream",
     "text": [
      "True->20171113-132852-1.jpg\n",
      "generating mask\n"
     ]
    },
    {
     "name": "stdout",
     "output_type": "stream",
     "text": [
      "True->20171113-132859-3.jpg\n",
      "generating mask\n"
     ]
    },
    {
     "name": "stdout",
     "output_type": "stream",
     "text": [
      "True->20171113-132921-3.jpg\n",
      "generating mask\n"
     ]
    },
    {
     "name": "stdout",
     "output_type": "stream",
     "text": [
      "True->20171113-132929-1.jpg\n",
      "generating mask\n"
     ]
    },
    {
     "name": "stdout",
     "output_type": "stream",
     "text": [
      "True->20171113-132938-3.jpg\n",
      "generating mask\n"
     ]
    },
    {
     "name": "stdout",
     "output_type": "stream",
     "text": [
      "True->20171113-132950-1.jpg\n",
      "generating mask\n"
     ]
    },
    {
     "name": "stdout",
     "output_type": "stream",
     "text": [
      "True->20171113-132956-0.jpg\n",
      "generating mask\n"
     ]
    },
    {
     "name": "stdout",
     "output_type": "stream",
     "text": [
      "True->20171113-133014-3.jpg\n",
      "generating mask\n"
     ]
    },
    {
     "name": "stdout",
     "output_type": "stream",
     "text": [
      "True->20171113-133026-3.jpg\n",
      "generating mask\n"
     ]
    },
    {
     "name": "stdout",
     "output_type": "stream",
     "text": [
      "True->20171113-133039-1.jpg\n",
      "generating mask\n"
     ]
    },
    {
     "name": "stdout",
     "output_type": "stream",
     "text": [
      "True->20171113-133040-0.jpg\n",
      "generating mask\n"
     ]
    },
    {
     "name": "stdout",
     "output_type": "stream",
     "text": [
      "True->20171113-133044-3.jpg\n",
      "generating mask\n"
     ]
    },
    {
     "name": "stdout",
     "output_type": "stream",
     "text": [
      "True->20171113-133055-1.jpg\n",
      "generating mask\n"
     ]
    },
    {
     "name": "stdout",
     "output_type": "stream",
     "text": [
      "True->20171113-133110-1.jpg\n",
      "generating mask\n"
     ]
    },
    {
     "name": "stdout",
     "output_type": "stream",
     "text": [
      "True->20171113-133118-3.jpg\n",
      "generating mask\n"
     ]
    },
    {
     "name": "stdout",
     "output_type": "stream",
     "text": [
      "True->20171113-133148-3.jpg\n",
      "generating mask\n"
     ]
    },
    {
     "name": "stdout",
     "output_type": "stream",
     "text": [
      "True->20171113-133153-0.jpg\n",
      "generating mask\n"
     ]
    },
    {
     "name": "stdout",
     "output_type": "stream",
     "text": [
      "True->20171113-133153-1.jpg\n",
      "generating mask\n"
     ]
    },
    {
     "name": "stdout",
     "output_type": "stream",
     "text": [
      "True->20171113-133211-1.jpg\n",
      "generating mask\n"
     ]
    },
    {
     "name": "stdout",
     "output_type": "stream",
     "text": [
      "True->20171113-133217-3.jpg\n",
      "generating mask\n"
     ]
    },
    {
     "name": "stdout",
     "output_type": "stream",
     "text": [
      "True->20171113-133241-3.jpg\n",
      "generating mask\n"
     ]
    },
    {
     "name": "stdout",
     "output_type": "stream",
     "text": [
      "True->20171113-133248-1.jpg\n",
      "generating mask\n"
     ]
    },
    {
     "name": "stdout",
     "output_type": "stream",
     "text": [
      "True->20171113-133259-3.jpg\n",
      "generating mask\n"
     ]
    },
    {
     "name": "stdout",
     "output_type": "stream",
     "text": [
      "True->20171113-133312-1.jpg\n",
      "generating mask\n"
     ]
    },
    {
     "name": "stdout",
     "output_type": "stream",
     "text": [
      "True->20171113-133317-3.jpg\n",
      "generating mask\n"
     ]
    },
    {
     "name": "stdout",
     "output_type": "stream",
     "text": [
      "True->20171113-133331-3.jpg\n",
      "generating mask\n"
     ]
    },
    {
     "name": "stdout",
     "output_type": "stream",
     "text": [
      "True->20171113-133349-3.jpg\n",
      "generating mask\n"
     ]
    },
    {
     "name": "stdout",
     "output_type": "stream",
     "text": [
      "True->20171113-133354-1.jpg\n",
      "generating mask\n"
     ]
    },
    {
     "name": "stdout",
     "output_type": "stream",
     "text": [
      "True->20171113-133441-1.jpg\n",
      "generating mask\n"
     ]
    },
    {
     "name": "stdout",
     "output_type": "stream",
     "text": [
      "True->20171113-133536-1.jpg\n",
      "generating mask\n"
     ]
    },
    {
     "name": "stdout",
     "output_type": "stream",
     "text": [
      "True->20171113-133603-1.jpg\n",
      "generating mask\n"
     ]
    },
    {
     "name": "stdout",
     "output_type": "stream",
     "text": [
      "True->20171113-133628-1.jpg\n",
      "generating mask\n"
     ]
    },
    {
     "name": "stdout",
     "output_type": "stream",
     "text": [
      "True->20171113-133637-3.jpg\n",
      "generating mask\n"
     ]
    },
    {
     "name": "stdout",
     "output_type": "stream",
     "text": [
      "True->20171113-133644-1.jpg\n",
      "generating mask\n"
     ]
    },
    {
     "name": "stdout",
     "output_type": "stream",
     "text": [
      "True->20171113-133646-3.jpg\n",
      "generating mask\n"
     ]
    },
    {
     "name": "stdout",
     "output_type": "stream",
     "text": [
      "True->20171113-133710-1.jpg\n",
      "generating mask\n"
     ]
    },
    {
     "name": "stdout",
     "output_type": "stream",
     "text": [
      "True->20171113-133727-1.jpg\n",
      "generating mask\n"
     ]
    },
    {
     "name": "stdout",
     "output_type": "stream",
     "text": [
      "True->20171113-133727-3.jpg\n",
      "generating mask\n"
     ]
    },
    {
     "name": "stdout",
     "output_type": "stream",
     "text": [
      "True->20171113-133752-1.jpg\n",
      "generating mask\n"
     ]
    },
    {
     "name": "stdout",
     "output_type": "stream",
     "text": [
      "True->20171113-133758-3.jpg\n",
      "generating mask\n"
     ]
    },
    {
     "name": "stdout",
     "output_type": "stream",
     "text": [
      "True->20171113-133808-1.jpg\n",
      "generating mask\n"
     ]
    },
    {
     "name": "stdout",
     "output_type": "stream",
     "text": [
      "True->20171113-133809-3.jpg\n",
      "generating mask\n"
     ]
    },
    {
     "name": "stdout",
     "output_type": "stream",
     "text": [
      "True->20171113-133827-3.jpg\n",
      "generating mask\n"
     ]
    },
    {
     "name": "stdout",
     "output_type": "stream",
     "text": [
      "True->20171113-133848-1.jpg\n",
      "generating mask\n"
     ]
    },
    {
     "name": "stdout",
     "output_type": "stream",
     "text": [
      "True->20171113-133859-3.jpg\n",
      "generating mask\n"
     ]
    },
    {
     "name": "stdout",
     "output_type": "stream",
     "text": [
      "True->20171113-133940-3.jpg\n",
      "generating mask\n"
     ]
    },
    {
     "name": "stdout",
     "output_type": "stream",
     "text": [
      "True->20171113-133946-1.jpg\n",
      "generating mask\n"
     ]
    },
    {
     "name": "stdout",
     "output_type": "stream",
     "text": [
      "True->20171113-134030-3.jpg\n",
      "generating mask\n"
     ]
    },
    {
     "name": "stdout",
     "output_type": "stream",
     "text": [
      "True->20171113-134032-1.jpg\n",
      "generating mask\n"
     ]
    },
    {
     "name": "stdout",
     "output_type": "stream",
     "text": [
      "True->20171113-134042-3.jpg\n",
      "generating mask\n"
     ]
    },
    {
     "name": "stdout",
     "output_type": "stream",
     "text": [
      "True->20171113-134108-3.jpg\n",
      "generating mask\n"
     ]
    },
    {
     "name": "stdout",
     "output_type": "stream",
     "text": [
      "True->20171113-134157-3.jpg\n",
      "generating mask\n"
     ]
    },
    {
     "name": "stdout",
     "output_type": "stream",
     "text": [
      "True->20171113-134252-1.jpg\n",
      "generating mask\n"
     ]
    },
    {
     "name": "stdout",
     "output_type": "stream",
     "text": [
      "True->20171113-134314-1.jpg\n",
      "generating mask\n"
     ]
    },
    {
     "name": "stdout",
     "output_type": "stream",
     "text": [
      "True->20171113-134326-3.jpg\n",
      "generating mask\n"
     ]
    },
    {
     "name": "stdout",
     "output_type": "stream",
     "text": [
      "True->20171113-134330-1.jpg\n",
      "generating mask\n"
     ]
    },
    {
     "name": "stdout",
     "output_type": "stream",
     "text": [
      "True->20171113-134353-1.jpg\n",
      "generating mask\n"
     ]
    },
    {
     "name": "stdout",
     "output_type": "stream",
     "text": [
      "True->20171113-134408-1.jpg\n",
      "generating mask\n"
     ]
    },
    {
     "name": "stdout",
     "output_type": "stream",
     "text": [
      "True->20171113-134450-0.jpg\n",
      "generating mask\n"
     ]
    },
    {
     "name": "stdout",
     "output_type": "stream",
     "text": [
      "True->20171113-134454-3.jpg\n",
      "generating mask\n"
     ]
    },
    {
     "name": "stdout",
     "output_type": "stream",
     "text": [
      "True->20171113-134526-3.jpg\n",
      "generating mask\n"
     ]
    },
    {
     "name": "stdout",
     "output_type": "stream",
     "text": [
      "True->20171113-134550-1.jpg\n",
      "generating mask\n"
     ]
    },
    {
     "name": "stdout",
     "output_type": "stream",
     "text": [
      "True->20171113-134556-3.jpg\n",
      "generating mask\n"
     ]
    },
    {
     "name": "stdout",
     "output_type": "stream",
     "text": [
      "True->20171113-134630-3.jpg\n",
      "generating mask\n"
     ]
    },
    {
     "name": "stdout",
     "output_type": "stream",
     "text": [
      "True->20171113-134639-1.jpg\n",
      "generating mask\n"
     ]
    },
    {
     "name": "stdout",
     "output_type": "stream",
     "text": [
      "True->20171113-134644-3.jpg\n",
      "generating mask\n"
     ]
    },
    {
     "name": "stdout",
     "output_type": "stream",
     "text": [
      "True->20171113-134655-3.jpg\n",
      "generating mask\n"
     ]
    },
    {
     "name": "stdout",
     "output_type": "stream",
     "text": [
      "True->20171113-134709-1.jpg\n",
      "generating mask\n"
     ]
    },
    {
     "name": "stdout",
     "output_type": "stream",
     "text": [
      "True->20171113-134726-3.jpg\n",
      "generating mask\n"
     ]
    },
    {
     "name": "stdout",
     "output_type": "stream",
     "text": [
      "True->20171113-134727-1.jpg\n",
      "generating mask\n"
     ]
    },
    {
     "name": "stdout",
     "output_type": "stream",
     "text": [
      "True->20171113-134744-1.jpg\n",
      "generating mask\n"
     ]
    },
    {
     "name": "stdout",
     "output_type": "stream",
     "text": [
      "True->20171113-134801-1.jpg\n",
      "generating mask\n"
     ]
    },
    {
     "name": "stdout",
     "output_type": "stream",
     "text": [
      "True->20171113-134811-3.jpg\n",
      "generating mask\n"
     ]
    },
    {
     "name": "stdout",
     "output_type": "stream",
     "text": [
      "True->20171113-134831-3.jpg\n",
      "generating mask\n"
     ]
    },
    {
     "name": "stdout",
     "output_type": "stream",
     "text": [
      "True->20171113-134906-1.jpg\n",
      "generating mask\n"
     ]
    },
    {
     "name": "stdout",
     "output_type": "stream",
     "text": [
      "True->20171113-134926-1.jpg\n",
      "generating mask\n"
     ]
    },
    {
     "name": "stdout",
     "output_type": "stream",
     "text": [
      "True->20171113-134928-3.jpg\n",
      "generating mask\n"
     ]
    },
    {
     "name": "stdout",
     "output_type": "stream",
     "text": [
      "True->20171113-134952-3.jpg\n",
      "generating mask\n"
     ]
    },
    {
     "name": "stdout",
     "output_type": "stream",
     "text": [
      "True->20171113-134957-1.jpg\n",
      "generating mask\n"
     ]
    },
    {
     "name": "stdout",
     "output_type": "stream",
     "text": [
      "True->20171113-135112-3.jpg\n",
      "generating mask\n"
     ]
    },
    {
     "name": "stdout",
     "output_type": "stream",
     "text": [
      "True->20171113-135139-3.jpg\n",
      "generating mask\n"
     ]
    },
    {
     "name": "stdout",
     "output_type": "stream",
     "text": [
      "True->20171113-135150-0.jpg\n",
      "generating mask\n"
     ]
    },
    {
     "name": "stdout",
     "output_type": "stream",
     "text": [
      "True->20171113-135158-3.jpg\n",
      "generating mask\n"
     ]
    },
    {
     "name": "stdout",
     "output_type": "stream",
     "text": [
      "True->20171113-135239-0.jpg\n",
      "generating mask\n"
     ]
    },
    {
     "name": "stdout",
     "output_type": "stream",
     "text": [
      "True->20171113-135243-1.jpg\n",
      "generating mask\n"
     ]
    },
    {
     "name": "stdout",
     "output_type": "stream",
     "text": [
      "True->20171113-135245-1.jpg\n",
      "generating mask\n"
     ]
    },
    {
     "name": "stdout",
     "output_type": "stream",
     "text": [
      "True->20171113-135311-1.jpg\n",
      "generating mask\n"
     ]
    },
    {
     "name": "stdout",
     "output_type": "stream",
     "text": [
      "True->20171113-135316-3.jpg\n",
      "generating mask\n"
     ]
    },
    {
     "name": "stdout",
     "output_type": "stream",
     "text": [
      "True->20171113-135334-3.jpg\n",
      "generating mask\n"
     ]
    },
    {
     "name": "stdout",
     "output_type": "stream",
     "text": [
      "True->20171113-135346-3.jpg\n",
      "generating mask\n"
     ]
    },
    {
     "name": "stdout",
     "output_type": "stream",
     "text": [
      "True->20171113-135359-3.jpg\n",
      "generating mask\n"
     ]
    },
    {
     "name": "stdout",
     "output_type": "stream",
     "text": [
      "True->20171113-135412-3.jpg\n",
      "generating mask\n"
     ]
    },
    {
     "name": "stdout",
     "output_type": "stream",
     "text": [
      "True->20171113-135432-0.jpg\n",
      "generating mask\n"
     ]
    },
    {
     "name": "stdout",
     "output_type": "stream",
     "text": [
      "True->20171113-135453-3.jpg\n",
      "generating mask\n"
     ]
    },
    {
     "name": "stdout",
     "output_type": "stream",
     "text": [
      "True->20171113-135507-3.jpg\n",
      "generating mask\n"
     ]
    },
    {
     "name": "stdout",
     "output_type": "stream",
     "text": [
      "True->20171113-135516-0.jpg\n",
      "generating mask\n"
     ]
    },
    {
     "name": "stdout",
     "output_type": "stream",
     "text": [
      "True->20171113-135658-1.jpg\n",
      "generating mask\n"
     ]
    },
    {
     "name": "stdout",
     "output_type": "stream",
     "text": [
      "True->20171113-135712-1.jpg\n",
      "generating mask\n"
     ]
    },
    {
     "name": "stdout",
     "output_type": "stream",
     "text": [
      "True->20171113-135754-1.jpg\n",
      "generating mask\n"
     ]
    },
    {
     "name": "stdout",
     "output_type": "stream",
     "text": [
      "True->20171113-140014-1.jpg\n",
      "generating mask\n"
     ]
    },
    {
     "name": "stdout",
     "output_type": "stream",
     "text": [
      "True->20171113-140028-1.jpg\n",
      "generating mask\n"
     ]
    },
    {
     "name": "stdout",
     "output_type": "stream",
     "text": [
      "True->20171113-140103-1.jpg\n",
      "generating mask\n"
     ]
    },
    {
     "name": "stdout",
     "output_type": "stream",
     "text": [
      "True->20171113-140119-2.jpg\n",
      "generating mask\n"
     ]
    },
    {
     "name": "stdout",
     "output_type": "stream",
     "text": [
      "True->20171113-140134-2.jpg\n",
      "generating mask\n"
     ]
    },
    {
     "name": "stdout",
     "output_type": "stream",
     "text": [
      "True->20171113-140138-1.jpg\n",
      "generating mask\n"
     ]
    },
    {
     "name": "stdout",
     "output_type": "stream",
     "text": [
      "True->20171113-140237-2.jpg\n",
      "generating mask\n"
     ]
    },
    {
     "name": "stdout",
     "output_type": "stream",
     "text": [
      "True->20171113-140251-1.jpg\n",
      "generating mask\n"
     ]
    },
    {
     "name": "stdout",
     "output_type": "stream",
     "text": [
      "True->20171113-140252-1.jpg\n",
      "generating mask\n"
     ]
    },
    {
     "name": "stdout",
     "output_type": "stream",
     "text": [
      "True->20171113-140455-2.jpg\n",
      "generating mask\n"
     ]
    },
    {
     "name": "stdout",
     "output_type": "stream",
     "text": [
      "True->20171113-140528-2.jpg\n",
      "generating mask\n"
     ]
    },
    {
     "name": "stdout",
     "output_type": "stream",
     "text": [
      "True->20171113-140631-2.jpg\n",
      "generating mask\n"
     ]
    },
    {
     "name": "stdout",
     "output_type": "stream",
     "text": [
      "True->20171113-140645-2.jpg\n",
      "generating mask\n"
     ]
    },
    {
     "name": "stdout",
     "output_type": "stream",
     "text": [
      "True->20171113-140733-2.jpg\n",
      "generating mask\n"
     ]
    },
    {
     "name": "stdout",
     "output_type": "stream",
     "text": [
      "True->20171113-140954-2.jpg\n",
      "generating mask\n"
     ]
    },
    {
     "name": "stdout",
     "output_type": "stream",
     "text": [
      "True->20171113-141009-2.jpg\n",
      "generating mask\n"
     ]
    },
    {
     "name": "stdout",
     "output_type": "stream",
     "text": [
      "True->20171113-141059-2.jpg\n",
      "generating mask\n"
     ]
    },
    {
     "name": "stdout",
     "output_type": "stream",
     "text": [
      "True->20171113-141151-2.jpg\n",
      "generating mask\n"
     ]
    },
    {
     "name": "stdout",
     "output_type": "stream",
     "text": [
      "True->20171113-141212-2.jpg\n",
      "generating mask\n"
     ]
    },
    {
     "name": "stdout",
     "output_type": "stream",
     "text": [
      "True->20171113-141224-2.jpg\n",
      "generating mask\n"
     ]
    },
    {
     "name": "stdout",
     "output_type": "stream",
     "text": [
      "True->20171113-141240-2.jpg\n",
      "generating mask\n"
     ]
    },
    {
     "name": "stdout",
     "output_type": "stream",
     "text": [
      "True->20171113-141253-2.jpg\n",
      "generating mask\n"
     ]
    },
    {
     "name": "stdout",
     "output_type": "stream",
     "text": [
      "True->20171113-141326-2.jpg\n",
      "generating mask\n"
     ]
    },
    {
     "name": "stdout",
     "output_type": "stream",
     "text": [
      "True->20171113-141340-2.jpg\n",
      "generating mask\n"
     ]
    },
    {
     "name": "stdout",
     "output_type": "stream",
     "text": [
      "True->20171113-141411-2.jpg\n",
      "generating mask\n"
     ]
    },
    {
     "name": "stdout",
     "output_type": "stream",
     "text": [
      "True->20171113-141437-2.jpg\n",
      "generating mask\n"
     ]
    },
    {
     "name": "stdout",
     "output_type": "stream",
     "text": [
      "True->20171113-141451-2.jpg\n",
      "generating mask\n"
     ]
    },
    {
     "name": "stdout",
     "output_type": "stream",
     "text": [
      "True->20171113-141507-2.jpg\n",
      "generating mask\n"
     ]
    },
    {
     "name": "stdout",
     "output_type": "stream",
     "text": [
      "True->20171113-141533-2.jpg\n",
      "generating mask\n"
     ]
    },
    {
     "name": "stdout",
     "output_type": "stream",
     "text": [
      "True->20171113-141633-2.jpg\n",
      "generating mask\n"
     ]
    },
    {
     "name": "stdout",
     "output_type": "stream",
     "text": [
      "True->20171113-141647-2.jpg\n",
      "generating mask\n"
     ]
    },
    {
     "name": "stdout",
     "output_type": "stream",
     "text": [
      "True->20171113-141700-2.jpg\n",
      "generating mask\n"
     ]
    },
    {
     "name": "stdout",
     "output_type": "stream",
     "text": [
      "True->20171113-141720-2.jpg\n",
      "generating mask\n"
     ]
    },
    {
     "name": "stdout",
     "output_type": "stream",
     "text": [
      "True->20171113-141752-2.jpg\n",
      "generating mask\n"
     ]
    },
    {
     "name": "stdout",
     "output_type": "stream",
     "text": [
      "True->20171113-141831-2.jpg\n",
      "generating mask\n"
     ]
    },
    {
     "name": "stdout",
     "output_type": "stream",
     "text": [
      "True->20171113-141918-2.jpg\n",
      "generating mask\n"
     ]
    },
    {
     "name": "stdout",
     "output_type": "stream",
     "text": [
      "True->20171113-141955-2.jpg\n",
      "generating mask\n"
     ]
    },
    {
     "name": "stdout",
     "output_type": "stream",
     "text": [
      "True->20171113-142008-2.jpg\n",
      "generating mask\n"
     ]
    },
    {
     "name": "stdout",
     "output_type": "stream",
     "text": [
      "True->20171113-142059-2.jpg\n",
      "generating mask\n"
     ]
    },
    {
     "name": "stdout",
     "output_type": "stream",
     "text": [
      "True->20171113-142116-2.jpg\n",
      "generating mask\n"
     ]
    },
    {
     "name": "stdout",
     "output_type": "stream",
     "text": [
      "True->20171113-142219-2.jpg\n",
      "generating mask\n"
     ]
    },
    {
     "name": "stdout",
     "output_type": "stream",
     "text": [
      "True->20171113-142238-2.jpg\n",
      "generating mask\n"
     ]
    },
    {
     "name": "stdout",
     "output_type": "stream",
     "text": [
      "True->20171113-142323-0.jpg\n",
      "generating mask\n"
     ]
    },
    {
     "name": "stdout",
     "output_type": "stream",
     "text": [
      "True->20171113-142412-2.jpg\n",
      "generating mask\n"
     ]
    },
    {
     "name": "stdout",
     "output_type": "stream",
     "text": [
      "True->20171113-142438-2.jpg\n",
      "generating mask\n"
     ]
    },
    {
     "name": "stdout",
     "output_type": "stream",
     "text": [
      "True->20171113-142459-0.jpg\n",
      "generating mask\n"
     ]
    },
    {
     "name": "stdout",
     "output_type": "stream",
     "text": [
      "True->20171113-142508-2.jpg\n",
      "generating mask\n"
     ]
    },
    {
     "name": "stdout",
     "output_type": "stream",
     "text": [
      "True->20171113-142521-2.jpg\n",
      "generating mask\n"
     ]
    },
    {
     "name": "stdout",
     "output_type": "stream",
     "text": [
      "True->20171113-142527-2.jpg\n",
      "generating mask\n"
     ]
    },
    {
     "name": "stdout",
     "output_type": "stream",
     "text": [
      "True->20171113-142536-2.jpg\n",
      "generating mask\n"
     ]
    },
    {
     "name": "stdout",
     "output_type": "stream",
     "text": [
      "True->20171113-142600-2.jpg\n",
      "generating mask\n"
     ]
    },
    {
     "name": "stdout",
     "output_type": "stream",
     "text": [
      "True->20171113-142649-2.jpg\n",
      "generating mask\n"
     ]
    },
    {
     "name": "stdout",
     "output_type": "stream",
     "text": [
      "True->20171113-142659-3.jpg\n",
      "generating mask\n"
     ]
    },
    {
     "name": "stdout",
     "output_type": "stream",
     "text": [
      "True->20171113-142713-2.jpg\n",
      "generating mask\n"
     ]
    },
    {
     "name": "stdout",
     "output_type": "stream",
     "text": [
      "True->20171113-142730-3.jpg\n",
      "generating mask\n"
     ]
    },
    {
     "name": "stdout",
     "output_type": "stream",
     "text": [
      "True->20171113-142802-3.jpg\n",
      "generating mask\n"
     ]
    },
    {
     "name": "stdout",
     "output_type": "stream",
     "text": [
      "True->20171113-142813-3.jpg\n",
      "generating mask\n"
     ]
    },
    {
     "name": "stdout",
     "output_type": "stream",
     "text": [
      "True->20171113-142823-0.jpg\n",
      "generating mask\n"
     ]
    },
    {
     "name": "stdout",
     "output_type": "stream",
     "text": [
      "True->20171113-142841-2.jpg\n",
      "generating mask\n"
     ]
    },
    {
     "name": "stdout",
     "output_type": "stream",
     "text": [
      "True->20171113-142844-3.jpg\n",
      "generating mask\n"
     ]
    },
    {
     "name": "stdout",
     "output_type": "stream",
     "text": [
      "True->20171113-142857-3.jpg\n",
      "generating mask\n"
     ]
    },
    {
     "name": "stdout",
     "output_type": "stream",
     "text": [
      "True->20171113-142912-3.jpg\n",
      "generating mask\n"
     ]
    },
    {
     "name": "stdout",
     "output_type": "stream",
     "text": [
      "True->20171113-142940-3.jpg\n",
      "generating mask\n"
     ]
    },
    {
     "name": "stdout",
     "output_type": "stream",
     "text": [
      "True->20171113-143030-2.jpg\n",
      "generating mask\n"
     ]
    },
    {
     "name": "stdout",
     "output_type": "stream",
     "text": [
      "True->20171113-143038-3.jpg\n",
      "generating mask\n"
     ]
    },
    {
     "name": "stdout",
     "output_type": "stream",
     "text": [
      "True->20171113-143050-3.jpg\n",
      "generating mask\n"
     ]
    },
    {
     "name": "stdout",
     "output_type": "stream",
     "text": [
      "True->20171113-143123-3.jpg\n",
      "generating mask\n"
     ]
    },
    {
     "name": "stdout",
     "output_type": "stream",
     "text": [
      "True->20171113-143135-2.jpg\n",
      "generating mask\n"
     ]
    },
    {
     "name": "stdout",
     "output_type": "stream",
     "text": [
      "True->20171113-143153-2.jpg\n",
      "generating mask\n"
     ]
    },
    {
     "name": "stdout",
     "output_type": "stream",
     "text": [
      "True->20171113-143204-3.jpg\n",
      "generating mask\n"
     ]
    },
    {
     "name": "stdout",
     "output_type": "stream",
     "text": [
      "True->20171113-143207-2.jpg\n",
      "generating mask\n"
     ]
    },
    {
     "name": "stdout",
     "output_type": "stream",
     "text": [
      "True->20171113-143224-3.jpg\n",
      "generating mask\n"
     ]
    },
    {
     "name": "stdout",
     "output_type": "stream",
     "text": [
      "True->20171113-143231-2.jpg\n",
      "generating mask\n"
     ]
    },
    {
     "name": "stdout",
     "output_type": "stream",
     "text": [
      "True->20171113-143248-2.jpg\n",
      "generating mask\n"
     ]
    },
    {
     "name": "stdout",
     "output_type": "stream",
     "text": [
      "True->20171113-143258-3.jpg\n",
      "generating mask\n"
     ]
    },
    {
     "name": "stdout",
     "output_type": "stream",
     "text": [
      "True->20171113-143259-0.jpg\n",
      "generating mask\n"
     ]
    },
    {
     "name": "stdout",
     "output_type": "stream",
     "text": [
      "True->20171113-143315-2.jpg\n",
      "generating mask\n"
     ]
    },
    {
     "name": "stdout",
     "output_type": "stream",
     "text": [
      "True->20171113-143328-2.jpg\n",
      "generating mask\n"
     ]
    },
    {
     "name": "stdout",
     "output_type": "stream",
     "text": [
      "True->20171113-143334-0.jpg\n",
      "generating mask\n"
     ]
    },
    {
     "name": "stdout",
     "output_type": "stream",
     "text": [
      "True->20171113-143335-3.jpg\n",
      "generating mask\n"
     ]
    },
    {
     "name": "stdout",
     "output_type": "stream",
     "text": [
      "True->20171113-143404-2.jpg\n",
      "generating mask\n"
     ]
    },
    {
     "name": "stdout",
     "output_type": "stream",
     "text": [
      "True->20171113-143440-3.jpg\n",
      "generating mask\n"
     ]
    },
    {
     "name": "stdout",
     "output_type": "stream",
     "text": [
      "True->20171113-143501-2.jpg\n",
      "generating mask\n"
     ]
    },
    {
     "name": "stdout",
     "output_type": "stream",
     "text": [
      "True->20171113-143535-2.jpg\n",
      "generating mask\n"
     ]
    },
    {
     "name": "stdout",
     "output_type": "stream",
     "text": [
      "True->20171113-143603-2.jpg\n",
      "generating mask\n"
     ]
    },
    {
     "name": "stdout",
     "output_type": "stream",
     "text": [
      "True->20171113-143642-2.jpg\n",
      "generating mask\n"
     ]
    },
    {
     "name": "stdout",
     "output_type": "stream",
     "text": [
      "True->20171113-143650-0.jpg\n",
      "generating mask\n"
     ]
    },
    {
     "name": "stdout",
     "output_type": "stream",
     "text": [
      "True->20171113-143827-3.jpg\n",
      "generating mask\n"
     ]
    },
    {
     "name": "stdout",
     "output_type": "stream",
     "text": [
      "True->20171113-143830-2.jpg\n",
      "generating mask\n"
     ]
    },
    {
     "name": "stdout",
     "output_type": "stream",
     "text": [
      "True->20171113-143846-2.jpg\n",
      "generating mask\n"
     ]
    },
    {
     "name": "stdout",
     "output_type": "stream",
     "text": [
      "True->20171113-143857-2.jpg\n",
      "generating mask\n"
     ]
    },
    {
     "name": "stdout",
     "output_type": "stream",
     "text": [
      "True->20171113-143903-3.jpg\n",
      "generating mask\n"
     ]
    },
    {
     "name": "stdout",
     "output_type": "stream",
     "text": [
      "True->20171113-143943-2.jpg\n",
      "generating mask\n"
     ]
    },
    {
     "name": "stdout",
     "output_type": "stream",
     "text": [
      "True->20171113-143958-2.jpg\n",
      "generating mask\n"
     ]
    },
    {
     "name": "stdout",
     "output_type": "stream",
     "text": [
      "True->20171113-144009-2.jpg\n",
      "generating mask\n"
     ]
    },
    {
     "name": "stdout",
     "output_type": "stream",
     "text": [
      "True->20171113-144021-3.jpg\n",
      "generating mask\n"
     ]
    },
    {
     "name": "stdout",
     "output_type": "stream",
     "text": [
      "True->20171113-144114-0.jpg\n",
      "generating mask\n"
     ]
    },
    {
     "name": "stdout",
     "output_type": "stream",
     "text": [
      "True->20171113-144143-2.jpg\n",
      "generating mask\n"
     ]
    },
    {
     "name": "stdout",
     "output_type": "stream",
     "text": [
      "True->20171113-144212-3.jpg\n",
      "generating mask\n"
     ]
    },
    {
     "name": "stdout",
     "output_type": "stream",
     "text": [
      "True->20171113-144236-2.jpg\n",
      "generating mask\n"
     ]
    },
    {
     "name": "stdout",
     "output_type": "stream",
     "text": [
      "True->20171113-144239-3.jpg\n",
      "generating mask\n"
     ]
    },
    {
     "name": "stdout",
     "output_type": "stream",
     "text": [
      "True->20171113-144252-3.jpg\n",
      "generating mask\n"
     ]
    },
    {
     "name": "stdout",
     "output_type": "stream",
     "text": [
      "True->20171113-144311-2.jpg\n",
      "generating mask\n"
     ]
    },
    {
     "name": "stdout",
     "output_type": "stream",
     "text": [
      "True->20171113-144318-3.jpg\n",
      "generating mask\n"
     ]
    },
    {
     "name": "stdout",
     "output_type": "stream",
     "text": [
      "True->20171113-144333-3.jpg\n",
      "generating mask\n"
     ]
    },
    {
     "name": "stdout",
     "output_type": "stream",
     "text": [
      "True->20171113-144335-1.jpg\n",
      "generating mask\n"
     ]
    },
    {
     "name": "stdout",
     "output_type": "stream",
     "text": [
      "True->20171113-144405-1.jpg\n",
      "generating mask\n"
     ]
    },
    {
     "name": "stdout",
     "output_type": "stream",
     "text": [
      "True->20171113-144428-2.jpg\n",
      "generating mask\n"
     ]
    },
    {
     "name": "stdout",
     "output_type": "stream",
     "text": [
      "True->20171113-144439-1.jpg\n",
      "generating mask\n"
     ]
    },
    {
     "name": "stdout",
     "output_type": "stream",
     "text": [
      "True->20171113-144441-2.jpg\n",
      "generating mask\n"
     ]
    },
    {
     "name": "stdout",
     "output_type": "stream",
     "text": [
      "True->20171113-144443-3.jpg\n",
      "generating mask\n"
     ]
    },
    {
     "name": "stdout",
     "output_type": "stream",
     "text": [
      "True->20171113-144457-1.jpg\n",
      "generating mask\n"
     ]
    },
    {
     "name": "stdout",
     "output_type": "stream",
     "text": [
      "True->20171113-144457-3.jpg\n",
      "generating mask\n"
     ]
    },
    {
     "name": "stdout",
     "output_type": "stream",
     "text": [
      "True->20171113-144513-1.jpg\n",
      "generating mask\n"
     ]
    },
    {
     "name": "stdout",
     "output_type": "stream",
     "text": [
      "True->20171113-144523-3.jpg\n",
      "generating mask\n"
     ]
    },
    {
     "name": "stdout",
     "output_type": "stream",
     "text": [
      "True->20171113-144604-3.jpg\n",
      "generating mask\n"
     ]
    },
    {
     "name": "stdout",
     "output_type": "stream",
     "text": [
      "True->20171113-144620-1.jpg\n",
      "generating mask\n"
     ]
    },
    {
     "name": "stdout",
     "output_type": "stream",
     "text": [
      "True->20171113-144652-3.jpg\n",
      "generating mask\n"
     ]
    },
    {
     "name": "stdout",
     "output_type": "stream",
     "text": [
      "True->20171113-144653-1.jpg\n",
      "generating mask\n"
     ]
    },
    {
     "name": "stdout",
     "output_type": "stream",
     "text": [
      "True->20171113-144704-3.jpg\n",
      "generating mask\n"
     ]
    },
    {
     "name": "stdout",
     "output_type": "stream",
     "text": [
      "True->20171113-144706-1.jpg\n",
      "generating mask\n"
     ]
    },
    {
     "name": "stdout",
     "output_type": "stream",
     "text": [
      "True->20171113-144722-1.jpg\n",
      "generating mask\n"
     ]
    },
    {
     "name": "stdout",
     "output_type": "stream",
     "text": [
      "True->20171113-144745-1.jpg\n",
      "generating mask\n"
     ]
    },
    {
     "name": "stdout",
     "output_type": "stream",
     "text": [
      "True->20171113-144747-0.jpg\n",
      "generating mask\n"
     ]
    },
    {
     "name": "stdout",
     "output_type": "stream",
     "text": [
      "True->20171113-144802-3.jpg\n",
      "generating mask\n"
     ]
    },
    {
     "name": "stdout",
     "output_type": "stream",
     "text": [
      "True->20171113-144803-1.jpg\n",
      "generating mask\n"
     ]
    },
    {
     "name": "stdout",
     "output_type": "stream",
     "text": [
      "True->20171113-144817-0.jpg\n",
      "generating mask\n"
     ]
    },
    {
     "name": "stdout",
     "output_type": "stream",
     "text": [
      "True->20171113-144859-3.jpg\n",
      "generating mask\n"
     ]
    },
    {
     "name": "stdout",
     "output_type": "stream",
     "text": [
      "True->20171113-144900-1.jpg\n",
      "generating mask\n"
     ]
    },
    {
     "name": "stdout",
     "output_type": "stream",
     "text": [
      "True->20171113-144918-1.jpg\n",
      "generating mask\n"
     ]
    },
    {
     "name": "stdout",
     "output_type": "stream",
     "text": [
      "True->20171113-144920-3.jpg\n",
      "generating mask\n"
     ]
    },
    {
     "name": "stdout",
     "output_type": "stream",
     "text": [
      "True->20171113-144959-3.jpg\n",
      "generating mask\n"
     ]
    },
    {
     "name": "stdout",
     "output_type": "stream",
     "text": [
      "True->20171113-145003-1.jpg\n",
      "generating mask\n"
     ]
    },
    {
     "name": "stdout",
     "output_type": "stream",
     "text": [
      "True->20171113-145011-3.jpg\n",
      "generating mask\n"
     ]
    },
    {
     "name": "stdout",
     "output_type": "stream",
     "text": [
      "True->20171113-145022-1.jpg\n",
      "generating mask\n"
     ]
    },
    {
     "name": "stdout",
     "output_type": "stream",
     "text": [
      "True->20171113-145105-1.jpg\n",
      "generating mask\n"
     ]
    },
    {
     "name": "stdout",
     "output_type": "stream",
     "text": [
      "True->20171113-145108-3.jpg\n",
      "generating mask\n"
     ]
    },
    {
     "name": "stdout",
     "output_type": "stream",
     "text": [
      "True->20171113-145122-3.jpg\n",
      "generating mask\n"
     ]
    },
    {
     "name": "stdout",
     "output_type": "stream",
     "text": [
      "True->20171113-145131-1.jpg\n",
      "generating mask\n"
     ]
    },
    {
     "name": "stdout",
     "output_type": "stream",
     "text": [
      "True->20171113-145156-3.jpg\n",
      "generating mask\n"
     ]
    },
    {
     "name": "stdout",
     "output_type": "stream",
     "text": [
      "True->20171113-145207-1.jpg\n",
      "generating mask\n"
     ]
    },
    {
     "name": "stdout",
     "output_type": "stream",
     "text": [
      "True->20171113-145243-3.jpg\n",
      "generating mask\n"
     ]
    },
    {
     "name": "stdout",
     "output_type": "stream",
     "text": [
      "True->20171113-145257-3.jpg\n",
      "generating mask\n"
     ]
    },
    {
     "name": "stdout",
     "output_type": "stream",
     "text": [
      "True->20171113-145308-3.jpg\n",
      "generating mask\n"
     ]
    },
    {
     "name": "stdout",
     "output_type": "stream",
     "text": [
      "True->20171113-145319-3.jpg\n",
      "generating mask\n"
     ]
    },
    {
     "name": "stdout",
     "output_type": "stream",
     "text": [
      "True->20171113-145322-0.jpg\n",
      "generating mask\n"
     ]
    },
    {
     "name": "stdout",
     "output_type": "stream",
     "text": [
      "True->20171113-145329-3.jpg\n",
      "generating mask\n"
     ]
    },
    {
     "name": "stdout",
     "output_type": "stream",
     "text": [
      "True->20171113-145332-1.jpg\n",
      "generating mask\n"
     ]
    },
    {
     "name": "stdout",
     "output_type": "stream",
     "text": [
      "True->20171113-145418-1.jpg\n",
      "generating mask\n"
     ]
    },
    {
     "name": "stdout",
     "output_type": "stream",
     "text": [
      "True->20171113-145453-1.jpg\n",
      "generating mask\n"
     ]
    },
    {
     "name": "stdout",
     "output_type": "stream",
     "text": [
      "True->20171113-145512-1.jpg\n",
      "generating mask\n"
     ]
    },
    {
     "name": "stdout",
     "output_type": "stream",
     "text": [
      "True->20171113-145552-3.jpg\n",
      "generating mask\n"
     ]
    },
    {
     "name": "stdout",
     "output_type": "stream",
     "text": [
      "True->20171113-145604-3.jpg\n",
      "generating mask\n"
     ]
    },
    {
     "name": "stdout",
     "output_type": "stream",
     "text": [
      "True->20171113-145611-1.jpg\n",
      "generating mask\n"
     ]
    },
    {
     "name": "stdout",
     "output_type": "stream",
     "text": [
      "True->20171113-145700-1.jpg\n",
      "generating mask\n"
     ]
    },
    {
     "name": "stdout",
     "output_type": "stream",
     "text": [
      "True->20171113-145705-3.jpg\n",
      "generating mask\n"
     ]
    },
    {
     "name": "stdout",
     "output_type": "stream",
     "text": [
      "True->20171113-145717-3.jpg\n",
      "generating mask\n"
     ]
    },
    {
     "name": "stdout",
     "output_type": "stream",
     "text": [
      "True->20171113-145737-3.jpg\n",
      "generating mask\n"
     ]
    },
    {
     "name": "stdout",
     "output_type": "stream",
     "text": [
      "True->20171113-145759-3.jpg\n",
      "generating mask\n"
     ]
    },
    {
     "name": "stdout",
     "output_type": "stream",
     "text": [
      "True->20171113-145836-3.jpg\n",
      "generating mask\n"
     ]
    },
    {
     "name": "stdout",
     "output_type": "stream",
     "text": [
      "True->20171113-145842-1.jpg\n",
      "generating mask\n"
     ]
    },
    {
     "name": "stdout",
     "output_type": "stream",
     "text": [
      "True->20171113-145843-1.jpg\n",
      "generating mask\n"
     ]
    },
    {
     "name": "stdout",
     "output_type": "stream",
     "text": [
      "True->20171113-145845-3.jpg\n",
      "generating mask\n"
     ]
    },
    {
     "name": "stdout",
     "output_type": "stream",
     "text": [
      "True->20171113-145923-1.jpg\n",
      "generating mask\n"
     ]
    },
    {
     "name": "stdout",
     "output_type": "stream",
     "text": [
      "True->20171113-150022-3.jpg\n",
      "generating mask\n"
     ]
    },
    {
     "name": "stdout",
     "output_type": "stream",
     "text": [
      "True->20171113-150035-1.jpg\n",
      "generating mask\n"
     ]
    },
    {
     "name": "stdout",
     "output_type": "stream",
     "text": [
      "True->20171113-150036-3.jpg\n",
      "generating mask\n"
     ]
    },
    {
     "name": "stdout",
     "output_type": "stream",
     "text": [
      "True->20171113-150055-1.jpg\n",
      "generating mask\n"
     ]
    },
    {
     "name": "stdout",
     "output_type": "stream",
     "text": [
      "True->20171113-150110-1.jpg\n",
      "generating mask\n"
     ]
    },
    {
     "name": "stdout",
     "output_type": "stream",
     "text": [
      "True->20171113-150145-3.jpg\n",
      "generating mask\n"
     ]
    },
    {
     "name": "stdout",
     "output_type": "stream",
     "text": [
      "True->20171113-150156-1.jpg\n",
      "generating mask\n"
     ]
    },
    {
     "name": "stdout",
     "output_type": "stream",
     "text": [
      "True->20171113-150257-3.jpg\n",
      "generating mask\n"
     ]
    },
    {
     "name": "stdout",
     "output_type": "stream",
     "text": [
      "True->20171113-150301-1.jpg\n",
      "generating mask\n"
     ]
    },
    {
     "name": "stdout",
     "output_type": "stream",
     "text": [
      "True->20171113-150328-1.jpg\n",
      "generating mask\n"
     ]
    },
    {
     "name": "stdout",
     "output_type": "stream",
     "text": [
      "True->20171113-150347-1.jpg\n",
      "generating mask\n"
     ]
    },
    {
     "name": "stdout",
     "output_type": "stream",
     "text": [
      "True->20171113-150349-3.jpg\n",
      "generating mask\n"
     ]
    },
    {
     "name": "stdout",
     "output_type": "stream",
     "text": [
      "True->20171113-150402-1.jpg\n",
      "generating mask\n"
     ]
    },
    {
     "name": "stdout",
     "output_type": "stream",
     "text": [
      "True->20171113-150406-3.jpg\n",
      "generating mask\n"
     ]
    },
    {
     "name": "stdout",
     "output_type": "stream",
     "text": [
      "True->20171113-150448-3.jpg\n",
      "generating mask\n"
     ]
    },
    {
     "name": "stdout",
     "output_type": "stream",
     "text": [
      "True->20171113-150526-1.jpg\n",
      "generating mask\n"
     ]
    },
    {
     "name": "stdout",
     "output_type": "stream",
     "text": [
      "True->20171113-150538-3.jpg\n",
      "generating mask\n"
     ]
    },
    {
     "name": "stdout",
     "output_type": "stream",
     "text": [
      "True->20171113-150545-1.jpg\n",
      "generating mask\n"
     ]
    },
    {
     "name": "stdout",
     "output_type": "stream",
     "text": [
      "True->20171113-150659-1.jpg\n",
      "generating mask\n"
     ]
    },
    {
     "name": "stdout",
     "output_type": "stream",
     "text": [
      "True->20171113-150713-1.jpg\n",
      "generating mask\n"
     ]
    },
    {
     "name": "stdout",
     "output_type": "stream",
     "text": [
      "True->20171113-150716-3.jpg\n",
      "generating mask\n"
     ]
    },
    {
     "name": "stdout",
     "output_type": "stream",
     "text": [
      "True->20171113-150735-3.jpg\n",
      "generating mask\n"
     ]
    },
    {
     "name": "stdout",
     "output_type": "stream",
     "text": [
      "True->20171113-150751-3.jpg\n",
      "generating mask\n"
     ]
    },
    {
     "name": "stdout",
     "output_type": "stream",
     "text": [
      "True->20171113-151026-3.jpg\n",
      "generating mask\n"
     ]
    },
    {
     "name": "stdout",
     "output_type": "stream",
     "text": [
      "True->20171113-151053-0.jpg\n",
      "generating mask\n"
     ]
    },
    {
     "name": "stdout",
     "output_type": "stream",
     "text": [
      "True->20171113-151253-3.jpg\n",
      "generating mask\n"
     ]
    },
    {
     "name": "stdout",
     "output_type": "stream",
     "text": [
      "True->20171113-151310-1.jpg\n",
      "generating mask\n"
     ]
    },
    {
     "name": "stdout",
     "output_type": "stream",
     "text": [
      "True->20171113-151323-3.jpg\n",
      "generating mask\n"
     ]
    },
    {
     "name": "stdout",
     "output_type": "stream",
     "text": [
      "True->20171113-151334-3.jpg\n",
      "generating mask\n"
     ]
    },
    {
     "name": "stdout",
     "output_type": "stream",
     "text": [
      "True->20171113-151346-3.jpg\n",
      "generating mask\n"
     ]
    },
    {
     "name": "stdout",
     "output_type": "stream",
     "text": [
      "True->20171113-151653-1.jpg\n",
      "generating mask\n"
     ]
    },
    {
     "name": "stdout",
     "output_type": "stream",
     "text": [
      "True->20171113-151728-1.jpg\n",
      "generating mask\n"
     ]
    },
    {
     "name": "stdout",
     "output_type": "stream",
     "text": [
      "True->20171113-151731-1.jpg\n",
      "generating mask\n"
     ]
    },
    {
     "name": "stdout",
     "output_type": "stream",
     "text": [
      "True->20171113-151747-1.jpg\n",
      "generating mask\n"
     ]
    },
    {
     "name": "stdout",
     "output_type": "stream",
     "text": [
      "True->20171113-151802-1.jpg\n",
      "generating mask\n"
     ]
    },
    {
     "name": "stdout",
     "output_type": "stream",
     "text": [
      "True->20171113-151813-1.jpg\n",
      "generating mask\n"
     ]
    },
    {
     "name": "stdout",
     "output_type": "stream",
     "text": [
      "True->20171113-151829-1.jpg\n",
      "generating mask\n"
     ]
    },
    {
     "name": "stdout",
     "output_type": "stream",
     "text": [
      "True->20171113-151854-1.jpg\n",
      "generating mask\n"
     ]
    },
    {
     "name": "stdout",
     "output_type": "stream",
     "text": [
      "True->20171113-151910-1.jpg\n",
      "generating mask\n"
     ]
    },
    {
     "name": "stdout",
     "output_type": "stream",
     "text": [
      "True->20171113-151931-1.jpg\n",
      "generating mask\n"
     ]
    },
    {
     "name": "stdout",
     "output_type": "stream",
     "text": [
      "True->20171113-151947-1.jpg\n",
      "generating mask\n"
     ]
    },
    {
     "name": "stdout",
     "output_type": "stream",
     "text": [
      "True->20171113-152348-0.jpg\n",
      "generating mask\n"
     ]
    },
    {
     "name": "stdout",
     "output_type": "stream",
     "text": [
      "True->20171113-152630-0.jpg\n",
      "generating mask\n"
     ]
    },
    {
     "name": "stdout",
     "output_type": "stream",
     "text": [
      "True->20171113-152939-0.jpg\n",
      "generating mask\n"
     ]
    },
    {
     "name": "stdout",
     "output_type": "stream",
     "text": [
      "True->20171113-153033-0.jpg\n",
      "generating mask\n"
     ]
    },
    {
     "name": "stdout",
     "output_type": "stream",
     "text": [
      "True->20171113-153310-0.jpg\n",
      "generating mask\n"
     ]
    },
    {
     "name": "stdout",
     "output_type": "stream",
     "text": [
      "True->20171113-153600-0.jpg\n",
      "generating mask\n"
     ]
    },
    {
     "name": "stdout",
     "output_type": "stream",
     "text": [
      "True->20171113-154421-0.jpg\n",
      "generating mask\n"
     ]
    },
    {
     "name": "stdout",
     "output_type": "stream",
     "text": [
      "True->20171113-154731-0.jpg\n",
      "generating mask\n"
     ]
    },
    {
     "name": "stdout",
     "output_type": "stream",
     "text": [
      "True->20171113-154857-0.jpg\n",
      "generating mask\n"
     ]
    },
    {
     "name": "stdout",
     "output_type": "stream",
     "text": [
      "True->20171113-155342-0.jpg\n",
      "generating mask\n"
     ]
    },
    {
     "name": "stdout",
     "output_type": "stream",
     "text": [
      "True->20171113-155924-0.jpg\n",
      "generating mask\n"
     ]
    },
    {
     "name": "stdout",
     "output_type": "stream",
     "text": [
      "True->20171113-161131-0.jpg\n",
      "generating mask\n"
     ]
    },
    {
     "name": "stdout",
     "output_type": "stream",
     "text": [
      "True->20171113-162140-0.jpg\n",
      "generating mask\n"
     ]
    },
    {
     "name": "stdout",
     "output_type": "stream",
     "text": [
      "True->20171113-162247-0.jpg\n",
      "generating mask\n"
     ]
    },
    {
     "name": "stdout",
     "output_type": "stream",
     "text": [
      "True->20171113-162351-0.jpg\n",
      "generating mask\n"
     ]
    },
    {
     "name": "stdout",
     "output_type": "stream",
     "text": [
      "True->20171113-163111-0.jpg\n",
      "generating mask\n"
     ]
    },
    {
     "name": "stdout",
     "output_type": "stream",
     "text": [
      "True->20171113-163214-0.jpg\n",
      "generating mask\n"
     ]
    },
    {
     "name": "stdout",
     "output_type": "stream",
     "text": [
      "True->20171113-163420-0.jpg\n",
      "generating mask\n"
     ]
    },
    {
     "name": "stdout",
     "output_type": "stream",
     "text": [
      "True->20171113-164124-0.jpg\n",
      "generating mask\n"
     ]
    },
    {
     "name": "stdout",
     "output_type": "stream",
     "text": [
      "True->20171113-164837-0.jpg\n",
      "generating mask\n"
     ]
    },
    {
     "name": "stdout",
     "output_type": "stream",
     "text": [
      "True->20171113-165113-0.jpg\n",
      "generating mask\n"
     ]
    },
    {
     "name": "stdout",
     "output_type": "stream",
     "text": [
      "True->20171113-165713-0.jpg\n",
      "generating mask\n"
     ]
    },
    {
     "name": "stdout",
     "output_type": "stream",
     "text": [
      "True->20171113-165831-0.jpg\n",
      "generating mask\n"
     ]
    },
    {
     "name": "stdout",
     "output_type": "stream",
     "text": [
      "True->20171113-171158-0.jpg\n",
      "generating mask\n"
     ]
    },
    {
     "name": "stdout",
     "output_type": "stream",
     "text": [
      "True->20171113-171535-0.jpg\n",
      "generating mask\n"
     ]
    },
    {
     "name": "stdout",
     "output_type": "stream",
     "text": [
      "True->20171113-172027-0.jpg\n",
      "generating mask\n"
     ]
    },
    {
     "name": "stdout",
     "output_type": "stream",
     "text": [
      "True->20171113-173515-0.jpg\n",
      "generating mask\n"
     ]
    },
    {
     "name": "stdout",
     "output_type": "stream",
     "text": [
      "True->20171113-173648-0.jpg\n",
      "generating mask\n"
     ]
    },
    {
     "name": "stdout",
     "output_type": "stream",
     "text": [
      "True->20171113-173955-0.jpg\n",
      "generating mask\n"
     ]
    },
    {
     "name": "stdout",
     "output_type": "stream",
     "text": [
      "True->20171113-175118-0.jpg\n",
      "generating mask\n"
     ]
    },
    {
     "name": "stdout",
     "output_type": "stream",
     "text": [
      "True->20171113-175334-0.jpg\n",
      "generating mask\n"
     ]
    },
    {
     "name": "stdout",
     "output_type": "stream",
     "text": [
      "True->20171113-175713-0.jpg\n",
      "generating mask\n"
     ]
    },
    {
     "name": "stdout",
     "output_type": "stream",
     "text": [
      "True->20171121-071112-1.jpg\n",
      "generating mask\n"
     ]
    },
    {
     "name": "stdout",
     "output_type": "stream",
     "text": [
      "True->20171121-071143-1.jpg\n",
      "generating mask\n"
     ]
    },
    {
     "name": "stdout",
     "output_type": "stream",
     "text": [
      "True->20171121-071156-1.jpg\n",
      "generating mask\n"
     ]
    },
    {
     "name": "stdout",
     "output_type": "stream",
     "text": [
      "True->20171121-071258-1.jpg\n",
      "generating mask\n"
     ]
    },
    {
     "name": "stdout",
     "output_type": "stream",
     "text": [
      "True->20171121-071754-1.jpg\n",
      "generating mask\n"
     ]
    },
    {
     "name": "stdout",
     "output_type": "stream",
     "text": [
      "True->20171121-071808-1.jpg\n",
      "generating mask\n"
     ]
    },
    {
     "name": "stdout",
     "output_type": "stream",
     "text": [
      "True->20171121-071821-1.jpg\n",
      "generating mask\n"
     ]
    },
    {
     "name": "stdout",
     "output_type": "stream",
     "text": [
      "True->20171121-071855-1.jpg\n",
      "generating mask\n"
     ]
    },
    {
     "name": "stdout",
     "output_type": "stream",
     "text": [
      "True->20171121-071912-1.jpg\n",
      "generating mask\n"
     ]
    },
    {
     "name": "stdout",
     "output_type": "stream",
     "text": [
      "True->20171121-071925-1.jpg\n",
      "generating mask\n"
     ]
    },
    {
     "name": "stdout",
     "output_type": "stream",
     "text": [
      "True->20171121-071942-1.jpg\n",
      "generating mask\n"
     ]
    },
    {
     "name": "stdout",
     "output_type": "stream",
     "text": [
      "True->20171121-072014-1.jpg\n",
      "generating mask\n"
     ]
    },
    {
     "name": "stdout",
     "output_type": "stream",
     "text": [
      "True->20171121-072031-1.jpg\n",
      "generating mask\n"
     ]
    },
    {
     "name": "stdout",
     "output_type": "stream",
     "text": [
      "True->20171121-072105-1.jpg\n",
      "generating mask\n"
     ]
    },
    {
     "name": "stdout",
     "output_type": "stream",
     "text": [
      "True->20171121-072215-1.jpg\n",
      "generating mask\n"
     ]
    },
    {
     "name": "stdout",
     "output_type": "stream",
     "text": [
      "True->20171121-072316-1.jpg\n",
      "generating mask\n"
     ]
    },
    {
     "name": "stdout",
     "output_type": "stream",
     "text": [
      "True->20171121-072413-1.jpg\n",
      "generating mask\n"
     ]
    },
    {
     "name": "stdout",
     "output_type": "stream",
     "text": [
      "True->20171121-072543-1.jpg\n",
      "generating mask\n"
     ]
    },
    {
     "name": "stdout",
     "output_type": "stream",
     "text": [
      "True->20171121-072546-1.jpg\n",
      "generating mask\n"
     ]
    },
    {
     "name": "stdout",
     "output_type": "stream",
     "text": [
      "True->20171121-072610-1.jpg\n",
      "generating mask\n"
     ]
    },
    {
     "name": "stdout",
     "output_type": "stream",
     "text": [
      "True->20171121-072630-1.jpg\n",
      "generating mask\n"
     ]
    },
    {
     "name": "stdout",
     "output_type": "stream",
     "text": [
      "True->20171121-072742-1.jpg\n",
      "generating mask\n"
     ]
    },
    {
     "name": "stdout",
     "output_type": "stream",
     "text": [
      "True->20171121-072757-1.jpg\n",
      "generating mask\n"
     ]
    },
    {
     "name": "stdout",
     "output_type": "stream",
     "text": [
      "True->20171121-072834-1.jpg\n",
      "generating mask\n"
     ]
    },
    {
     "name": "stdout",
     "output_type": "stream",
     "text": [
      "True->20171121-072857-1.jpg\n",
      "generating mask\n"
     ]
    },
    {
     "name": "stdout",
     "output_type": "stream",
     "text": [
      "True->20171121-072911-1.jpg\n",
      "generating mask\n"
     ]
    },
    {
     "name": "stdout",
     "output_type": "stream",
     "text": [
      "True->20171121-072941-1.jpg\n",
      "generating mask\n"
     ]
    },
    {
     "name": "stdout",
     "output_type": "stream",
     "text": [
      "True->20171121-073004-1.jpg\n",
      "generating mask\n"
     ]
    },
    {
     "name": "stdout",
     "output_type": "stream",
     "text": [
      "True->20171121-073120-1.jpg\n",
      "generating mask\n"
     ]
    },
    {
     "name": "stdout",
     "output_type": "stream",
     "text": [
      "True->20171121-073121-1.jpg\n",
      "generating mask\n"
     ]
    },
    {
     "name": "stdout",
     "output_type": "stream",
     "text": [
      "True->20171121-073140-1.jpg\n",
      "generating mask\n"
     ]
    },
    {
     "name": "stdout",
     "output_type": "stream",
     "text": [
      "True->20171121-073155-1.jpg\n",
      "generating mask\n"
     ]
    },
    {
     "name": "stdout",
     "output_type": "stream",
     "text": [
      "True->20171121-073257-1.jpg\n",
      "generating mask\n"
     ]
    },
    {
     "name": "stdout",
     "output_type": "stream",
     "text": [
      "True->20171121-073258-1.jpg\n",
      "generating mask\n"
     ]
    },
    {
     "name": "stdout",
     "output_type": "stream",
     "text": [
      "True->20171121-073259-1.jpg\n",
      "generating mask\n"
     ]
    },
    {
     "name": "stdout",
     "output_type": "stream",
     "text": [
      "True->20171121-073316-1.jpg\n",
      "generating mask\n"
     ]
    },
    {
     "name": "stdout",
     "output_type": "stream",
     "text": [
      "True->20171121-073340-1.jpg\n",
      "generating mask\n"
     ]
    },
    {
     "name": "stdout",
     "output_type": "stream",
     "text": [
      "True->20171121-073353-1.jpg\n",
      "generating mask\n"
     ]
    },
    {
     "name": "stdout",
     "output_type": "stream",
     "text": [
      "True->20171121-073424-1.jpg\n",
      "generating mask\n"
     ]
    },
    {
     "name": "stdout",
     "output_type": "stream",
     "text": [
      "True->20171121-073501-1.jpg\n",
      "generating mask\n"
     ]
    },
    {
     "name": "stdout",
     "output_type": "stream",
     "text": [
      "True->20171121-073533-1.jpg\n",
      "generating mask\n"
     ]
    },
    {
     "name": "stdout",
     "output_type": "stream",
     "text": [
      "True->20171121-073547-1.jpg\n",
      "generating mask\n"
     ]
    },
    {
     "name": "stdout",
     "output_type": "stream",
     "text": [
      "True->20171121-073600-1.jpg\n",
      "generating mask\n"
     ]
    },
    {
     "name": "stdout",
     "output_type": "stream",
     "text": [
      "True->20171121-073624-1.jpg\n",
      "generating mask\n"
     ]
    },
    {
     "name": "stdout",
     "output_type": "stream",
     "text": [
      "True->20171121-073650-1.jpg\n",
      "generating mask\n"
     ]
    },
    {
     "name": "stdout",
     "output_type": "stream",
     "text": [
      "True->20171121-073705-1.jpg\n",
      "generating mask\n"
     ]
    },
    {
     "name": "stdout",
     "output_type": "stream",
     "text": [
      "True->20171121-073753-1.jpg\n",
      "generating mask\n"
     ]
    },
    {
     "name": "stdout",
     "output_type": "stream",
     "text": [
      "True->20171121-073754-1.jpg\n",
      "generating mask\n"
     ]
    },
    {
     "name": "stdout",
     "output_type": "stream",
     "text": [
      "True->20171121-073828-1.jpg\n",
      "generating mask\n"
     ]
    },
    {
     "name": "stdout",
     "output_type": "stream",
     "text": [
      "True->20171121-073829-1.jpg\n",
      "generating mask\n"
     ]
    },
    {
     "name": "stdout",
     "output_type": "stream",
     "text": [
      "True->20171121-073846-1.jpg\n",
      "generating mask\n"
     ]
    },
    {
     "name": "stdout",
     "output_type": "stream",
     "text": [
      "True->20171121-074015-1.jpg\n",
      "generating mask\n"
     ]
    },
    {
     "name": "stdout",
     "output_type": "stream",
     "text": [
      "True->20171121-074016-1.jpg\n",
      "generating mask\n"
     ]
    },
    {
     "name": "stdout",
     "output_type": "stream",
     "text": [
      "True->20171121-074216-1.jpg\n",
      "generating mask\n"
     ]
    },
    {
     "name": "stdout",
     "output_type": "stream",
     "text": [
      "True->20171121-074235-1.jpg\n",
      "generating mask\n"
     ]
    },
    {
     "name": "stdout",
     "output_type": "stream",
     "text": [
      "True->20171121-074310-1.jpg\n",
      "generating mask\n"
     ]
    },
    {
     "name": "stdout",
     "output_type": "stream",
     "text": [
      "True->20171121-074426-1.jpg\n",
      "generating mask\n"
     ]
    },
    {
     "name": "stdout",
     "output_type": "stream",
     "text": [
      "True->20171121-074626-1.jpg\n",
      "generating mask\n"
     ]
    },
    {
     "name": "stdout",
     "output_type": "stream",
     "text": [
      "True->20171121-074642-1.jpg\n",
      "generating mask\n"
     ]
    },
    {
     "name": "stdout",
     "output_type": "stream",
     "text": [
      "True->20171121-074703-1.jpg\n",
      "generating mask\n"
     ]
    },
    {
     "name": "stdout",
     "output_type": "stream",
     "text": [
      "True->20171121-074740-1.jpg\n",
      "generating mask\n"
     ]
    },
    {
     "name": "stdout",
     "output_type": "stream",
     "text": [
      "True->20171121-074807-1.jpg\n",
      "generating mask\n"
     ]
    },
    {
     "name": "stdout",
     "output_type": "stream",
     "text": [
      "True->20171121-074933-1.jpg\n",
      "generating mask\n"
     ]
    },
    {
     "name": "stdout",
     "output_type": "stream",
     "text": [
      "True->20171121-074959-1.jpg\n",
      "generating mask\n"
     ]
    },
    {
     "name": "stdout",
     "output_type": "stream",
     "text": [
      "True->20171121-075015-1.jpg\n",
      "generating mask\n"
     ]
    },
    {
     "name": "stdout",
     "output_type": "stream",
     "text": [
      "True->20171121-075036-1.jpg\n",
      "generating mask\n"
     ]
    },
    {
     "name": "stdout",
     "output_type": "stream",
     "text": [
      "True->20171121-075130-1.jpg\n",
      "generating mask\n"
     ]
    },
    {
     "name": "stdout",
     "output_type": "stream",
     "text": [
      "True->20171121-075131-1.jpg\n",
      "generating mask\n"
     ]
    },
    {
     "name": "stdout",
     "output_type": "stream",
     "text": [
      "True->20171121-075143-1.jpg\n",
      "generating mask\n"
     ]
    },
    {
     "name": "stdout",
     "output_type": "stream",
     "text": [
      "True->20171121-075342-1.jpg\n",
      "generating mask\n"
     ]
    },
    {
     "name": "stdout",
     "output_type": "stream",
     "text": [
      "True->20171121-075509-1.jpg\n",
      "generating mask\n"
     ]
    },
    {
     "name": "stdout",
     "output_type": "stream",
     "text": [
      "True->20171121-075510-1.jpg\n",
      "generating mask\n"
     ]
    },
    {
     "name": "stdout",
     "output_type": "stream",
     "text": [
      "True->20171121-075511-1.jpg\n",
      "generating mask\n"
     ]
    },
    {
     "name": "stdout",
     "output_type": "stream",
     "text": [
      "True->20171121-075522-1.jpg\n",
      "generating mask\n"
     ]
    },
    {
     "name": "stdout",
     "output_type": "stream",
     "text": [
      "True->20171121-075533-1.jpg\n",
      "generating mask\n"
     ]
    },
    {
     "name": "stdout",
     "output_type": "stream",
     "text": [
      "True->20171121-081349-2.jpg\n",
      "generating mask\n"
     ]
    },
    {
     "name": "stdout",
     "output_type": "stream",
     "text": [
      "True->20171121-081427-2.jpg\n",
      "generating mask\n"
     ]
    },
    {
     "name": "stdout",
     "output_type": "stream",
     "text": [
      "True->20171121-081448-2.jpg\n",
      "generating mask\n"
     ]
    },
    {
     "name": "stdout",
     "output_type": "stream",
     "text": [
      "True->20171121-081516-2.jpg\n",
      "generating mask\n"
     ]
    },
    {
     "name": "stdout",
     "output_type": "stream",
     "text": [
      "True->20171121-081532-2.jpg\n",
      "generating mask\n"
     ]
    },
    {
     "name": "stdout",
     "output_type": "stream",
     "text": [
      "True->20171121-081609-2.jpg\n",
      "generating mask\n"
     ]
    },
    {
     "name": "stdout",
     "output_type": "stream",
     "text": [
      "True->20171121-081723-2.jpg\n",
      "generating mask\n"
     ]
    },
    {
     "name": "stdout",
     "output_type": "stream",
     "text": [
      "True->20171121-081759-2.jpg\n",
      "generating mask\n"
     ]
    },
    {
     "name": "stdout",
     "output_type": "stream",
     "text": [
      "True->20171121-081816-2.jpg\n",
      "generating mask\n"
     ]
    },
    {
     "name": "stdout",
     "output_type": "stream",
     "text": [
      "True->20171121-081850-2.jpg\n",
      "generating mask\n"
     ]
    },
    {
     "name": "stdout",
     "output_type": "stream",
     "text": [
      "True->20171121-081945-2.jpg\n",
      "generating mask\n"
     ]
    },
    {
     "name": "stdout",
     "output_type": "stream",
     "text": [
      "True->20171121-082006-2.jpg\n",
      "generating mask\n"
     ]
    },
    {
     "name": "stdout",
     "output_type": "stream",
     "text": [
      "True->20171121-082033-2.jpg\n",
      "generating mask\n"
     ]
    },
    {
     "name": "stdout",
     "output_type": "stream",
     "text": [
      "True->20171121-082047-1.jpg\n",
      "generating mask\n"
     ]
    },
    {
     "name": "stdout",
     "output_type": "stream",
     "text": [
      "True->20171121-082112-1.jpg\n",
      "generating mask\n"
     ]
    },
    {
     "name": "stdout",
     "output_type": "stream",
     "text": [
      "True->20171121-082127-2.jpg\n",
      "generating mask\n"
     ]
    },
    {
     "name": "stdout",
     "output_type": "stream",
     "text": [
      "True->20171121-082132-1.jpg\n",
      "generating mask\n"
     ]
    },
    {
     "name": "stdout",
     "output_type": "stream",
     "text": [
      "True->20171121-082150-2.jpg\n",
      "generating mask\n"
     ]
    },
    {
     "name": "stdout",
     "output_type": "stream",
     "text": [
      "True->20171121-082214-2.jpg\n",
      "generating mask\n"
     ]
    },
    {
     "name": "stdout",
     "output_type": "stream",
     "text": [
      "True->20171121-082247-2.jpg\n",
      "generating mask\n"
     ]
    },
    {
     "name": "stdout",
     "output_type": "stream",
     "text": [
      "True->20171121-082317-1.jpg\n",
      "generating mask\n"
     ]
    },
    {
     "name": "stdout",
     "output_type": "stream",
     "text": [
      "True->20171121-082338-1.jpg\n",
      "generating mask\n"
     ]
    },
    {
     "name": "stdout",
     "output_type": "stream",
     "text": [
      "True->20171121-082411-2.jpg\n",
      "generating mask\n"
     ]
    },
    {
     "name": "stdout",
     "output_type": "stream",
     "text": [
      "True->20171121-082440-2.jpg\n",
      "generating mask\n"
     ]
    },
    {
     "name": "stdout",
     "output_type": "stream",
     "text": [
      "True->20171121-082501-2.jpg\n",
      "generating mask\n"
     ]
    },
    {
     "name": "stdout",
     "output_type": "stream",
     "text": [
      "True->20171121-082641-2.jpg\n",
      "generating mask\n"
     ]
    },
    {
     "name": "stdout",
     "output_type": "stream",
     "text": [
      "True->20171121-082732-2.jpg\n",
      "generating mask\n"
     ]
    },
    {
     "name": "stdout",
     "output_type": "stream",
     "text": [
      "True->20171121-082752-2.jpg\n",
      "generating mask\n"
     ]
    },
    {
     "name": "stdout",
     "output_type": "stream",
     "text": [
      "True->20171121-082808-2.jpg\n",
      "generating mask\n"
     ]
    },
    {
     "name": "stdout",
     "output_type": "stream",
     "text": [
      "True->20171121-082826-2.jpg\n",
      "generating mask\n"
     ]
    },
    {
     "name": "stdout",
     "output_type": "stream",
     "text": [
      "True->20171121-082850-2.jpg\n",
      "generating mask\n"
     ]
    },
    {
     "name": "stdout",
     "output_type": "stream",
     "text": [
      "True->20171121-083050-2.jpg\n",
      "generating mask\n"
     ]
    },
    {
     "name": "stdout",
     "output_type": "stream",
     "text": [
      "True->20171121-083203-1.jpg\n",
      "generating mask\n"
     ]
    },
    {
     "name": "stdout",
     "output_type": "stream",
     "text": [
      "True->20171121-083217-1.jpg\n",
      "generating mask\n"
     ]
    },
    {
     "name": "stdout",
     "output_type": "stream",
     "text": [
      "True->20171121-083251-1.jpg\n",
      "generating mask\n"
     ]
    },
    {
     "name": "stdout",
     "output_type": "stream",
     "text": [
      "True->20171121-083319-1.jpg\n",
      "generating mask\n"
     ]
    },
    {
     "name": "stdout",
     "output_type": "stream",
     "text": [
      "True->20171121-083337-1.jpg\n",
      "generating mask\n"
     ]
    },
    {
     "name": "stdout",
     "output_type": "stream",
     "text": [
      "True->20171121-083349-1.jpg\n",
      "generating mask\n"
     ]
    },
    {
     "name": "stdout",
     "output_type": "stream",
     "text": [
      "True->20171121-083417-1.jpg\n",
      "generating mask\n"
     ]
    },
    {
     "name": "stdout",
     "output_type": "stream",
     "text": [
      "True->20171121-083431-1.jpg\n",
      "generating mask\n"
     ]
    },
    {
     "name": "stdout",
     "output_type": "stream",
     "text": [
      "True->20171121-083457-2.jpg\n",
      "generating mask\n"
     ]
    },
    {
     "name": "stdout",
     "output_type": "stream",
     "text": [
      "True->20171121-083544-1.jpg\n",
      "generating mask\n"
     ]
    },
    {
     "name": "stdout",
     "output_type": "stream",
     "text": [
      "True->20171121-083556-1.jpg\n",
      "generating mask\n"
     ]
    },
    {
     "name": "stdout",
     "output_type": "stream",
     "text": [
      "True->20171121-083607-1.jpg\n",
      "generating mask\n"
     ]
    },
    {
     "name": "stdout",
     "output_type": "stream",
     "text": [
      "True->20171121-083608-2.jpg\n",
      "generating mask\n"
     ]
    },
    {
     "name": "stdout",
     "output_type": "stream",
     "text": [
      "True->20171121-083628-1.jpg\n",
      "generating mask\n"
     ]
    },
    {
     "name": "stdout",
     "output_type": "stream",
     "text": [
      "True->20171121-083845-1.jpg\n",
      "generating mask\n"
     ]
    },
    {
     "name": "stdout",
     "output_type": "stream",
     "text": [
      "True->20171121-083939-1.jpg\n",
      "generating mask\n"
     ]
    },
    {
     "name": "stdout",
     "output_type": "stream",
     "text": [
      "True->20171121-084016-1.jpg\n",
      "generating mask\n"
     ]
    },
    {
     "name": "stdout",
     "output_type": "stream",
     "text": [
      "True->20171121-084031-1.jpg\n",
      "generating mask\n"
     ]
    },
    {
     "name": "stdout",
     "output_type": "stream",
     "text": [
      "True->20171121-084046-1.jpg\n",
      "generating mask\n"
     ]
    },
    {
     "name": "stdout",
     "output_type": "stream",
     "text": [
      "True->20171121-084059-1.jpg\n",
      "generating mask\n"
     ]
    },
    {
     "name": "stdout",
     "output_type": "stream",
     "text": [
      "True->20171121-084217-2.jpg\n",
      "generating mask\n"
     ]
    },
    {
     "name": "stdout",
     "output_type": "stream",
     "text": [
      "True->20171121-084234-2.jpg\n",
      "generating mask\n"
     ]
    },
    {
     "name": "stdout",
     "output_type": "stream",
     "text": [
      "True->20171121-084258-2.jpg\n",
      "generating mask\n"
     ]
    },
    {
     "name": "stdout",
     "output_type": "stream",
     "text": [
      "True->20171121-084334-1.jpg\n",
      "generating mask\n"
     ]
    },
    {
     "name": "stdout",
     "output_type": "stream",
     "text": [
      "True->20171121-084444-1.jpg\n",
      "generating mask\n"
     ]
    },
    {
     "name": "stdout",
     "output_type": "stream",
     "text": [
      "True->20171121-084446-1.jpg\n",
      "generating mask\n"
     ]
    },
    {
     "name": "stdout",
     "output_type": "stream",
     "text": [
      "True->20171121-084450-2.jpg\n",
      "generating mask\n"
     ]
    },
    {
     "name": "stdout",
     "output_type": "stream",
     "text": [
      "True->20171121-084509-2.jpg\n",
      "generating mask\n"
     ]
    },
    {
     "name": "stdout",
     "output_type": "stream",
     "text": [
      "True->20171121-084526-1.jpg\n",
      "generating mask\n"
     ]
    },
    {
     "name": "stdout",
     "output_type": "stream",
     "text": [
      "True->20171121-084543-1.jpg\n",
      "generating mask\n"
     ]
    },
    {
     "name": "stdout",
     "output_type": "stream",
     "text": [
      "True->20171121-084619-1.jpg\n",
      "generating mask\n"
     ]
    },
    {
     "name": "stdout",
     "output_type": "stream",
     "text": [
      "True->20171121-084655-1.jpg\n",
      "generating mask\n"
     ]
    },
    {
     "name": "stdout",
     "output_type": "stream",
     "text": [
      "True->20171121-084723-1.jpg\n",
      "generating mask\n"
     ]
    },
    {
     "name": "stdout",
     "output_type": "stream",
     "text": [
      "True->20171121-084809-1.jpg\n",
      "generating mask\n"
     ]
    },
    {
     "name": "stdout",
     "output_type": "stream",
     "text": [
      "True->20171121-084827-1.jpg\n",
      "generating mask\n"
     ]
    },
    {
     "name": "stdout",
     "output_type": "stream",
     "text": [
      "True->20171121-084910-1.jpg\n",
      "generating mask\n"
     ]
    },
    {
     "name": "stdout",
     "output_type": "stream",
     "text": [
      "True->20171121-084955-1.jpg\n",
      "generating mask\n"
     ]
    },
    {
     "name": "stdout",
     "output_type": "stream",
     "text": [
      "True->20171121-085143-1.jpg\n",
      "generating mask\n"
     ]
    },
    {
     "name": "stdout",
     "output_type": "stream",
     "text": [
      "True->20171121-085219-1.jpg\n",
      "generating mask\n"
     ]
    },
    {
     "name": "stdout",
     "output_type": "stream",
     "text": [
      "True->20171121-085220-1.jpg\n",
      "generating mask\n"
     ]
    },
    {
     "name": "stdout",
     "output_type": "stream",
     "text": [
      "True->20171121-085233-1.jpg\n",
      "generating mask\n"
     ]
    },
    {
     "name": "stdout",
     "output_type": "stream",
     "text": [
      "True->20171121-085247-1.jpg\n",
      "generating mask\n"
     ]
    },
    {
     "name": "stdout",
     "output_type": "stream",
     "text": [
      "True->20171121-085507-1.jpg\n",
      "generating mask\n"
     ]
    },
    {
     "name": "stdout",
     "output_type": "stream",
     "text": [
      "True->20171121-085524-1.jpg\n",
      "generating mask\n"
     ]
    },
    {
     "name": "stdout",
     "output_type": "stream",
     "text": [
      "True->20171121-085538-1.jpg\n",
      "generating mask\n"
     ]
    },
    {
     "name": "stdout",
     "output_type": "stream",
     "text": [
      "True->20171121-085745-1.jpg\n",
      "generating mask\n"
     ]
    },
    {
     "name": "stdout",
     "output_type": "stream",
     "text": [
      "True->20171121-085809-1.jpg\n",
      "generating mask\n"
     ]
    },
    {
     "name": "stdout",
     "output_type": "stream",
     "text": [
      "True->20171121-085911-1.jpg\n",
      "generating mask\n"
     ]
    },
    {
     "name": "stdout",
     "output_type": "stream",
     "text": [
      "True->20171121-085944-1.jpg\n",
      "generating mask\n"
     ]
    },
    {
     "name": "stdout",
     "output_type": "stream",
     "text": [
      "True->20171121-090015-1.jpg\n",
      "generating mask\n"
     ]
    },
    {
     "name": "stdout",
     "output_type": "stream",
     "text": [
      "True->20171121-090026-2.jpg\n",
      "generating mask\n"
     ]
    },
    {
     "name": "stdout",
     "output_type": "stream",
     "text": [
      "True->20171121-090029-1.jpg\n",
      "generating mask\n"
     ]
    },
    {
     "name": "stdout",
     "output_type": "stream",
     "text": [
      "True->20171121-090047-1.jpg\n",
      "generating mask\n"
     ]
    },
    {
     "name": "stdout",
     "output_type": "stream",
     "text": [
      "True->20171121-090145-3.jpg\n",
      "generating mask\n"
     ]
    },
    {
     "name": "stdout",
     "output_type": "stream",
     "text": [
      "True->20171121-090211-3.jpg\n",
      "generating mask\n"
     ]
    },
    {
     "name": "stdout",
     "output_type": "stream",
     "text": [
      "True->20171121-090224-3.jpg\n",
      "generating mask\n"
     ]
    },
    {
     "name": "stdout",
     "output_type": "stream",
     "text": [
      "True->20171121-090235-3.jpg\n",
      "generating mask\n"
     ]
    },
    {
     "name": "stdout",
     "output_type": "stream",
     "text": [
      "True->20171121-090324-3.jpg\n",
      "generating mask\n"
     ]
    },
    {
     "name": "stdout",
     "output_type": "stream",
     "text": [
      "True->20171121-090353-3.jpg\n",
      "generating mask\n"
     ]
    },
    {
     "name": "stdout",
     "output_type": "stream",
     "text": [
      "True->20171121-090407-3.jpg\n",
      "generating mask\n"
     ]
    },
    {
     "name": "stdout",
     "output_type": "stream",
     "text": [
      "True->20171121-090418-3.jpg\n",
      "generating mask\n"
     ]
    },
    {
     "name": "stdout",
     "output_type": "stream",
     "text": [
      "True->20171121-090429-3.jpg\n",
      "generating mask\n"
     ]
    },
    {
     "name": "stdout",
     "output_type": "stream",
     "text": [
      "True->20171121-090439-3.jpg\n",
      "generating mask\n"
     ]
    },
    {
     "name": "stdout",
     "output_type": "stream",
     "text": [
      "True->20171121-090451-3.jpg\n",
      "generating mask\n"
     ]
    },
    {
     "name": "stdout",
     "output_type": "stream",
     "text": [
      "True->20171121-090501-3.jpg\n",
      "generating mask\n"
     ]
    },
    {
     "name": "stdout",
     "output_type": "stream",
     "text": [
      "True->20171121-090514-3.jpg\n",
      "generating mask\n"
     ]
    },
    {
     "name": "stdout",
     "output_type": "stream",
     "text": [
      "True->20171121-090531-3.jpg\n",
      "generating mask\n"
     ]
    },
    {
     "name": "stdout",
     "output_type": "stream",
     "text": [
      "True->20171121-090623-3.jpg\n",
      "generating mask\n"
     ]
    },
    {
     "name": "stdout",
     "output_type": "stream",
     "text": [
      "True->20171121-090649-3.jpg\n",
      "generating mask\n"
     ]
    },
    {
     "name": "stdout",
     "output_type": "stream",
     "text": [
      "True->20171121-090705-3.jpg\n",
      "generating mask\n"
     ]
    },
    {
     "name": "stdout",
     "output_type": "stream",
     "text": [
      "True->20171121-090746-1.jpg\n",
      "generating mask\n"
     ]
    },
    {
     "name": "stdout",
     "output_type": "stream",
     "text": [
      "True->20171121-090747-1.jpg\n",
      "generating mask\n"
     ]
    },
    {
     "name": "stdout",
     "output_type": "stream",
     "text": [
      "True->20171121-090807-3.jpg\n",
      "generating mask\n"
     ]
    },
    {
     "name": "stdout",
     "output_type": "stream",
     "text": [
      "True->20171121-090820-3.jpg\n",
      "generating mask\n"
     ]
    },
    {
     "name": "stdout",
     "output_type": "stream",
     "text": [
      "True->20171121-090837-3.jpg\n",
      "generating mask\n"
     ]
    },
    {
     "name": "stdout",
     "output_type": "stream",
     "text": [
      "True->20171121-090841-1.jpg\n",
      "generating mask\n"
     ]
    },
    {
     "name": "stdout",
     "output_type": "stream",
     "text": [
      "True->20171121-090842-1.jpg\n",
      "generating mask\n"
     ]
    },
    {
     "name": "stdout",
     "output_type": "stream",
     "text": [
      "True->20171121-090855-3.jpg\n",
      "generating mask\n"
     ]
    },
    {
     "name": "stdout",
     "output_type": "stream",
     "text": [
      "True->20171121-090906-3.jpg\n",
      "generating mask\n"
     ]
    },
    {
     "name": "stdout",
     "output_type": "stream",
     "text": [
      "True->20171121-090912-1.jpg\n",
      "generating mask\n"
     ]
    },
    {
     "name": "stdout",
     "output_type": "stream",
     "text": [
      "True->20171121-090924-1.jpg\n",
      "generating mask\n"
     ]
    },
    {
     "name": "stdout",
     "output_type": "stream",
     "text": [
      "True->20171121-090927-3.jpg\n",
      "generating mask\n"
     ]
    },
    {
     "name": "stdout",
     "output_type": "stream",
     "text": [
      "True->20171121-090938-1.jpg\n",
      "generating mask\n"
     ]
    },
    {
     "name": "stdout",
     "output_type": "stream",
     "text": [
      "True->20171121-090957-3.jpg\n",
      "generating mask\n"
     ]
    },
    {
     "name": "stdout",
     "output_type": "stream",
     "text": [
      "True->20171121-091005-1.jpg\n",
      "generating mask\n"
     ]
    },
    {
     "name": "stdout",
     "output_type": "stream",
     "text": [
      "True->20171121-091025-3.jpg\n",
      "generating mask\n"
     ]
    },
    {
     "name": "stdout",
     "output_type": "stream",
     "text": [
      "True->20171121-091041-1.jpg\n",
      "generating mask\n"
     ]
    },
    {
     "name": "stdout",
     "output_type": "stream",
     "text": [
      "True->20171121-091048-3.jpg\n",
      "generating mask\n"
     ]
    },
    {
     "name": "stdout",
     "output_type": "stream",
     "text": [
      "True->20171121-091058-1.jpg\n",
      "generating mask\n"
     ]
    },
    {
     "name": "stdout",
     "output_type": "stream",
     "text": [
      "True->20171121-091109-1.jpg\n",
      "generating mask\n"
     ]
    },
    {
     "name": "stdout",
     "output_type": "stream",
     "text": [
      "True->20171121-091114-3.jpg\n",
      "generating mask\n"
     ]
    },
    {
     "name": "stdout",
     "output_type": "stream",
     "text": [
      "True->20171121-091127-3.jpg\n",
      "generating mask\n"
     ]
    },
    {
     "name": "stdout",
     "output_type": "stream",
     "text": [
      "True->20171121-091140-3.jpg\n",
      "generating mask\n"
     ]
    },
    {
     "name": "stdout",
     "output_type": "stream",
     "text": [
      "True->20171121-091151-3.jpg\n",
      "generating mask\n"
     ]
    },
    {
     "name": "stdout",
     "output_type": "stream",
     "text": [
      "True->20171121-091203-3.jpg\n",
      "generating mask\n"
     ]
    },
    {
     "name": "stdout",
     "output_type": "stream",
     "text": [
      "True->20171121-091207-1.jpg\n",
      "generating mask\n"
     ]
    },
    {
     "name": "stdout",
     "output_type": "stream",
     "text": [
      "True->20171121-091215-3.jpg\n",
      "generating mask\n"
     ]
    },
    {
     "name": "stdout",
     "output_type": "stream",
     "text": [
      "True->20171121-091223-1.jpg\n",
      "generating mask\n"
     ]
    },
    {
     "name": "stdout",
     "output_type": "stream",
     "text": [
      "True->20171121-091226-3.jpg\n",
      "generating mask\n"
     ]
    },
    {
     "name": "stdout",
     "output_type": "stream",
     "text": [
      "True->20171121-091252-1.jpg\n",
      "generating mask\n"
     ]
    },
    {
     "name": "stdout",
     "output_type": "stream",
     "text": [
      "True->20171121-091256-3.jpg\n",
      "generating mask\n"
     ]
    },
    {
     "name": "stdout",
     "output_type": "stream",
     "text": [
      "True->20171121-091305-1.jpg\n",
      "generating mask\n"
     ]
    },
    {
     "name": "stdout",
     "output_type": "stream",
     "text": [
      "True->20171121-091325-3.jpg\n",
      "generating mask\n"
     ]
    },
    {
     "name": "stdout",
     "output_type": "stream",
     "text": [
      "True->20171121-091441-1.jpg\n",
      "generating mask\n"
     ]
    },
    {
     "name": "stdout",
     "output_type": "stream",
     "text": [
      "True->20171121-091631-1.jpg\n",
      "generating mask\n"
     ]
    },
    {
     "name": "stdout",
     "output_type": "stream",
     "text": [
      "True->20171121-091635-1.jpg\n",
      "generating mask\n"
     ]
    },
    {
     "name": "stdout",
     "output_type": "stream",
     "text": [
      "True->20171121-101101-1.jpg\n",
      "generating mask\n"
     ]
    },
    {
     "name": "stdout",
     "output_type": "stream",
     "text": [
      "True->20171121-101113-1.jpg\n",
      "generating mask\n"
     ]
    },
    {
     "name": "stdout",
     "output_type": "stream",
     "text": [
      "True->20171121-101146-1.jpg\n",
      "generating mask\n"
     ]
    },
    {
     "name": "stdout",
     "output_type": "stream",
     "text": [
      "True->20171121-101147-1.jpg\n",
      "generating mask\n"
     ]
    },
    {
     "name": "stdout",
     "output_type": "stream",
     "text": [
      "True->20171121-101215-1.jpg\n",
      "generating mask\n"
     ]
    },
    {
     "name": "stdout",
     "output_type": "stream",
     "text": [
      "True->20171121-181023-2.jpg\n",
      "generating mask\n"
     ]
    },
    {
     "name": "stdout",
     "output_type": "stream",
     "text": [
      "True->20171121-181134-2.jpg\n",
      "generating mask\n"
     ]
    },
    {
     "name": "stdout",
     "output_type": "stream",
     "text": [
      "True->20171121-181157-2.jpg\n",
      "generating mask\n"
     ]
    },
    {
     "name": "stdout",
     "output_type": "stream",
     "text": [
      "True->20171122-095514-1.jpg\n",
      "generating mask\n"
     ]
    },
    {
     "name": "stdout",
     "output_type": "stream",
     "text": [
      "True->20171122-095537-1.jpg\n",
      "generating mask\n"
     ]
    },
    {
     "name": "stdout",
     "output_type": "stream",
     "text": [
      "True->20171122-095851-1.jpg\n",
      "generating mask\n"
     ]
    },
    {
     "name": "stdout",
     "output_type": "stream",
     "text": [
      "True->20171122-095852-1.jpg\n",
      "generating mask\n"
     ]
    },
    {
     "name": "stdout",
     "output_type": "stream",
     "text": [
      "True->20171122-095907-1.jpg\n",
      "generating mask\n"
     ]
    },
    {
     "name": "stdout",
     "output_type": "stream",
     "text": [
      "True->20171122-100023-1.jpg\n",
      "generating mask\n"
     ]
    },
    {
     "name": "stdout",
     "output_type": "stream",
     "text": [
      "True->20171122-100051-1.jpg\n",
      "generating mask\n"
     ]
    },
    {
     "name": "stdout",
     "output_type": "stream",
     "text": [
      "True->20171122-100204-1.jpg\n",
      "generating mask\n"
     ]
    },
    {
     "name": "stdout",
     "output_type": "stream",
     "text": [
      "True->20171122-100206-1.jpg\n",
      "generating mask\n"
     ]
    },
    {
     "name": "stdout",
     "output_type": "stream",
     "text": [
      "True->20171122-100238-1.jpg\n",
      "generating mask\n"
     ]
    },
    {
     "name": "stdout",
     "output_type": "stream",
     "text": [
      "True->20171122-100346-1.jpg\n",
      "generating mask\n"
     ]
    },
    {
     "name": "stdout",
     "output_type": "stream",
     "text": [
      "True->20171122-100347-1.jpg\n",
      "generating mask\n"
     ]
    },
    {
     "name": "stdout",
     "output_type": "stream",
     "text": [
      "True->20171122-100436-1.jpg\n",
      "generating mask\n"
     ]
    },
    {
     "name": "stdout",
     "output_type": "stream",
     "text": [
      "True->20171122-100437-1.jpg\n",
      "generating mask\n"
     ]
    },
    {
     "name": "stdout",
     "output_type": "stream",
     "text": [
      "True->20171122-100508-1.jpg\n",
      "generating mask\n"
     ]
    },
    {
     "name": "stdout",
     "output_type": "stream",
     "text": [
      "True->20171122-100606-1.jpg\n",
      "generating mask\n"
     ]
    },
    {
     "name": "stdout",
     "output_type": "stream",
     "text": [
      "True->20171122-100626-1.jpg\n",
      "generating mask\n"
     ]
    },
    {
     "name": "stdout",
     "output_type": "stream",
     "text": [
      "True->20171122-100643-1.jpg\n",
      "generating mask\n"
     ]
    },
    {
     "name": "stdout",
     "output_type": "stream",
     "text": [
      "True->20171122-100706-1.jpg\n",
      "generating mask\n"
     ]
    },
    {
     "name": "stdout",
     "output_type": "stream",
     "text": [
      "True->20171122-100749-1.jpg\n",
      "generating mask\n"
     ]
    },
    {
     "name": "stdout",
     "output_type": "stream",
     "text": [
      "True->20171122-100838-1.jpg\n",
      "generating mask\n"
     ]
    },
    {
     "name": "stdout",
     "output_type": "stream",
     "text": [
      "True->20171122-100943-1.jpg\n",
      "generating mask\n"
     ]
    },
    {
     "name": "stdout",
     "output_type": "stream",
     "text": [
      "True->20171122-101044-1.jpg\n",
      "generating mask\n"
     ]
    },
    {
     "name": "stdout",
     "output_type": "stream",
     "text": [
      "True->20171122-101114-1.jpg\n",
      "generating mask\n"
     ]
    },
    {
     "name": "stdout",
     "output_type": "stream",
     "text": [
      "True->20171122-101138-1.jpg\n",
      "generating mask\n"
     ]
    },
    {
     "name": "stdout",
     "output_type": "stream",
     "text": [
      "True->20171122-101153-1.jpg\n",
      "generating mask\n"
     ]
    },
    {
     "name": "stdout",
     "output_type": "stream",
     "text": [
      "True->20171122-101221-1.jpg\n",
      "generating mask\n"
     ]
    },
    {
     "name": "stdout",
     "output_type": "stream",
     "text": [
      "True->20171122-101340-1.jpg\n",
      "generating mask\n"
     ]
    },
    {
     "name": "stdout",
     "output_type": "stream",
     "text": [
      "True->20171122-101513-1.jpg\n",
      "generating mask\n"
     ]
    },
    {
     "name": "stdout",
     "output_type": "stream",
     "text": [
      "True->20171122-101626-1.jpg\n",
      "generating mask\n"
     ]
    },
    {
     "name": "stdout",
     "output_type": "stream",
     "text": [
      "True->20171122-101627-1.jpg\n",
      "generating mask\n"
     ]
    },
    {
     "name": "stdout",
     "output_type": "stream",
     "text": [
      "True->20171122-101719-1.jpg\n",
      "generating mask\n"
     ]
    },
    {
     "name": "stdout",
     "output_type": "stream",
     "text": [
      "True->20171122-101811-1.jpg\n",
      "generating mask\n"
     ]
    },
    {
     "name": "stdout",
     "output_type": "stream",
     "text": [
      "True->20171122-101845-1.jpg\n",
      "generating mask\n"
     ]
    },
    {
     "name": "stdout",
     "output_type": "stream",
     "text": [
      "True->20171122-101924-1.jpg\n",
      "generating mask\n"
     ]
    },
    {
     "name": "stdout",
     "output_type": "stream",
     "text": [
      "True->20171122-102100-1.jpg\n",
      "generating mask\n"
     ]
    },
    {
     "name": "stdout",
     "output_type": "stream",
     "text": [
      "True->20171122-102106-1.jpg\n",
      "generating mask\n"
     ]
    },
    {
     "name": "stdout",
     "output_type": "stream",
     "text": [
      "True->20171122-102107-1.jpg\n",
      "generating mask\n"
     ]
    },
    {
     "name": "stdout",
     "output_type": "stream",
     "text": [
      "True->20171122-102108-1.jpg\n",
      "generating mask\n"
     ]
    },
    {
     "name": "stdout",
     "output_type": "stream",
     "text": [
      "True->20171122-102134-1.jpg\n",
      "generating mask\n"
     ]
    },
    {
     "name": "stdout",
     "output_type": "stream",
     "text": [
      "True->20171122-102148-1.jpg\n",
      "generating mask\n"
     ]
    },
    {
     "name": "stdout",
     "output_type": "stream",
     "text": [
      "True->20171122-102213-1.jpg\n",
      "generating mask\n"
     ]
    },
    {
     "name": "stdout",
     "output_type": "stream",
     "text": [
      "True->20171122-102230-1.jpg\n",
      "generating mask\n"
     ]
    },
    {
     "name": "stdout",
     "output_type": "stream",
     "text": [
      "True->20171122-102359-1.jpg\n",
      "generating mask\n"
     ]
    },
    {
     "name": "stdout",
     "output_type": "stream",
     "text": [
      "True->20171122-102506-1.jpg\n",
      "generating mask\n"
     ]
    },
    {
     "name": "stdout",
     "output_type": "stream",
     "text": [
      "True->20171122-102520-1.jpg\n",
      "generating mask\n"
     ]
    },
    {
     "name": "stdout",
     "output_type": "stream",
     "text": [
      "True->20171122-102820-1.jpg\n",
      "generating mask\n"
     ]
    },
    {
     "name": "stdout",
     "output_type": "stream",
     "text": [
      "True->20171122-102833-1.jpg\n",
      "generating mask\n"
     ]
    },
    {
     "name": "stdout",
     "output_type": "stream",
     "text": [
      "True->20171122-103028-1.jpg\n",
      "generating mask\n"
     ]
    },
    {
     "name": "stdout",
     "output_type": "stream",
     "text": [
      "True->20171122-103056-1.jpg\n",
      "generating mask\n"
     ]
    },
    {
     "name": "stdout",
     "output_type": "stream",
     "text": [
      "True->20171122-103118-1.jpg\n",
      "generating mask\n"
     ]
    },
    {
     "name": "stdout",
     "output_type": "stream",
     "text": [
      "True->20171122-103153-1.jpg\n",
      "generating mask\n"
     ]
    },
    {
     "name": "stdout",
     "output_type": "stream",
     "text": [
      "True->20171122-103247-1.jpg\n",
      "generating mask\n"
     ]
    },
    {
     "name": "stdout",
     "output_type": "stream",
     "text": [
      "True->20171122-103312-1.jpg\n",
      "generating mask\n"
     ]
    },
    {
     "name": "stdout",
     "output_type": "stream",
     "text": [
      "True->20171122-103345-1.jpg\n",
      "generating mask\n"
     ]
    },
    {
     "name": "stdout",
     "output_type": "stream",
     "text": [
      "True->20171122-103412-1.jpg\n",
      "generating mask\n"
     ]
    },
    {
     "name": "stdout",
     "output_type": "stream",
     "text": [
      "True->20171122-103505-1.jpg\n",
      "generating mask\n"
     ]
    },
    {
     "name": "stdout",
     "output_type": "stream",
     "text": [
      "True->20171122-103612-1.jpg\n",
      "generating mask\n"
     ]
    },
    {
     "name": "stdout",
     "output_type": "stream",
     "text": [
      "True->20171122-103613-1.jpg\n",
      "generating mask\n"
     ]
    },
    {
     "name": "stdout",
     "output_type": "stream",
     "text": [
      "True->20171122-103638-1.jpg\n",
      "generating mask\n"
     ]
    },
    {
     "name": "stdout",
     "output_type": "stream",
     "text": [
      "True->20171122-103703-1.jpg\n",
      "generating mask\n"
     ]
    },
    {
     "name": "stdout",
     "output_type": "stream",
     "text": [
      "True->20171122-103722-1.jpg\n",
      "generating mask\n"
     ]
    },
    {
     "name": "stdout",
     "output_type": "stream",
     "text": [
      "True->20171122-103738-1.jpg\n",
      "generating mask\n"
     ]
    },
    {
     "name": "stdout",
     "output_type": "stream",
     "text": [
      "True->20171122-103752-1.jpg\n",
      "generating mask\n"
     ]
    },
    {
     "name": "stdout",
     "output_type": "stream",
     "text": [
      "True->20171122-103825-1.jpg\n",
      "generating mask\n"
     ]
    },
    {
     "name": "stdout",
     "output_type": "stream",
     "text": [
      "True->20171122-103945-1.jpg\n",
      "generating mask\n"
     ]
    },
    {
     "name": "stdout",
     "output_type": "stream",
     "text": [
      "True->20171122-104018-1.jpg\n",
      "generating mask\n"
     ]
    },
    {
     "name": "stdout",
     "output_type": "stream",
     "text": [
      "True->20171122-104102-1.jpg\n",
      "generating mask\n"
     ]
    },
    {
     "name": "stdout",
     "output_type": "stream",
     "text": [
      "True->20171122-104124-1.jpg\n",
      "generating mask\n"
     ]
    },
    {
     "name": "stdout",
     "output_type": "stream",
     "text": [
      "True->20171122-104210-1.jpg\n",
      "generating mask\n"
     ]
    },
    {
     "name": "stdout",
     "output_type": "stream",
     "text": [
      "True->20171122-104222-1.jpg\n",
      "generating mask\n"
     ]
    },
    {
     "name": "stdout",
     "output_type": "stream",
     "text": [
      "True->20171122-104241-1.jpg\n",
      "generating mask\n"
     ]
    },
    {
     "name": "stdout",
     "output_type": "stream",
     "text": [
      "True->20171122-104304-1.jpg\n",
      "generating mask\n"
     ]
    },
    {
     "name": "stdout",
     "output_type": "stream",
     "text": [
      "True->20171122-104333-1.jpg\n",
      "generating mask\n"
     ]
    },
    {
     "name": "stdout",
     "output_type": "stream",
     "text": [
      "True->20171201-115646-1.jpg\n",
      "generating mask\n"
     ]
    },
    {
     "name": "stdout",
     "output_type": "stream",
     "text": [
      "True->20171201-115746-1.jpg\n",
      "generating mask\n"
     ]
    },
    {
     "name": "stdout",
     "output_type": "stream",
     "text": [
      "True->20171201-115805-1.jpg\n",
      "generating mask\n"
     ]
    },
    {
     "name": "stdout",
     "output_type": "stream",
     "text": [
      "True->20171201-115825-1.jpg\n",
      "generating mask\n"
     ]
    },
    {
     "name": "stdout",
     "output_type": "stream",
     "text": [
      "True->20171201-115840-1.jpg\n",
      "generating mask\n"
     ]
    },
    {
     "name": "stdout",
     "output_type": "stream",
     "text": [
      "True->20171201-115856-1.jpg\n",
      "generating mask\n"
     ]
    },
    {
     "name": "stdout",
     "output_type": "stream",
     "text": [
      "True->20171201-115911-1.jpg\n",
      "generating mask\n"
     ]
    },
    {
     "name": "stdout",
     "output_type": "stream",
     "text": [
      "True->20171201-115923-1.jpg\n",
      "generating mask\n"
     ]
    },
    {
     "name": "stdout",
     "output_type": "stream",
     "text": [
      "True->20171201-115935-1.jpg\n",
      "generating mask\n"
     ]
    },
    {
     "name": "stdout",
     "output_type": "stream",
     "text": [
      "True->20171201-120010-1.jpg\n",
      "generating mask\n"
     ]
    },
    {
     "name": "stdout",
     "output_type": "stream",
     "text": [
      "True->20171201-120024-1.jpg\n",
      "generating mask\n"
     ]
    },
    {
     "name": "stdout",
     "output_type": "stream",
     "text": [
      "True->20171201-120036-1.jpg\n",
      "generating mask\n"
     ]
    },
    {
     "name": "stdout",
     "output_type": "stream",
     "text": [
      "True->20171201-120249-1.jpg\n",
      "generating mask\n"
     ]
    },
    {
     "name": "stdout",
     "output_type": "stream",
     "text": [
      "True->20171201-120339-1.jpg\n",
      "generating mask\n"
     ]
    },
    {
     "name": "stdout",
     "output_type": "stream",
     "text": [
      "True->20171201-120413-1.jpg\n",
      "generating mask\n"
     ]
    },
    {
     "name": "stdout",
     "output_type": "stream",
     "text": [
      "True->20171201-120426-1.jpg\n",
      "generating mask\n"
     ]
    },
    {
     "name": "stdout",
     "output_type": "stream",
     "text": [
      "True->20171201-120654-1.jpg\n",
      "generating mask\n"
     ]
    },
    {
     "name": "stdout",
     "output_type": "stream",
     "text": [
      "True->20171201-120803-1.jpg\n",
      "generating mask\n"
     ]
    },
    {
     "name": "stdout",
     "output_type": "stream",
     "text": [
      "True->20171201-120840-1.jpg\n",
      "generating mask\n"
     ]
    },
    {
     "name": "stdout",
     "output_type": "stream",
     "text": [
      "True->20171201-120901-1.jpg\n",
      "generating mask\n"
     ]
    },
    {
     "name": "stdout",
     "output_type": "stream",
     "text": [
      "True->20171201-120921-1.jpg\n",
      "generating mask\n"
     ]
    },
    {
     "name": "stdout",
     "output_type": "stream",
     "text": [
      "True->20171201-123729-3.jpg\n",
      "generating mask\n"
     ]
    },
    {
     "name": "stdout",
     "output_type": "stream",
     "text": [
      "True->20171201-123831-3.jpg\n",
      "generating mask\n"
     ]
    },
    {
     "name": "stdout",
     "output_type": "stream",
     "text": [
      "True->20171201-123949-3.jpg\n",
      "generating mask\n"
     ]
    },
    {
     "name": "stdout",
     "output_type": "stream",
     "text": [
      "True->20171201-124003-3.jpg\n",
      "generating mask\n"
     ]
    },
    {
     "name": "stdout",
     "output_type": "stream",
     "text": [
      "True->20171203-082036-3.jpg\n",
      "generating mask\n"
     ]
    },
    {
     "name": "stdout",
     "output_type": "stream",
     "text": [
      "True->20171203-082049-3.jpg\n",
      "generating mask\n"
     ]
    },
    {
     "name": "stdout",
     "output_type": "stream",
     "text": [
      "True->20171203-082105-3.jpg\n",
      "generating mask\n"
     ]
    },
    {
     "name": "stdout",
     "output_type": "stream",
     "text": [
      "True->20171203-082203-3.jpg\n",
      "generating mask\n"
     ]
    },
    {
     "name": "stdout",
     "output_type": "stream",
     "text": [
      "True->20171203-082219-3.jpg\n",
      "generating mask\n"
     ]
    },
    {
     "name": "stdout",
     "output_type": "stream",
     "text": [
      "True->20171203-082801-3.jpg\n",
      "generating mask\n"
     ]
    },
    {
     "name": "stdout",
     "output_type": "stream",
     "text": [
      "True->20171203-164319-3.jpg\n",
      "generating mask\n"
     ]
    },
    {
     "name": "stdout",
     "output_type": "stream",
     "text": [
      "True->20171203-164337-3.jpg\n",
      "generating mask\n"
     ]
    },
    {
     "name": "stdout",
     "output_type": "stream",
     "text": [
      "True->20171203-164356-3.jpg\n",
      "generating mask\n"
     ]
    },
    {
     "name": "stdout",
     "output_type": "stream",
     "text": [
      "True->20171203-164415-3.jpg\n",
      "generating mask\n"
     ]
    },
    {
     "name": "stdout",
     "output_type": "stream",
     "text": [
      "True->20171203-164458-3.jpg\n",
      "generating mask\n"
     ]
    },
    {
     "name": "stdout",
     "output_type": "stream",
     "text": [
      "True->20171203-164511-3.jpg\n",
      "generating mask\n"
     ]
    },
    {
     "name": "stdout",
     "output_type": "stream",
     "text": [
      "True->20171203-164524-3.jpg\n",
      "generating mask\n"
     ]
    },
    {
     "name": "stdout",
     "output_type": "stream",
     "text": [
      "True->20171203-164604-3.jpg\n",
      "generating mask\n"
     ]
    },
    {
     "name": "stdout",
     "output_type": "stream",
     "text": [
      "True->20171203-164605-3.jpg\n",
      "generating mask\n"
     ]
    },
    {
     "name": "stdout",
     "output_type": "stream",
     "text": [
      "True->20171203-164647-3.jpg\n",
      "generating mask\n"
     ]
    },
    {
     "name": "stdout",
     "output_type": "stream",
     "text": [
      "True->20171203-164701-3.jpg\n",
      "generating mask\n"
     ]
    },
    {
     "name": "stdout",
     "output_type": "stream",
     "text": [
      "True->20171203-164736-3.jpg\n",
      "generating mask\n"
     ]
    },
    {
     "name": "stdout",
     "output_type": "stream",
     "text": [
      "True->20171203-164754-3.jpg\n",
      "generating mask\n"
     ]
    },
    {
     "name": "stdout",
     "output_type": "stream",
     "text": [
      "True->20171203-164835-3.jpg\n",
      "generating mask\n"
     ]
    },
    {
     "name": "stdout",
     "output_type": "stream",
     "text": [
      "True->20171203-164847-3.jpg\n",
      "generating mask\n"
     ]
    },
    {
     "name": "stdout",
     "output_type": "stream",
     "text": [
      "True->20171203-164902-3.jpg\n",
      "generating mask\n"
     ]
    },
    {
     "name": "stdout",
     "output_type": "stream",
     "text": [
      "True->20171203-164941-3.jpg\n",
      "generating mask\n"
     ]
    },
    {
     "name": "stdout",
     "output_type": "stream",
     "text": [
      "True->20171203-164956-3.jpg\n",
      "generating mask\n"
     ]
    },
    {
     "name": "stdout",
     "output_type": "stream",
     "text": [
      "True->20171203-165027-3.jpg\n",
      "generating mask\n"
     ]
    },
    {
     "name": "stdout",
     "output_type": "stream",
     "text": [
      "True->20171203-165059-3.jpg\n",
      "generating mask\n"
     ]
    },
    {
     "name": "stdout",
     "output_type": "stream",
     "text": [
      "True->20171203-165115-3.jpg\n",
      "generating mask\n"
     ]
    },
    {
     "name": "stdout",
     "output_type": "stream",
     "text": [
      "True->20171203-165130-3.jpg\n",
      "generating mask\n"
     ]
    },
    {
     "name": "stdout",
     "output_type": "stream",
     "text": [
      "True->20171203-165142-3.jpg\n",
      "generating mask\n"
     ]
    },
    {
     "name": "stdout",
     "output_type": "stream",
     "text": [
      "True->20171203-165159-3.jpg\n",
      "generating mask\n"
     ]
    },
    {
     "name": "stdout",
     "output_type": "stream",
     "text": [
      "True->20171203-165213-3.jpg\n",
      "generating mask\n"
     ]
    },
    {
     "name": "stdout",
     "output_type": "stream",
     "text": [
      "True->20171203-165247-3.jpg\n",
      "generating mask\n"
     ]
    },
    {
     "name": "stdout",
     "output_type": "stream",
     "text": [
      "True->20171203-165302-3.jpg\n",
      "generating mask\n"
     ]
    },
    {
     "name": "stdout",
     "output_type": "stream",
     "text": [
      "True->20171203-165357-3.jpg\n",
      "generating mask\n"
     ]
    },
    {
     "name": "stdout",
     "output_type": "stream",
     "text": [
      "True->20171203-165415-3.jpg\n",
      "generating mask\n"
     ]
    },
    {
     "name": "stdout",
     "output_type": "stream",
     "text": [
      "True->20171203-165418-3.jpg\n",
      "generating mask\n"
     ]
    },
    {
     "name": "stdout",
     "output_type": "stream",
     "text": [
      "True->20171203-165438-3.jpg\n",
      "generating mask\n"
     ]
    },
    {
     "name": "stdout",
     "output_type": "stream",
     "text": [
      "True->20171203-165450-3.jpg\n",
      "generating mask\n"
     ]
    },
    {
     "name": "stdout",
     "output_type": "stream",
     "text": [
      "True->20171203-165503-3.jpg\n",
      "generating mask\n"
     ]
    },
    {
     "name": "stdout",
     "output_type": "stream",
     "text": [
      "True->20171203-165519-3.jpg\n",
      "generating mask\n"
     ]
    },
    {
     "name": "stdout",
     "output_type": "stream",
     "text": [
      "True->20171203-165545-3.jpg\n",
      "generating mask\n"
     ]
    },
    {
     "name": "stdout",
     "output_type": "stream",
     "text": [
      "True->20171203-165600-3.jpg\n",
      "generating mask\n"
     ]
    },
    {
     "name": "stdout",
     "output_type": "stream",
     "text": [
      "True->20171203-165621-3.jpg\n",
      "generating mask\n"
     ]
    },
    {
     "name": "stdout",
     "output_type": "stream",
     "text": [
      "True->20171203-165636-3.jpg\n",
      "generating mask\n"
     ]
    },
    {
     "name": "stdout",
     "output_type": "stream",
     "text": [
      "True->20171203-165704-3.jpg\n",
      "generating mask\n"
     ]
    },
    {
     "name": "stdout",
     "output_type": "stream",
     "text": [
      "True->20171203-165732-3.jpg\n",
      "generating mask\n"
     ]
    },
    {
     "name": "stdout",
     "output_type": "stream",
     "text": [
      "True->20171203-165758-3.jpg\n",
      "generating mask\n"
     ]
    },
    {
     "name": "stdout",
     "output_type": "stream",
     "text": [
      "True->20171203-165809-3.jpg\n",
      "generating mask\n"
     ]
    },
    {
     "name": "stdout",
     "output_type": "stream",
     "text": [
      "True->20171203-165821-3.jpg\n",
      "generating mask\n"
     ]
    },
    {
     "name": "stdout",
     "output_type": "stream",
     "text": [
      "True->20171203-165835-3.jpg\n",
      "generating mask\n"
     ]
    },
    {
     "name": "stdout",
     "output_type": "stream",
     "text": [
      "True->20171203-165847-3.jpg\n",
      "generating mask\n"
     ]
    },
    {
     "name": "stdout",
     "output_type": "stream",
     "text": [
      "True->20171203-165928-3.jpg\n",
      "generating mask\n"
     ]
    },
    {
     "name": "stdout",
     "output_type": "stream",
     "text": [
      "True->20171203-165944-3.jpg\n",
      "generating mask\n"
     ]
    },
    {
     "name": "stdout",
     "output_type": "stream",
     "text": [
      "True->20171203-170028-3.jpg\n",
      "generating mask\n"
     ]
    },
    {
     "name": "stdout",
     "output_type": "stream",
     "text": [
      "True->20171203-170042-3.jpg\n",
      "generating mask\n"
     ]
    },
    {
     "name": "stdout",
     "output_type": "stream",
     "text": [
      "True->20171203-170055-3.jpg\n",
      "generating mask\n"
     ]
    },
    {
     "name": "stdout",
     "output_type": "stream",
     "text": [
      "True->20171203-170135-3.jpg\n",
      "generating mask\n"
     ]
    },
    {
     "name": "stdout",
     "output_type": "stream",
     "text": [
      "True->20171203-170148-3.jpg\n",
      "generating mask\n"
     ]
    },
    {
     "name": "stdout",
     "output_type": "stream",
     "text": [
      "True->20171203-170215-3.jpg\n",
      "generating mask\n"
     ]
    },
    {
     "name": "stdout",
     "output_type": "stream",
     "text": [
      "True->20171203-170230-3.jpg\n",
      "generating mask\n"
     ]
    },
    {
     "name": "stdout",
     "output_type": "stream",
     "text": [
      "True->20171203-170242-3.jpg\n",
      "generating mask\n"
     ]
    },
    {
     "name": "stdout",
     "output_type": "stream",
     "text": [
      "True->20171203-170310-3.jpg\n",
      "generating mask\n"
     ]
    },
    {
     "name": "stdout",
     "output_type": "stream",
     "text": [
      "True->20171203-170325-3.jpg\n",
      "generating mask\n"
     ]
    },
    {
     "name": "stdout",
     "output_type": "stream",
     "text": [
      "True->20171203-170339-3.jpg\n",
      "generating mask\n"
     ]
    },
    {
     "name": "stdout",
     "output_type": "stream",
     "text": [
      "True->20171203-170354-3.jpg\n",
      "generating mask\n"
     ]
    },
    {
     "name": "stdout",
     "output_type": "stream",
     "text": [
      "True->20171203-170431-3.jpg\n",
      "generating mask\n"
     ]
    },
    {
     "name": "stdout",
     "output_type": "stream",
     "text": [
      "True->20171203-170434-3.jpg\n",
      "generating mask\n"
     ]
    },
    {
     "name": "stdout",
     "output_type": "stream",
     "text": [
      "True->20171203-170450-3.jpg\n",
      "generating mask\n"
     ]
    },
    {
     "name": "stdout",
     "output_type": "stream",
     "text": [
      "True->20171203-170504-3.jpg\n",
      "generating mask\n"
     ]
    },
    {
     "name": "stdout",
     "output_type": "stream",
     "text": [
      "True->20171203-170522-3.jpg\n",
      "generating mask\n"
     ]
    },
    {
     "name": "stdout",
     "output_type": "stream",
     "text": [
      "True->20171203-170534-3.jpg\n",
      "generating mask\n"
     ]
    },
    {
     "name": "stdout",
     "output_type": "stream",
     "text": [
      "True->20171203-170559-3.jpg\n",
      "generating mask\n"
     ]
    },
    {
     "name": "stdout",
     "output_type": "stream",
     "text": [
      "True->20171203-170616-3.jpg\n",
      "generating mask\n"
     ]
    },
    {
     "name": "stdout",
     "output_type": "stream",
     "text": [
      "True->20171203-170641-3.jpg\n",
      "generating mask\n"
     ]
    },
    {
     "name": "stdout",
     "output_type": "stream",
     "text": [
      "True->20171203-170737-3.jpg\n",
      "generating mask\n"
     ]
    },
    {
     "name": "stdout",
     "output_type": "stream",
     "text": [
      "True->20171203-170753-3.jpg\n",
      "generating mask\n"
     ]
    },
    {
     "name": "stdout",
     "output_type": "stream",
     "text": [
      "True->20171203-170805-3.jpg\n",
      "generating mask\n"
     ]
    },
    {
     "name": "stdout",
     "output_type": "stream",
     "text": [
      "True->20171203-170822-3.jpg\n",
      "generating mask\n"
     ]
    },
    {
     "name": "stdout",
     "output_type": "stream",
     "text": [
      "True->20171203-170848-3.jpg\n",
      "generating mask\n"
     ]
    },
    {
     "name": "stdout",
     "output_type": "stream",
     "text": [
      "True->20171203-170858-3.jpg\n",
      "generating mask\n"
     ]
    },
    {
     "name": "stdout",
     "output_type": "stream",
     "text": [
      "True->20171203-170939-3.jpg\n",
      "generating mask\n"
     ]
    },
    {
     "name": "stdout",
     "output_type": "stream",
     "text": [
      "True->20171203-171022-3.jpg\n",
      "generating mask\n"
     ]
    },
    {
     "name": "stdout",
     "output_type": "stream",
     "text": [
      "True->20171203-171929-3.jpg\n",
      "generating mask\n"
     ]
    },
    {
     "name": "stdout",
     "output_type": "stream",
     "text": [
      "True->20171203-172058-3.jpg\n",
      "generating mask\n"
     ]
    },
    {
     "name": "stdout",
     "output_type": "stream",
     "text": [
      "True->20171203-172110-3.jpg\n",
      "generating mask\n"
     ]
    },
    {
     "name": "stdout",
     "output_type": "stream",
     "text": [
      "True->20171203-172120-3.jpg\n",
      "generating mask\n"
     ]
    },
    {
     "name": "stdout",
     "output_type": "stream",
     "text": [
      "True->20171203-172137-3.jpg\n",
      "generating mask\n"
     ]
    },
    {
     "name": "stdout",
     "output_type": "stream",
     "text": [
      "True->20171203-172202-3.jpg\n",
      "generating mask\n"
     ]
    },
    {
     "name": "stdout",
     "output_type": "stream",
     "text": [
      "True->20171203-172217-3.jpg\n",
      "generating mask\n"
     ]
    },
    {
     "name": "stdout",
     "output_type": "stream",
     "text": [
      "True->20171203-172227-3.jpg\n",
      "generating mask\n"
     ]
    },
    {
     "name": "stdout",
     "output_type": "stream",
     "text": [
      "True->20171203-172239-3.jpg\n",
      "generating mask\n"
     ]
    },
    {
     "name": "stdout",
     "output_type": "stream",
     "text": [
      "True->20171203-172354-3.jpg\n",
      "generating mask\n"
     ]
    },
    {
     "name": "stdout",
     "output_type": "stream",
     "text": [
      "True->20171203-172410-3.jpg\n",
      "generating mask\n"
     ]
    },
    {
     "name": "stdout",
     "output_type": "stream",
     "text": [
      "True->20171203-172438-3.jpg\n",
      "generating mask\n"
     ]
    },
    {
     "name": "stdout",
     "output_type": "stream",
     "text": [
      "True->20171203-172452-3.jpg\n",
      "generating mask\n"
     ]
    },
    {
     "name": "stdout",
     "output_type": "stream",
     "text": [
      "True->20171203-172528-3.jpg\n",
      "generating mask\n"
     ]
    },
    {
     "name": "stdout",
     "output_type": "stream",
     "text": [
      "True->20171203-172543-3.jpg\n",
      "generating mask\n"
     ]
    },
    {
     "name": "stdout",
     "output_type": "stream",
     "text": [
      "True->20171203-172608-3.jpg\n",
      "generating mask\n"
     ]
    },
    {
     "name": "stdout",
     "output_type": "stream",
     "text": [
      "True->20171203-172637-3.jpg\n",
      "generating mask\n"
     ]
    },
    {
     "name": "stdout",
     "output_type": "stream",
     "text": [
      "True->20171203-172649-3.jpg\n",
      "generating mask\n"
     ]
    },
    {
     "name": "stdout",
     "output_type": "stream",
     "text": [
      "True->20171203-172701-3.jpg\n",
      "generating mask\n"
     ]
    },
    {
     "name": "stdout",
     "output_type": "stream",
     "text": [
      "True->20171203-172726-3.jpg\n",
      "generating mask\n"
     ]
    },
    {
     "name": "stdout",
     "output_type": "stream",
     "text": [
      "True->20171203-172748-3.jpg\n",
      "generating mask\n"
     ]
    },
    {
     "name": "stdout",
     "output_type": "stream",
     "text": [
      "True->20171203-172809-3.jpg\n",
      "generating mask\n"
     ]
    },
    {
     "name": "stdout",
     "output_type": "stream",
     "text": [
      "True->20171203-172811-3.jpg\n",
      "generating mask\n"
     ]
    },
    {
     "name": "stdout",
     "output_type": "stream",
     "text": [
      "True->20171203-172822-3.jpg\n",
      "generating mask\n"
     ]
    },
    {
     "name": "stdout",
     "output_type": "stream",
     "text": [
      "True->20171203-172907-3.jpg\n",
      "generating mask\n"
     ]
    },
    {
     "name": "stdout",
     "output_type": "stream",
     "text": [
      "True->20171203-172940-3.jpg\n",
      "generating mask\n"
     ]
    },
    {
     "name": "stdout",
     "output_type": "stream",
     "text": [
      "True->20171203-173011-3.jpg\n",
      "generating mask\n"
     ]
    },
    {
     "name": "stdout",
     "output_type": "stream",
     "text": [
      "True->20171203-173105-3.jpg\n",
      "generating mask\n"
     ]
    },
    {
     "name": "stdout",
     "output_type": "stream",
     "text": [
      "True->20171203-173117-3.jpg\n",
      "generating mask\n"
     ]
    },
    {
     "name": "stdout",
     "output_type": "stream",
     "text": [
      "True->20171203-173141-3.jpg\n",
      "generating mask\n"
     ]
    },
    {
     "name": "stdout",
     "output_type": "stream",
     "text": [
      "True->20171203-173154-3.jpg\n",
      "generating mask\n"
     ]
    },
    {
     "name": "stdout",
     "output_type": "stream",
     "text": [
      "True->20171203-173210-3.jpg\n",
      "generating mask\n"
     ]
    },
    {
     "name": "stdout",
     "output_type": "stream",
     "text": [
      "True->20171203-173221-3.jpg\n",
      "generating mask\n"
     ]
    },
    {
     "name": "stdout",
     "output_type": "stream",
     "text": [
      "True->20171203-173246-3.jpg\n",
      "generating mask\n"
     ]
    },
    {
     "name": "stdout",
     "output_type": "stream",
     "text": [
      "True->20171203-173258-3.jpg\n",
      "generating mask\n"
     ]
    },
    {
     "name": "stdout",
     "output_type": "stream",
     "text": [
      "True->20171203-173340-3.jpg\n",
      "generating mask\n"
     ]
    },
    {
     "name": "stdout",
     "output_type": "stream",
     "text": [
      "True->20171203-173359-3.jpg\n",
      "generating mask\n"
     ]
    },
    {
     "name": "stdout",
     "output_type": "stream",
     "text": [
      "True->20171203-173412-3.jpg\n",
      "generating mask\n"
     ]
    },
    {
     "name": "stdout",
     "output_type": "stream",
     "text": [
      "True->20171203-173455-3.jpg\n",
      "generating mask\n"
     ]
    },
    {
     "name": "stdout",
     "output_type": "stream",
     "text": [
      "True->20171203-173509-3.jpg\n",
      "generating mask\n"
     ]
    },
    {
     "name": "stdout",
     "output_type": "stream",
     "text": [
      "True->20171203-173549-3.jpg\n",
      "generating mask\n"
     ]
    },
    {
     "name": "stdout",
     "output_type": "stream",
     "text": [
      "True->20171203-173711-3.jpg\n",
      "generating mask\n"
     ]
    },
    {
     "name": "stdout",
     "output_type": "stream",
     "text": [
      "True->20171203-173738-3.jpg\n",
      "generating mask\n"
     ]
    },
    {
     "name": "stdout",
     "output_type": "stream",
     "text": [
      "True->20171203-173816-3.jpg\n",
      "generating mask\n"
     ]
    },
    {
     "name": "stdout",
     "output_type": "stream",
     "text": [
      "True->20171203-173829-3.jpg\n",
      "generating mask\n"
     ]
    },
    {
     "name": "stdout",
     "output_type": "stream",
     "text": [
      "True->20171203-173903-3.jpg\n",
      "generating mask\n"
     ]
    },
    {
     "name": "stdout",
     "output_type": "stream",
     "text": [
      "True->20171203-173915-3.jpg\n",
      "generating mask\n"
     ]
    },
    {
     "name": "stdout",
     "output_type": "stream",
     "text": [
      "True->20171203-173928-3.jpg\n",
      "generating mask\n"
     ]
    },
    {
     "name": "stdout",
     "output_type": "stream",
     "text": [
      "True->20171203-173955-3.jpg\n",
      "generating mask\n"
     ]
    },
    {
     "name": "stdout",
     "output_type": "stream",
     "text": [
      "True->20171203-174056-3.jpg\n",
      "generating mask\n"
     ]
    },
    {
     "name": "stdout",
     "output_type": "stream",
     "text": [
      "True->20171203-174106-3.jpg\n",
      "generating mask\n"
     ]
    },
    {
     "name": "stdout",
     "output_type": "stream",
     "text": [
      "True->20171203-174128-3.jpg\n",
      "generating mask\n"
     ]
    },
    {
     "name": "stdout",
     "output_type": "stream",
     "text": [
      "True->20171203-174141-3.jpg\n",
      "generating mask\n"
     ]
    },
    {
     "name": "stdout",
     "output_type": "stream",
     "text": [
      "True->20171203-174203-3.jpg\n",
      "generating mask\n"
     ]
    },
    {
     "name": "stdout",
     "output_type": "stream",
     "text": [
      "True->20171203-174204-3.jpg\n",
      "generating mask\n"
     ]
    },
    {
     "name": "stdout",
     "output_type": "stream",
     "text": [
      "True->20171203-174215-3.jpg\n",
      "generating mask\n"
     ]
    },
    {
     "name": "stdout",
     "output_type": "stream",
     "text": [
      "True->20171203-174225-3.jpg\n",
      "generating mask\n"
     ]
    },
    {
     "name": "stdout",
     "output_type": "stream",
     "text": [
      "True->20171203-174235-3.jpg\n",
      "generating mask\n"
     ]
    },
    {
     "name": "stdout",
     "output_type": "stream",
     "text": [
      "True->20171203-174248-3.jpg\n",
      "generating mask\n"
     ]
    },
    {
     "name": "stdout",
     "output_type": "stream",
     "text": [
      "True->20171203-174301-3.jpg\n",
      "generating mask\n"
     ]
    },
    {
     "name": "stdout",
     "output_type": "stream",
     "text": [
      "True->20171203-174313-3.jpg\n",
      "generating mask\n"
     ]
    },
    {
     "name": "stdout",
     "output_type": "stream",
     "text": [
      "True->20171203-174330-3.jpg\n",
      "generating mask\n"
     ]
    },
    {
     "name": "stdout",
     "output_type": "stream",
     "text": [
      "True->20171203-174410-3.jpg\n",
      "generating mask\n"
     ]
    },
    {
     "name": "stdout",
     "output_type": "stream",
     "text": [
      "True->20171203-174444-3.jpg\n",
      "generating mask\n"
     ]
    },
    {
     "name": "stdout",
     "output_type": "stream",
     "text": [
      "True->20171203-174510-3.jpg\n",
      "generating mask\n"
     ]
    },
    {
     "name": "stdout",
     "output_type": "stream",
     "text": [
      "True->20171203-174521-3.jpg\n",
      "generating mask\n"
     ]
    },
    {
     "name": "stdout",
     "output_type": "stream",
     "text": [
      "True->20171203-174602-3.jpg\n",
      "generating mask\n"
     ]
    },
    {
     "name": "stdout",
     "output_type": "stream",
     "text": [
      "True->20171203-174638-3.jpg\n",
      "generating mask\n"
     ]
    },
    {
     "name": "stdout",
     "output_type": "stream",
     "text": [
      "True->20171203-174656-3.jpg\n",
      "generating mask\n"
     ]
    },
    {
     "name": "stdout",
     "output_type": "stream",
     "text": [
      "True->20171203-174736-3.jpg\n",
      "generating mask\n"
     ]
    },
    {
     "name": "stdout",
     "output_type": "stream",
     "text": [
      "True->20171203-174808-3.jpg\n",
      "generating mask\n"
     ]
    },
    {
     "name": "stdout",
     "output_type": "stream",
     "text": [
      "True->20171203-174841-3.jpg\n",
      "generating mask\n"
     ]
    },
    {
     "name": "stdout",
     "output_type": "stream",
     "text": [
      "True->20171203-174853-3.jpg\n",
      "generating mask\n"
     ]
    },
    {
     "name": "stdout",
     "output_type": "stream",
     "text": [
      "True->20171203-174908-3.jpg\n",
      "generating mask\n"
     ]
    },
    {
     "name": "stdout",
     "output_type": "stream",
     "text": [
      "True->20171205-123507-2.jpg\n",
      "generating mask\n"
     ]
    },
    {
     "name": "stdout",
     "output_type": "stream",
     "text": [
      "True->20171205-123533-2.jpg\n",
      "generating mask\n"
     ]
    },
    {
     "name": "stdout",
     "output_type": "stream",
     "text": [
      "True->20171205-123548-2.jpg\n",
      "generating mask\n"
     ]
    },
    {
     "name": "stdout",
     "output_type": "stream",
     "text": [
      "True->20171205-123605-2.jpg\n",
      "generating mask\n"
     ]
    },
    {
     "name": "stdout",
     "output_type": "stream",
     "text": [
      "True->20171205-123619-2.jpg\n",
      "generating mask\n"
     ]
    },
    {
     "name": "stdout",
     "output_type": "stream",
     "text": [
      "True->20171205-123621-2.jpg\n",
      "generating mask\n"
     ]
    },
    {
     "name": "stdout",
     "output_type": "stream",
     "text": [
      "True->20171205-123635-2.jpg\n",
      "generating mask\n"
     ]
    },
    {
     "name": "stdout",
     "output_type": "stream",
     "text": [
      "True->20171205-123640-2.jpg\n",
      "generating mask\n"
     ]
    },
    {
     "name": "stdout",
     "output_type": "stream",
     "text": [
      "True->20171205-123651-2.jpg\n",
      "generating mask\n"
     ]
    },
    {
     "name": "stdout",
     "output_type": "stream",
     "text": [
      "True->20171205-123653-2.jpg\n",
      "generating mask\n"
     ]
    },
    {
     "name": "stdout",
     "output_type": "stream",
     "text": [
      "True->20171205-123706-2.jpg\n",
      "generating mask\n"
     ]
    },
    {
     "name": "stdout",
     "output_type": "stream",
     "text": [
      "True->20171205-123712-2.jpg\n",
      "generating mask\n"
     ]
    },
    {
     "name": "stdout",
     "output_type": "stream",
     "text": [
      "True->20171205-123723-2.jpg\n",
      "generating mask\n"
     ]
    },
    {
     "name": "stdout",
     "output_type": "stream",
     "text": [
      "True->20171205-123733-2.jpg\n",
      "generating mask\n"
     ]
    },
    {
     "name": "stdout",
     "output_type": "stream",
     "text": [
      "True->20171205-123739-2.jpg\n",
      "generating mask\n"
     ]
    },
    {
     "name": "stdout",
     "output_type": "stream",
     "text": [
      "True->20171205-123747-2.jpg\n",
      "generating mask\n"
     ]
    },
    {
     "name": "stdout",
     "output_type": "stream",
     "text": [
      "True->20171205-123819-2.jpg\n",
      "generating mask\n"
     ]
    },
    {
     "name": "stdout",
     "output_type": "stream",
     "text": [
      "True->20171205-123820-2.jpg\n",
      "generating mask\n"
     ]
    },
    {
     "name": "stdout",
     "output_type": "stream",
     "text": [
      "True->20171205-123822-2.jpg\n",
      "generating mask\n"
     ]
    },
    {
     "name": "stdout",
     "output_type": "stream",
     "text": [
      "True->20171205-123836-2.jpg\n",
      "generating mask\n"
     ]
    },
    {
     "name": "stdout",
     "output_type": "stream",
     "text": [
      "True->20171205-123841-2.jpg\n",
      "generating mask\n"
     ]
    },
    {
     "name": "stdout",
     "output_type": "stream",
     "text": [
      "True->20171205-123855-2.jpg\n",
      "generating mask\n"
     ]
    },
    {
     "name": "stdout",
     "output_type": "stream",
     "text": [
      "True->20171205-123947-2.jpg\n",
      "generating mask\n"
     ]
    },
    {
     "name": "stdout",
     "output_type": "stream",
     "text": [
      "True->20171205-123952-2.jpg\n",
      "generating mask\n"
     ]
    },
    {
     "name": "stdout",
     "output_type": "stream",
     "text": [
      "True->20171205-124008-2.jpg\n",
      "generating mask\n"
     ]
    },
    {
     "name": "stdout",
     "output_type": "stream",
     "text": [
      "True->20171205-124014-2.jpg\n",
      "generating mask\n"
     ]
    },
    {
     "name": "stdout",
     "output_type": "stream",
     "text": [
      "True->20171205-124016-2.jpg\n",
      "generating mask\n"
     ]
    },
    {
     "name": "stdout",
     "output_type": "stream",
     "text": [
      "True->20171205-124035-2.jpg\n",
      "generating mask\n"
     ]
    },
    {
     "name": "stdout",
     "output_type": "stream",
     "text": [
      "True->20171205-124039-2.jpg\n",
      "generating mask\n"
     ]
    },
    {
     "name": "stdout",
     "output_type": "stream",
     "text": [
      "True->20171205-124050-2.jpg\n",
      "generating mask\n"
     ]
    },
    {
     "name": "stdout",
     "output_type": "stream",
     "text": [
      "True->20171205-124103-2.jpg\n",
      "generating mask\n"
     ]
    },
    {
     "name": "stdout",
     "output_type": "stream",
     "text": [
      "True->20171205-124105-2.jpg\n",
      "generating mask\n"
     ]
    },
    {
     "name": "stdout",
     "output_type": "stream",
     "text": [
      "True->20171205-124137-2.jpg\n",
      "generating mask\n"
     ]
    },
    {
     "name": "stdout",
     "output_type": "stream",
     "text": [
      "True->20171205-124141-2.jpg\n",
      "generating mask\n"
     ]
    },
    {
     "name": "stdout",
     "output_type": "stream",
     "text": [
      "True->20171205-124153-2.jpg\n",
      "generating mask\n"
     ]
    },
    {
     "name": "stdout",
     "output_type": "stream",
     "text": [
      "True->20171205-124157-2.jpg\n",
      "generating mask\n"
     ]
    },
    {
     "name": "stdout",
     "output_type": "stream",
     "text": [
      "True->20171205-124213-2.jpg\n",
      "generating mask\n"
     ]
    },
    {
     "name": "stdout",
     "output_type": "stream",
     "text": [
      "True->20171205-124230-2.jpg\n",
      "generating mask\n"
     ]
    },
    {
     "name": "stdout",
     "output_type": "stream",
     "text": [
      "True->20171205-124252-2.jpg\n",
      "generating mask\n"
     ]
    },
    {
     "name": "stdout",
     "output_type": "stream",
     "text": [
      "True->20171205-124347-2.jpg\n",
      "generating mask\n"
     ]
    },
    {
     "name": "stdout",
     "output_type": "stream",
     "text": [
      "True->20171205-124404-2.jpg\n",
      "generating mask\n"
     ]
    },
    {
     "name": "stdout",
     "output_type": "stream",
     "text": [
      "True->20171205-124423-2.jpg\n",
      "generating mask\n"
     ]
    },
    {
     "name": "stdout",
     "output_type": "stream",
     "text": [
      "True->20171205-124539-2.jpg\n",
      "generating mask\n"
     ]
    },
    {
     "name": "stdout",
     "output_type": "stream",
     "text": [
      "True->20171205-124606-2.jpg\n",
      "generating mask\n"
     ]
    },
    {
     "name": "stdout",
     "output_type": "stream",
     "text": [
      "True->20171205-124625-2.jpg\n",
      "generating mask\n"
     ]
    },
    {
     "name": "stdout",
     "output_type": "stream",
     "text": [
      "True->20171205-124640-2.jpg\n",
      "generating mask\n"
     ]
    },
    {
     "name": "stdout",
     "output_type": "stream",
     "text": [
      "True->20171205-124658-2.jpg\n",
      "generating mask\n"
     ]
    },
    {
     "name": "stdout",
     "output_type": "stream",
     "text": [
      "True->20171205-124724-2.jpg\n",
      "generating mask\n"
     ]
    },
    {
     "name": "stdout",
     "output_type": "stream",
     "text": [
      "True->20171205-124856-2.jpg\n",
      "generating mask\n"
     ]
    },
    {
     "name": "stdout",
     "output_type": "stream",
     "text": [
      "True->20171205-124928-2.jpg\n",
      "generating mask\n"
     ]
    },
    {
     "name": "stdout",
     "output_type": "stream",
     "text": [
      "True->20171205-133603-2.jpg\n",
      "generating mask\n"
     ]
    },
    {
     "name": "stdout",
     "output_type": "stream",
     "text": [
      "True->20171205-133606-2.jpg\n",
      "generating mask\n"
     ]
    },
    {
     "name": "stdout",
     "output_type": "stream",
     "text": [
      "True->20171205-133618-2.jpg\n",
      "generating mask\n"
     ]
    },
    {
     "name": "stdout",
     "output_type": "stream",
     "text": [
      "True->20171205-133631-2.jpg\n",
      "generating mask\n"
     ]
    },
    {
     "name": "stdout",
     "output_type": "stream",
     "text": [
      "True->20171205-133700-2.jpg\n",
      "generating mask\n"
     ]
    },
    {
     "name": "stdout",
     "output_type": "stream",
     "text": [
      "True->20171205-133730-2.jpg\n",
      "generating mask\n"
     ]
    },
    {
     "name": "stdout",
     "output_type": "stream",
     "text": [
      "True->20171205-133742-2.jpg\n",
      "generating mask\n"
     ]
    },
    {
     "name": "stdout",
     "output_type": "stream",
     "text": [
      "True->20171205-133754-2.jpg\n",
      "generating mask\n"
     ]
    },
    {
     "name": "stdout",
     "output_type": "stream",
     "text": [
      "True->20171205-133817-2.jpg\n",
      "generating mask\n"
     ]
    },
    {
     "name": "stdout",
     "output_type": "stream",
     "text": [
      "True->20171205-133845-2.jpg\n",
      "generating mask\n"
     ]
    },
    {
     "name": "stdout",
     "output_type": "stream",
     "text": [
      "True->20171205-133902-2.jpg\n",
      "generating mask\n"
     ]
    },
    {
     "name": "stdout",
     "output_type": "stream",
     "text": [
      "True->20171205-133949-2.jpg\n",
      "generating mask\n"
     ]
    },
    {
     "name": "stdout",
     "output_type": "stream",
     "text": [
      "True->20171205-134006-2.jpg\n",
      "generating mask\n"
     ]
    },
    {
     "name": "stdout",
     "output_type": "stream",
     "text": [
      "True->20171205-134059-2.jpg\n",
      "generating mask\n"
     ]
    },
    {
     "name": "stdout",
     "output_type": "stream",
     "text": [
      "True->20171205-134118-2.jpg\n",
      "generating mask\n"
     ]
    },
    {
     "name": "stdout",
     "output_type": "stream",
     "text": [
      "True->20171205-134137-2.jpg\n",
      "generating mask\n"
     ]
    },
    {
     "name": "stdout",
     "output_type": "stream",
     "text": [
      "True->20171205-134151-2.jpg\n",
      "generating mask\n"
     ]
    },
    {
     "name": "stdout",
     "output_type": "stream",
     "text": [
      "True->20171205-134240-2.jpg\n",
      "generating mask\n"
     ]
    },
    {
     "name": "stdout",
     "output_type": "stream",
     "text": [
      "True->20171205-134332-2.jpg\n",
      "generating mask\n"
     ]
    },
    {
     "name": "stdout",
     "output_type": "stream",
     "text": [
      "True->20171205-134359-2.jpg\n",
      "generating mask\n"
     ]
    },
    {
     "name": "stdout",
     "output_type": "stream",
     "text": [
      "True->20171205-134436-2.jpg\n",
      "generating mask\n"
     ]
    },
    {
     "name": "stdout",
     "output_type": "stream",
     "text": [
      "True->20171205-134456-2.jpg\n",
      "generating mask\n"
     ]
    },
    {
     "name": "stdout",
     "output_type": "stream",
     "text": [
      "True->20171205-134513-2.jpg\n",
      "generating mask\n"
     ]
    },
    {
     "name": "stdout",
     "output_type": "stream",
     "text": [
      "True->20171205-134529-2.jpg\n",
      "generating mask\n"
     ]
    },
    {
     "name": "stdout",
     "output_type": "stream",
     "text": [
      "True->20171205-134600-2.jpg\n",
      "generating mask\n"
     ]
    },
    {
     "name": "stdout",
     "output_type": "stream",
     "text": [
      "True->20171205-134624-2.jpg\n",
      "generating mask\n"
     ]
    },
    {
     "name": "stdout",
     "output_type": "stream",
     "text": [
      "True->20171205-134654-2.jpg\n",
      "generating mask\n"
     ]
    },
    {
     "name": "stdout",
     "output_type": "stream",
     "text": [
      "True->20171205-134707-2.jpg\n",
      "generating mask\n"
     ]
    },
    {
     "name": "stdout",
     "output_type": "stream",
     "text": [
      "True->20171205-134734-2.jpg\n",
      "generating mask\n"
     ]
    },
    {
     "name": "stdout",
     "output_type": "stream",
     "text": [
      "True->20171205-134842-2.jpg\n",
      "generating mask\n"
     ]
    },
    {
     "name": "stdout",
     "output_type": "stream",
     "text": [
      "True->20171205-134905-2.jpg\n",
      "generating mask\n"
     ]
    },
    {
     "name": "stdout",
     "output_type": "stream",
     "text": [
      "True->20171205-134922-2.jpg\n",
      "generating mask\n"
     ]
    },
    {
     "name": "stdout",
     "output_type": "stream",
     "text": [
      "True->20171205-140835-2.jpg\n",
      "generating mask\n"
     ]
    },
    {
     "name": "stdout",
     "output_type": "stream",
     "text": [
      "True->20171205-140852-2.jpg\n",
      "generating mask\n"
     ]
    },
    {
     "name": "stdout",
     "output_type": "stream",
     "text": [
      "True->20171205-140908-2.jpg\n",
      "generating mask\n"
     ]
    },
    {
     "name": "stdout",
     "output_type": "stream",
     "text": [
      "True->20171205-141003-2.jpg\n",
      "generating mask\n"
     ]
    },
    {
     "name": "stdout",
     "output_type": "stream",
     "text": [
      "True->20171205-141004-2.jpg\n",
      "generating mask\n"
     ]
    },
    {
     "name": "stdout",
     "output_type": "stream",
     "text": [
      "True->20171205-141022-2.jpg\n",
      "generating mask\n"
     ]
    },
    {
     "name": "stdout",
     "output_type": "stream",
     "text": [
      "True->20171205-141044-2.jpg\n",
      "generating mask\n"
     ]
    },
    {
     "name": "stdout",
     "output_type": "stream",
     "text": [
      "True->20171205-141101-2.jpg\n",
      "generating mask\n"
     ]
    },
    {
     "name": "stdout",
     "output_type": "stream",
     "text": [
      "True->20171205-141115-2.jpg\n",
      "generating mask\n"
     ]
    },
    {
     "name": "stdout",
     "output_type": "stream",
     "text": [
      "True->20171205-141130-2.jpg\n",
      "generating mask\n"
     ]
    },
    {
     "name": "stdout",
     "output_type": "stream",
     "text": [
      "True->20171205-141149-2.jpg\n",
      "generating mask\n"
     ]
    },
    {
     "name": "stdout",
     "output_type": "stream",
     "text": [
      "True->20171205-141224-2.jpg\n",
      "generating mask\n"
     ]
    },
    {
     "name": "stdout",
     "output_type": "stream",
     "text": [
      "True->20171205-141242-2.jpg\n",
      "generating mask\n"
     ]
    },
    {
     "name": "stdout",
     "output_type": "stream",
     "text": [
      "True->20171205-141306-2.jpg\n",
      "generating mask\n"
     ]
    },
    {
     "name": "stdout",
     "output_type": "stream",
     "text": [
      "True->20171205-141330-2.jpg\n",
      "generating mask\n"
     ]
    },
    {
     "name": "stdout",
     "output_type": "stream",
     "text": [
      "True->20171205-141347-2.jpg\n",
      "generating mask\n"
     ]
    },
    {
     "name": "stdout",
     "output_type": "stream",
     "text": [
      "True->20171205-141421-2.jpg\n",
      "generating mask\n"
     ]
    },
    {
     "name": "stdout",
     "output_type": "stream",
     "text": [
      "True->20171205-141445-2.jpg\n",
      "generating mask\n"
     ]
    },
    {
     "name": "stdout",
     "output_type": "stream",
     "text": [
      "True->20171205-141517-2.jpg\n",
      "generating mask\n"
     ]
    },
    {
     "name": "stdout",
     "output_type": "stream",
     "text": [
      "True->20171205-141533-2.jpg\n",
      "generating mask\n"
     ]
    },
    {
     "name": "stdout",
     "output_type": "stream",
     "text": [
      "True->20171205-141548-2.jpg\n",
      "generating mask\n"
     ]
    },
    {
     "name": "stdout",
     "output_type": "stream",
     "text": [
      "True->20171205-142836-2.jpg\n",
      "generating mask\n"
     ]
    },
    {
     "name": "stdout",
     "output_type": "stream",
     "text": [
      "True->20171205-142853-2.jpg\n",
      "generating mask\n"
     ]
    },
    {
     "name": "stdout",
     "output_type": "stream",
     "text": [
      "True->20171205-142911-2.jpg\n",
      "generating mask\n"
     ]
    },
    {
     "name": "stdout",
     "output_type": "stream",
     "text": [
      "True->20171205-142928-2.jpg\n",
      "generating mask\n"
     ]
    },
    {
     "name": "stdout",
     "output_type": "stream",
     "text": [
      "True->20171205-142930-2.jpg\n",
      "generating mask\n"
     ]
    },
    {
     "name": "stdout",
     "output_type": "stream",
     "text": [
      "True->20171205-142945-2.jpg\n",
      "generating mask\n"
     ]
    },
    {
     "name": "stdout",
     "output_type": "stream",
     "text": [
      "True->20171205-143012-2.jpg\n",
      "generating mask\n"
     ]
    },
    {
     "name": "stdout",
     "output_type": "stream",
     "text": [
      "True->20171205-143013-2.jpg\n",
      "generating mask\n"
     ]
    },
    {
     "name": "stdout",
     "output_type": "stream",
     "text": [
      "True->20171205-143028-2.jpg\n",
      "generating mask\n"
     ]
    },
    {
     "name": "stdout",
     "output_type": "stream",
     "text": [
      "True->20171205-143059-2.jpg\n",
      "generating mask\n"
     ]
    },
    {
     "name": "stdout",
     "output_type": "stream",
     "text": [
      "True->20171205-143227-2.jpg\n",
      "generating mask\n"
     ]
    },
    {
     "name": "stdout",
     "output_type": "stream",
     "text": [
      "True->20171205-143306-2.jpg\n",
      "generating mask\n"
     ]
    },
    {
     "name": "stdout",
     "output_type": "stream",
     "text": [
      "True->20171205-143340-2.jpg\n",
      "generating mask\n"
     ]
    },
    {
     "name": "stdout",
     "output_type": "stream",
     "text": [
      "True->20171205-143356-2.jpg\n",
      "generating mask\n"
     ]
    },
    {
     "name": "stdout",
     "output_type": "stream",
     "text": [
      "True->20171205-143421-2.jpg\n",
      "generating mask\n"
     ]
    },
    {
     "name": "stdout",
     "output_type": "stream",
     "text": [
      "True->20171205-143444-2.jpg\n",
      "generating mask\n"
     ]
    },
    {
     "name": "stdout",
     "output_type": "stream",
     "text": [
      "True->20171205-143458-2.jpg\n",
      "generating mask\n"
     ]
    },
    {
     "name": "stdout",
     "output_type": "stream",
     "text": [
      "True->20171205-143514-2.jpg\n",
      "generating mask\n"
     ]
    },
    {
     "name": "stdout",
     "output_type": "stream",
     "text": [
      "True->20171205-143923-2.jpg\n",
      "generating mask\n"
     ]
    },
    {
     "name": "stdout",
     "output_type": "stream",
     "text": [
      "True->20171205-144028-2.jpg\n",
      "generating mask\n"
     ]
    },
    {
     "name": "stdout",
     "output_type": "stream",
     "text": [
      "True->20171205-144029-2.jpg\n",
      "generating mask\n"
     ]
    },
    {
     "name": "stdout",
     "output_type": "stream",
     "text": [
      "True->20171205-144059-2.jpg\n",
      "generating mask\n"
     ]
    },
    {
     "name": "stdout",
     "output_type": "stream",
     "text": [
      "True->20171205-144102-2.jpg\n",
      "generating mask\n"
     ]
    },
    {
     "name": "stdout",
     "output_type": "stream",
     "text": [
      "True->20171205-144118-2.jpg\n",
      "generating mask\n"
     ]
    },
    {
     "name": "stdout",
     "output_type": "stream",
     "text": [
      "True->20171205-144132-2.jpg\n",
      "generating mask\n"
     ]
    },
    {
     "name": "stdout",
     "output_type": "stream",
     "text": [
      "True->20171205-144246-2.jpg\n",
      "generating mask\n"
     ]
    },
    {
     "name": "stdout",
     "output_type": "stream",
     "text": [
      "True->20171205-144300-2.jpg\n",
      "generating mask\n"
     ]
    },
    {
     "name": "stdout",
     "output_type": "stream",
     "text": [
      "True->20171205-144436-2.jpg\n",
      "generating mask\n"
     ]
    },
    {
     "name": "stdout",
     "output_type": "stream",
     "text": [
      "True->20171205-144519-2.jpg\n",
      "generating mask\n"
     ]
    },
    {
     "name": "stdout",
     "output_type": "stream",
     "text": [
      "True->20171205-144536-2.jpg\n",
      "generating mask\n"
     ]
    },
    {
     "name": "stdout",
     "output_type": "stream",
     "text": [
      "True->20171205-144549-2.jpg\n",
      "generating mask\n"
     ]
    },
    {
     "name": "stdout",
     "output_type": "stream",
     "text": [
      "True->20171205-144601-2.jpg\n",
      "generating mask\n"
     ]
    },
    {
     "name": "stdout",
     "output_type": "stream",
     "text": [
      "True->20171205-144647-2.jpg\n",
      "generating mask\n"
     ]
    },
    {
     "name": "stdout",
     "output_type": "stream",
     "text": [
      "True->20171205-144706-2.jpg\n",
      "generating mask\n"
     ]
    },
    {
     "name": "stdout",
     "output_type": "stream",
     "text": [
      "True->20171205-144731-2.jpg\n",
      "generating mask\n"
     ]
    },
    {
     "name": "stdout",
     "output_type": "stream",
     "text": [
      "True->20171205-144743-2.jpg\n",
      "generating mask\n"
     ]
    },
    {
     "name": "stdout",
     "output_type": "stream",
     "text": [
      "True->20171205-144809-2.jpg\n",
      "generating mask\n"
     ]
    },
    {
     "name": "stdout",
     "output_type": "stream",
     "text": [
      "True->20171205-144824-2.jpg\n",
      "generating mask\n"
     ]
    },
    {
     "name": "stdout",
     "output_type": "stream",
     "text": [
      "True->20171205-144841-2.jpg\n",
      "generating mask\n"
     ]
    },
    {
     "name": "stdout",
     "output_type": "stream",
     "text": [
      "True->20171205-144857-2.jpg\n",
      "generating mask\n"
     ]
    },
    {
     "name": "stdout",
     "output_type": "stream",
     "text": [
      "True->20171205-144929-2.jpg\n",
      "generating mask\n"
     ]
    },
    {
     "name": "stdout",
     "output_type": "stream",
     "text": [
      "True->20171205-144945-2.jpg\n",
      "generating mask\n"
     ]
    },
    {
     "name": "stdout",
     "output_type": "stream",
     "text": [
      "True->20171205-145004-2.jpg\n",
      "generating mask\n"
     ]
    },
    {
     "name": "stdout",
     "output_type": "stream",
     "text": [
      "True->20171205-145037-2.jpg\n",
      "generating mask\n"
     ]
    },
    {
     "name": "stdout",
     "output_type": "stream",
     "text": [
      "True->20171205-145051-2.jpg\n",
      "generating mask\n"
     ]
    },
    {
     "name": "stdout",
     "output_type": "stream",
     "text": [
      "True->20171205-145104-2.jpg\n",
      "generating mask\n"
     ]
    },
    {
     "name": "stdout",
     "output_type": "stream",
     "text": [
      "True->20171205-145117-2.jpg\n",
      "generating mask\n"
     ]
    },
    {
     "name": "stdout",
     "output_type": "stream",
     "text": [
      "True->20171205-145132-2.jpg\n",
      "generating mask\n"
     ]
    },
    {
     "name": "stdout",
     "output_type": "stream",
     "text": [
      "True->20171205-145149-2.jpg\n",
      "generating mask\n"
     ]
    },
    {
     "name": "stdout",
     "output_type": "stream",
     "text": [
      "True->20171212-092815-1.jpg\n",
      "generating mask\n"
     ]
    },
    {
     "name": "stdout",
     "output_type": "stream",
     "text": [
      "True->20171212-092920-3.jpg\n",
      "generating mask\n"
     ]
    },
    {
     "name": "stdout",
     "output_type": "stream",
     "text": [
      "True->20171212-092936-3.jpg\n",
      "generating mask\n"
     ]
    },
    {
     "name": "stdout",
     "output_type": "stream",
     "text": [
      "True->20171212-092953-3.jpg\n",
      "generating mask\n"
     ]
    },
    {
     "name": "stdout",
     "output_type": "stream",
     "text": [
      "True->20171212-093006-3.jpg\n",
      "generating mask\n"
     ]
    },
    {
     "name": "stdout",
     "output_type": "stream",
     "text": [
      "True->20171212-093022-3.jpg\n",
      "generating mask\n"
     ]
    },
    {
     "name": "stdout",
     "output_type": "stream",
     "text": [
      "True->20171212-093052-3.jpg\n",
      "generating mask\n"
     ]
    },
    {
     "name": "stdout",
     "output_type": "stream",
     "text": [
      "True->20171212-093108-3.jpg\n",
      "generating mask\n"
     ]
    },
    {
     "name": "stdout",
     "output_type": "stream",
     "text": [
      "True->20171212-093146-3.jpg\n",
      "generating mask\n"
     ]
    },
    {
     "name": "stdout",
     "output_type": "stream",
     "text": [
      "True->20171212-093214-3.jpg\n",
      "generating mask\n"
     ]
    },
    {
     "name": "stdout",
     "output_type": "stream",
     "text": [
      "True->20171212-093303-3.jpg\n",
      "generating mask\n"
     ]
    },
    {
     "name": "stdout",
     "output_type": "stream",
     "text": [
      "True->20171212-093317-3.jpg\n",
      "generating mask\n"
     ]
    },
    {
     "name": "stdout",
     "output_type": "stream",
     "text": [
      "True->20171212-093333-3.jpg\n",
      "generating mask\n"
     ]
    },
    {
     "name": "stdout",
     "output_type": "stream",
     "text": [
      "True->20171212-093349-3.jpg\n",
      "generating mask\n"
     ]
    },
    {
     "name": "stdout",
     "output_type": "stream",
     "text": [
      "True->20171212-093408-3.jpg\n",
      "generating mask\n"
     ]
    },
    {
     "name": "stdout",
     "output_type": "stream",
     "text": [
      "True->20171212-093438-3.jpg\n",
      "generating mask\n"
     ]
    },
    {
     "name": "stdout",
     "output_type": "stream",
     "text": [
      "True->20171212-093440-3.jpg\n",
      "generating mask\n"
     ]
    },
    {
     "name": "stdout",
     "output_type": "stream",
     "text": [
      "True->20171212-093458-3.jpg\n",
      "generating mask\n"
     ]
    },
    {
     "name": "stdout",
     "output_type": "stream",
     "text": [
      "True->20171212-093512-3.jpg\n",
      "generating mask\n"
     ]
    },
    {
     "name": "stdout",
     "output_type": "stream",
     "text": [
      "True->20171212-093523-1.jpg\n",
      "generating mask\n"
     ]
    },
    {
     "name": "stdout",
     "output_type": "stream",
     "text": [
      "True->20171212-093539-1.jpg\n",
      "generating mask\n"
     ]
    },
    {
     "name": "stdout",
     "output_type": "stream",
     "text": [
      "True->20171212-093547-3.jpg\n",
      "generating mask\n"
     ]
    },
    {
     "name": "stdout",
     "output_type": "stream",
     "text": [
      "True->20171212-093603-1.jpg\n",
      "generating mask\n"
     ]
    },
    {
     "name": "stdout",
     "output_type": "stream",
     "text": [
      "True->20171212-093606-3.jpg\n",
      "generating mask\n"
     ]
    },
    {
     "name": "stdout",
     "output_type": "stream",
     "text": [
      "True->20171212-093616-1.jpg\n",
      "generating mask\n"
     ]
    },
    {
     "name": "stdout",
     "output_type": "stream",
     "text": [
      "True->20171212-093626-3.jpg\n",
      "generating mask\n"
     ]
    },
    {
     "name": "stdout",
     "output_type": "stream",
     "text": [
      "True->20171212-093639-1.jpg\n",
      "generating mask\n"
     ]
    },
    {
     "name": "stdout",
     "output_type": "stream",
     "text": [
      "True->20171212-093640-3.jpg\n",
      "generating mask\n"
     ]
    },
    {
     "name": "stdout",
     "output_type": "stream",
     "text": [
      "True->20171212-093654-1.jpg\n",
      "generating mask\n"
     ]
    },
    {
     "name": "stdout",
     "output_type": "stream",
     "text": [
      "True->20171212-093708-1.jpg\n",
      "generating mask\n"
     ]
    },
    {
     "name": "stdout",
     "output_type": "stream",
     "text": [
      "True->20171212-093714-3.jpg\n",
      "generating mask\n"
     ]
    },
    {
     "name": "stdout",
     "output_type": "stream",
     "text": [
      "True->20171212-093721-1.jpg\n",
      "generating mask\n"
     ]
    },
    {
     "name": "stdout",
     "output_type": "stream",
     "text": [
      "True->20171212-093813-3.jpg\n",
      "generating mask\n"
     ]
    },
    {
     "name": "stdout",
     "output_type": "stream",
     "text": [
      "True->20171212-093821-1.jpg\n",
      "generating mask\n"
     ]
    },
    {
     "name": "stdout",
     "output_type": "stream",
     "text": [
      "True->20171212-093838-3.jpg\n",
      "generating mask\n"
     ]
    },
    {
     "name": "stdout",
     "output_type": "stream",
     "text": [
      "True->20171212-093840-1.jpg\n",
      "generating mask\n"
     ]
    },
    {
     "name": "stdout",
     "output_type": "stream",
     "text": [
      "True->20171212-093855-1.jpg\n",
      "generating mask\n"
     ]
    },
    {
     "name": "stdout",
     "output_type": "stream",
     "text": [
      "True->20171212-093856-3.jpg\n",
      "generating mask\n"
     ]
    },
    {
     "name": "stdout",
     "output_type": "stream",
     "text": [
      "True->20171212-093905-1.jpg\n",
      "generating mask\n"
     ]
    },
    {
     "name": "stdout",
     "output_type": "stream",
     "text": [
      "True->20171212-093911-3.jpg\n",
      "generating mask\n"
     ]
    },
    {
     "name": "stdout",
     "output_type": "stream",
     "text": [
      "True->20171212-093915-1.jpg\n",
      "generating mask\n"
     ]
    },
    {
     "name": "stdout",
     "output_type": "stream",
     "text": [
      "True->20171212-093932-1.jpg\n",
      "generating mask\n"
     ]
    },
    {
     "name": "stdout",
     "output_type": "stream",
     "text": [
      "True->20171212-093940-3.jpg\n",
      "generating mask\n"
     ]
    },
    {
     "name": "stdout",
     "output_type": "stream",
     "text": [
      "True->20171212-093958-1.jpg\n",
      "generating mask\n"
     ]
    },
    {
     "name": "stdout",
     "output_type": "stream",
     "text": [
      "True->20171212-094001-3.jpg\n",
      "generating mask\n"
     ]
    },
    {
     "name": "stdout",
     "output_type": "stream",
     "text": [
      "True->20171212-094009-1.jpg\n",
      "generating mask\n"
     ]
    },
    {
     "name": "stdout",
     "output_type": "stream",
     "text": [
      "True->20171212-094021-1.jpg\n",
      "generating mask\n"
     ]
    },
    {
     "name": "stdout",
     "output_type": "stream",
     "text": [
      "True->20171212-094029-3.jpg\n",
      "generating mask\n"
     ]
    },
    {
     "name": "stdout",
     "output_type": "stream",
     "text": [
      "True->20171212-094042-1.jpg\n",
      "generating mask\n"
     ]
    },
    {
     "name": "stdout",
     "output_type": "stream",
     "text": [
      "True->20171212-094053-3.jpg\n",
      "generating mask\n"
     ]
    },
    {
     "name": "stdout",
     "output_type": "stream",
     "text": [
      "True->20171212-094054-1.jpg\n",
      "generating mask\n"
     ]
    },
    {
     "name": "stdout",
     "output_type": "stream",
     "text": [
      "True->20171212-094107-3.jpg\n",
      "generating mask\n"
     ]
    },
    {
     "name": "stdout",
     "output_type": "stream",
     "text": [
      "True->20171212-094122-3.jpg\n",
      "generating mask\n"
     ]
    },
    {
     "name": "stdout",
     "output_type": "stream",
     "text": [
      "True->20171212-094134-1.jpg\n",
      "generating mask\n"
     ]
    },
    {
     "name": "stdout",
     "output_type": "stream",
     "text": [
      "True->20171212-094139-3.jpg\n",
      "generating mask\n"
     ]
    },
    {
     "name": "stdout",
     "output_type": "stream",
     "text": [
      "True->20171212-094144-1.jpg\n",
      "generating mask\n"
     ]
    },
    {
     "name": "stdout",
     "output_type": "stream",
     "text": [
      "True->20171212-094211-1.jpg\n",
      "generating mask\n"
     ]
    },
    {
     "name": "stdout",
     "output_type": "stream",
     "text": [
      "True->20171212-094211-3.jpg\n",
      "generating mask\n"
     ]
    },
    {
     "name": "stdout",
     "output_type": "stream",
     "text": [
      "True->20171212-094227-1.jpg\n",
      "generating mask\n"
     ]
    },
    {
     "name": "stdout",
     "output_type": "stream",
     "text": [
      "True->20171212-094227-3.jpg\n",
      "generating mask\n"
     ]
    },
    {
     "name": "stdout",
     "output_type": "stream",
     "text": [
      "True->20171212-094244-3.jpg\n",
      "generating mask\n"
     ]
    },
    {
     "name": "stdout",
     "output_type": "stream",
     "text": [
      "True->20171212-094300-1.jpg\n",
      "generating mask\n"
     ]
    },
    {
     "name": "stdout",
     "output_type": "stream",
     "text": [
      "True->20171212-094300-3.jpg\n",
      "generating mask\n"
     ]
    },
    {
     "name": "stdout",
     "output_type": "stream",
     "text": [
      "True->20171212-094323-1.jpg\n",
      "generating mask\n"
     ]
    },
    {
     "name": "stdout",
     "output_type": "stream",
     "text": [
      "True->20171212-094343-1.jpg\n",
      "generating mask\n"
     ]
    },
    {
     "name": "stdout",
     "output_type": "stream",
     "text": [
      "True->20171212-094357-1.jpg\n",
      "generating mask\n"
     ]
    },
    {
     "name": "stdout",
     "output_type": "stream",
     "text": [
      "True->20171212-094409-1.jpg\n",
      "generating mask\n"
     ]
    },
    {
     "name": "stdout",
     "output_type": "stream",
     "text": [
      "True->20171212-094411-3.jpg\n",
      "generating mask\n"
     ]
    },
    {
     "name": "stdout",
     "output_type": "stream",
     "text": [
      "True->20171212-094423-1.jpg\n",
      "generating mask\n"
     ]
    },
    {
     "name": "stdout",
     "output_type": "stream",
     "text": [
      "True->20171212-094427-3.jpg\n",
      "generating mask\n"
     ]
    },
    {
     "name": "stdout",
     "output_type": "stream",
     "text": [
      "True->20171212-094434-1.jpg\n",
      "generating mask\n"
     ]
    },
    {
     "name": "stdout",
     "output_type": "stream",
     "text": [
      "True->20171212-094444-3.jpg\n",
      "generating mask\n"
     ]
    },
    {
     "name": "stdout",
     "output_type": "stream",
     "text": [
      "True->20171212-094447-1.jpg\n",
      "generating mask\n"
     ]
    },
    {
     "name": "stdout",
     "output_type": "stream",
     "text": [
      "True->20171212-094459-1.jpg\n",
      "generating mask\n"
     ]
    },
    {
     "name": "stdout",
     "output_type": "stream",
     "text": [
      "True->20171212-094500-3.jpg\n",
      "generating mask\n"
     ]
    },
    {
     "name": "stdout",
     "output_type": "stream",
     "text": [
      "True->20171212-094510-1.jpg\n",
      "generating mask\n"
     ]
    },
    {
     "name": "stdout",
     "output_type": "stream",
     "text": [
      "True->20171212-094532-1.jpg\n",
      "generating mask\n"
     ]
    },
    {
     "name": "stdout",
     "output_type": "stream",
     "text": [
      "True->20171212-094538-3.jpg\n",
      "generating mask\n"
     ]
    },
    {
     "name": "stdout",
     "output_type": "stream",
     "text": [
      "True->20171212-094548-1.jpg\n",
      "generating mask\n"
     ]
    },
    {
     "name": "stdout",
     "output_type": "stream",
     "text": [
      "True->20171212-094554-3.jpg\n",
      "generating mask\n"
     ]
    },
    {
     "name": "stdout",
     "output_type": "stream",
     "text": [
      "True->20171212-094611-1.jpg\n",
      "generating mask\n"
     ]
    },
    {
     "name": "stdout",
     "output_type": "stream",
     "text": [
      "True->20171212-094611-3.jpg\n",
      "generating mask\n"
     ]
    },
    {
     "name": "stdout",
     "output_type": "stream",
     "text": [
      "True->20171212-094623-3.jpg\n",
      "generating mask\n"
     ]
    },
    {
     "name": "stdout",
     "output_type": "stream",
     "text": [
      "True->20171212-094655-3.jpg\n",
      "generating mask\n"
     ]
    },
    {
     "name": "stdout",
     "output_type": "stream",
     "text": [
      "True->20171212-094702-1.jpg\n",
      "generating mask\n"
     ]
    },
    {
     "name": "stdout",
     "output_type": "stream",
     "text": [
      "True->20171212-094711-1.jpg\n",
      "generating mask\n"
     ]
    },
    {
     "name": "stdout",
     "output_type": "stream",
     "text": [
      "True->20171212-094718-3.jpg\n",
      "generating mask\n"
     ]
    },
    {
     "name": "stdout",
     "output_type": "stream",
     "text": [
      "True->20171212-094724-1.jpg\n",
      "generating mask\n"
     ]
    },
    {
     "name": "stdout",
     "output_type": "stream",
     "text": [
      "True->20171212-094741-1.jpg\n",
      "generating mask\n"
     ]
    },
    {
     "name": "stdout",
     "output_type": "stream",
     "text": [
      "True->20171212-094746-3.jpg\n",
      "generating mask\n"
     ]
    },
    {
     "name": "stdout",
     "output_type": "stream",
     "text": [
      "True->20171212-094748-3.jpg\n",
      "generating mask\n"
     ]
    },
    {
     "name": "stdout",
     "output_type": "stream",
     "text": [
      "True->20171212-094756-1.jpg\n",
      "generating mask\n"
     ]
    },
    {
     "name": "stdout",
     "output_type": "stream",
     "text": [
      "True->20171212-094806-1.jpg\n",
      "generating mask\n"
     ]
    },
    {
     "name": "stdout",
     "output_type": "stream",
     "text": [
      "True->20171212-094810-3.jpg\n",
      "generating mask\n"
     ]
    },
    {
     "name": "stdout",
     "output_type": "stream",
     "text": [
      "True->20171212-094815-1.jpg\n",
      "generating mask\n"
     ]
    },
    {
     "name": "stdout",
     "output_type": "stream",
     "text": [
      "True->20171212-094824-1.jpg\n",
      "generating mask\n"
     ]
    },
    {
     "name": "stdout",
     "output_type": "stream",
     "text": [
      "True->20171212-094838-1.jpg\n",
      "generating mask\n"
     ]
    },
    {
     "name": "stdout",
     "output_type": "stream",
     "text": [
      "True->20171212-094839-3.jpg\n",
      "generating mask\n"
     ]
    },
    {
     "name": "stdout",
     "output_type": "stream",
     "text": [
      "True->20171212-094841-3.jpg\n",
      "generating mask\n"
     ]
    },
    {
     "name": "stdout",
     "output_type": "stream",
     "text": [
      "True->20171212-094853-1.jpg\n",
      "generating mask\n"
     ]
    },
    {
     "name": "stdout",
     "output_type": "stream",
     "text": [
      "True->20171212-094910-3.jpg\n",
      "generating mask\n"
     ]
    },
    {
     "name": "stdout",
     "output_type": "stream",
     "text": [
      "True->20171212-094932-1.jpg\n",
      "generating mask\n"
     ]
    },
    {
     "name": "stdout",
     "output_type": "stream",
     "text": [
      "True->20171212-094942-1.jpg\n",
      "generating mask\n"
     ]
    },
    {
     "name": "stdout",
     "output_type": "stream",
     "text": [
      "True->20171212-094952-1.jpg\n",
      "generating mask\n"
     ]
    },
    {
     "name": "stdout",
     "output_type": "stream",
     "text": [
      "True->20171212-095002-3.jpg\n",
      "generating mask\n"
     ]
    },
    {
     "name": "stdout",
     "output_type": "stream",
     "text": [
      "True->20171212-095003-1.jpg\n",
      "generating mask\n"
     ]
    },
    {
     "name": "stdout",
     "output_type": "stream",
     "text": [
      "True->20171212-095017-1.jpg\n",
      "generating mask\n"
     ]
    },
    {
     "name": "stdout",
     "output_type": "stream",
     "text": [
      "True->20171212-095021-3.jpg\n",
      "generating mask\n"
     ]
    },
    {
     "name": "stdout",
     "output_type": "stream",
     "text": [
      "True->20171212-095045-1.jpg\n",
      "generating mask\n"
     ]
    },
    {
     "name": "stdout",
     "output_type": "stream",
     "text": [
      "True->20171212-095057-1.jpg\n",
      "generating mask\n"
     ]
    },
    {
     "name": "stdout",
     "output_type": "stream",
     "text": [
      "True->20171212-095107-1.jpg\n",
      "generating mask\n"
     ]
    },
    {
     "name": "stdout",
     "output_type": "stream",
     "text": [
      "True->20171212-095118-1.jpg\n",
      "generating mask\n"
     ]
    },
    {
     "name": "stdout",
     "output_type": "stream",
     "text": [
      "True->20171212-095130-1.jpg\n",
      "generating mask\n"
     ]
    },
    {
     "name": "stdout",
     "output_type": "stream",
     "text": [
      "True->20171212-095147-3.jpg\n",
      "generating mask\n"
     ]
    },
    {
     "name": "stdout",
     "output_type": "stream",
     "text": [
      "True->20171212-095153-1.jpg\n",
      "generating mask\n"
     ]
    },
    {
     "name": "stdout",
     "output_type": "stream",
     "text": [
      "True->20171212-095216-3.jpg\n",
      "generating mask\n"
     ]
    },
    {
     "name": "stdout",
     "output_type": "stream",
     "text": [
      "True->20171212-095226-1.jpg\n",
      "generating mask\n"
     ]
    },
    {
     "name": "stdout",
     "output_type": "stream",
     "text": [
      "True->20171212-095234-3.jpg\n",
      "generating mask\n"
     ]
    },
    {
     "name": "stdout",
     "output_type": "stream",
     "text": [
      "True->20171212-095248-3.jpg\n",
      "generating mask\n"
     ]
    },
    {
     "name": "stdout",
     "output_type": "stream",
     "text": [
      "True->20171212-095249-1.jpg\n",
      "generating mask\n"
     ]
    },
    {
     "name": "stdout",
     "output_type": "stream",
     "text": [
      "True->20171212-095308-1.jpg\n",
      "generating mask\n"
     ]
    },
    {
     "name": "stdout",
     "output_type": "stream",
     "text": [
      "True->20171212-095308-3.jpg\n",
      "generating mask\n"
     ]
    },
    {
     "name": "stdout",
     "output_type": "stream",
     "text": [
      "True->20171212-095319-1.jpg\n",
      "generating mask\n"
     ]
    },
    {
     "name": "stdout",
     "output_type": "stream",
     "text": [
      "True->20171212-095324-3.jpg\n",
      "generating mask\n"
     ]
    },
    {
     "name": "stdout",
     "output_type": "stream",
     "text": [
      "True->20171212-095334-1.jpg\n",
      "generating mask\n"
     ]
    },
    {
     "name": "stdout",
     "output_type": "stream",
     "text": [
      "True->20171212-095344-3.jpg\n",
      "generating mask\n"
     ]
    },
    {
     "name": "stdout",
     "output_type": "stream",
     "text": [
      "True->20171212-095346-1.jpg\n",
      "generating mask\n"
     ]
    },
    {
     "name": "stdout",
     "output_type": "stream",
     "text": [
      "True->20171212-095358-1.jpg\n",
      "generating mask\n"
     ]
    },
    {
     "name": "stdout",
     "output_type": "stream",
     "text": [
      "True->20171212-095400-3.jpg\n",
      "generating mask\n"
     ]
    },
    {
     "name": "stdout",
     "output_type": "stream",
     "text": [
      "True->20171212-095412-3.jpg\n",
      "generating mask\n"
     ]
    },
    {
     "name": "stdout",
     "output_type": "stream",
     "text": [
      "True->20171212-095425-3.jpg\n",
      "generating mask\n"
     ]
    },
    {
     "name": "stdout",
     "output_type": "stream",
     "text": [
      "True->20171212-095503-1.jpg\n",
      "generating mask\n"
     ]
    },
    {
     "name": "stdout",
     "output_type": "stream",
     "text": [
      "True->20171212-095519-1.jpg\n",
      "generating mask\n"
     ]
    },
    {
     "name": "stdout",
     "output_type": "stream",
     "text": [
      "True->20171212-095519-3.jpg\n",
      "generating mask\n"
     ]
    },
    {
     "name": "stdout",
     "output_type": "stream",
     "text": [
      "True->20171212-095538-3.jpg\n",
      "generating mask\n"
     ]
    },
    {
     "name": "stdout",
     "output_type": "stream",
     "text": [
      "True->20171212-095618-3.jpg\n",
      "generating mask\n"
     ]
    },
    {
     "name": "stdout",
     "output_type": "stream",
     "text": [
      "True->20171212-095622-1.jpg\n",
      "generating mask\n"
     ]
    },
    {
     "name": "stdout",
     "output_type": "stream",
     "text": [
      "True->20171212-095632-1.jpg\n",
      "generating mask\n"
     ]
    },
    {
     "name": "stdout",
     "output_type": "stream",
     "text": [
      "True->20171212-095632-3.jpg\n",
      "generating mask\n"
     ]
    },
    {
     "name": "stdout",
     "output_type": "stream",
     "text": [
      "True->20171212-095651-3.jpg\n",
      "generating mask\n"
     ]
    },
    {
     "name": "stdout",
     "output_type": "stream",
     "text": [
      "True->20171212-095706-1.jpg\n",
      "generating mask\n"
     ]
    },
    {
     "name": "stdout",
     "output_type": "stream",
     "text": [
      "True->20171212-095709-3.jpg\n",
      "generating mask\n"
     ]
    },
    {
     "name": "stdout",
     "output_type": "stream",
     "text": [
      "True->20171212-095727-1.jpg\n",
      "generating mask\n"
     ]
    },
    {
     "name": "stdout",
     "output_type": "stream",
     "text": [
      "True->20171212-095738-3.jpg\n",
      "generating mask\n"
     ]
    },
    {
     "name": "stdout",
     "output_type": "stream",
     "text": [
      "True->20171212-095739-1.jpg\n",
      "generating mask\n"
     ]
    },
    {
     "name": "stdout",
     "output_type": "stream",
     "text": [
      "True->20171212-095749-1.jpg\n",
      "generating mask\n"
     ]
    },
    {
     "name": "stdout",
     "output_type": "stream",
     "text": [
      "True->20171212-095750-3.jpg\n",
      "generating mask\n"
     ]
    },
    {
     "name": "stdout",
     "output_type": "stream",
     "text": [
      "True->20171212-095801-3.jpg\n",
      "generating mask\n"
     ]
    },
    {
     "name": "stdout",
     "output_type": "stream",
     "text": [
      "True->20171212-095826-3.jpg\n",
      "generating mask\n"
     ]
    },
    {
     "name": "stdout",
     "output_type": "stream",
     "text": [
      "True->20171212-095827-3.jpg\n",
      "generating mask\n"
     ]
    },
    {
     "name": "stdout",
     "output_type": "stream",
     "text": [
      "True->20171212-095831-1.jpg\n",
      "generating mask\n"
     ]
    },
    {
     "name": "stdout",
     "output_type": "stream",
     "text": [
      "True->20171212-095841-3.jpg\n",
      "generating mask\n"
     ]
    },
    {
     "name": "stdout",
     "output_type": "stream",
     "text": [
      "True->20171212-095853-3.jpg\n",
      "generating mask\n"
     ]
    },
    {
     "name": "stdout",
     "output_type": "stream",
     "text": [
      "True->20171212-095907-3.jpg\n",
      "generating mask\n"
     ]
    },
    {
     "name": "stdout",
     "output_type": "stream",
     "text": [
      "True->20171212-095920-1.jpg\n",
      "generating mask\n"
     ]
    },
    {
     "name": "stdout",
     "output_type": "stream",
     "text": [
      "True->20171212-095934-3.jpg\n",
      "generating mask\n"
     ]
    },
    {
     "name": "stdout",
     "output_type": "stream",
     "text": [
      "True->20171212-095946-1.jpg\n",
      "generating mask\n"
     ]
    },
    {
     "name": "stdout",
     "output_type": "stream",
     "text": [
      "True->20171212-095947-3.jpg\n",
      "generating mask\n"
     ]
    },
    {
     "name": "stdout",
     "output_type": "stream",
     "text": [
      "True->20171212-095958-1.jpg\n",
      "generating mask\n"
     ]
    },
    {
     "name": "stdout",
     "output_type": "stream",
     "text": [
      "True->20171212-095958-3.jpg\n",
      "generating mask\n"
     ]
    },
    {
     "name": "stdout",
     "output_type": "stream",
     "text": [
      "True->20171212-100008-1.jpg\n",
      "generating mask\n"
     ]
    },
    {
     "name": "stdout",
     "output_type": "stream",
     "text": [
      "True->20171212-100020-1.jpg\n",
      "generating mask\n"
     ]
    },
    {
     "name": "stdout",
     "output_type": "stream",
     "text": [
      "True->20171212-100026-3.jpg\n",
      "generating mask\n"
     ]
    },
    {
     "name": "stdout",
     "output_type": "stream",
     "text": [
      "True->20171212-100032-1.jpg\n",
      "generating mask\n"
     ]
    },
    {
     "name": "stdout",
     "output_type": "stream",
     "text": [
      "True->20171212-100041-3.jpg\n",
      "generating mask\n"
     ]
    },
    {
     "name": "stdout",
     "output_type": "stream",
     "text": [
      "True->20171212-100104-1.jpg\n",
      "generating mask\n"
     ]
    },
    {
     "name": "stdout",
     "output_type": "stream",
     "text": [
      "True->20171212-100115-1.jpg\n",
      "generating mask\n"
     ]
    },
    {
     "name": "stdout",
     "output_type": "stream",
     "text": [
      "True->20171212-100123-3.jpg\n",
      "generating mask\n"
     ]
    },
    {
     "name": "stdout",
     "output_type": "stream",
     "text": [
      "True->20171212-100128-1.jpg\n",
      "generating mask\n"
     ]
    },
    {
     "name": "stdout",
     "output_type": "stream",
     "text": [
      "True->20171212-100154-3.jpg\n",
      "generating mask\n"
     ]
    },
    {
     "name": "stdout",
     "output_type": "stream",
     "text": [
      "True->20171212-100159-1.jpg\n",
      "generating mask\n"
     ]
    },
    {
     "name": "stdout",
     "output_type": "stream",
     "text": [
      "True->20171212-100211-1.jpg\n",
      "generating mask\n"
     ]
    },
    {
     "name": "stdout",
     "output_type": "stream",
     "text": [
      "True->20171212-100234-3.jpg\n",
      "generating mask\n"
     ]
    },
    {
     "name": "stdout",
     "output_type": "stream",
     "text": [
      "True->20171212-100235-1.jpg\n",
      "generating mask\n"
     ]
    },
    {
     "name": "stdout",
     "output_type": "stream",
     "text": [
      "True->20171212-100236-3.jpg\n",
      "generating mask\n"
     ]
    },
    {
     "name": "stdout",
     "output_type": "stream",
     "text": [
      "True->20171212-100247-1.jpg\n",
      "generating mask\n"
     ]
    },
    {
     "name": "stdout",
     "output_type": "stream",
     "text": [
      "True->20171212-100247-3.jpg\n",
      "generating mask\n"
     ]
    },
    {
     "name": "stdout",
     "output_type": "stream",
     "text": [
      "True->20171212-100257-1.jpg\n",
      "generating mask\n"
     ]
    },
    {
     "name": "stdout",
     "output_type": "stream",
     "text": [
      "True->20171212-100302-3.jpg\n",
      "generating mask\n"
     ]
    },
    {
     "name": "stdout",
     "output_type": "stream",
     "text": [
      "True->20171212-100306-1.jpg\n",
      "generating mask\n"
     ]
    },
    {
     "name": "stdout",
     "output_type": "stream",
     "text": [
      "True->20171212-100328-1.jpg\n",
      "generating mask\n"
     ]
    },
    {
     "name": "stdout",
     "output_type": "stream",
     "text": [
      "True->20171212-100342-1.jpg\n",
      "generating mask\n"
     ]
    },
    {
     "name": "stdout",
     "output_type": "stream",
     "text": [
      "True->20171212-100342-3.jpg\n",
      "generating mask\n"
     ]
    },
    {
     "name": "stdout",
     "output_type": "stream",
     "text": [
      "True->20171212-100359-1.jpg\n",
      "generating mask\n"
     ]
    },
    {
     "name": "stdout",
     "output_type": "stream",
     "text": [
      "True->20171212-100412-1.jpg\n",
      "generating mask\n"
     ]
    },
    {
     "name": "stdout",
     "output_type": "stream",
     "text": [
      "True->20171212-100418-3.jpg\n",
      "generating mask\n"
     ]
    },
    {
     "name": "stdout",
     "output_type": "stream",
     "text": [
      "True->20171212-100422-1.jpg\n",
      "generating mask\n"
     ]
    },
    {
     "name": "stdout",
     "output_type": "stream",
     "text": [
      "True->20171212-100437-3.jpg\n",
      "generating mask\n"
     ]
    },
    {
     "name": "stdout",
     "output_type": "stream",
     "text": [
      "True->20171212-100452-3.jpg\n",
      "generating mask\n"
     ]
    },
    {
     "name": "stdout",
     "output_type": "stream",
     "text": [
      "True->20171212-100503-1.jpg\n",
      "generating mask\n"
     ]
    },
    {
     "name": "stdout",
     "output_type": "stream",
     "text": [
      "True->20171212-100517-1.jpg\n",
      "generating mask\n"
     ]
    },
    {
     "name": "stdout",
     "output_type": "stream",
     "text": [
      "True->20171212-100546-1.jpg\n",
      "generating mask\n"
     ]
    },
    {
     "name": "stdout",
     "output_type": "stream",
     "text": [
      "True->20171212-100604-1.jpg\n",
      "generating mask\n"
     ]
    },
    {
     "name": "stdout",
     "output_type": "stream",
     "text": [
      "True->20171212-100614-3.jpg\n",
      "generating mask\n"
     ]
    },
    {
     "name": "stdout",
     "output_type": "stream",
     "text": [
      "True->20171212-100627-1.jpg\n",
      "generating mask\n"
     ]
    },
    {
     "name": "stdout",
     "output_type": "stream",
     "text": [
      "True->20171212-100721-1.jpg\n",
      "generating mask\n"
     ]
    },
    {
     "name": "stdout",
     "output_type": "stream",
     "text": [
      "True->20171212-100725-3.jpg\n",
      "generating mask\n"
     ]
    },
    {
     "name": "stdout",
     "output_type": "stream",
     "text": [
      "True->20171212-100740-3.jpg\n",
      "generating mask\n"
     ]
    },
    {
     "name": "stdout",
     "output_type": "stream",
     "text": [
      "True->20171212-100753-3.jpg\n",
      "generating mask\n"
     ]
    },
    {
     "name": "stdout",
     "output_type": "stream",
     "text": [
      "True->20171212-100754-1.jpg\n",
      "generating mask\n"
     ]
    },
    {
     "name": "stdout",
     "output_type": "stream",
     "text": [
      "True->20171212-100816-1.jpg\n",
      "generating mask\n"
     ]
    },
    {
     "name": "stdout",
     "output_type": "stream",
     "text": [
      "True->20171212-100831-1.jpg\n",
      "generating mask\n"
     ]
    },
    {
     "name": "stdout",
     "output_type": "stream",
     "text": [
      "True->20171212-100832-1.jpg\n",
      "generating mask\n"
     ]
    },
    {
     "name": "stdout",
     "output_type": "stream",
     "text": [
      "True->20171212-101503-3.jpg\n",
      "generating mask\n"
     ]
    },
    {
     "name": "stdout",
     "output_type": "stream",
     "text": [
      "True->20171212-101511-3.jpg\n",
      "generating mask\n"
     ]
    },
    {
     "name": "stdout",
     "output_type": "stream",
     "text": [
      "True->20171212-101605-3.jpg\n",
      "generating mask\n"
     ]
    },
    {
     "name": "stdout",
     "output_type": "stream",
     "text": [
      "True->20171212-101630-3.jpg\n",
      "generating mask\n"
     ]
    },
    {
     "name": "stdout",
     "output_type": "stream",
     "text": [
      "True->20171212-101643-3.jpg\n",
      "generating mask\n"
     ]
    },
    {
     "name": "stdout",
     "output_type": "stream",
     "text": [
      "True->20171212-101707-3.jpg\n",
      "generating mask\n"
     ]
    },
    {
     "name": "stdout",
     "output_type": "stream",
     "text": [
      "True->20171212-101809-3.jpg\n",
      "generating mask\n"
     ]
    },
    {
     "name": "stdout",
     "output_type": "stream",
     "text": [
      "True->20171212-101811-3.jpg\n",
      "generating mask\n"
     ]
    },
    {
     "name": "stdout",
     "output_type": "stream",
     "text": [
      "True->20171212-101813-3.jpg\n",
      "generating mask\n"
     ]
    },
    {
     "name": "stdout",
     "output_type": "stream",
     "text": [
      "True->20171212-101815-3.jpg\n",
      "generating mask\n"
     ]
    },
    {
     "name": "stdout",
     "output_type": "stream",
     "text": [
      "True->20171212-101904-3.jpg\n",
      "generating mask\n"
     ]
    },
    {
     "name": "stdout",
     "output_type": "stream",
     "text": [
      "True->20171212-101928-3.jpg\n",
      "generating mask\n"
     ]
    },
    {
     "name": "stdout",
     "output_type": "stream",
     "text": [
      "True->20171212-102000-3.jpg\n",
      "generating mask\n"
     ]
    },
    {
     "name": "stdout",
     "output_type": "stream",
     "text": [
      "True->20171212-102001-3.jpg\n",
      "generating mask\n"
     ]
    },
    {
     "name": "stdout",
     "output_type": "stream",
     "text": [
      "True->20171212-102031-3.jpg\n",
      "generating mask\n"
     ]
    },
    {
     "name": "stdout",
     "output_type": "stream",
     "text": [
      "True->20171212-102047-3.jpg\n",
      "generating mask\n"
     ]
    },
    {
     "name": "stdout",
     "output_type": "stream",
     "text": [
      "True->20171212-102102-3.jpg\n",
      "generating mask\n"
     ]
    },
    {
     "name": "stdout",
     "output_type": "stream",
     "text": [
      "True->20171212-102147-3.jpg\n",
      "generating mask\n"
     ]
    },
    {
     "name": "stdout",
     "output_type": "stream",
     "text": [
      "True->20171212-102204-3.jpg\n",
      "generating mask\n"
     ]
    },
    {
     "name": "stdout",
     "output_type": "stream",
     "text": [
      "True->20171212-102223-3.jpg\n",
      "generating mask\n"
     ]
    },
    {
     "name": "stdout",
     "output_type": "stream",
     "text": [
      "True->20171212-102244-3.jpg\n",
      "generating mask\n"
     ]
    },
    {
     "name": "stdout",
     "output_type": "stream",
     "text": [
      "True->20171212-102246-3.jpg\n",
      "generating mask\n"
     ]
    },
    {
     "name": "stdout",
     "output_type": "stream",
     "text": [
      "True->20171212-102310-3.jpg\n",
      "generating mask\n"
     ]
    },
    {
     "name": "stdout",
     "output_type": "stream",
     "text": [
      "True->20171212-102312-3.jpg\n",
      "generating mask\n"
     ]
    },
    {
     "name": "stdout",
     "output_type": "stream",
     "text": [
      "True->20171212-102409-3.jpg\n",
      "generating mask\n"
     ]
    },
    {
     "name": "stdout",
     "output_type": "stream",
     "text": [
      "True->20171212-102441-3.jpg\n",
      "generating mask\n"
     ]
    },
    {
     "name": "stdout",
     "output_type": "stream",
     "text": [
      "True->20171212-102455-3.jpg\n",
      "generating mask\n"
     ]
    },
    {
     "name": "stdout",
     "output_type": "stream",
     "text": [
      "True->20171212-102510-3.jpg\n",
      "generating mask\n"
     ]
    },
    {
     "name": "stdout",
     "output_type": "stream",
     "text": [
      "True->20171212-102523-3.jpg\n",
      "generating mask\n"
     ]
    },
    {
     "name": "stdout",
     "output_type": "stream",
     "text": [
      "True->20171212-102536-3.jpg\n",
      "generating mask\n"
     ]
    },
    {
     "name": "stdout",
     "output_type": "stream",
     "text": [
      "True->20171212-102601-3.jpg\n",
      "generating mask\n"
     ]
    },
    {
     "name": "stdout",
     "output_type": "stream",
     "text": [
      "True->20171212-102645-3.jpg\n",
      "generating mask\n"
     ]
    },
    {
     "name": "stdout",
     "output_type": "stream",
     "text": [
      "True->20171212-102719-3.jpg\n",
      "generating mask\n"
     ]
    },
    {
     "name": "stdout",
     "output_type": "stream",
     "text": [
      "True->20171212-102739-3.jpg\n",
      "generating mask\n"
     ]
    },
    {
     "name": "stdout",
     "output_type": "stream",
     "text": [
      "True->20171212-102803-3.jpg\n",
      "generating mask\n"
     ]
    },
    {
     "name": "stdout",
     "output_type": "stream",
     "text": [
      "True->20171212-102805-3.jpg\n",
      "generating mask\n"
     ]
    },
    {
     "name": "stdout",
     "output_type": "stream",
     "text": [
      "True->20171212-102858-3.jpg\n",
      "generating mask\n"
     ]
    },
    {
     "name": "stdout",
     "output_type": "stream",
     "text": [
      "True->20171212-102928-3.jpg\n",
      "generating mask\n"
     ]
    },
    {
     "name": "stdout",
     "output_type": "stream",
     "text": [
      "True->20171212-102955-3.jpg\n",
      "generating mask\n"
     ]
    },
    {
     "name": "stdout",
     "output_type": "stream",
     "text": [
      "True->20171212-103044-3.jpg\n",
      "generating mask\n"
     ]
    },
    {
     "name": "stdout",
     "output_type": "stream",
     "text": [
      "True->20171212-103045-3.jpg\n",
      "generating mask\n"
     ]
    },
    {
     "name": "stdout",
     "output_type": "stream",
     "text": [
      "True->20171212-103115-3.jpg\n",
      "generating mask\n"
     ]
    },
    {
     "name": "stdout",
     "output_type": "stream",
     "text": [
      "True->20171212-103156-3.jpg\n",
      "generating mask\n"
     ]
    },
    {
     "name": "stdout",
     "output_type": "stream",
     "text": [
      "True->20171212-103216-3.jpg\n",
      "generating mask\n"
     ]
    },
    {
     "name": "stdout",
     "output_type": "stream",
     "text": [
      "True->20171212-103226-3.jpg\n",
      "generating mask\n"
     ]
    },
    {
     "name": "stdout",
     "output_type": "stream",
     "text": [
      "True->20171212-103305-3.jpg\n",
      "generating mask\n"
     ]
    },
    {
     "name": "stdout",
     "output_type": "stream",
     "text": [
      "True->20171212-103306-3.jpg\n",
      "generating mask\n"
     ]
    },
    {
     "name": "stdout",
     "output_type": "stream",
     "text": [
      "True->20171212-103416-3.jpg\n",
      "generating mask\n"
     ]
    },
    {
     "name": "stdout",
     "output_type": "stream",
     "text": [
      "True->20171212-103457-3.jpg\n",
      "generating mask\n"
     ]
    },
    {
     "name": "stdout",
     "output_type": "stream",
     "text": [
      "True->20171212-103529-3.jpg\n",
      "generating mask\n"
     ]
    },
    {
     "name": "stdout",
     "output_type": "stream",
     "text": [
      "True->20171212-103609-3.jpg\n",
      "generating mask\n"
     ]
    },
    {
     "name": "stdout",
     "output_type": "stream",
     "text": [
      "True->20171212-103745-3.jpg\n",
      "generating mask\n"
     ]
    },
    {
     "name": "stdout",
     "output_type": "stream",
     "text": [
      "True->20171212-103805-3.jpg\n",
      "generating mask\n"
     ]
    },
    {
     "name": "stdout",
     "output_type": "stream",
     "text": [
      "True->20171212-103826-3.jpg\n",
      "generating mask\n"
     ]
    },
    {
     "name": "stdout",
     "output_type": "stream",
     "text": [
      "True->20171212-103853-3.jpg\n",
      "generating mask\n"
     ]
    },
    {
     "name": "stdout",
     "output_type": "stream",
     "text": [
      "True->20171212-103905-3.jpg\n",
      "generating mask\n"
     ]
    },
    {
     "name": "stdout",
     "output_type": "stream",
     "text": [
      "True->20171212-103923-3.jpg\n",
      "generating mask\n"
     ]
    },
    {
     "name": "stdout",
     "output_type": "stream",
     "text": [
      "True->20171212-104013-3.jpg\n",
      "generating mask\n"
     ]
    },
    {
     "name": "stdout",
     "output_type": "stream",
     "text": [
      "True->20171212-104026-3.jpg\n",
      "generating mask\n"
     ]
    },
    {
     "name": "stdout",
     "output_type": "stream",
     "text": [
      "True->20171212-104153-3.jpg\n",
      "generating mask\n"
     ]
    },
    {
     "name": "stdout",
     "output_type": "stream",
     "text": [
      "True->20171212-104214-3.jpg\n",
      "generating mask\n"
     ]
    },
    {
     "name": "stdout",
     "output_type": "stream",
     "text": [
      "True->20171212-104215-3.jpg\n",
      "generating mask\n"
     ]
    },
    {
     "name": "stdout",
     "output_type": "stream",
     "text": [
      "True->20171212-104232-3.jpg\n",
      "generating mask\n"
     ]
    },
    {
     "name": "stdout",
     "output_type": "stream",
     "text": [
      "True->20171212-104248-3.jpg\n",
      "generating mask\n"
     ]
    },
    {
     "name": "stdout",
     "output_type": "stream",
     "text": [
      "True->20171212-104309-3.jpg\n",
      "generating mask\n"
     ]
    },
    {
     "name": "stdout",
     "output_type": "stream",
     "text": [
      "True->20171212-104318-3.jpg\n",
      "generating mask\n"
     ]
    },
    {
     "name": "stdout",
     "output_type": "stream",
     "text": [
      "True->20171212-104332-3.jpg\n",
      "generating mask\n"
     ]
    },
    {
     "name": "stdout",
     "output_type": "stream",
     "text": [
      "True->20171212-104446-3.jpg\n",
      "generating mask\n"
     ]
    },
    {
     "name": "stdout",
     "output_type": "stream",
     "text": [
      "True->20171212-104505-3.jpg\n",
      "generating mask\n"
     ]
    },
    {
     "name": "stdout",
     "output_type": "stream",
     "text": [
      "True->20171212-104533-3.jpg\n",
      "generating mask\n"
     ]
    },
    {
     "name": "stdout",
     "output_type": "stream",
     "text": [
      "True->20171212-104626-3.jpg\n",
      "generating mask\n"
     ]
    },
    {
     "name": "stdout",
     "output_type": "stream",
     "text": [
      "True->20171212-104627-3.jpg\n",
      "generating mask\n"
     ]
    },
    {
     "name": "stdout",
     "output_type": "stream",
     "text": [
      "True->20171212-104643-3.jpg\n",
      "generating mask\n"
     ]
    },
    {
     "name": "stdout",
     "output_type": "stream",
     "text": [
      "True->20171212-104741-3.jpg\n",
      "generating mask\n"
     ]
    },
    {
     "name": "stdout",
     "output_type": "stream",
     "text": [
      "True->20171212-104801-3.jpg\n",
      "generating mask\n"
     ]
    },
    {
     "name": "stdout",
     "output_type": "stream",
     "text": [
      "True->20171212-104822-3.jpg\n",
      "generating mask\n"
     ]
    },
    {
     "name": "stdout",
     "output_type": "stream",
     "text": [
      "True->20171212-104850-3.jpg\n",
      "generating mask\n"
     ]
    },
    {
     "name": "stdout",
     "output_type": "stream",
     "text": [
      "True->20171212-104904-3.jpg\n",
      "generating mask\n"
     ]
    },
    {
     "name": "stdout",
     "output_type": "stream",
     "text": [
      "True->20171212-104916-3.jpg\n",
      "generating mask\n"
     ]
    },
    {
     "name": "stdout",
     "output_type": "stream",
     "text": [
      "True->20171212-104939-3.jpg\n",
      "generating mask\n"
     ]
    },
    {
     "name": "stdout",
     "output_type": "stream",
     "text": [
      "True->20171212-105009-3.jpg\n",
      "generating mask\n"
     ]
    },
    {
     "name": "stdout",
     "output_type": "stream",
     "text": [
      "True->20171212-105011-3.jpg\n",
      "generating mask\n"
     ]
    },
    {
     "name": "stdout",
     "output_type": "stream",
     "text": [
      "True->20171212-105025-3.jpg\n",
      "generating mask\n"
     ]
    },
    {
     "name": "stdout",
     "output_type": "stream",
     "text": [
      "True->20171212-105035-3.jpg\n",
      "generating mask\n"
     ]
    },
    {
     "name": "stdout",
     "output_type": "stream",
     "text": [
      "True->20171212-105057-3.jpg\n",
      "generating mask\n"
     ]
    },
    {
     "name": "stdout",
     "output_type": "stream",
     "text": [
      "True->20171212-105238-3.jpg\n",
      "generating mask\n"
     ]
    },
    {
     "name": "stdout",
     "output_type": "stream",
     "text": [
      "True->20171212-105254-3.jpg\n",
      "generating mask\n"
     ]
    },
    {
     "name": "stdout",
     "output_type": "stream",
     "text": [
      "True->20171212-105308-3.jpg\n",
      "generating mask\n"
     ]
    },
    {
     "name": "stdout",
     "output_type": "stream",
     "text": [
      "True->20171212-105341-3.jpg\n",
      "generating mask\n"
     ]
    },
    {
     "name": "stdout",
     "output_type": "stream",
     "text": [
      "True->20171212-105533-3.jpg\n",
      "generating mask\n"
     ]
    },
    {
     "name": "stdout",
     "output_type": "stream",
     "text": [
      "True->20171212-105548-3.jpg\n",
      "generating mask\n"
     ]
    },
    {
     "name": "stdout",
     "output_type": "stream",
     "text": [
      "True->20171212-105549-3.jpg\n",
      "generating mask\n"
     ]
    },
    {
     "name": "stdout",
     "output_type": "stream",
     "text": [
      "True->20171212-105600-3.jpg\n",
      "generating mask\n"
     ]
    },
    {
     "name": "stdout",
     "output_type": "stream",
     "text": [
      "True->20171212-105614-3.jpg\n",
      "generating mask\n"
     ]
    },
    {
     "name": "stdout",
     "output_type": "stream",
     "text": [
      "True->20171212-105638-3.jpg\n",
      "generating mask\n"
     ]
    },
    {
     "name": "stdout",
     "output_type": "stream",
     "text": [
      "True->20171212-105639-3.jpg\n",
      "generating mask\n"
     ]
    },
    {
     "name": "stdout",
     "output_type": "stream",
     "text": [
      "True->20171212-105717-3.jpg\n",
      "generating mask\n"
     ]
    },
    {
     "name": "stdout",
     "output_type": "stream",
     "text": [
      "True->20171212-105742-3.jpg\n",
      "generating mask\n"
     ]
    },
    {
     "name": "stdout",
     "output_type": "stream",
     "text": [
      "True->20171212-105756-3.jpg\n",
      "generating mask\n"
     ]
    },
    {
     "name": "stdout",
     "output_type": "stream",
     "text": [
      "True->20171212-105828-3.jpg\n",
      "generating mask\n"
     ]
    },
    {
     "name": "stdout",
     "output_type": "stream",
     "text": [
      "True->20171212-105905-3.jpg\n",
      "generating mask\n"
     ]
    },
    {
     "name": "stdout",
     "output_type": "stream",
     "text": [
      "True->20171212-105943-3.jpg\n",
      "generating mask\n"
     ]
    },
    {
     "name": "stdout",
     "output_type": "stream",
     "text": [
      "True->20171212-110000-3.jpg\n",
      "generating mask\n"
     ]
    },
    {
     "name": "stdout",
     "output_type": "stream",
     "text": [
      "True->20171212-110050-3.jpg\n",
      "generating mask\n"
     ]
    },
    {
     "name": "stdout",
     "output_type": "stream",
     "text": [
      "True->20171212-110114-3.jpg\n",
      "generating mask\n"
     ]
    },
    {
     "name": "stdout",
     "output_type": "stream",
     "text": [
      "True->20171217-100549-2.jpg\n",
      "generating mask\n"
     ]
    },
    {
     "name": "stdout",
     "output_type": "stream",
     "text": [
      "True->20171217-100745-2.jpg\n",
      "generating mask\n"
     ]
    },
    {
     "name": "stdout",
     "output_type": "stream",
     "text": [
      "True->20171217-100824-2.jpg\n",
      "generating mask\n"
     ]
    },
    {
     "name": "stdout",
     "output_type": "stream",
     "text": [
      "True->20171217-100920-2.jpg\n",
      "generating mask\n"
     ]
    },
    {
     "name": "stdout",
     "output_type": "stream",
     "text": [
      "True->20171217-103317-2.jpg\n",
      "generating mask\n"
     ]
    },
    {
     "name": "stdout",
     "output_type": "stream",
     "text": [
      "True->20171217-103327-2.jpg\n",
      "generating mask\n"
     ]
    },
    {
     "name": "stdout",
     "output_type": "stream",
     "text": [
      "True->20171217-103334-2.jpg\n",
      "generating mask\n"
     ]
    },
    {
     "name": "stdout",
     "output_type": "stream",
     "text": [
      "True->20171217-103346-2.jpg\n",
      "generating mask\n"
     ]
    },
    {
     "name": "stdout",
     "output_type": "stream",
     "text": [
      "True->20171217-103432-2.jpg\n",
      "generating mask\n"
     ]
    },
    {
     "name": "stdout",
     "output_type": "stream",
     "text": [
      "True->20171217-103510-2.jpg\n",
      "generating mask\n"
     ]
    },
    {
     "name": "stdout",
     "output_type": "stream",
     "text": [
      "True->20171217-103537-2.jpg\n",
      "generating mask\n"
     ]
    },
    {
     "name": "stdout",
     "output_type": "stream",
     "text": [
      "True->20171217-103545-2.jpg\n",
      "generating mask\n"
     ]
    },
    {
     "name": "stdout",
     "output_type": "stream",
     "text": [
      "True->20171217-103616-2.jpg\n",
      "generating mask\n"
     ]
    },
    {
     "name": "stdout",
     "output_type": "stream",
     "text": [
      "True->20171217-103623-2.jpg\n",
      "generating mask\n"
     ]
    },
    {
     "name": "stdout",
     "output_type": "stream",
     "text": [
      "True->20171217-103630-2.jpg\n",
      "generating mask\n"
     ]
    },
    {
     "name": "stdout",
     "output_type": "stream",
     "text": [
      "True->20171217-103638-2.jpg\n",
      "generating mask\n"
     ]
    },
    {
     "name": "stdout",
     "output_type": "stream",
     "text": [
      "True->20171217-183434-2.jpg\n",
      "generating mask\n"
     ]
    },
    {
     "name": "stdout",
     "output_type": "stream",
     "text": [
      "True->20171217-183451-2.jpg\n",
      "generating mask\n"
     ]
    },
    {
     "name": "stdout",
     "output_type": "stream",
     "text": [
      "True->20171217-183502-2.jpg\n",
      "generating mask\n"
     ]
    },
    {
     "name": "stdout",
     "output_type": "stream",
     "text": [
      "True->20171217-183506-2.jpg\n",
      "generating mask\n"
     ]
    },
    {
     "name": "stdout",
     "output_type": "stream",
     "text": [
      "True->20171217-183522-2.jpg\n",
      "generating mask\n"
     ]
    },
    {
     "name": "stdout",
     "output_type": "stream",
     "text": [
      "True->20171217-183524-2.jpg\n",
      "generating mask\n"
     ]
    },
    {
     "name": "stdout",
     "output_type": "stream",
     "text": [
      "True->20171217-183601-2.jpg\n",
      "generating mask\n"
     ]
    },
    {
     "name": "stdout",
     "output_type": "stream",
     "text": [
      "True->20171217-183611-2.jpg\n",
      "generating mask\n"
     ]
    },
    {
     "name": "stdout",
     "output_type": "stream",
     "text": [
      "True->20171217-183625-2.jpg\n",
      "generating mask\n"
     ]
    },
    {
     "name": "stdout",
     "output_type": "stream",
     "text": [
      "True->20171217-183635-2.jpg\n",
      "generating mask\n"
     ]
    },
    {
     "name": "stdout",
     "output_type": "stream",
     "text": [
      "True->20171217-183714-2.jpg\n",
      "generating mask\n"
     ]
    },
    {
     "name": "stdout",
     "output_type": "stream",
     "text": [
      "True->20171217-183729-2.jpg\n",
      "generating mask\n"
     ]
    },
    {
     "name": "stdout",
     "output_type": "stream",
     "text": [
      "True->20171217-183750-2.jpg\n",
      "generating mask\n"
     ]
    },
    {
     "name": "stdout",
     "output_type": "stream",
     "text": [
      "True->20171217-183805-2.jpg\n",
      "generating mask\n"
     ]
    },
    {
     "name": "stdout",
     "output_type": "stream",
     "text": [
      "True->20171217-183811-2.jpg\n",
      "generating mask\n"
     ]
    },
    {
     "name": "stdout",
     "output_type": "stream",
     "text": [
      "True->20171217-183823-2.jpg\n",
      "generating mask\n"
     ]
    },
    {
     "name": "stdout",
     "output_type": "stream",
     "text": [
      "True->20171217-183825-2.jpg\n",
      "generating mask\n"
     ]
    },
    {
     "name": "stdout",
     "output_type": "stream",
     "text": [
      "True->20171217-183832-2.jpg\n",
      "generating mask\n"
     ]
    },
    {
     "name": "stdout",
     "output_type": "stream",
     "text": [
      "True->20171217-183841-2.jpg\n",
      "generating mask\n"
     ]
    },
    {
     "name": "stdout",
     "output_type": "stream",
     "text": [
      "True->20171217-183851-2.jpg\n",
      "generating mask\n"
     ]
    },
    {
     "name": "stdout",
     "output_type": "stream",
     "text": [
      "True->20171217-183949-2.jpg\n",
      "generating mask\n"
     ]
    },
    {
     "name": "stdout",
     "output_type": "stream",
     "text": [
      "True->20171217-184005-2.jpg\n",
      "generating mask\n"
     ]
    },
    {
     "name": "stdout",
     "output_type": "stream",
     "text": [
      "True->20171217-184033-2.jpg\n",
      "generating mask\n"
     ]
    },
    {
     "name": "stdout",
     "output_type": "stream",
     "text": [
      "True->20171217-184035-2.jpg\n",
      "generating mask\n"
     ]
    },
    {
     "name": "stdout",
     "output_type": "stream",
     "text": [
      "True->20171217-184054-2.jpg\n",
      "generating mask\n"
     ]
    },
    {
     "name": "stdout",
     "output_type": "stream",
     "text": [
      "True->20171217-184108-2.jpg\n",
      "generating mask\n"
     ]
    },
    {
     "name": "stdout",
     "output_type": "stream",
     "text": [
      "True->20171217-184116-2.jpg\n",
      "generating mask\n"
     ]
    },
    {
     "name": "stdout",
     "output_type": "stream",
     "text": [
      "True->20171217-184132-2.jpg\n",
      "generating mask\n"
     ]
    },
    {
     "name": "stdout",
     "output_type": "stream",
     "text": [
      "True->20171217-184150-2.jpg\n",
      "generating mask\n"
     ]
    },
    {
     "name": "stdout",
     "output_type": "stream",
     "text": [
      "True->20171217-184215-2.jpg\n",
      "generating mask\n"
     ]
    },
    {
     "name": "stdout",
     "output_type": "stream",
     "text": [
      "True->20171217-184238-2.jpg\n",
      "generating mask\n"
     ]
    },
    {
     "name": "stdout",
     "output_type": "stream",
     "text": [
      "True->20171217-184248-2.jpg\n",
      "generating mask\n"
     ]
    },
    {
     "name": "stdout",
     "output_type": "stream",
     "text": [
      "True->20171217-184313-2.jpg\n",
      "generating mask\n"
     ]
    },
    {
     "name": "stdout",
     "output_type": "stream",
     "text": [
      "True->20171217-184328-2.jpg\n",
      "generating mask\n"
     ]
    },
    {
     "name": "stdout",
     "output_type": "stream",
     "text": [
      "True->20171217-184341-2.jpg\n",
      "generating mask\n"
     ]
    },
    {
     "name": "stdout",
     "output_type": "stream",
     "text": [
      "True->20171217-184352-2.jpg\n",
      "generating mask\n"
     ]
    },
    {
     "name": "stdout",
     "output_type": "stream",
     "text": [
      "True->20171217-184402-2.jpg\n",
      "generating mask\n"
     ]
    },
    {
     "name": "stdout",
     "output_type": "stream",
     "text": [
      "True->20171217-184424-2.jpg\n",
      "generating mask\n"
     ]
    },
    {
     "name": "stdout",
     "output_type": "stream",
     "text": [
      "True->20171217-184441-2.jpg\n",
      "generating mask\n"
     ]
    },
    {
     "name": "stdout",
     "output_type": "stream",
     "text": [
      "True->20171217-184452-2.jpg\n",
      "generating mask\n"
     ]
    },
    {
     "name": "stdout",
     "output_type": "stream",
     "text": [
      "True->20171217-184519-2.jpg\n",
      "generating mask\n"
     ]
    },
    {
     "name": "stdout",
     "output_type": "stream",
     "text": [
      "True->20171217-184528-2.jpg\n",
      "generating mask\n"
     ]
    },
    {
     "name": "stdout",
     "output_type": "stream",
     "text": [
      "True->20171217-184608-2.jpg\n",
      "generating mask\n"
     ]
    },
    {
     "name": "stdout",
     "output_type": "stream",
     "text": [
      "True->20171217-184642-2.jpg\n",
      "generating mask\n"
     ]
    },
    {
     "name": "stdout",
     "output_type": "stream",
     "text": [
      "True->20171217-184724-2.jpg\n",
      "generating mask\n"
     ]
    },
    {
     "name": "stdout",
     "output_type": "stream",
     "text": [
      "True->20171217-184732-2.jpg\n",
      "generating mask\n"
     ]
    },
    {
     "name": "stdout",
     "output_type": "stream",
     "text": [
      "True->20171217-184749-2.jpg\n",
      "generating mask\n"
     ]
    },
    {
     "name": "stdout",
     "output_type": "stream",
     "text": [
      "True->20171217-184806-2.jpg\n",
      "generating mask\n"
     ]
    },
    {
     "name": "stdout",
     "output_type": "stream",
     "text": [
      "True->20171217-185011-2.jpg\n",
      "generating mask\n"
     ]
    },
    {
     "name": "stdout",
     "output_type": "stream",
     "text": [
      "True->20171217-185029-2.jpg\n",
      "generating mask\n"
     ]
    },
    {
     "name": "stdout",
     "output_type": "stream",
     "text": [
      "True->20171217-185041-2.jpg\n",
      "generating mask\n"
     ]
    },
    {
     "name": "stdout",
     "output_type": "stream",
     "text": [
      "True->20171218-102836-2.jpg\n",
      "generating mask\n"
     ]
    },
    {
     "name": "stdout",
     "output_type": "stream",
     "text": [
      "True->20171218-102859-2.jpg\n",
      "generating mask\n"
     ]
    },
    {
     "name": "stdout",
     "output_type": "stream",
     "text": [
      "True->20171218-102911-2.jpg\n",
      "generating mask\n"
     ]
    },
    {
     "name": "stdout",
     "output_type": "stream",
     "text": [
      "True->20171218-102923-2.jpg\n",
      "generating mask\n"
     ]
    },
    {
     "name": "stdout",
     "output_type": "stream",
     "text": [
      "True->20171218-103016-2.jpg\n",
      "generating mask\n"
     ]
    },
    {
     "name": "stdout",
     "output_type": "stream",
     "text": [
      "True->20171218-103115-3.jpg\n",
      "generating mask\n"
     ]
    },
    {
     "name": "stdout",
     "output_type": "stream",
     "text": [
      "True->20171218-103140-2.jpg\n",
      "generating mask\n"
     ]
    },
    {
     "name": "stdout",
     "output_type": "stream",
     "text": [
      "True->20171218-103202-2.jpg\n",
      "generating mask\n"
     ]
    },
    {
     "name": "stdout",
     "output_type": "stream",
     "text": [
      "True->20171218-103204-3.jpg\n",
      "generating mask\n"
     ]
    },
    {
     "name": "stdout",
     "output_type": "stream",
     "text": [
      "True->20171218-103214-2.jpg\n",
      "generating mask\n"
     ]
    },
    {
     "name": "stdout",
     "output_type": "stream",
     "text": [
      "True->20171218-103217-3.jpg\n",
      "generating mask\n"
     ]
    },
    {
     "name": "stdout",
     "output_type": "stream",
     "text": [
      "True->20171218-103225-2.jpg\n",
      "generating mask\n"
     ]
    },
    {
     "name": "stdout",
     "output_type": "stream",
     "text": [
      "True->20171218-103241-3.jpg\n",
      "generating mask\n"
     ]
    },
    {
     "name": "stdout",
     "output_type": "stream",
     "text": [
      "True->20171218-103259-3.jpg\n",
      "generating mask\n"
     ]
    },
    {
     "name": "stdout",
     "output_type": "stream",
     "text": [
      "True->20171218-103315-2.jpg\n",
      "generating mask\n"
     ]
    },
    {
     "name": "stdout",
     "output_type": "stream",
     "text": [
      "True->20171218-103326-3.jpg\n",
      "generating mask\n"
     ]
    },
    {
     "name": "stdout",
     "output_type": "stream",
     "text": [
      "True->20171218-103327-3.jpg\n",
      "generating mask\n"
     ]
    },
    {
     "name": "stdout",
     "output_type": "stream",
     "text": [
      "True->20171218-103342-2.jpg\n",
      "generating mask\n"
     ]
    },
    {
     "name": "stdout",
     "output_type": "stream",
     "text": [
      "True->20171218-103405-3.jpg\n",
      "generating mask\n"
     ]
    },
    {
     "name": "stdout",
     "output_type": "stream",
     "text": [
      "True->20171218-103414-2.jpg\n",
      "generating mask\n"
     ]
    },
    {
     "name": "stdout",
     "output_type": "stream",
     "text": [
      "True->20171218-103500-2.jpg\n",
      "generating mask\n"
     ]
    },
    {
     "name": "stdout",
     "output_type": "stream",
     "text": [
      "True->20171218-103550-2.jpg\n",
      "generating mask\n"
     ]
    },
    {
     "name": "stdout",
     "output_type": "stream",
     "text": [
      "True->20171218-103606-2.jpg\n",
      "generating mask\n"
     ]
    },
    {
     "name": "stdout",
     "output_type": "stream",
     "text": [
      "True->20171218-103624-2.jpg\n",
      "generating mask\n"
     ]
    },
    {
     "name": "stdout",
     "output_type": "stream",
     "text": [
      "True->20171218-103643-2.jpg\n",
      "generating mask\n"
     ]
    },
    {
     "name": "stdout",
     "output_type": "stream",
     "text": [
      "True->20171218-103654-2.jpg\n",
      "generating mask\n"
     ]
    },
    {
     "name": "stdout",
     "output_type": "stream",
     "text": [
      "True->20171218-103705-2.jpg\n",
      "generating mask\n"
     ]
    },
    {
     "name": "stdout",
     "output_type": "stream",
     "text": [
      "True->20171218-103802-2.jpg\n",
      "generating mask\n"
     ]
    },
    {
     "name": "stdout",
     "output_type": "stream",
     "text": [
      "True->20171218-103854-2.jpg\n",
      "generating mask\n"
     ]
    },
    {
     "name": "stdout",
     "output_type": "stream",
     "text": [
      "True->20171218-103929-3.jpg\n",
      "generating mask\n"
     ]
    },
    {
     "name": "stdout",
     "output_type": "stream",
     "text": [
      "True->20171218-103954-2.jpg\n",
      "generating mask\n"
     ]
    },
    {
     "name": "stdout",
     "output_type": "stream",
     "text": [
      "True->20171218-104002-3.jpg\n",
      "generating mask\n"
     ]
    },
    {
     "name": "stdout",
     "output_type": "stream",
     "text": [
      "True->20171218-104012-2.jpg\n",
      "generating mask\n"
     ]
    },
    {
     "name": "stdout",
     "output_type": "stream",
     "text": [
      "True->20171218-104023-2.jpg\n",
      "generating mask\n"
     ]
    },
    {
     "name": "stdout",
     "output_type": "stream",
     "text": [
      "True->20171218-104033-3.jpg\n",
      "generating mask\n"
     ]
    },
    {
     "name": "stdout",
     "output_type": "stream",
     "text": [
      "True->20171218-104040-2.jpg\n",
      "generating mask\n"
     ]
    },
    {
     "name": "stdout",
     "output_type": "stream",
     "text": [
      "True->20171218-104106-3.jpg\n",
      "generating mask\n"
     ]
    },
    {
     "name": "stdout",
     "output_type": "stream",
     "text": [
      "True->20171218-104117-2.jpg\n",
      "generating mask\n"
     ]
    },
    {
     "name": "stdout",
     "output_type": "stream",
     "text": [
      "True->20171218-104122-3.jpg\n",
      "generating mask\n"
     ]
    },
    {
     "name": "stdout",
     "output_type": "stream",
     "text": [
      "True->20171218-104150-2.jpg\n",
      "generating mask\n"
     ]
    },
    {
     "name": "stdout",
     "output_type": "stream",
     "text": [
      "True->20171218-104157-3.jpg\n",
      "generating mask\n"
     ]
    },
    {
     "name": "stdout",
     "output_type": "stream",
     "text": [
      "True->20171218-104211-2.jpg\n",
      "generating mask\n"
     ]
    },
    {
     "name": "stdout",
     "output_type": "stream",
     "text": [
      "True->20171218-104227-2.jpg\n",
      "generating mask\n"
     ]
    },
    {
     "name": "stdout",
     "output_type": "stream",
     "text": [
      "True->20171218-104233-3.jpg\n",
      "generating mask\n"
     ]
    },
    {
     "name": "stdout",
     "output_type": "stream",
     "text": [
      "True->20171218-104247-3.jpg\n",
      "generating mask\n"
     ]
    },
    {
     "name": "stdout",
     "output_type": "stream",
     "text": [
      "True->20171218-104302-3.jpg\n",
      "generating mask\n"
     ]
    },
    {
     "name": "stdout",
     "output_type": "stream",
     "text": [
      "True->20171218-104320-2.jpg\n",
      "generating mask\n"
     ]
    },
    {
     "name": "stdout",
     "output_type": "stream",
     "text": [
      "True->20171218-104341-2.jpg\n",
      "generating mask\n"
     ]
    },
    {
     "name": "stdout",
     "output_type": "stream",
     "text": [
      "True->20171218-104344-3.jpg\n",
      "generating mask\n"
     ]
    },
    {
     "name": "stdout",
     "output_type": "stream",
     "text": [
      "True->20171218-104412-3.jpg\n",
      "generating mask\n"
     ]
    },
    {
     "name": "stdout",
     "output_type": "stream",
     "text": [
      "True->20171218-104431-2.jpg\n",
      "generating mask\n"
     ]
    },
    {
     "name": "stdout",
     "output_type": "stream",
     "text": [
      "True->20171218-104443-2.jpg\n",
      "generating mask\n"
     ]
    },
    {
     "name": "stdout",
     "output_type": "stream",
     "text": [
      "True->20171218-104447-3.jpg\n",
      "generating mask\n"
     ]
    },
    {
     "name": "stdout",
     "output_type": "stream",
     "text": [
      "True->20171218-104510-3.jpg\n",
      "generating mask\n"
     ]
    },
    {
     "name": "stdout",
     "output_type": "stream",
     "text": [
      "True->20171218-104637-2.jpg\n",
      "generating mask\n"
     ]
    },
    {
     "name": "stdout",
     "output_type": "stream",
     "text": [
      "True->20171218-104645-3.jpg\n",
      "generating mask\n"
     ]
    },
    {
     "name": "stdout",
     "output_type": "stream",
     "text": [
      "True->20171218-104710-2.jpg\n",
      "generating mask\n"
     ]
    },
    {
     "name": "stdout",
     "output_type": "stream",
     "text": [
      "True->20171218-104722-3.jpg\n",
      "generating mask\n"
     ]
    },
    {
     "name": "stdout",
     "output_type": "stream",
     "text": [
      "True->20171218-104736-3.jpg\n",
      "generating mask\n"
     ]
    },
    {
     "name": "stdout",
     "output_type": "stream",
     "text": [
      "True->20171218-104803-2.jpg\n",
      "generating mask\n"
     ]
    },
    {
     "name": "stdout",
     "output_type": "stream",
     "text": [
      "True->20171218-104826-3.jpg\n",
      "generating mask\n"
     ]
    },
    {
     "name": "stdout",
     "output_type": "stream",
     "text": [
      "True->20171218-104904-3.jpg\n",
      "generating mask\n"
     ]
    },
    {
     "name": "stdout",
     "output_type": "stream",
     "text": [
      "True->20171218-104905-3.jpg\n",
      "generating mask\n"
     ]
    },
    {
     "name": "stdout",
     "output_type": "stream",
     "text": [
      "True->20171218-104928-2.jpg\n",
      "generating mask\n"
     ]
    },
    {
     "name": "stdout",
     "output_type": "stream",
     "text": [
      "True->20171218-105136-3.jpg\n",
      "generating mask\n"
     ]
    },
    {
     "name": "stdout",
     "output_type": "stream",
     "text": [
      "True->20171218-105147-2.jpg\n",
      "generating mask\n"
     ]
    },
    {
     "name": "stdout",
     "output_type": "stream",
     "text": [
      "True->20171218-105153-3.jpg\n",
      "generating mask\n"
     ]
    },
    {
     "name": "stdout",
     "output_type": "stream",
     "text": [
      "True->20171218-105200-2.jpg\n",
      "generating mask\n"
     ]
    },
    {
     "name": "stdout",
     "output_type": "stream",
     "text": [
      "True->20171218-105222-2.jpg\n",
      "generating mask\n"
     ]
    },
    {
     "name": "stdout",
     "output_type": "stream",
     "text": [
      "True->20171218-105222-3.jpg\n",
      "generating mask\n"
     ]
    },
    {
     "name": "stdout",
     "output_type": "stream",
     "text": [
      "True->20171218-105224-3.jpg\n",
      "generating mask\n"
     ]
    },
    {
     "name": "stdout",
     "output_type": "stream",
     "text": [
      "True->20171218-105258-2.jpg\n",
      "generating mask\n"
     ]
    },
    {
     "name": "stdout",
     "output_type": "stream",
     "text": [
      "True->20171218-105311-2.jpg\n",
      "generating mask\n"
     ]
    },
    {
     "name": "stdout",
     "output_type": "stream",
     "text": [
      "True->20171218-105318-3.jpg\n",
      "generating mask\n"
     ]
    },
    {
     "name": "stdout",
     "output_type": "stream",
     "text": [
      "True->20171218-105319-3.jpg\n",
      "generating mask\n"
     ]
    },
    {
     "name": "stdout",
     "output_type": "stream",
     "text": [
      "True->20171218-105320-3.jpg\n",
      "generating mask\n"
     ]
    },
    {
     "name": "stdout",
     "output_type": "stream",
     "text": [
      "True->20171218-105335-3.jpg\n",
      "generating mask\n"
     ]
    },
    {
     "name": "stdout",
     "output_type": "stream",
     "text": [
      "True->20171218-105401-3.jpg\n",
      "generating mask\n"
     ]
    },
    {
     "name": "stdout",
     "output_type": "stream",
     "text": [
      "True->20171218-105411-3.jpg\n",
      "generating mask\n"
     ]
    },
    {
     "name": "stdout",
     "output_type": "stream",
     "text": [
      "True->20171218-105456-3.jpg\n",
      "generating mask\n"
     ]
    },
    {
     "name": "stdout",
     "output_type": "stream",
     "text": [
      "True->20171218-105516-3.jpg\n",
      "generating mask\n"
     ]
    },
    {
     "name": "stdout",
     "output_type": "stream",
     "text": [
      "True->20171218-105531-3.jpg\n",
      "generating mask\n"
     ]
    },
    {
     "name": "stdout",
     "output_type": "stream",
     "text": [
      "True->20171218-105544-2.jpg\n",
      "generating mask\n"
     ]
    },
    {
     "name": "stdout",
     "output_type": "stream",
     "text": [
      "True->20171218-105544-3.jpg\n",
      "generating mask\n"
     ]
    },
    {
     "name": "stdout",
     "output_type": "stream",
     "text": [
      "True->20171218-105602-3.jpg\n",
      "generating mask\n"
     ]
    },
    {
     "name": "stdout",
     "output_type": "stream",
     "text": [
      "True->20171218-105607-2.jpg\n",
      "generating mask\n"
     ]
    },
    {
     "name": "stdout",
     "output_type": "stream",
     "text": [
      "True->20171218-105733-3.jpg\n",
      "generating mask\n"
     ]
    },
    {
     "name": "stdout",
     "output_type": "stream",
     "text": [
      "True->20171218-105735-2.jpg\n",
      "generating mask\n"
     ]
    },
    {
     "name": "stdout",
     "output_type": "stream",
     "text": [
      "True->20171218-105746-3.jpg\n",
      "generating mask\n"
     ]
    },
    {
     "name": "stdout",
     "output_type": "stream",
     "text": [
      "True->20171218-105811-3.jpg\n",
      "generating mask\n"
     ]
    },
    {
     "name": "stdout",
     "output_type": "stream",
     "text": [
      "True->20171218-105835-3.jpg\n",
      "generating mask\n"
     ]
    },
    {
     "name": "stdout",
     "output_type": "stream",
     "text": [
      "True->20171218-105931-3.jpg\n",
      "generating mask\n"
     ]
    },
    {
     "name": "stdout",
     "output_type": "stream",
     "text": [
      "True->20171218-105943-3.jpg\n",
      "generating mask\n"
     ]
    },
    {
     "name": "stdout",
     "output_type": "stream",
     "text": [
      "True->20171218-105958-3.jpg\n",
      "generating mask\n"
     ]
    },
    {
     "name": "stdout",
     "output_type": "stream",
     "text": [
      "True->20171218-110014-3.jpg\n",
      "generating mask\n"
     ]
    },
    {
     "name": "stdout",
     "output_type": "stream",
     "text": [
      "True->20171218-110038-3.jpg\n",
      "generating mask\n"
     ]
    },
    {
     "name": "stdout",
     "output_type": "stream",
     "text": [
      "True->20171218-110039-3.jpg\n",
      "generating mask\n"
     ]
    },
    {
     "name": "stdout",
     "output_type": "stream",
     "text": [
      "True->20171218-110051-3.jpg\n",
      "generating mask\n"
     ]
    },
    {
     "name": "stdout",
     "output_type": "stream",
     "text": [
      "True->20171218-110139-3.jpg\n",
      "generating mask\n"
     ]
    },
    {
     "name": "stdout",
     "output_type": "stream",
     "text": [
      "True->20171218-110228-3.jpg\n",
      "generating mask\n"
     ]
    },
    {
     "name": "stdout",
     "output_type": "stream",
     "text": [
      "True->20171218-110250-2.jpg\n",
      "generating mask\n"
     ]
    },
    {
     "name": "stdout",
     "output_type": "stream",
     "text": [
      "True->20171218-110251-3.jpg\n",
      "generating mask\n"
     ]
    },
    {
     "name": "stdout",
     "output_type": "stream",
     "text": [
      "True->20171218-110305-2.jpg\n",
      "generating mask\n"
     ]
    },
    {
     "name": "stdout",
     "output_type": "stream",
     "text": [
      "True->20171218-110320-2.jpg\n",
      "generating mask\n"
     ]
    },
    {
     "name": "stdout",
     "output_type": "stream",
     "text": [
      "True->20171218-110342-2.jpg\n",
      "generating mask\n"
     ]
    },
    {
     "name": "stdout",
     "output_type": "stream",
     "text": [
      "True->20171218-110346-3.jpg\n",
      "generating mask\n"
     ]
    },
    {
     "name": "stdout",
     "output_type": "stream",
     "text": [
      "True->20171218-110357-2.jpg\n",
      "generating mask\n"
     ]
    },
    {
     "name": "stdout",
     "output_type": "stream",
     "text": [
      "True->20171218-110416-2.jpg\n",
      "generating mask\n"
     ]
    },
    {
     "name": "stdout",
     "output_type": "stream",
     "text": [
      "True->20171218-110417-3.jpg\n",
      "generating mask\n"
     ]
    },
    {
     "name": "stdout",
     "output_type": "stream",
     "text": [
      "True->20171218-110434-3.jpg\n",
      "generating mask\n"
     ]
    },
    {
     "name": "stdout",
     "output_type": "stream",
     "text": [
      "True->20171218-110443-2.jpg\n",
      "generating mask\n"
     ]
    },
    {
     "name": "stdout",
     "output_type": "stream",
     "text": [
      "True->20171218-110447-3.jpg\n",
      "generating mask\n"
     ]
    },
    {
     "name": "stdout",
     "output_type": "stream",
     "text": [
      "True->20171218-110449-3.jpg\n",
      "generating mask\n"
     ]
    },
    {
     "name": "stdout",
     "output_type": "stream",
     "text": [
      "True->20171218-110452-2.jpg\n",
      "generating mask\n"
     ]
    },
    {
     "name": "stdout",
     "output_type": "stream",
     "text": [
      "True->20171218-110511-3.jpg\n",
      "generating mask\n"
     ]
    },
    {
     "name": "stdout",
     "output_type": "stream",
     "text": [
      "True->20171218-110512-3.jpg\n",
      "generating mask\n"
     ]
    },
    {
     "name": "stdout",
     "output_type": "stream",
     "text": [
      "True->20171218-110513-2.jpg\n",
      "generating mask\n"
     ]
    },
    {
     "name": "stdout",
     "output_type": "stream",
     "text": [
      "True->20171218-110528-3.jpg\n",
      "generating mask\n"
     ]
    },
    {
     "name": "stdout",
     "output_type": "stream",
     "text": [
      "True->20171218-110544-2.jpg\n",
      "generating mask\n"
     ]
    },
    {
     "name": "stdout",
     "output_type": "stream",
     "text": [
      "True->20171218-110553-3.jpg\n",
      "generating mask\n"
     ]
    },
    {
     "name": "stdout",
     "output_type": "stream",
     "text": [
      "True->20171218-110555-3.jpg\n",
      "generating mask\n"
     ]
    },
    {
     "name": "stdout",
     "output_type": "stream",
     "text": [
      "True->20171218-110557-2.jpg\n",
      "generating mask\n"
     ]
    },
    {
     "name": "stdout",
     "output_type": "stream",
     "text": [
      "True->20171218-110607-3.jpg\n",
      "generating mask\n"
     ]
    },
    {
     "name": "stdout",
     "output_type": "stream",
     "text": [
      "True->20171218-110628-2.jpg\n",
      "generating mask\n"
     ]
    },
    {
     "name": "stdout",
     "output_type": "stream",
     "text": [
      "True->20171218-110656-3.jpg\n",
      "generating mask\n"
     ]
    },
    {
     "name": "stdout",
     "output_type": "stream",
     "text": [
      "True->20171218-110701-2.jpg\n",
      "generating mask\n"
     ]
    },
    {
     "name": "stdout",
     "output_type": "stream",
     "text": [
      "True->20171218-110718-2.jpg\n",
      "generating mask\n"
     ]
    },
    {
     "name": "stdout",
     "output_type": "stream",
     "text": [
      "True->20171218-110731-2.jpg\n",
      "generating mask\n"
     ]
    },
    {
     "name": "stdout",
     "output_type": "stream",
     "text": [
      "True->20171218-110742-2.jpg\n",
      "generating mask\n"
     ]
    },
    {
     "name": "stdout",
     "output_type": "stream",
     "text": [
      "True->20171218-110743-3.jpg\n",
      "generating mask\n"
     ]
    },
    {
     "name": "stdout",
     "output_type": "stream",
     "text": [
      "True->20171218-110809-3.jpg\n",
      "generating mask\n"
     ]
    },
    {
     "name": "stdout",
     "output_type": "stream",
     "text": [
      "True->20171218-110810-3.jpg\n",
      "generating mask\n"
     ]
    },
    {
     "name": "stdout",
     "output_type": "stream",
     "text": [
      "True->20171218-110814-2.jpg\n",
      "generating mask\n"
     ]
    },
    {
     "name": "stdout",
     "output_type": "stream",
     "text": [
      "True->20171218-110851-2.jpg\n",
      "generating mask\n"
     ]
    },
    {
     "name": "stdout",
     "output_type": "stream",
     "text": [
      "True->20171218-110855-3.jpg\n",
      "generating mask\n"
     ]
    },
    {
     "name": "stdout",
     "output_type": "stream",
     "text": [
      "True->20171218-110857-3.jpg\n",
      "generating mask\n"
     ]
    },
    {
     "name": "stdout",
     "output_type": "stream",
     "text": [
      "True->20171218-110916-2.jpg\n",
      "generating mask\n"
     ]
    },
    {
     "name": "stdout",
     "output_type": "stream",
     "text": [
      "True->20171218-110920-3.jpg\n",
      "generating mask\n"
     ]
    },
    {
     "name": "stdout",
     "output_type": "stream",
     "text": [
      "True->20171218-110926-2.jpg\n",
      "generating mask\n"
     ]
    },
    {
     "name": "stdout",
     "output_type": "stream",
     "text": [
      "True->20171218-110942-3.jpg\n",
      "generating mask\n"
     ]
    },
    {
     "name": "stdout",
     "output_type": "stream",
     "text": [
      "True->20171218-110958-2.jpg\n",
      "generating mask\n"
     ]
    },
    {
     "name": "stdout",
     "output_type": "stream",
     "text": [
      "True->20171218-111008-3.jpg\n",
      "generating mask\n"
     ]
    },
    {
     "name": "stdout",
     "output_type": "stream",
     "text": [
      "True->20171218-111019-2.jpg\n",
      "generating mask\n"
     ]
    },
    {
     "name": "stdout",
     "output_type": "stream",
     "text": [
      "True->20171218-111047-3.jpg\n",
      "generating mask\n"
     ]
    },
    {
     "name": "stdout",
     "output_type": "stream",
     "text": [
      "True->20171218-111057-2.jpg\n",
      "generating mask\n"
     ]
    },
    {
     "name": "stdout",
     "output_type": "stream",
     "text": [
      "True->20171218-111124-3.jpg\n",
      "generating mask\n"
     ]
    },
    {
     "name": "stdout",
     "output_type": "stream",
     "text": [
      "True->20171218-111125-3.jpg\n",
      "generating mask\n"
     ]
    },
    {
     "name": "stdout",
     "output_type": "stream",
     "text": [
      "True->20171218-111140-3.jpg\n",
      "generating mask\n"
     ]
    },
    {
     "name": "stdout",
     "output_type": "stream",
     "text": [
      "True->20171218-111151-3.jpg\n",
      "generating mask\n"
     ]
    },
    {
     "name": "stdout",
     "output_type": "stream",
     "text": [
      "True->20171218-111152-2.jpg\n",
      "generating mask\n"
     ]
    },
    {
     "name": "stdout",
     "output_type": "stream",
     "text": [
      "True->20171218-111201-2.jpg\n",
      "generating mask\n"
     ]
    },
    {
     "name": "stdout",
     "output_type": "stream",
     "text": [
      "True->20171218-111201-3.jpg\n",
      "generating mask\n"
     ]
    },
    {
     "name": "stdout",
     "output_type": "stream",
     "text": [
      "True->20171218-111216-2.jpg\n",
      "generating mask\n"
     ]
    },
    {
     "name": "stdout",
     "output_type": "stream",
     "text": [
      "True->20171218-111223-3.jpg\n",
      "generating mask\n"
     ]
    },
    {
     "name": "stdout",
     "output_type": "stream",
     "text": [
      "True->20171218-111238-2.jpg\n",
      "generating mask\n"
     ]
    },
    {
     "name": "stdout",
     "output_type": "stream",
     "text": [
      "True->20171218-111251-2.jpg\n",
      "generating mask\n"
     ]
    },
    {
     "name": "stdout",
     "output_type": "stream",
     "text": [
      "True->20171218-111251-3.jpg\n",
      "generating mask\n"
     ]
    },
    {
     "name": "stdout",
     "output_type": "stream",
     "text": [
      "True->20171218-111306-3.jpg\n",
      "generating mask\n"
     ]
    },
    {
     "name": "stdout",
     "output_type": "stream",
     "text": [
      "True->20171218-111318-2.jpg\n",
      "generating mask\n"
     ]
    },
    {
     "name": "stdout",
     "output_type": "stream",
     "text": [
      "True->20171218-111326-3.jpg\n",
      "generating mask\n"
     ]
    },
    {
     "name": "stdout",
     "output_type": "stream",
     "text": [
      "True->20171218-111334-2.jpg\n",
      "generating mask\n"
     ]
    },
    {
     "name": "stdout",
     "output_type": "stream",
     "text": [
      "True->20171218-111337-3.jpg\n",
      "generating mask\n"
     ]
    },
    {
     "name": "stdout",
     "output_type": "stream",
     "text": [
      "True->20171218-111345-2.jpg\n",
      "generating mask\n"
     ]
    },
    {
     "name": "stdout",
     "output_type": "stream",
     "text": [
      "True->20171218-111355-2.jpg\n",
      "generating mask\n"
     ]
    },
    {
     "name": "stdout",
     "output_type": "stream",
     "text": [
      "True->20171218-111415-2.jpg\n",
      "generating mask\n"
     ]
    },
    {
     "name": "stdout",
     "output_type": "stream",
     "text": [
      "True->20171218-111424-2.jpg\n",
      "generating mask\n"
     ]
    },
    {
     "name": "stdout",
     "output_type": "stream",
     "text": [
      "True->20171218-111435-2.jpg\n",
      "generating mask\n"
     ]
    },
    {
     "name": "stdout",
     "output_type": "stream",
     "text": [
      "True->20171218-111445-3.jpg\n",
      "generating mask\n"
     ]
    },
    {
     "name": "stdout",
     "output_type": "stream",
     "text": [
      "True->20171218-111452-2.jpg\n",
      "generating mask\n"
     ]
    },
    {
     "name": "stdout",
     "output_type": "stream",
     "text": [
      "True->20171218-111506-2.jpg\n",
      "generating mask\n"
     ]
    },
    {
     "name": "stdout",
     "output_type": "stream",
     "text": [
      "True->20171218-111555-2.jpg\n",
      "generating mask\n"
     ]
    },
    {
     "name": "stdout",
     "output_type": "stream",
     "text": [
      "True->20171218-111605-2.jpg\n",
      "generating mask\n"
     ]
    },
    {
     "name": "stdout",
     "output_type": "stream",
     "text": [
      "True->20171218-111618-3.jpg\n",
      "generating mask\n"
     ]
    },
    {
     "name": "stdout",
     "output_type": "stream",
     "text": [
      "True->20171218-111631-2.jpg\n",
      "generating mask\n"
     ]
    },
    {
     "name": "stdout",
     "output_type": "stream",
     "text": [
      "True->20171218-111648-3.jpg\n",
      "generating mask\n"
     ]
    },
    {
     "name": "stdout",
     "output_type": "stream",
     "text": [
      "True->20171218-111652-2.jpg\n",
      "generating mask\n"
     ]
    },
    {
     "name": "stdout",
     "output_type": "stream",
     "text": [
      "True->20171218-111715-2.jpg\n",
      "generating mask\n"
     ]
    },
    {
     "name": "stdout",
     "output_type": "stream",
     "text": [
      "True->20171218-111727-3.jpg\n",
      "generating mask\n"
     ]
    },
    {
     "name": "stdout",
     "output_type": "stream",
     "text": [
      "True->20171218-111729-2.jpg\n",
      "generating mask\n"
     ]
    },
    {
     "name": "stdout",
     "output_type": "stream",
     "text": [
      "True->20171218-111742-3.jpg\n",
      "generating mask\n"
     ]
    },
    {
     "name": "stdout",
     "output_type": "stream",
     "text": [
      "True->20171218-111744-3.jpg\n",
      "generating mask\n"
     ]
    },
    {
     "name": "stdout",
     "output_type": "stream",
     "text": [
      "True->20171218-111825-2.jpg\n",
      "generating mask\n"
     ]
    },
    {
     "name": "stdout",
     "output_type": "stream",
     "text": [
      "True->20171218-111830-3.jpg\n",
      "generating mask\n"
     ]
    },
    {
     "name": "stdout",
     "output_type": "stream",
     "text": [
      "True->20171218-111935-3.jpg\n",
      "generating mask\n"
     ]
    },
    {
     "name": "stdout",
     "output_type": "stream",
     "text": [
      "True->20171218-112007-3.jpg\n",
      "generating mask\n"
     ]
    },
    {
     "name": "stdout",
     "output_type": "stream",
     "text": [
      "True->20171218-112121-3.jpg\n",
      "generating mask\n"
     ]
    },
    {
     "name": "stdout",
     "output_type": "stream",
     "text": [
      "True->20171218-112135-3.jpg\n",
      "generating mask\n"
     ]
    },
    {
     "name": "stdout",
     "output_type": "stream",
     "text": [
      "True->20171218-112240-3.jpg\n",
      "generating mask\n"
     ]
    },
    {
     "name": "stdout",
     "output_type": "stream",
     "text": [
      "True->20171218-112327-3.jpg\n",
      "generating mask\n"
     ]
    },
    {
     "name": "stdout",
     "output_type": "stream",
     "text": [
      "True->20171218-112328-3.jpg\n",
      "generating mask\n"
     ]
    },
    {
     "name": "stdout",
     "output_type": "stream",
     "text": [
      "True->20171218-112359-3.jpg\n",
      "generating mask\n"
     ]
    },
    {
     "name": "stdout",
     "output_type": "stream",
     "text": [
      "True->20171218-112512-3.jpg\n",
      "generating mask\n"
     ]
    },
    {
     "name": "stdout",
     "output_type": "stream",
     "text": [
      "True->20171218-112537-3.jpg\n",
      "generating mask\n"
     ]
    },
    {
     "name": "stdout",
     "output_type": "stream",
     "text": [
      "True->20171218-112553-3.jpg\n",
      "generating mask\n"
     ]
    },
    {
     "name": "stdout",
     "output_type": "stream",
     "text": [
      "True->20171218-112608-3.jpg\n",
      "generating mask\n"
     ]
    },
    {
     "name": "stdout",
     "output_type": "stream",
     "text": [
      "True->20171218-112623-3.jpg\n",
      "generating mask\n"
     ]
    },
    {
     "name": "stdout",
     "output_type": "stream",
     "text": [
      "True->20171218-112710-3.jpg\n",
      "generating mask\n"
     ]
    },
    {
     "name": "stdout",
     "output_type": "stream",
     "text": [
      "True->20171218-112712-3.jpg\n",
      "generating mask\n"
     ]
    },
    {
     "name": "stdout",
     "output_type": "stream",
     "text": [
      "True->20171218-112736-3.jpg\n",
      "generating mask\n"
     ]
    },
    {
     "name": "stdout",
     "output_type": "stream",
     "text": [
      "True->20171218-112749-3.jpg\n",
      "generating mask\n"
     ]
    },
    {
     "name": "stdout",
     "output_type": "stream",
     "text": [
      "True->20171218-112810-3.jpg\n",
      "generating mask\n"
     ]
    },
    {
     "name": "stdout",
     "output_type": "stream",
     "text": [
      "True->20171218-112823-3.jpg\n",
      "generating mask\n"
     ]
    },
    {
     "name": "stdout",
     "output_type": "stream",
     "text": [
      "True->20171218-112909-3.jpg\n",
      "generating mask\n"
     ]
    },
    {
     "name": "stdout",
     "output_type": "stream",
     "text": [
      "True->20171218-112910-3.jpg\n",
      "generating mask\n"
     ]
    },
    {
     "name": "stdout",
     "output_type": "stream",
     "text": [
      "True->20171218-112942-3.jpg\n",
      "generating mask\n"
     ]
    },
    {
     "name": "stdout",
     "output_type": "stream",
     "text": [
      "True->20171218-112959-3.jpg\n",
      "generating mask\n"
     ]
    },
    {
     "name": "stdout",
     "output_type": "stream",
     "text": [
      "True->20171218-113013-3.jpg\n",
      "generating mask\n"
     ]
    },
    {
     "name": "stdout",
     "output_type": "stream",
     "text": [
      "True->20171218-113049-3.jpg\n",
      "generating mask\n"
     ]
    },
    {
     "name": "stdout",
     "output_type": "stream",
     "text": [
      "True->20171218-113300-3.jpg\n",
      "generating mask\n"
     ]
    },
    {
     "name": "stdout",
     "output_type": "stream",
     "text": [
      "True->20171218-113319-3.jpg\n",
      "generating mask\n"
     ]
    },
    {
     "name": "stdout",
     "output_type": "stream",
     "text": [
      "True->20171218-113429-3.jpg\n",
      "generating mask\n"
     ]
    },
    {
     "name": "stdout",
     "output_type": "stream",
     "text": [
      "True->20171218-113507-3.jpg\n",
      "generating mask\n"
     ]
    },
    {
     "name": "stdout",
     "output_type": "stream",
     "text": [
      "True->20171218-113518-3.jpg\n",
      "generating mask\n"
     ]
    },
    {
     "name": "stdout",
     "output_type": "stream",
     "text": [
      "True->20171218-113633-3.jpg\n",
      "generating mask\n"
     ]
    },
    {
     "name": "stdout",
     "output_type": "stream",
     "text": [
      "True->20171218-114650-3.jpg\n",
      "generating mask\n"
     ]
    },
    {
     "name": "stdout",
     "output_type": "stream",
     "text": [
      "True->20171218-114652-3.jpg\n",
      "generating mask\n"
     ]
    },
    {
     "name": "stdout",
     "output_type": "stream",
     "text": [
      "True->20171218-114714-2.jpg\n",
      "generating mask\n"
     ]
    },
    {
     "name": "stdout",
     "output_type": "stream",
     "text": [
      "True->20171218-114742-2.jpg\n",
      "generating mask\n"
     ]
    },
    {
     "name": "stdout",
     "output_type": "stream",
     "text": [
      "True->20171218-114755-2.jpg\n",
      "generating mask\n"
     ]
    },
    {
     "name": "stdout",
     "output_type": "stream",
     "text": [
      "True->20171218-114815-2.jpg\n",
      "generating mask\n"
     ]
    },
    {
     "name": "stdout",
     "output_type": "stream",
     "text": [
      "True->20171218-114829-3.jpg\n",
      "generating mask\n"
     ]
    },
    {
     "name": "stdout",
     "output_type": "stream",
     "text": [
      "True->20171218-114841-2.jpg\n",
      "generating mask\n"
     ]
    },
    {
     "name": "stdout",
     "output_type": "stream",
     "text": [
      "True->20171218-114855-3.jpg\n",
      "generating mask\n"
     ]
    },
    {
     "name": "stdout",
     "output_type": "stream",
     "text": [
      "True->20171218-114857-2.jpg\n",
      "generating mask\n"
     ]
    },
    {
     "name": "stdout",
     "output_type": "stream",
     "text": [
      "True->20171218-114913-3.jpg\n",
      "generating mask\n"
     ]
    },
    {
     "name": "stdout",
     "output_type": "stream",
     "text": [
      "True->20171218-114933-3.jpg\n",
      "generating mask\n"
     ]
    },
    {
     "name": "stdout",
     "output_type": "stream",
     "text": [
      "True->20171218-114956-2.jpg\n",
      "generating mask\n"
     ]
    },
    {
     "name": "stdout",
     "output_type": "stream",
     "text": [
      "True->20171218-115020-2.jpg\n",
      "generating mask\n"
     ]
    },
    {
     "name": "stdout",
     "output_type": "stream",
     "text": [
      "True->20171218-115031-2.jpg\n",
      "generating mask\n"
     ]
    },
    {
     "name": "stdout",
     "output_type": "stream",
     "text": [
      "True->20171218-115041-2.jpg\n",
      "generating mask\n"
     ]
    },
    {
     "name": "stdout",
     "output_type": "stream",
     "text": [
      "True->20171218-115100-2.jpg\n",
      "generating mask\n"
     ]
    },
    {
     "name": "stdout",
     "output_type": "stream",
     "text": [
      "True->20171218-115107-3.jpg\n",
      "generating mask\n"
     ]
    },
    {
     "name": "stdout",
     "output_type": "stream",
     "text": [
      "True->20171218-115134-3.jpg\n",
      "generating mask\n"
     ]
    },
    {
     "name": "stdout",
     "output_type": "stream",
     "text": [
      "True->20171218-115135-3.jpg\n",
      "generating mask\n"
     ]
    },
    {
     "name": "stdout",
     "output_type": "stream",
     "text": [
      "True->20171218-115146-3.jpg\n",
      "generating mask\n"
     ]
    },
    {
     "name": "stdout",
     "output_type": "stream",
     "text": [
      "True->20171218-115150-2.jpg\n",
      "generating mask\n"
     ]
    },
    {
     "name": "stdout",
     "output_type": "stream",
     "text": [
      "True->20171218-115155-3.jpg\n",
      "generating mask\n"
     ]
    },
    {
     "name": "stdout",
     "output_type": "stream",
     "text": [
      "True->20171218-115215-2.jpg\n",
      "generating mask\n"
     ]
    },
    {
     "name": "stdout",
     "output_type": "stream",
     "text": [
      "True->20171218-115229-2.jpg\n",
      "generating mask\n"
     ]
    },
    {
     "name": "stdout",
     "output_type": "stream",
     "text": [
      "True->20171218-115229-3.jpg\n",
      "generating mask\n"
     ]
    },
    {
     "name": "stdout",
     "output_type": "stream",
     "text": [
      "True->20171218-115240-2.jpg\n",
      "generating mask\n"
     ]
    },
    {
     "name": "stdout",
     "output_type": "stream",
     "text": [
      "True->20171218-115246-3.jpg\n",
      "generating mask\n"
     ]
    },
    {
     "name": "stdout",
     "output_type": "stream",
     "text": [
      "True->20171218-115247-2.jpg\n",
      "generating mask\n"
     ]
    },
    {
     "name": "stdout",
     "output_type": "stream",
     "text": [
      "True->20171218-115256-2.jpg\n",
      "generating mask\n"
     ]
    },
    {
     "name": "stdout",
     "output_type": "stream",
     "text": [
      "True->20171218-115310-2.jpg\n",
      "generating mask\n"
     ]
    },
    {
     "name": "stdout",
     "output_type": "stream",
     "text": [
      "True->20171218-115326-3.jpg\n",
      "generating mask\n"
     ]
    },
    {
     "name": "stdout",
     "output_type": "stream",
     "text": [
      "True->20171218-115327-3.jpg\n",
      "generating mask\n"
     ]
    },
    {
     "name": "stdout",
     "output_type": "stream",
     "text": [
      "True->20171218-115339-2.jpg\n",
      "generating mask\n"
     ]
    },
    {
     "name": "stdout",
     "output_type": "stream",
     "text": [
      "True->20171218-115503-3.jpg\n",
      "generating mask\n"
     ]
    },
    {
     "name": "stdout",
     "output_type": "stream",
     "text": [
      "True->20171218-115627-3.jpg\n",
      "generating mask\n"
     ]
    },
    {
     "name": "stdout",
     "output_type": "stream",
     "text": [
      "True->20171218-115704-3.jpg\n",
      "generating mask\n"
     ]
    },
    {
     "name": "stdout",
     "output_type": "stream",
     "text": [
      "True->20171218-115740-3.jpg\n",
      "generating mask\n"
     ]
    },
    {
     "name": "stdout",
     "output_type": "stream",
     "text": [
      "True->20171218-115741-3.jpg\n",
      "generating mask\n"
     ]
    },
    {
     "name": "stdout",
     "output_type": "stream",
     "text": [
      "True->20171218-115742-3.jpg\n",
      "generating mask\n"
     ]
    },
    {
     "name": "stdout",
     "output_type": "stream",
     "text": [
      "True->20171218-115821-3.jpg\n",
      "generating mask\n"
     ]
    },
    {
     "name": "stdout",
     "output_type": "stream",
     "text": [
      "True->20171218-115947-3.jpg\n",
      "generating mask\n"
     ]
    },
    {
     "name": "stdout",
     "output_type": "stream",
     "text": [
      "True->20171218-115948-2.jpg\n",
      "generating mask\n"
     ]
    },
    {
     "name": "stdout",
     "output_type": "stream",
     "text": [
      "True->20171218-115948-3.jpg\n",
      "generating mask\n"
     ]
    },
    {
     "name": "stdout",
     "output_type": "stream",
     "text": [
      "True->20171218-120003-3.jpg\n",
      "generating mask\n"
     ]
    },
    {
     "name": "stdout",
     "output_type": "stream",
     "text": [
      "True->20171218-120009-2.jpg\n",
      "generating mask\n"
     ]
    },
    {
     "name": "stdout",
     "output_type": "stream",
     "text": [
      "True->20171218-120037-2.jpg\n",
      "generating mask\n"
     ]
    },
    {
     "name": "stdout",
     "output_type": "stream",
     "text": [
      "True->20171218-120048-3.jpg\n",
      "generating mask\n"
     ]
    },
    {
     "name": "stdout",
     "output_type": "stream",
     "text": [
      "True->20171218-120102-3.jpg\n",
      "generating mask\n"
     ]
    },
    {
     "name": "stdout",
     "output_type": "stream",
     "text": [
      "True->20171218-120106-2.jpg\n",
      "generating mask\n"
     ]
    },
    {
     "name": "stdout",
     "output_type": "stream",
     "text": [
      "True->20171218-120115-3.jpg\n",
      "generating mask\n"
     ]
    },
    {
     "name": "stdout",
     "output_type": "stream",
     "text": [
      "True->20171218-120143-2.jpg\n",
      "generating mask\n"
     ]
    },
    {
     "name": "stdout",
     "output_type": "stream",
     "text": [
      "True->20171218-120144-2.jpg\n",
      "generating mask\n"
     ]
    },
    {
     "name": "stdout",
     "output_type": "stream",
     "text": [
      "True->20171218-120204-2.jpg\n",
      "generating mask\n"
     ]
    },
    {
     "name": "stdout",
     "output_type": "stream",
     "text": [
      "True->20171218-120209-3.jpg\n",
      "generating mask\n"
     ]
    },
    {
     "name": "stdout",
     "output_type": "stream",
     "text": [
      "True->20171218-120217-2.jpg\n",
      "generating mask\n"
     ]
    },
    {
     "name": "stdout",
     "output_type": "stream",
     "text": [
      "True->20171218-120223-3.jpg\n",
      "generating mask\n"
     ]
    },
    {
     "name": "stdout",
     "output_type": "stream",
     "text": [
      "True->20171218-120226-2.jpg\n",
      "generating mask\n"
     ]
    },
    {
     "name": "stdout",
     "output_type": "stream",
     "text": [
      "True->20171218-120238-3.jpg\n",
      "generating mask\n"
     ]
    },
    {
     "name": "stdout",
     "output_type": "stream",
     "text": [
      "True->20171218-120252-2.jpg\n",
      "generating mask\n"
     ]
    },
    {
     "name": "stdout",
     "output_type": "stream",
     "text": [
      "True->20171218-120300-2.jpg\n",
      "generating mask\n"
     ]
    },
    {
     "name": "stdout",
     "output_type": "stream",
     "text": [
      "True->20171218-120319-3.jpg\n",
      "generating mask\n"
     ]
    },
    {
     "name": "stdout",
     "output_type": "stream",
     "text": [
      "True->20171218-120341-2.jpg\n",
      "generating mask\n"
     ]
    },
    {
     "name": "stdout",
     "output_type": "stream",
     "text": [
      "True->20171218-120357-2.jpg\n",
      "generating mask\n"
     ]
    },
    {
     "name": "stdout",
     "output_type": "stream",
     "text": [
      "True->20171218-120427-2.jpg\n",
      "generating mask\n"
     ]
    },
    {
     "name": "stdout",
     "output_type": "stream",
     "text": [
      "True->20171218-120446-2.jpg\n",
      "generating mask\n"
     ]
    },
    {
     "name": "stdout",
     "output_type": "stream",
     "text": [
      "True->20171218-120505-3.jpg\n",
      "generating mask\n"
     ]
    },
    {
     "name": "stdout",
     "output_type": "stream",
     "text": [
      "True->20171218-120517-2.jpg\n",
      "generating mask\n"
     ]
    },
    {
     "name": "stdout",
     "output_type": "stream",
     "text": [
      "True->20171218-120628-2.jpg\n",
      "generating mask\n"
     ]
    },
    {
     "name": "stdout",
     "output_type": "stream",
     "text": [
      "True->20171218-120636-2.jpg\n",
      "generating mask\n"
     ]
    },
    {
     "name": "stdout",
     "output_type": "stream",
     "text": [
      "True->20171218-120648-3.jpg\n",
      "generating mask\n"
     ]
    },
    {
     "name": "stdout",
     "output_type": "stream",
     "text": [
      "True->20171218-120706-3.jpg\n",
      "generating mask\n"
     ]
    },
    {
     "name": "stdout",
     "output_type": "stream",
     "text": [
      "True->20171218-120712-2.jpg\n",
      "generating mask\n"
     ]
    },
    {
     "name": "stdout",
     "output_type": "stream",
     "text": [
      "True->20171218-120722-2.jpg\n",
      "generating mask\n"
     ]
    },
    {
     "name": "stdout",
     "output_type": "stream",
     "text": [
      "True->20171218-120733-3.jpg\n",
      "generating mask\n"
     ]
    },
    {
     "name": "stdout",
     "output_type": "stream",
     "text": [
      "True->20171218-120734-2.jpg\n",
      "generating mask\n"
     ]
    },
    {
     "name": "stdout",
     "output_type": "stream",
     "text": [
      "True->20171218-120748-3.jpg\n",
      "generating mask\n"
     ]
    },
    {
     "name": "stdout",
     "output_type": "stream",
     "text": [
      "True->20171218-120753-2.jpg\n",
      "generating mask\n"
     ]
    },
    {
     "name": "stdout",
     "output_type": "stream",
     "text": [
      "True->20171218-120806-3.jpg\n",
      "generating mask\n"
     ]
    },
    {
     "name": "stdout",
     "output_type": "stream",
     "text": [
      "True->20171218-120814-2.jpg\n",
      "generating mask\n"
     ]
    },
    {
     "name": "stdout",
     "output_type": "stream",
     "text": [
      "True->20171218-120819-3.jpg\n",
      "generating mask\n"
     ]
    },
    {
     "name": "stdout",
     "output_type": "stream",
     "text": [
      "True->20171218-120822-2.jpg\n",
      "generating mask\n"
     ]
    },
    {
     "name": "stdout",
     "output_type": "stream",
     "text": [
      "True->20171218-120837-3.jpg\n",
      "generating mask\n"
     ]
    },
    {
     "name": "stdout",
     "output_type": "stream",
     "text": [
      "True->20171218-120855-2.jpg\n",
      "generating mask\n"
     ]
    },
    {
     "name": "stdout",
     "output_type": "stream",
     "text": [
      "True->20171218-120916-3.jpg\n",
      "generating mask\n"
     ]
    },
    {
     "name": "stdout",
     "output_type": "stream",
     "text": [
      "True->20171218-121003-3.jpg\n",
      "generating mask\n"
     ]
    },
    {
     "name": "stdout",
     "output_type": "stream",
     "text": [
      "True->20171218-121011-2.jpg\n",
      "generating mask\n"
     ]
    },
    {
     "name": "stdout",
     "output_type": "stream",
     "text": [
      "True->20171218-121041-2.jpg\n",
      "generating mask\n"
     ]
    },
    {
     "name": "stdout",
     "output_type": "stream",
     "text": [
      "True->20171218-121043-3.jpg\n",
      "generating mask\n"
     ]
    },
    {
     "name": "stdout",
     "output_type": "stream",
     "text": [
      "True->20171218-121044-3.jpg\n",
      "generating mask\n"
     ]
    },
    {
     "name": "stdout",
     "output_type": "stream",
     "text": [
      "True->20171218-121056-2.jpg\n",
      "generating mask\n"
     ]
    },
    {
     "name": "stdout",
     "output_type": "stream",
     "text": [
      "True->20171218-121056-3.jpg\n",
      "generating mask\n"
     ]
    },
    {
     "name": "stdout",
     "output_type": "stream",
     "text": [
      "True->20171218-121113-2.jpg\n",
      "generating mask\n"
     ]
    },
    {
     "name": "stdout",
     "output_type": "stream",
     "text": [
      "True->20171218-121121-3.jpg\n",
      "generating mask\n"
     ]
    },
    {
     "name": "stdout",
     "output_type": "stream",
     "text": [
      "True->20171218-121136-3.jpg\n",
      "generating mask\n"
     ]
    },
    {
     "name": "stdout",
     "output_type": "stream",
     "text": [
      "True->20171218-121137-2.jpg\n",
      "generating mask\n"
     ]
    },
    {
     "name": "stdout",
     "output_type": "stream",
     "text": [
      "True->20171218-121138-3.jpg\n",
      "generating mask\n"
     ]
    },
    {
     "name": "stdout",
     "output_type": "stream",
     "text": [
      "True->20171218-121152-3.jpg\n",
      "generating mask\n"
     ]
    },
    {
     "name": "stdout",
     "output_type": "stream",
     "text": [
      "True->20171218-121154-2.jpg\n",
      "generating mask\n"
     ]
    },
    {
     "name": "stdout",
     "output_type": "stream",
     "text": [
      "True->20171218-121202-2.jpg\n",
      "generating mask\n"
     ]
    },
    {
     "name": "stdout",
     "output_type": "stream",
     "text": [
      "True->20171218-121218-3.jpg\n",
      "generating mask\n"
     ]
    },
    {
     "name": "stdout",
     "output_type": "stream",
     "text": [
      "True->20171218-121226-2.jpg\n",
      "generating mask\n"
     ]
    },
    {
     "name": "stdout",
     "output_type": "stream",
     "text": [
      "True->20171218-121231-3.jpg\n",
      "generating mask\n"
     ]
    },
    {
     "name": "stdout",
     "output_type": "stream",
     "text": [
      "True->20171218-121237-2.jpg\n",
      "generating mask\n"
     ]
    },
    {
     "name": "stdout",
     "output_type": "stream",
     "text": [
      "True->20171218-121243-3.jpg\n",
      "generating mask\n"
     ]
    },
    {
     "name": "stdout",
     "output_type": "stream",
     "text": [
      "True->20171218-121300-3.jpg\n",
      "generating mask\n"
     ]
    },
    {
     "name": "stdout",
     "output_type": "stream",
     "text": [
      "True->20171218-121303-2.jpg\n",
      "generating mask\n"
     ]
    },
    {
     "name": "stdout",
     "output_type": "stream",
     "text": [
      "True->20171218-121318-2.jpg\n",
      "generating mask\n"
     ]
    },
    {
     "name": "stdout",
     "output_type": "stream",
     "text": [
      "True->20171218-121328-3.jpg\n",
      "generating mask\n"
     ]
    },
    {
     "name": "stdout",
     "output_type": "stream",
     "text": [
      "True->20171218-121336-2.jpg\n",
      "generating mask\n"
     ]
    },
    {
     "name": "stdout",
     "output_type": "stream",
     "text": [
      "True->20171218-121356-2.jpg\n",
      "generating mask\n"
     ]
    },
    {
     "name": "stdout",
     "output_type": "stream",
     "text": [
      "True->20171218-121357-3.jpg\n",
      "generating mask\n"
     ]
    },
    {
     "name": "stdout",
     "output_type": "stream",
     "text": [
      "True->20171218-121358-3.jpg\n",
      "generating mask\n"
     ]
    },
    {
     "name": "stdout",
     "output_type": "stream",
     "text": [
      "True->20171218-121417-2.jpg\n",
      "generating mask\n"
     ]
    },
    {
     "name": "stdout",
     "output_type": "stream",
     "text": [
      "True->20171218-121432-2.jpg\n",
      "generating mask\n"
     ]
    },
    {
     "name": "stdout",
     "output_type": "stream",
     "text": [
      "True->20171218-121443-2.jpg\n",
      "generating mask\n"
     ]
    },
    {
     "name": "stdout",
     "output_type": "stream",
     "text": [
      "True->20171218-121457-3.jpg\n",
      "generating mask\n"
     ]
    },
    {
     "name": "stdout",
     "output_type": "stream",
     "text": [
      "True->20171218-121510-3.jpg\n",
      "generating mask\n"
     ]
    },
    {
     "name": "stdout",
     "output_type": "stream",
     "text": [
      "True->20171218-121532-2.jpg\n",
      "generating mask\n"
     ]
    },
    {
     "name": "stdout",
     "output_type": "stream",
     "text": [
      "True->20171218-121619-2.jpg\n",
      "generating mask\n"
     ]
    },
    {
     "name": "stdout",
     "output_type": "stream",
     "text": [
      "True->20171218-121630-3.jpg\n",
      "generating mask\n"
     ]
    },
    {
     "name": "stdout",
     "output_type": "stream",
     "text": [
      "True->20171218-121647-2.jpg\n",
      "generating mask\n"
     ]
    },
    {
     "name": "stdout",
     "output_type": "stream",
     "text": [
      "True->20171218-121655-2.jpg\n",
      "generating mask\n"
     ]
    },
    {
     "name": "stdout",
     "output_type": "stream",
     "text": [
      "True->20171218-121706-3.jpg\n",
      "generating mask\n"
     ]
    },
    {
     "name": "stdout",
     "output_type": "stream",
     "text": [
      "True->20171218-121707-3.jpg\n",
      "generating mask\n"
     ]
    },
    {
     "name": "stdout",
     "output_type": "stream",
     "text": [
      "True->20171218-121708-3.jpg\n",
      "generating mask\n"
     ]
    },
    {
     "name": "stdout",
     "output_type": "stream",
     "text": [
      "True->20171218-121712-2.jpg\n",
      "generating mask\n"
     ]
    },
    {
     "name": "stdout",
     "output_type": "stream",
     "text": [
      "True->20171218-121746-3.jpg\n",
      "generating mask\n"
     ]
    },
    {
     "name": "stdout",
     "output_type": "stream",
     "text": [
      "True->20171218-121803-3.jpg\n",
      "generating mask\n"
     ]
    },
    {
     "name": "stdout",
     "output_type": "stream",
     "text": [
      "True->20171218-121824-3.jpg\n",
      "generating mask\n"
     ]
    },
    {
     "name": "stdout",
     "output_type": "stream",
     "text": [
      "True->20171218-121847-2.jpg\n",
      "generating mask\n"
     ]
    },
    {
     "name": "stdout",
     "output_type": "stream",
     "text": [
      "True->20171218-121856-3.jpg\n",
      "generating mask\n"
     ]
    },
    {
     "name": "stdout",
     "output_type": "stream",
     "text": [
      "True->20171218-121857-3.jpg\n",
      "generating mask\n"
     ]
    },
    {
     "name": "stdout",
     "output_type": "stream",
     "text": [
      "True->20171218-121906-2.jpg\n",
      "generating mask\n"
     ]
    },
    {
     "name": "stdout",
     "output_type": "stream",
     "text": [
      "True->20171218-121917-2.jpg\n",
      "generating mask\n"
     ]
    },
    {
     "name": "stdout",
     "output_type": "stream",
     "text": [
      "True->20171218-121940-2.jpg\n",
      "generating mask\n"
     ]
    },
    {
     "name": "stdout",
     "output_type": "stream",
     "text": [
      "True->20171218-121944-3.jpg\n",
      "generating mask\n"
     ]
    },
    {
     "name": "stdout",
     "output_type": "stream",
     "text": [
      "True->20171218-122001-2.jpg\n",
      "generating mask\n"
     ]
    },
    {
     "name": "stdout",
     "output_type": "stream",
     "text": [
      "True->20171218-122016-2.jpg\n",
      "generating mask\n"
     ]
    },
    {
     "name": "stdout",
     "output_type": "stream",
     "text": [
      "True->20171218-122016-3.jpg\n",
      "generating mask\n"
     ]
    },
    {
     "name": "stdout",
     "output_type": "stream",
     "text": [
      "True->20171218-122019-3.jpg\n",
      "generating mask\n"
     ]
    },
    {
     "name": "stdout",
     "output_type": "stream",
     "text": [
      "True->20171218-122026-2.jpg\n",
      "generating mask\n"
     ]
    },
    {
     "name": "stdout",
     "output_type": "stream",
     "text": [
      "True->20171218-122036-2.jpg\n",
      "generating mask\n"
     ]
    },
    {
     "name": "stdout",
     "output_type": "stream",
     "text": [
      "True->20171218-122047-2.jpg\n",
      "generating mask\n"
     ]
    },
    {
     "name": "stdout",
     "output_type": "stream",
     "text": [
      "True->20171218-122058-3.jpg\n",
      "generating mask\n"
     ]
    },
    {
     "name": "stdout",
     "output_type": "stream",
     "text": [
      "True->20171218-122133-3.jpg\n",
      "generating mask\n"
     ]
    },
    {
     "name": "stdout",
     "output_type": "stream",
     "text": [
      "True->20171218-122135-2.jpg\n",
      "generating mask\n"
     ]
    },
    {
     "name": "stdout",
     "output_type": "stream",
     "text": [
      "True->20171218-122147-2.jpg\n",
      "generating mask\n"
     ]
    },
    {
     "name": "stdout",
     "output_type": "stream",
     "text": [
      "True->20171218-122149-3.jpg\n",
      "generating mask\n"
     ]
    },
    {
     "name": "stdout",
     "output_type": "stream",
     "text": [
      "True->20171218-122156-2.jpg\n",
      "generating mask\n"
     ]
    },
    {
     "name": "stdout",
     "output_type": "stream",
     "text": [
      "True->20171218-122216-3.jpg\n",
      "generating mask\n"
     ]
    },
    {
     "name": "stdout",
     "output_type": "stream",
     "text": [
      "True->20171218-122218-3.jpg\n",
      "generating mask\n"
     ]
    },
    {
     "name": "stdout",
     "output_type": "stream",
     "text": [
      "True->20171218-122235-2.jpg\n",
      "generating mask\n"
     ]
    },
    {
     "name": "stdout",
     "output_type": "stream",
     "text": [
      "True->20171218-122237-3.jpg\n",
      "generating mask\n"
     ]
    },
    {
     "name": "stdout",
     "output_type": "stream",
     "text": [
      "True->20171219-092644-3.jpg\n",
      "generating mask\n"
     ]
    },
    {
     "name": "stdout",
     "output_type": "stream",
     "text": [
      "True->20171219-092659-3.jpg\n",
      "generating mask\n"
     ]
    },
    {
     "name": "stdout",
     "output_type": "stream",
     "text": [
      "True->20171219-092706-2.jpg\n",
      "generating mask\n"
     ]
    },
    {
     "name": "stdout",
     "output_type": "stream",
     "text": [
      "True->20171219-092715-3.jpg\n",
      "generating mask\n"
     ]
    },
    {
     "name": "stdout",
     "output_type": "stream",
     "text": [
      "True->20171219-092722-2.jpg\n",
      "generating mask\n"
     ]
    },
    {
     "name": "stdout",
     "output_type": "stream",
     "text": [
      "True->20171219-092731-3.jpg\n",
      "generating mask\n"
     ]
    },
    {
     "name": "stdout",
     "output_type": "stream",
     "text": [
      "True->20171219-092736-2.jpg\n",
      "generating mask\n"
     ]
    },
    {
     "name": "stdout",
     "output_type": "stream",
     "text": [
      "True->20171219-092749-3.jpg\n",
      "generating mask\n"
     ]
    },
    {
     "name": "stdout",
     "output_type": "stream",
     "text": [
      "True->20171219-092756-2.jpg\n",
      "generating mask\n"
     ]
    },
    {
     "name": "stdout",
     "output_type": "stream",
     "text": [
      "True->20171219-092757-2.jpg\n",
      "generating mask\n"
     ]
    },
    {
     "name": "stdout",
     "output_type": "stream",
     "text": [
      "True->20171219-092809-2.jpg\n",
      "generating mask\n"
     ]
    },
    {
     "name": "stdout",
     "output_type": "stream",
     "text": [
      "True->20171219-092824-3.jpg\n",
      "generating mask\n"
     ]
    },
    {
     "name": "stdout",
     "output_type": "stream",
     "text": [
      "True->20171219-092837-2.jpg\n",
      "generating mask\n"
     ]
    },
    {
     "name": "stdout",
     "output_type": "stream",
     "text": [
      "True->20171219-092846-3.jpg\n",
      "generating mask\n"
     ]
    },
    {
     "name": "stdout",
     "output_type": "stream",
     "text": [
      "True->20171219-092854-2.jpg\n",
      "generating mask\n"
     ]
    },
    {
     "name": "stdout",
     "output_type": "stream",
     "text": [
      "True->20171219-092905-3.jpg\n",
      "generating mask\n"
     ]
    },
    {
     "name": "stdout",
     "output_type": "stream",
     "text": [
      "True->20171219-092908-2.jpg\n",
      "generating mask\n"
     ]
    },
    {
     "name": "stdout",
     "output_type": "stream",
     "text": [
      "True->20171219-092939-3.jpg\n",
      "generating mask\n"
     ]
    },
    {
     "name": "stdout",
     "output_type": "stream",
     "text": [
      "True->20171219-092952-3.jpg\n",
      "generating mask\n"
     ]
    },
    {
     "name": "stdout",
     "output_type": "stream",
     "text": [
      "True->20171219-093001-2.jpg\n",
      "generating mask\n"
     ]
    },
    {
     "name": "stdout",
     "output_type": "stream",
     "text": [
      "True->20171219-093002-2.jpg\n",
      "generating mask\n"
     ]
    },
    {
     "name": "stdout",
     "output_type": "stream",
     "text": [
      "True->20171219-093032-2.jpg\n",
      "generating mask\n"
     ]
    },
    {
     "name": "stdout",
     "output_type": "stream",
     "text": [
      "True->20171219-093043-3.jpg\n",
      "generating mask\n"
     ]
    },
    {
     "name": "stdout",
     "output_type": "stream",
     "text": [
      "True->20171219-093048-2.jpg\n",
      "generating mask\n"
     ]
    },
    {
     "name": "stdout",
     "output_type": "stream",
     "text": [
      "True->20171219-093103-3.jpg\n",
      "generating mask\n"
     ]
    },
    {
     "name": "stdout",
     "output_type": "stream",
     "text": [
      "True->20171219-093106-2.jpg\n",
      "generating mask\n"
     ]
    },
    {
     "name": "stdout",
     "output_type": "stream",
     "text": [
      "True->20171219-093120-3.jpg\n",
      "generating mask\n"
     ]
    },
    {
     "name": "stdout",
     "output_type": "stream",
     "text": [
      "True->20171219-093202-2.jpg\n",
      "generating mask\n"
     ]
    },
    {
     "name": "stdout",
     "output_type": "stream",
     "text": [
      "True->20171219-093202-3.jpg\n",
      "generating mask\n"
     ]
    },
    {
     "name": "stdout",
     "output_type": "stream",
     "text": [
      "True->20171219-093218-2.jpg\n",
      "generating mask\n"
     ]
    },
    {
     "name": "stdout",
     "output_type": "stream",
     "text": [
      "True->20171219-093241-3.jpg\n",
      "generating mask\n"
     ]
    },
    {
     "name": "stdout",
     "output_type": "stream",
     "text": [
      "True->20171219-093256-2.jpg\n",
      "generating mask\n"
     ]
    },
    {
     "name": "stdout",
     "output_type": "stream",
     "text": [
      "True->20171219-093257-2.jpg\n",
      "generating mask\n"
     ]
    },
    {
     "name": "stdout",
     "output_type": "stream",
     "text": [
      "True->20171219-093258-2.jpg\n",
      "generating mask\n"
     ]
    },
    {
     "name": "stdout",
     "output_type": "stream",
     "text": [
      "True->20171219-093306-3.jpg\n",
      "generating mask\n"
     ]
    },
    {
     "name": "stdout",
     "output_type": "stream",
     "text": [
      "True->20171219-093321-2.jpg\n",
      "generating mask\n"
     ]
    },
    {
     "name": "stdout",
     "output_type": "stream",
     "text": [
      "True->20171219-093341-3.jpg\n",
      "generating mask\n"
     ]
    },
    {
     "name": "stdout",
     "output_type": "stream",
     "text": [
      "True->20171219-093358-2.jpg\n",
      "generating mask\n"
     ]
    },
    {
     "name": "stdout",
     "output_type": "stream",
     "text": [
      "True->20171219-093410-3.jpg\n",
      "generating mask\n"
     ]
    },
    {
     "name": "stdout",
     "output_type": "stream",
     "text": [
      "True->20171219-093430-2.jpg\n",
      "generating mask\n"
     ]
    },
    {
     "name": "stdout",
     "output_type": "stream",
     "text": [
      "True->20171219-093440-3.jpg\n",
      "generating mask\n"
     ]
    },
    {
     "name": "stdout",
     "output_type": "stream",
     "text": [
      "True->20171219-093534-2.jpg\n",
      "generating mask\n"
     ]
    },
    {
     "name": "stdout",
     "output_type": "stream",
     "text": [
      "True->20171219-093535-2.jpg\n",
      "generating mask\n"
     ]
    },
    {
     "name": "stdout",
     "output_type": "stream",
     "text": [
      "True->20171219-093659-2.jpg\n",
      "generating mask\n"
     ]
    },
    {
     "name": "stdout",
     "output_type": "stream",
     "text": [
      "True->20171219-093737-2.jpg\n",
      "generating mask\n"
     ]
    },
    {
     "name": "stdout",
     "output_type": "stream",
     "text": [
      "True->20171219-093752-2.jpg\n",
      "generating mask\n"
     ]
    },
    {
     "name": "stdout",
     "output_type": "stream",
     "text": [
      "True->20171219-093801-3.jpg\n",
      "generating mask\n"
     ]
    },
    {
     "name": "stdout",
     "output_type": "stream",
     "text": [
      "True->20171219-093807-2.jpg\n",
      "generating mask\n"
     ]
    },
    {
     "name": "stdout",
     "output_type": "stream",
     "text": [
      "True->20171219-093904-2.jpg\n",
      "generating mask\n"
     ]
    },
    {
     "name": "stdout",
     "output_type": "stream",
     "text": [
      "True->20171219-093925-3.jpg\n",
      "generating mask\n"
     ]
    },
    {
     "name": "stdout",
     "output_type": "stream",
     "text": [
      "True->20171219-093944-3.jpg\n",
      "generating mask\n"
     ]
    },
    {
     "name": "stdout",
     "output_type": "stream",
     "text": [
      "True->20171219-094000-2.jpg\n",
      "generating mask\n"
     ]
    },
    {
     "name": "stdout",
     "output_type": "stream",
     "text": [
      "True->20171219-094001-3.jpg\n",
      "generating mask\n"
     ]
    },
    {
     "name": "stdout",
     "output_type": "stream",
     "text": [
      "True->20171219-094002-2.jpg\n",
      "generating mask\n"
     ]
    },
    {
     "name": "stdout",
     "output_type": "stream",
     "text": [
      "True->20171219-094017-3.jpg\n",
      "generating mask\n"
     ]
    },
    {
     "name": "stdout",
     "output_type": "stream",
     "text": [
      "True->20171219-094023-3.jpg\n",
      "generating mask\n"
     ]
    },
    {
     "name": "stdout",
     "output_type": "stream",
     "text": [
      "True->20171219-094029-2.jpg\n",
      "generating mask\n"
     ]
    },
    {
     "name": "stdout",
     "output_type": "stream",
     "text": [
      "True->20171219-094042-2.jpg\n",
      "generating mask\n"
     ]
    },
    {
     "name": "stdout",
     "output_type": "stream",
     "text": [
      "True->20171219-094128-3.jpg\n",
      "generating mask\n"
     ]
    },
    {
     "name": "stdout",
     "output_type": "stream",
     "text": [
      "True->20171219-094200-3.jpg\n",
      "generating mask\n"
     ]
    },
    {
     "name": "stdout",
     "output_type": "stream",
     "text": [
      "True->20171219-094201-2.jpg\n",
      "generating mask\n"
     ]
    },
    {
     "name": "stdout",
     "output_type": "stream",
     "text": [
      "True->20171219-094215-2.jpg\n",
      "generating mask\n"
     ]
    },
    {
     "name": "stdout",
     "output_type": "stream",
     "text": [
      "True->20171219-094230-2.jpg\n",
      "generating mask\n"
     ]
    },
    {
     "name": "stdout",
     "output_type": "stream",
     "text": [
      "True->20171219-094242-2.jpg\n",
      "generating mask\n"
     ]
    },
    {
     "name": "stdout",
     "output_type": "stream",
     "text": [
      "True->20171219-094325-2.jpg\n",
      "generating mask\n"
     ]
    },
    {
     "name": "stdout",
     "output_type": "stream",
     "text": [
      "True->20171219-094325-3.jpg\n",
      "generating mask\n"
     ]
    },
    {
     "name": "stdout",
     "output_type": "stream",
     "text": [
      "True->20171219-094345-2.jpg\n",
      "generating mask\n"
     ]
    },
    {
     "name": "stdout",
     "output_type": "stream",
     "text": [
      "True->20171219-094353-3.jpg\n",
      "generating mask\n"
     ]
    },
    {
     "name": "stdout",
     "output_type": "stream",
     "text": [
      "True->20171219-094400-2.jpg\n",
      "generating mask\n"
     ]
    },
    {
     "name": "stdout",
     "output_type": "stream",
     "text": [
      "True->20171219-094406-3.jpg\n",
      "generating mask\n"
     ]
    },
    {
     "name": "stdout",
     "output_type": "stream",
     "text": [
      "True->20171219-094440-3.jpg\n",
      "generating mask\n"
     ]
    },
    {
     "name": "stdout",
     "output_type": "stream",
     "text": [
      "True->20171219-094456-3.jpg\n",
      "generating mask\n"
     ]
    },
    {
     "name": "stdout",
     "output_type": "stream",
     "text": [
      "True->20171219-094510-2.jpg\n",
      "generating mask\n"
     ]
    },
    {
     "name": "stdout",
     "output_type": "stream",
     "text": [
      "True->20171219-094511-2.jpg\n",
      "generating mask\n"
     ]
    },
    {
     "name": "stdout",
     "output_type": "stream",
     "text": [
      "True->20171219-094530-2.jpg\n",
      "generating mask\n"
     ]
    },
    {
     "name": "stdout",
     "output_type": "stream",
     "text": [
      "True->20171219-094535-3.jpg\n",
      "generating mask\n"
     ]
    },
    {
     "name": "stdout",
     "output_type": "stream",
     "text": [
      "True->20171219-094611-3.jpg\n",
      "generating mask\n"
     ]
    },
    {
     "name": "stdout",
     "output_type": "stream",
     "text": [
      "True->20171219-094623-2.jpg\n",
      "generating mask\n"
     ]
    },
    {
     "name": "stdout",
     "output_type": "stream",
     "text": [
      "True->20171219-094637-3.jpg\n",
      "generating mask\n"
     ]
    },
    {
     "name": "stdout",
     "output_type": "stream",
     "text": [
      "True->20171219-094640-2.jpg\n",
      "generating mask\n"
     ]
    },
    {
     "name": "stdout",
     "output_type": "stream",
     "text": [
      "True->20171219-094648-3.jpg\n",
      "generating mask\n"
     ]
    },
    {
     "name": "stdout",
     "output_type": "stream",
     "text": [
      "True->20171219-094654-2.jpg\n",
      "generating mask\n"
     ]
    },
    {
     "name": "stdout",
     "output_type": "stream",
     "text": [
      "True->20171219-094700-3.jpg\n",
      "generating mask\n"
     ]
    },
    {
     "name": "stdout",
     "output_type": "stream",
     "text": [
      "True->20171219-094706-2.jpg\n",
      "generating mask\n"
     ]
    },
    {
     "name": "stdout",
     "output_type": "stream",
     "text": [
      "True->20171219-094720-2.jpg\n",
      "generating mask\n"
     ]
    },
    {
     "name": "stdout",
     "output_type": "stream",
     "text": [
      "True->20171219-094732-2.jpg\n",
      "generating mask\n"
     ]
    },
    {
     "name": "stdout",
     "output_type": "stream",
     "text": [
      "True->20171219-094754-2.jpg\n",
      "generating mask\n"
     ]
    },
    {
     "name": "stdout",
     "output_type": "stream",
     "text": [
      "True->20171219-094807-3.jpg\n",
      "generating mask\n"
     ]
    },
    {
     "name": "stdout",
     "output_type": "stream",
     "text": [
      "True->20171219-094811-2.jpg\n",
      "generating mask\n"
     ]
    },
    {
     "name": "stdout",
     "output_type": "stream",
     "text": [
      "True->20171219-094823-3.jpg\n",
      "generating mask\n"
     ]
    },
    {
     "name": "stdout",
     "output_type": "stream",
     "text": [
      "True->20171219-094840-2.jpg\n",
      "generating mask\n"
     ]
    },
    {
     "name": "stdout",
     "output_type": "stream",
     "text": [
      "True->20171219-094840-3.jpg\n",
      "generating mask\n"
     ]
    },
    {
     "name": "stdout",
     "output_type": "stream",
     "text": [
      "True->20171219-094851-2.jpg\n",
      "generating mask\n"
     ]
    },
    {
     "name": "stdout",
     "output_type": "stream",
     "text": [
      "True->20171219-094927-2.jpg\n",
      "generating mask\n"
     ]
    },
    {
     "name": "stdout",
     "output_type": "stream",
     "text": [
      "True->20171219-094930-3.jpg\n",
      "generating mask\n"
     ]
    },
    {
     "name": "stdout",
     "output_type": "stream",
     "text": [
      "True->20171219-094937-2.jpg\n",
      "generating mask\n"
     ]
    },
    {
     "name": "stdout",
     "output_type": "stream",
     "text": [
      "True->20171219-094941-3.jpg\n",
      "generating mask\n"
     ]
    },
    {
     "name": "stdout",
     "output_type": "stream",
     "text": [
      "True->20171219-095001-2.jpg\n",
      "generating mask\n"
     ]
    },
    {
     "name": "stdout",
     "output_type": "stream",
     "text": [
      "True->20171219-095011-2.jpg\n",
      "generating mask\n"
     ]
    },
    {
     "name": "stdout",
     "output_type": "stream",
     "text": [
      "True->20171219-095012-3.jpg\n",
      "generating mask\n"
     ]
    },
    {
     "name": "stdout",
     "output_type": "stream",
     "text": [
      "True->20171219-095036-2.jpg\n",
      "generating mask\n"
     ]
    },
    {
     "name": "stdout",
     "output_type": "stream",
     "text": [
      "True->20171219-095037-2.jpg\n",
      "generating mask\n"
     ]
    },
    {
     "name": "stdout",
     "output_type": "stream",
     "text": [
      "True->20171219-095039-3.jpg\n",
      "generating mask\n"
     ]
    },
    {
     "name": "stdout",
     "output_type": "stream",
     "text": [
      "True->20171219-095051-3.jpg\n",
      "generating mask\n"
     ]
    },
    {
     "name": "stdout",
     "output_type": "stream",
     "text": [
      "True->20171219-095055-2.jpg\n",
      "generating mask\n"
     ]
    },
    {
     "name": "stdout",
     "output_type": "stream",
     "text": [
      "True->20171219-095119-3.jpg\n",
      "generating mask\n"
     ]
    },
    {
     "name": "stdout",
     "output_type": "stream",
     "text": [
      "True->20171219-095131-2.jpg\n",
      "generating mask\n"
     ]
    },
    {
     "name": "stdout",
     "output_type": "stream",
     "text": [
      "True->20171219-095132-2.jpg\n",
      "generating mask\n"
     ]
    },
    {
     "name": "stdout",
     "output_type": "stream",
     "text": [
      "True->20171219-095133-2.jpg\n",
      "generating mask\n"
     ]
    },
    {
     "name": "stdout",
     "output_type": "stream",
     "text": [
      "True->20171219-095150-2.jpg\n",
      "generating mask\n"
     ]
    },
    {
     "name": "stdout",
     "output_type": "stream",
     "text": [
      "True->20171219-095213-2.jpg\n",
      "generating mask\n"
     ]
    },
    {
     "name": "stdout",
     "output_type": "stream",
     "text": [
      "True->20171219-095213-3.jpg\n",
      "generating mask\n"
     ]
    },
    {
     "name": "stdout",
     "output_type": "stream",
     "text": [
      "True->20171219-095223-2.jpg\n",
      "generating mask\n"
     ]
    },
    {
     "name": "stdout",
     "output_type": "stream",
     "text": [
      "True->20171219-095232-3.jpg\n",
      "generating mask\n"
     ]
    },
    {
     "name": "stdout",
     "output_type": "stream",
     "text": [
      "True->20171219-095245-2.jpg\n",
      "generating mask\n"
     ]
    },
    {
     "name": "stdout",
     "output_type": "stream",
     "text": [
      "True->20171219-095246-2.jpg\n",
      "generating mask\n"
     ]
    },
    {
     "name": "stdout",
     "output_type": "stream",
     "text": [
      "True->20171219-095309-3.jpg\n",
      "generating mask\n"
     ]
    },
    {
     "name": "stdout",
     "output_type": "stream",
     "text": [
      "True->20171219-095321-2.jpg\n",
      "generating mask\n"
     ]
    },
    {
     "name": "stdout",
     "output_type": "stream",
     "text": [
      "True->20171219-095328-3.jpg\n",
      "generating mask\n"
     ]
    },
    {
     "name": "stdout",
     "output_type": "stream",
     "text": [
      "True->20171219-095338-3.jpg\n",
      "generating mask\n"
     ]
    },
    {
     "name": "stdout",
     "output_type": "stream",
     "text": [
      "True->20171219-095342-2.jpg\n",
      "generating mask\n"
     ]
    },
    {
     "name": "stdout",
     "output_type": "stream",
     "text": [
      "True->20171219-095343-2.jpg\n",
      "generating mask\n"
     ]
    },
    {
     "name": "stdout",
     "output_type": "stream",
     "text": [
      "True->20171219-095353-2.jpg\n",
      "generating mask\n"
     ]
    },
    {
     "name": "stdout",
     "output_type": "stream",
     "text": [
      "True->20171219-095359-3.jpg\n",
      "generating mask\n"
     ]
    },
    {
     "name": "stdout",
     "output_type": "stream",
     "text": [
      "True->20171219-095415-3.jpg\n",
      "generating mask\n"
     ]
    },
    {
     "name": "stdout",
     "output_type": "stream",
     "text": [
      "True->20171219-095426-2.jpg\n",
      "generating mask\n"
     ]
    },
    {
     "name": "stdout",
     "output_type": "stream",
     "text": [
      "True->20171219-095437-3.jpg\n",
      "generating mask\n"
     ]
    },
    {
     "name": "stdout",
     "output_type": "stream",
     "text": [
      "True->20171219-095453-2.jpg\n",
      "generating mask\n"
     ]
    },
    {
     "name": "stdout",
     "output_type": "stream",
     "text": [
      "True->20171219-095514-2.jpg\n",
      "generating mask\n"
     ]
    },
    {
     "name": "stdout",
     "output_type": "stream",
     "text": [
      "True->20171219-095525-2.jpg\n",
      "generating mask\n"
     ]
    },
    {
     "name": "stdout",
     "output_type": "stream",
     "text": [
      "True->20171219-095528-3.jpg\n",
      "generating mask\n"
     ]
    },
    {
     "name": "stdout",
     "output_type": "stream",
     "text": [
      "True->20171219-095551-3.jpg\n",
      "generating mask\n"
     ]
    },
    {
     "name": "stdout",
     "output_type": "stream",
     "text": [
      "True->20171219-095558-2.jpg\n",
      "generating mask\n"
     ]
    },
    {
     "name": "stdout",
     "output_type": "stream",
     "text": [
      "True->20171219-095602-3.jpg\n",
      "generating mask\n"
     ]
    },
    {
     "name": "stdout",
     "output_type": "stream",
     "text": [
      "True->20171219-095615-3.jpg\n",
      "generating mask\n"
     ]
    },
    {
     "name": "stdout",
     "output_type": "stream",
     "text": [
      "True->20171219-095621-2.jpg\n",
      "generating mask\n"
     ]
    },
    {
     "name": "stdout",
     "output_type": "stream",
     "text": [
      "True->20171219-095622-2.jpg\n",
      "generating mask\n"
     ]
    },
    {
     "name": "stdout",
     "output_type": "stream",
     "text": [
      "True->20171219-095636-2.jpg\n",
      "generating mask\n"
     ]
    },
    {
     "name": "stdout",
     "output_type": "stream",
     "text": [
      "True->20171219-095638-3.jpg\n",
      "generating mask\n"
     ]
    },
    {
     "name": "stdout",
     "output_type": "stream",
     "text": [
      "True->20171219-095652-3.jpg\n",
      "generating mask\n"
     ]
    },
    {
     "name": "stdout",
     "output_type": "stream",
     "text": [
      "True->20171219-095730-2.jpg\n",
      "generating mask\n"
     ]
    },
    {
     "name": "stdout",
     "output_type": "stream",
     "text": [
      "True->20171219-095742-2.jpg\n",
      "generating mask\n"
     ]
    },
    {
     "name": "stdout",
     "output_type": "stream",
     "text": [
      "True->20171219-095804-2.jpg\n",
      "generating mask\n"
     ]
    },
    {
     "name": "stdout",
     "output_type": "stream",
     "text": [
      "True->20171219-095838-3.jpg\n",
      "generating mask\n"
     ]
    },
    {
     "name": "stdout",
     "output_type": "stream",
     "text": [
      "True->20171219-095843-2.jpg\n",
      "generating mask\n"
     ]
    },
    {
     "name": "stdout",
     "output_type": "stream",
     "text": [
      "True->20171219-095902-2.jpg\n",
      "generating mask\n"
     ]
    },
    {
     "name": "stdout",
     "output_type": "stream",
     "text": [
      "True->20171219-095916-2.jpg\n",
      "generating mask\n"
     ]
    },
    {
     "name": "stdout",
     "output_type": "stream",
     "text": [
      "True->20171219-095936-2.jpg\n",
      "generating mask\n"
     ]
    },
    {
     "name": "stdout",
     "output_type": "stream",
     "text": [
      "True->20171219-095936-3.jpg\n",
      "generating mask\n"
     ]
    },
    {
     "name": "stdout",
     "output_type": "stream",
     "text": [
      "True->20171219-095947-2.jpg\n",
      "generating mask\n"
     ]
    },
    {
     "name": "stdout",
     "output_type": "stream",
     "text": [
      "True->20171219-100000-2.jpg\n",
      "generating mask\n"
     ]
    },
    {
     "name": "stdout",
     "output_type": "stream",
     "text": [
      "True->20171219-100023-3.jpg\n",
      "generating mask\n"
     ]
    },
    {
     "name": "stdout",
     "output_type": "stream",
     "text": [
      "True->20171219-100025-2.jpg\n",
      "generating mask\n"
     ]
    },
    {
     "name": "stdout",
     "output_type": "stream",
     "text": [
      "True->20171219-100026-2.jpg\n",
      "generating mask\n"
     ]
    },
    {
     "name": "stdout",
     "output_type": "stream",
     "text": [
      "True->20171219-100049-2.jpg\n",
      "generating mask\n"
     ]
    },
    {
     "name": "stdout",
     "output_type": "stream",
     "text": [
      "True->20171219-100101-3.jpg\n",
      "generating mask\n"
     ]
    },
    {
     "name": "stdout",
     "output_type": "stream",
     "text": [
      "True->20171219-100147-3.jpg\n",
      "generating mask\n"
     ]
    },
    {
     "name": "stdout",
     "output_type": "stream",
     "text": [
      "True->20171219-100149-2.jpg\n",
      "generating mask\n"
     ]
    },
    {
     "name": "stdout",
     "output_type": "stream",
     "text": [
      "True->20171219-100150-2.jpg\n",
      "generating mask\n"
     ]
    },
    {
     "name": "stdout",
     "output_type": "stream",
     "text": [
      "True->20171219-100221-2.jpg\n",
      "generating mask\n"
     ]
    },
    {
     "name": "stdout",
     "output_type": "stream",
     "text": [
      "True->20171219-100242-3.jpg\n",
      "generating mask\n"
     ]
    },
    {
     "name": "stdout",
     "output_type": "stream",
     "text": [
      "True->20171219-100301-3.jpg\n",
      "generating mask\n"
     ]
    },
    {
     "name": "stdout",
     "output_type": "stream",
     "text": [
      "True->20171219-100344-2.jpg\n",
      "generating mask\n"
     ]
    },
    {
     "name": "stdout",
     "output_type": "stream",
     "text": [
      "True->20171219-100345-2.jpg\n",
      "generating mask\n"
     ]
    },
    {
     "name": "stdout",
     "output_type": "stream",
     "text": [
      "True->20171219-100402-2.jpg\n",
      "generating mask\n"
     ]
    },
    {
     "name": "stdout",
     "output_type": "stream",
     "text": [
      "True->20171219-100442-2.jpg\n",
      "generating mask\n"
     ]
    },
    {
     "name": "stdout",
     "output_type": "stream",
     "text": [
      "True->20171219-100443-2.jpg\n",
      "generating mask\n"
     ]
    },
    {
     "name": "stdout",
     "output_type": "stream",
     "text": [
      "True->20171219-100454-2.jpg\n",
      "generating mask\n"
     ]
    },
    {
     "name": "stdout",
     "output_type": "stream",
     "text": [
      "True->20171219-100557-2.jpg\n",
      "generating mask\n"
     ]
    },
    {
     "name": "stdout",
     "output_type": "stream",
     "text": [
      "True->20171219-100558-2.jpg\n",
      "generating mask\n"
     ]
    },
    {
     "name": "stdout",
     "output_type": "stream",
     "text": [
      "True->20171219-100606-2.jpg\n",
      "generating mask\n"
     ]
    },
    {
     "name": "stdout",
     "output_type": "stream",
     "text": [
      "True->20171219-100607-2.jpg\n",
      "generating mask\n"
     ]
    },
    {
     "name": "stdout",
     "output_type": "stream",
     "text": [
      "True->20171219-100626-3.jpg\n",
      "generating mask\n"
     ]
    },
    {
     "name": "stdout",
     "output_type": "stream",
     "text": [
      "True->20171219-100650-3.jpg\n",
      "generating mask\n"
     ]
    },
    {
     "name": "stdout",
     "output_type": "stream",
     "text": [
      "True->20171219-100707-2.jpg\n",
      "generating mask\n"
     ]
    },
    {
     "name": "stdout",
     "output_type": "stream",
     "text": [
      "True->20171219-100707-3.jpg\n",
      "generating mask\n"
     ]
    },
    {
     "name": "stdout",
     "output_type": "stream",
     "text": [
      "True->20171219-100734-3.jpg\n",
      "generating mask\n"
     ]
    },
    {
     "name": "stdout",
     "output_type": "stream",
     "text": [
      "True->20171219-100758-2.jpg\n",
      "generating mask\n"
     ]
    },
    {
     "name": "stdout",
     "output_type": "stream",
     "text": [
      "True->20171219-100818-2.jpg\n",
      "generating mask\n"
     ]
    },
    {
     "name": "stdout",
     "output_type": "stream",
     "text": [
      "True->20171219-100828-2.jpg\n",
      "generating mask\n"
     ]
    },
    {
     "name": "stdout",
     "output_type": "stream",
     "text": [
      "True->20171219-100842-2.jpg\n",
      "generating mask\n"
     ]
    },
    {
     "name": "stdout",
     "output_type": "stream",
     "text": [
      "True->20171219-100901-3.jpg\n",
      "generating mask\n"
     ]
    },
    {
     "name": "stdout",
     "output_type": "stream",
     "text": [
      "True->20171219-100954-3.jpg\n",
      "generating mask\n"
     ]
    },
    {
     "name": "stdout",
     "output_type": "stream",
     "text": [
      "True->20171219-101027-3.jpg\n",
      "generating mask\n"
     ]
    },
    {
     "name": "stdout",
     "output_type": "stream",
     "text": [
      "True->20171219-101052-2.jpg\n",
      "generating mask\n"
     ]
    },
    {
     "name": "stdout",
     "output_type": "stream",
     "text": [
      "True->20171219-101115-3.jpg\n",
      "generating mask\n"
     ]
    },
    {
     "name": "stdout",
     "output_type": "stream",
     "text": [
      "True->20171219-101116-2.jpg\n",
      "generating mask\n"
     ]
    },
    {
     "name": "stdout",
     "output_type": "stream",
     "text": [
      "True->20171219-101129-2.jpg\n",
      "generating mask\n"
     ]
    },
    {
     "name": "stdout",
     "output_type": "stream",
     "text": [
      "True->20171219-101153-3.jpg\n",
      "generating mask\n"
     ]
    },
    {
     "name": "stdout",
     "output_type": "stream",
     "text": [
      "True->20171219-101159-2.jpg\n",
      "generating mask\n"
     ]
    },
    {
     "name": "stdout",
     "output_type": "stream",
     "text": [
      "True->20171219-101216-2.jpg\n",
      "generating mask\n"
     ]
    },
    {
     "name": "stdout",
     "output_type": "stream",
     "text": [
      "True->20171219-101256-2.jpg\n",
      "generating mask\n"
     ]
    },
    {
     "name": "stdout",
     "output_type": "stream",
     "text": [
      "True->20171219-101321-3.jpg\n",
      "generating mask\n"
     ]
    },
    {
     "name": "stdout",
     "output_type": "stream",
     "text": [
      "True->20171219-101339-3.jpg\n",
      "generating mask\n"
     ]
    },
    {
     "name": "stdout",
     "output_type": "stream",
     "text": [
      "True->20171219-101341-2.jpg\n",
      "generating mask\n"
     ]
    },
    {
     "name": "stdout",
     "output_type": "stream",
     "text": [
      "True->20171219-101358-2.jpg\n",
      "generating mask\n"
     ]
    },
    {
     "name": "stdout",
     "output_type": "stream",
     "text": [
      "True->20171219-101412-3.jpg\n",
      "generating mask\n"
     ]
    },
    {
     "name": "stdout",
     "output_type": "stream",
     "text": [
      "True->20171219-101449-2.jpg\n",
      "generating mask\n"
     ]
    },
    {
     "name": "stdout",
     "output_type": "stream",
     "text": [
      "True->20171219-101508-2.jpg\n",
      "generating mask\n"
     ]
    },
    {
     "name": "stdout",
     "output_type": "stream",
     "text": [
      "True->20171219-101509-2.jpg\n",
      "generating mask\n"
     ]
    },
    {
     "name": "stdout",
     "output_type": "stream",
     "text": [
      "True->20171219-101528-2.jpg\n",
      "generating mask\n"
     ]
    },
    {
     "name": "stdout",
     "output_type": "stream",
     "text": [
      "True->20171219-101538-3.jpg\n",
      "generating mask\n"
     ]
    },
    {
     "name": "stdout",
     "output_type": "stream",
     "text": [
      "True->20171219-101616-2.jpg\n",
      "generating mask\n"
     ]
    },
    {
     "name": "stdout",
     "output_type": "stream",
     "text": [
      "True->20171219-101702-2.jpg\n",
      "generating mask\n"
     ]
    },
    {
     "name": "stdout",
     "output_type": "stream",
     "text": [
      "True->20171219-101736-2.jpg\n",
      "generating mask\n"
     ]
    },
    {
     "name": "stdout",
     "output_type": "stream",
     "text": [
      "True->20171219-101744-3.jpg\n",
      "generating mask\n"
     ]
    },
    {
     "name": "stdout",
     "output_type": "stream",
     "text": [
      "True->20171219-101831-3.jpg\n",
      "generating mask\n"
     ]
    },
    {
     "name": "stdout",
     "output_type": "stream",
     "text": [
      "True->20171219-101900-3.jpg\n",
      "generating mask\n"
     ]
    },
    {
     "name": "stdout",
     "output_type": "stream",
     "text": [
      "True->20171219-101903-2.jpg\n",
      "generating mask\n"
     ]
    },
    {
     "name": "stdout",
     "output_type": "stream",
     "text": [
      "True->20171219-101912-3.jpg\n",
      "generating mask\n"
     ]
    },
    {
     "name": "stdout",
     "output_type": "stream",
     "text": [
      "True->20171219-101935-3.jpg\n",
      "generating mask\n"
     ]
    }
   ],
   "source": [
    "for file in sorted(files_d):\n",
    "        pipline(file,mask_generator)"
   ]
  },
  {
   "cell_type": "code",
   "execution_count": null,
   "id": "db461fda",
   "metadata": {
    "papermill": {
     "duration": null,
     "end_time": null,
     "exception": null,
     "start_time": null,
     "status": "pending"
    },
    "tags": []
   },
   "outputs": [],
   "source": []
  }
 ],
 "metadata": {
  "colab": {
   "provenance": []
  },
  "kaggle": {
   "accelerator": "gpu",
   "dataSources": [],
   "dockerImageVersionId": 30648,
   "isGpuEnabled": true,
   "isInternetEnabled": true,
   "language": "python",
   "sourceType": "notebook"
  },
  "kernelspec": {
   "display_name": "Python 3",
   "language": "python",
   "name": "python3"
  },
  "language_info": {
   "codemirror_mode": {
    "name": "ipython",
    "version": 3
   },
   "file_extension": ".py",
   "mimetype": "text/x-python",
   "name": "python",
   "nbconvert_exporter": "python",
   "pygments_lexer": "ipython3",
   "version": "3.10.13"
  },
  "papermill": {
   "default_parameters": {},
   "duration": null,
   "end_time": null,
   "environment_variables": {},
   "exception": null,
   "input_path": "__notebook__.ipynb",
   "output_path": "__notebook__.ipynb",
   "parameters": {},
   "start_time": "2024-02-26T19:43:03.336260",
   "version": "2.5.0"
  }
 },
 "nbformat": 4,
 "nbformat_minor": 5
}